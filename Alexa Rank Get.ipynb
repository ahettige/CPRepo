{
 "metadata": {
  "name": "",
  "signature": "sha256:bf28596ada4ba728a3e3993ff739c10ba96107b3c86c87d895572028e02768db"
 },
 "nbformat": 3,
 "nbformat_minor": 0,
 "worksheets": [
  {
   "cells": [
    {
     "cell_type": "heading",
     "level": 1,
     "metadata": {},
     "source": [
      "Alexa Rank"
     ]
    },
    {
     "cell_type": "code",
     "collapsed": false,
     "input": [
      "import pandas as pd\n",
      "from bs4 import BeautifulSoup\n",
      "import requests\n",
      "import html5lib\n",
      "import os\n",
      "from selenium import webdriver\n",
      "import time"
     ],
     "language": "python",
     "metadata": {},
     "outputs": [],
     "prompt_number": 3
    },
    {
     "cell_type": "code",
     "collapsed": false,
     "input": [
      "AlexaRank = pd.read_csv('/Users/Alex/Documents/AlexaRank.csv')\n",
      "urls = AlexaRank['Alexa_URL']"
     ],
     "language": "python",
     "metadata": {},
     "outputs": [],
     "prompt_number": 72
    },
    {
     "cell_type": "code",
     "collapsed": false,
     "input": [
      "Alexa_Rank = {'Global_Alexa_Rank':[]}\n",
      "def get_Alexa(URL):\n",
      "    r = requests.get(URL)    \n",
      "    c = r.content\n",
      "    soup = BeautifulSoup(c)\n",
      "    GlobalRank = soup.find(\"span\",{\"class\":\"globleRank\"}).findAll(\"strong\",{\"class\":\"metrics-data align-vmiddle\"})\n",
      "    print GlobalRank\n",
      "    for rank in GlobalRank:\n",
      "            Alexa_Rank['Global_Alexa_Rank'].append(rank)\n",
      "    time.sleep(0.5)        "
     ],
     "language": "python",
     "metadata": {},
     "outputs": [],
     "prompt_number": 73
    },
    {
     "cell_type": "code",
     "collapsed": false,
     "input": [],
     "language": "python",
     "metadata": {},
     "outputs": [
      {
       "ename": "NameError",
       "evalue": "name 'soup' is not defined",
       "output_type": "pyerr",
       "traceback": [
        "\u001b[0;31m---------------------------------------------------------------------------\u001b[0m\n\u001b[0;31mNameError\u001b[0m                                 Traceback (most recent call last)",
        "\u001b[0;32m<ipython-input-17-5ba6d9d4ef7d>\u001b[0m in \u001b[0;36m<module>\u001b[0;34m()\u001b[0m\n\u001b[0;32m----> 1\u001b[0;31m \u001b[0mCountry_Rank\u001b[0m \u001b[0;34m=\u001b[0m \u001b[0msoup\u001b[0m\u001b[0;34m.\u001b[0m\u001b[0mfind\u001b[0m\u001b[0;34m(\u001b[0m\u001b[0;34m\"span\"\u001b[0m\u001b[0;34m,\u001b[0m\u001b[0;34m{\u001b[0m\u001b[0;34m\"class\"\u001b[0m\u001b[0;34m:\u001b[0m\u001b[0;34m\"GlobalRank\"\u001b[0m\u001b[0;34m}\u001b[0m\u001b[0;34m)\u001b[0m\u001b[0;34m.\u001b[0m\u001b[0mfindAll\u001b[0m\u001b[0;34m(\u001b[0m\u001b[0;34m\"strong\"\u001b[0m\u001b[0;34m,\u001b[0m\u001b[0;34m{\u001b[0m\u001b[0;34m\"class\"\u001b[0m\u001b[0;34m:\u001b[0m\u001b[0;34m\"metrics-data align-vmiddle\"\u001b[0m\u001b[0;34m}\u001b[0m\u001b[0;34m)\u001b[0m\u001b[0;34m\u001b[0m\u001b[0m\n\u001b[0m",
        "\u001b[0;31mNameError\u001b[0m: name 'soup' is not defined"
       ]
      }
     ],
     "prompt_number": 17
    },
    {
     "cell_type": "code",
     "collapsed": false,
     "input": [
      "for URL in urls:\n",
      "    try:\n",
      "        get_Alexa(URL)\n",
      "    except:\n",
      "        Alexa_Rank['Global_Alexa_Rank'].append(\"Not Found\")"
     ],
     "language": "python",
     "metadata": {},
     "outputs": [
      {
       "output_type": "stream",
       "stream": "stdout",
       "text": [
        "[<strong class=\"metrics-data align-vmiddle\">\n",
        "<!-- Alexa web traffic metrics are available via our API at http://aws.amazon.com/awis -->\n",
        "720,912              </strong>]\n",
        "[<strong class=\"metrics-data align-vmiddle\">\n",
        "<!-- Alexa web traffic metrics are available via our API at http://aws.amazon.com/awis -->\n",
        "700,201              </strong>]"
       ]
      },
      {
       "output_type": "stream",
       "stream": "stdout",
       "text": [
        "\n",
        "[<strong class=\"metrics-data align-vmiddle\">\n",
        "<!-- Alexa web traffic metrics are available via our API at http://aws.amazon.com/awis -->\n",
        "1,855,045              </strong>]"
       ]
      },
      {
       "output_type": "stream",
       "stream": "stdout",
       "text": [
        "\n",
        "[<strong class=\"metrics-data align-vmiddle\">\n",
        "<!-- Alexa web traffic metrics are available via our API at http://aws.amazon.com/awis -->\n",
        "148,966              </strong>]"
       ]
      },
      {
       "output_type": "stream",
       "stream": "stdout",
       "text": [
        "\n",
        "[<strong class=\"metrics-data align-vmiddle\">\n",
        "<!-- Alexa web traffic metrics are available via our API at http://aws.amazon.com/awis -->\n",
        "<span style=\"margin-left: 10px;\">-</span> </strong>]"
       ]
      },
      {
       "output_type": "stream",
       "stream": "stdout",
       "text": [
        "\n",
        "[<strong class=\"metrics-data align-vmiddle\">\n",
        "<!-- Alexa web traffic metrics are available via our API at http://aws.amazon.com/awis -->\n",
        "1,575,824              </strong>]"
       ]
      },
      {
       "output_type": "stream",
       "stream": "stdout",
       "text": [
        "\n",
        "[<strong class=\"metrics-data align-vmiddle\">\n",
        "<!-- Alexa web traffic metrics are available via our API at http://aws.amazon.com/awis -->\n",
        "325,874              </strong>]"
       ]
      },
      {
       "output_type": "stream",
       "stream": "stdout",
       "text": [
        "\n",
        "[<strong class=\"metrics-data align-vmiddle\">\n",
        "<!-- Alexa web traffic metrics are available via our API at http://aws.amazon.com/awis -->\n",
        "2,010,869              </strong>]"
       ]
      },
      {
       "output_type": "stream",
       "stream": "stdout",
       "text": [
        "\n",
        "[<strong class=\"metrics-data align-vmiddle\">\n",
        "<!-- Alexa web traffic metrics are available via our API at http://aws.amazon.com/awis -->\n",
        "1,057,515              </strong>]"
       ]
      },
      {
       "output_type": "stream",
       "stream": "stdout",
       "text": [
        "\n",
        "[<strong class=\"metrics-data align-vmiddle\">\n",
        "<!-- Alexa web traffic metrics are available via our API at http://aws.amazon.com/awis -->\n",
        "868,764              </strong>]"
       ]
      },
      {
       "output_type": "stream",
       "stream": "stdout",
       "text": [
        "\n",
        "[<strong class=\"metrics-data align-vmiddle\">\n",
        "<!-- Alexa web traffic metrics are available via our API at http://aws.amazon.com/awis -->\n",
        "96,947              </strong>]"
       ]
      },
      {
       "output_type": "stream",
       "stream": "stdout",
       "text": [
        "\n",
        "[<strong class=\"metrics-data align-vmiddle\">\n",
        "<!-- Alexa web traffic metrics are available via our API at http://aws.amazon.com/awis -->\n",
        "<span style=\"margin-left: 10px;\">-</span> </strong>]"
       ]
      },
      {
       "output_type": "stream",
       "stream": "stdout",
       "text": [
        "\n",
        "[<strong class=\"metrics-data align-vmiddle\">\n",
        "<!-- Alexa web traffic metrics are available via our API at http://aws.amazon.com/awis -->\n",
        "<span style=\"margin-left: 10px;\">-</span> </strong>]"
       ]
      },
      {
       "output_type": "stream",
       "stream": "stdout",
       "text": [
        "\n",
        "[<strong class=\"metrics-data align-vmiddle\">\n",
        "<!-- Alexa web traffic metrics are available via our API at http://aws.amazon.com/awis -->\n",
        "<span style=\"margin-left: 10px;\">-</span> </strong>]"
       ]
      },
      {
       "output_type": "stream",
       "stream": "stdout",
       "text": [
        "\n",
        "[<strong class=\"metrics-data align-vmiddle\">\n",
        "<!-- Alexa web traffic metrics are available via our API at http://aws.amazon.com/awis -->\n",
        "<span style=\"margin-left: 10px;\">-</span> </strong>]"
       ]
      },
      {
       "output_type": "stream",
       "stream": "stdout",
       "text": [
        "\n",
        "[<strong class=\"metrics-data align-vmiddle\">\n",
        "<!-- Alexa web traffic metrics are available via our API at http://aws.amazon.com/awis -->\n",
        "15,848,083              </strong>]"
       ]
      },
      {
       "output_type": "stream",
       "stream": "stdout",
       "text": [
        "\n",
        "[<strong class=\"metrics-data align-vmiddle\">\n",
        "<!-- Alexa web traffic metrics are available via our API at http://aws.amazon.com/awis -->\n",
        "7,870,660              </strong>]"
       ]
      },
      {
       "output_type": "stream",
       "stream": "stdout",
       "text": [
        "\n",
        "[<strong class=\"metrics-data align-vmiddle\">\n",
        "<!-- Alexa web traffic metrics are available via our API at http://aws.amazon.com/awis -->\n",
        "929,658              </strong>]"
       ]
      },
      {
       "output_type": "stream",
       "stream": "stdout",
       "text": [
        "\n",
        "[<strong class=\"metrics-data align-vmiddle\">\n",
        "<!-- Alexa web traffic metrics are available via our API at http://aws.amazon.com/awis -->\n",
        "965,975              </strong>]"
       ]
      },
      {
       "output_type": "stream",
       "stream": "stdout",
       "text": [
        "\n",
        "[<strong class=\"metrics-data align-vmiddle\">\n",
        "<!-- Alexa web traffic metrics are available via our API at http://aws.amazon.com/awis -->\n",
        "2,080,431              </strong>]"
       ]
      },
      {
       "output_type": "stream",
       "stream": "stdout",
       "text": [
        "\n",
        "[<strong class=\"metrics-data align-vmiddle\">\n",
        "<!-- Alexa web traffic metrics are available via our API at http://aws.amazon.com/awis -->\n",
        "753,116              </strong>]"
       ]
      },
      {
       "output_type": "stream",
       "stream": "stdout",
       "text": [
        "\n",
        "[<strong class=\"metrics-data align-vmiddle\">\n",
        "<!-- Alexa web traffic metrics are available via our API at http://aws.amazon.com/awis -->\n",
        "2,859,506              </strong>]"
       ]
      },
      {
       "output_type": "stream",
       "stream": "stdout",
       "text": [
        "\n",
        "[<strong class=\"metrics-data align-vmiddle\">\n",
        "<!-- Alexa web traffic metrics are available via our API at http://aws.amazon.com/awis -->\n",
        "<span style=\"margin-left: 10px;\">-</span> </strong>]"
       ]
      },
      {
       "output_type": "stream",
       "stream": "stdout",
       "text": [
        "\n",
        "[<strong class=\"metrics-data align-vmiddle\">\n",
        "<!-- Alexa web traffic metrics are available via our API at http://aws.amazon.com/awis -->\n",
        "<span style=\"margin-left: 10px;\">-</span> </strong>]"
       ]
      },
      {
       "output_type": "stream",
       "stream": "stdout",
       "text": [
        "\n",
        "[<strong class=\"metrics-data align-vmiddle\">\n",
        "<!-- Alexa web traffic metrics are available via our API at http://aws.amazon.com/awis -->\n",
        "1,993,036              </strong>]"
       ]
      },
      {
       "output_type": "stream",
       "stream": "stdout",
       "text": [
        "\n",
        "[<strong class=\"metrics-data align-vmiddle\">\n",
        "<!-- Alexa web traffic metrics are available via our API at http://aws.amazon.com/awis -->\n",
        "17,323,760              </strong>]"
       ]
      },
      {
       "output_type": "stream",
       "stream": "stdout",
       "text": [
        "\n",
        "[<strong class=\"metrics-data align-vmiddle\">\n",
        "<!-- Alexa web traffic metrics are available via our API at http://aws.amazon.com/awis -->\n",
        "8,654,946              </strong>]"
       ]
      },
      {
       "output_type": "stream",
       "stream": "stdout",
       "text": [
        "\n",
        "[<strong class=\"metrics-data align-vmiddle\">\n",
        "<!-- Alexa web traffic metrics are available via our API at http://aws.amazon.com/awis -->\n",
        "4,037,006              </strong>]"
       ]
      },
      {
       "output_type": "stream",
       "stream": "stdout",
       "text": [
        "\n",
        "[<strong class=\"metrics-data align-vmiddle\">\n",
        "<!-- Alexa web traffic metrics are available via our API at http://aws.amazon.com/awis -->\n",
        "<span style=\"margin-left: 10px;\">-</span> </strong>]"
       ]
      },
      {
       "output_type": "stream",
       "stream": "stdout",
       "text": [
        "\n",
        "[<strong class=\"metrics-data align-vmiddle\">\n",
        "<!-- Alexa web traffic metrics are available via our API at http://aws.amazon.com/awis -->\n",
        "12,603,265              </strong>]"
       ]
      },
      {
       "output_type": "stream",
       "stream": "stdout",
       "text": [
        "\n",
        "[<strong class=\"metrics-data align-vmiddle\">\n",
        "<!-- Alexa web traffic metrics are available via our API at http://aws.amazon.com/awis -->\n",
        "<span style=\"margin-left: 10px;\">-</span> </strong>]"
       ]
      },
      {
       "output_type": "stream",
       "stream": "stdout",
       "text": [
        "\n",
        "[<strong class=\"metrics-data align-vmiddle\">\n",
        "<!-- Alexa web traffic metrics are available via our API at http://aws.amazon.com/awis -->\n",
        "<span style=\"margin-left: 10px;\">-</span> </strong>]"
       ]
      },
      {
       "output_type": "stream",
       "stream": "stdout",
       "text": [
        "\n",
        "[<strong class=\"metrics-data align-vmiddle\">\n",
        "<!-- Alexa web traffic metrics are available via our API at http://aws.amazon.com/awis -->\n",
        "12,344,645              </strong>]"
       ]
      },
      {
       "output_type": "stream",
       "stream": "stdout",
       "text": [
        "\n",
        "[<strong class=\"metrics-data align-vmiddle\">\n",
        "<!-- Alexa web traffic metrics are available via our API at http://aws.amazon.com/awis -->\n",
        "16,355,945              </strong>]"
       ]
      },
      {
       "output_type": "stream",
       "stream": "stdout",
       "text": [
        "\n",
        "[<strong class=\"metrics-data align-vmiddle\">\n",
        "<!-- Alexa web traffic metrics are available via our API at http://aws.amazon.com/awis -->\n",
        "4,472,581              </strong>]"
       ]
      },
      {
       "output_type": "stream",
       "stream": "stdout",
       "text": [
        "\n",
        "[<strong class=\"metrics-data align-vmiddle\">\n",
        "<!-- Alexa web traffic metrics are available via our API at http://aws.amazon.com/awis -->\n",
        "<span style=\"margin-left: 10px;\">-</span> </strong>]"
       ]
      },
      {
       "output_type": "stream",
       "stream": "stdout",
       "text": [
        "\n",
        "[<strong class=\"metrics-data align-vmiddle\">\n",
        "<!-- Alexa web traffic metrics are available via our API at http://aws.amazon.com/awis -->\n",
        "1,718,464              </strong>]"
       ]
      },
      {
       "output_type": "stream",
       "stream": "stdout",
       "text": [
        "\n",
        "[<strong class=\"metrics-data align-vmiddle\">\n",
        "<!-- Alexa web traffic metrics are available via our API at http://aws.amazon.com/awis -->\n",
        "2,651,570              </strong>]"
       ]
      },
      {
       "output_type": "stream",
       "stream": "stdout",
       "text": [
        "\n",
        "[<strong class=\"metrics-data align-vmiddle\">\n",
        "<!-- Alexa web traffic metrics are available via our API at http://aws.amazon.com/awis -->\n",
        "<span style=\"margin-left: 10px;\">-</span> </strong>]"
       ]
      },
      {
       "output_type": "stream",
       "stream": "stdout",
       "text": [
        "\n",
        "[<strong class=\"metrics-data align-vmiddle\">\n",
        "<!-- Alexa web traffic metrics are available via our API at http://aws.amazon.com/awis -->\n",
        "12,344,505              </strong>]"
       ]
      },
      {
       "output_type": "stream",
       "stream": "stdout",
       "text": [
        "\n",
        "[<strong class=\"metrics-data align-vmiddle\">\n",
        "<!-- Alexa web traffic metrics are available via our API at http://aws.amazon.com/awis -->\n",
        "3,408,132              </strong>]"
       ]
      },
      {
       "output_type": "stream",
       "stream": "stdout",
       "text": [
        "\n",
        "[<strong class=\"metrics-data align-vmiddle\">\n",
        "<!-- Alexa web traffic metrics are available via our API at http://aws.amazon.com/awis -->\n",
        "88,779              </strong>]"
       ]
      },
      {
       "output_type": "stream",
       "stream": "stdout",
       "text": [
        "\n",
        "[<strong class=\"metrics-data align-vmiddle\">\n",
        "<!-- Alexa web traffic metrics are available via our API at http://aws.amazon.com/awis -->\n",
        "2,658,859              </strong>]"
       ]
      },
      {
       "output_type": "stream",
       "stream": "stdout",
       "text": [
        "\n",
        "[<strong class=\"metrics-data align-vmiddle\">\n",
        "<!-- Alexa web traffic metrics are available via our API at http://aws.amazon.com/awis -->\n",
        "118,614              </strong>]"
       ]
      },
      {
       "output_type": "stream",
       "stream": "stdout",
       "text": [
        "\n",
        "[<strong class=\"metrics-data align-vmiddle\">\n",
        "<!-- Alexa web traffic metrics are available via our API at http://aws.amazon.com/awis -->\n",
        "152,162              </strong>]"
       ]
      },
      {
       "output_type": "stream",
       "stream": "stdout",
       "text": [
        "\n",
        "[<strong class=\"metrics-data align-vmiddle\">\n",
        "<!-- Alexa web traffic metrics are available via our API at http://aws.amazon.com/awis -->\n",
        "8,918,287              </strong>]"
       ]
      },
      {
       "output_type": "stream",
       "stream": "stdout",
       "text": [
        "\n",
        "[<strong class=\"metrics-data align-vmiddle\">\n",
        "<!-- Alexa web traffic metrics are available via our API at http://aws.amazon.com/awis -->\n",
        "<span style=\"margin-left: 10px;\">-</span> </strong>]"
       ]
      },
      {
       "output_type": "stream",
       "stream": "stdout",
       "text": [
        "\n",
        "[<strong class=\"metrics-data align-vmiddle\">\n",
        "<!-- Alexa web traffic metrics are available via our API at http://aws.amazon.com/awis -->\n",
        "4,742,027              </strong>]"
       ]
      },
      {
       "output_type": "stream",
       "stream": "stdout",
       "text": [
        "\n",
        "[<strong class=\"metrics-data align-vmiddle\">\n",
        "<!-- Alexa web traffic metrics are available via our API at http://aws.amazon.com/awis -->\n",
        "4,521,624              </strong>]"
       ]
      },
      {
       "output_type": "stream",
       "stream": "stdout",
       "text": [
        "\n",
        "[<strong class=\"metrics-data align-vmiddle\">\n",
        "<!-- Alexa web traffic metrics are available via our API at http://aws.amazon.com/awis -->\n",
        "<span style=\"margin-left: 10px;\">-</span> </strong>]"
       ]
      },
      {
       "output_type": "stream",
       "stream": "stdout",
       "text": [
        "\n",
        "[<strong class=\"metrics-data align-vmiddle\">\n",
        "<!-- Alexa web traffic metrics are available via our API at http://aws.amazon.com/awis -->\n",
        "9,685,953              </strong>]"
       ]
      },
      {
       "output_type": "stream",
       "stream": "stdout",
       "text": [
        "\n",
        "[<strong class=\"metrics-data align-vmiddle\">\n",
        "<!-- Alexa web traffic metrics are available via our API at http://aws.amazon.com/awis -->\n",
        "3,696,720              </strong>]"
       ]
      },
      {
       "output_type": "stream",
       "stream": "stdout",
       "text": [
        "\n",
        "[<strong class=\"metrics-data align-vmiddle\">\n",
        "<!-- Alexa web traffic metrics are available via our API at http://aws.amazon.com/awis -->\n",
        "<span style=\"margin-left: 10px;\">-</span> </strong>]"
       ]
      },
      {
       "output_type": "stream",
       "stream": "stdout",
       "text": [
        "\n",
        "[<strong class=\"metrics-data align-vmiddle\">\n",
        "<!-- Alexa web traffic metrics are available via our API at http://aws.amazon.com/awis -->\n",
        "4,753,881              </strong>]"
       ]
      },
      {
       "output_type": "stream",
       "stream": "stdout",
       "text": [
        "\n",
        "[<strong class=\"metrics-data align-vmiddle\">\n",
        "<!-- Alexa web traffic metrics are available via our API at http://aws.amazon.com/awis -->\n",
        "518,701              </strong>]"
       ]
      },
      {
       "output_type": "stream",
       "stream": "stdout",
       "text": [
        "\n",
        "[<strong class=\"metrics-data align-vmiddle\">\n",
        "<!-- Alexa web traffic metrics are available via our API at http://aws.amazon.com/awis -->\n",
        "4,318,227              </strong>]"
       ]
      },
      {
       "output_type": "stream",
       "stream": "stdout",
       "text": [
        "\n",
        "[<strong class=\"metrics-data align-vmiddle\">\n",
        "<!-- Alexa web traffic metrics are available via our API at http://aws.amazon.com/awis -->\n",
        "22,251,327              </strong>]"
       ]
      },
      {
       "output_type": "stream",
       "stream": "stdout",
       "text": [
        "\n",
        "[<strong class=\"metrics-data align-vmiddle\">\n",
        "<!-- Alexa web traffic metrics are available via our API at http://aws.amazon.com/awis -->\n",
        "2,289,047              </strong>]"
       ]
      },
      {
       "output_type": "stream",
       "stream": "stdout",
       "text": [
        "\n",
        "[<strong class=\"metrics-data align-vmiddle\">\n",
        "<!-- Alexa web traffic metrics are available via our API at http://aws.amazon.com/awis -->\n",
        "2,574,032              </strong>]"
       ]
      },
      {
       "output_type": "stream",
       "stream": "stdout",
       "text": [
        "\n",
        "[<strong class=\"metrics-data align-vmiddle\">\n",
        "<!-- Alexa web traffic metrics are available via our API at http://aws.amazon.com/awis -->\n",
        "3,477,177              </strong>]"
       ]
      },
      {
       "output_type": "stream",
       "stream": "stdout",
       "text": [
        "\n",
        "[<strong class=\"metrics-data align-vmiddle\">\n",
        "<!-- Alexa web traffic metrics are available via our API at http://aws.amazon.com/awis -->\n",
        "136,253              </strong>]"
       ]
      },
      {
       "output_type": "stream",
       "stream": "stdout",
       "text": [
        "\n",
        "[<strong class=\"metrics-data align-vmiddle\">\n",
        "<!-- Alexa web traffic metrics are available via our API at http://aws.amazon.com/awis -->\n",
        "1,134,898              </strong>]"
       ]
      },
      {
       "output_type": "stream",
       "stream": "stdout",
       "text": [
        "\n",
        "[<strong class=\"metrics-data align-vmiddle\">\n",
        "<!-- Alexa web traffic metrics are available via our API at http://aws.amazon.com/awis -->\n",
        "4,298,507              </strong>]"
       ]
      },
      {
       "output_type": "stream",
       "stream": "stdout",
       "text": [
        "\n",
        "[<strong class=\"metrics-data align-vmiddle\">\n",
        "<!-- Alexa web traffic metrics are available via our API at http://aws.amazon.com/awis -->\n",
        "17,346,973              </strong>]"
       ]
      },
      {
       "output_type": "stream",
       "stream": "stdout",
       "text": [
        "\n",
        "[<strong class=\"metrics-data align-vmiddle\">\n",
        "<!-- Alexa web traffic metrics are available via our API at http://aws.amazon.com/awis -->\n",
        "6,323,319              </strong>]"
       ]
      },
      {
       "output_type": "stream",
       "stream": "stdout",
       "text": [
        "\n",
        "[<strong class=\"metrics-data align-vmiddle\">\n",
        "<!-- Alexa web traffic metrics are available via our API at http://aws.amazon.com/awis -->\n",
        "<span style=\"margin-left: 10px;\">-</span> </strong>]"
       ]
      },
      {
       "output_type": "stream",
       "stream": "stdout",
       "text": [
        "\n",
        "[<strong class=\"metrics-data align-vmiddle\">\n",
        "<!-- Alexa web traffic metrics are available via our API at http://aws.amazon.com/awis -->\n",
        "<span style=\"margin-left: 10px;\">-</span> </strong>]"
       ]
      },
      {
       "output_type": "stream",
       "stream": "stdout",
       "text": [
        "\n",
        "[<strong class=\"metrics-data align-vmiddle\">\n",
        "<!-- Alexa web traffic metrics are available via our API at http://aws.amazon.com/awis -->\n",
        "300,898              </strong>]"
       ]
      },
      {
       "output_type": "stream",
       "stream": "stdout",
       "text": [
        "\n",
        "[<strong class=\"metrics-data align-vmiddle\">\n",
        "<!-- Alexa web traffic metrics are available via our API at http://aws.amazon.com/awis -->\n",
        "807,118              </strong>]"
       ]
      },
      {
       "output_type": "stream",
       "stream": "stdout",
       "text": [
        "\n",
        "[<strong class=\"metrics-data align-vmiddle\">\n",
        "<!-- Alexa web traffic metrics are available via our API at http://aws.amazon.com/awis -->\n",
        "2,367,132              </strong>]"
       ]
      },
      {
       "output_type": "stream",
       "stream": "stdout",
       "text": [
        "\n",
        "[<strong class=\"metrics-data align-vmiddle\">\n",
        "<!-- Alexa web traffic metrics are available via our API at http://aws.amazon.com/awis -->\n",
        "<span style=\"margin-left: 10px;\">-</span> </strong>]"
       ]
      },
      {
       "output_type": "stream",
       "stream": "stdout",
       "text": [
        "\n",
        "[<strong class=\"metrics-data align-vmiddle\">\n",
        "<!-- Alexa web traffic metrics are available via our API at http://aws.amazon.com/awis -->\n",
        "63,272              </strong>]"
       ]
      },
      {
       "output_type": "stream",
       "stream": "stdout",
       "text": [
        "\n",
        "[<strong class=\"metrics-data align-vmiddle\">\n",
        "<!-- Alexa web traffic metrics are available via our API at http://aws.amazon.com/awis -->\n",
        "2,723,754              </strong>]"
       ]
      },
      {
       "output_type": "stream",
       "stream": "stdout",
       "text": [
        "\n",
        "[<strong class=\"metrics-data align-vmiddle\">\n",
        "<!-- Alexa web traffic metrics are available via our API at http://aws.amazon.com/awis -->\n",
        "<span style=\"margin-left: 10px;\">-</span> </strong>]"
       ]
      },
      {
       "output_type": "stream",
       "stream": "stdout",
       "text": [
        "\n",
        "[<strong class=\"metrics-data align-vmiddle\">\n",
        "<!-- Alexa web traffic metrics are available via our API at http://aws.amazon.com/awis -->\n",
        "10,492,873              </strong>]"
       ]
      },
      {
       "output_type": "stream",
       "stream": "stdout",
       "text": [
        "\n",
        "[<strong class=\"metrics-data align-vmiddle\">\n",
        "<!-- Alexa web traffic metrics are available via our API at http://aws.amazon.com/awis -->\n",
        "8,192,255              </strong>]"
       ]
      },
      {
       "output_type": "stream",
       "stream": "stdout",
       "text": [
        "\n",
        "[<strong class=\"metrics-data align-vmiddle\">\n",
        "<!-- Alexa web traffic metrics are available via our API at http://aws.amazon.com/awis -->\n",
        "14,458,283              </strong>]"
       ]
      },
      {
       "output_type": "stream",
       "stream": "stdout",
       "text": [
        "\n",
        "[<strong class=\"metrics-data align-vmiddle\">\n",
        "<!-- Alexa web traffic metrics are available via our API at http://aws.amazon.com/awis -->\n",
        "6,042,231              </strong>]"
       ]
      },
      {
       "output_type": "stream",
       "stream": "stdout",
       "text": [
        "\n",
        "[<strong class=\"metrics-data align-vmiddle\">\n",
        "<!-- Alexa web traffic metrics are available via our API at http://aws.amazon.com/awis -->\n",
        "1,100,756              </strong>]"
       ]
      },
      {
       "output_type": "stream",
       "stream": "stdout",
       "text": [
        "\n",
        "[<strong class=\"metrics-data align-vmiddle\">\n",
        "<!-- Alexa web traffic metrics are available via our API at http://aws.amazon.com/awis -->\n",
        "12,603,261              </strong>]"
       ]
      },
      {
       "output_type": "stream",
       "stream": "stdout",
       "text": [
        "\n",
        "[<strong class=\"metrics-data align-vmiddle\">\n",
        "<!-- Alexa web traffic metrics are available via our API at http://aws.amazon.com/awis -->\n",
        "207,299              </strong>]"
       ]
      },
      {
       "output_type": "stream",
       "stream": "stdout",
       "text": [
        "\n",
        "[<strong class=\"metrics-data align-vmiddle\">\n",
        "<!-- Alexa web traffic metrics are available via our API at http://aws.amazon.com/awis -->\n",
        "9,173,020              </strong>]"
       ]
      },
      {
       "output_type": "stream",
       "stream": "stdout",
       "text": [
        "\n",
        "[<strong class=\"metrics-data align-vmiddle\">\n",
        "<!-- Alexa web traffic metrics are available via our API at http://aws.amazon.com/awis -->\n",
        "11,292,577              </strong>]"
       ]
      },
      {
       "output_type": "stream",
       "stream": "stdout",
       "text": [
        "\n",
        "[<strong class=\"metrics-data align-vmiddle\">\n",
        "<!-- Alexa web traffic metrics are available via our API at http://aws.amazon.com/awis -->\n",
        "<span style=\"margin-left: 10px;\">-</span> </strong>]"
       ]
      },
      {
       "output_type": "stream",
       "stream": "stdout",
       "text": [
        "\n",
        "[<strong class=\"metrics-data align-vmiddle\">\n",
        "<!-- Alexa web traffic metrics are available via our API at http://aws.amazon.com/awis -->\n",
        "<span style=\"margin-left: 10px;\">-</span> </strong>]"
       ]
      },
      {
       "output_type": "stream",
       "stream": "stdout",
       "text": [
        "\n",
        "[<strong class=\"metrics-data align-vmiddle\">\n",
        "<!-- Alexa web traffic metrics are available via our API at http://aws.amazon.com/awis -->\n",
        "1,973,101              </strong>]"
       ]
      },
      {
       "output_type": "stream",
       "stream": "stdout",
       "text": [
        "\n",
        "[<strong class=\"metrics-data align-vmiddle\">\n",
        "<!-- Alexa web traffic metrics are available via our API at http://aws.amazon.com/awis -->\n",
        "983,180              </strong>]"
       ]
      },
      {
       "output_type": "stream",
       "stream": "stdout",
       "text": [
        "\n",
        "[<strong class=\"metrics-data align-vmiddle\">\n",
        "<!-- Alexa web traffic metrics are available via our API at http://aws.amazon.com/awis -->\n",
        "237,883              </strong>]"
       ]
      },
      {
       "output_type": "stream",
       "stream": "stdout",
       "text": [
        "\n",
        "[<strong class=\"metrics-data align-vmiddle\">\n",
        "<!-- Alexa web traffic metrics are available via our API at http://aws.amazon.com/awis -->\n",
        "4,037,006              </strong>]"
       ]
      },
      {
       "output_type": "stream",
       "stream": "stdout",
       "text": [
        "\n",
        "[<strong class=\"metrics-data align-vmiddle\">\n",
        "<!-- Alexa web traffic metrics are available via our API at http://aws.amazon.com/awis -->\n",
        "<span style=\"margin-left: 10px;\">-</span> </strong>]"
       ]
      },
      {
       "output_type": "stream",
       "stream": "stdout",
       "text": [
        "\n",
        "[<strong class=\"metrics-data align-vmiddle\">\n",
        "<!-- Alexa web traffic metrics are available via our API at http://aws.amazon.com/awis -->\n",
        "<span style=\"margin-left: 10px;\">-</span> </strong>]"
       ]
      },
      {
       "output_type": "stream",
       "stream": "stdout",
       "text": [
        "\n",
        "[<strong class=\"metrics-data align-vmiddle\">\n",
        "<!-- Alexa web traffic metrics are available via our API at http://aws.amazon.com/awis -->\n",
        "<span style=\"margin-left: 10px;\">-</span> </strong>]"
       ]
      },
      {
       "output_type": "stream",
       "stream": "stdout",
       "text": [
        "\n",
        "[<strong class=\"metrics-data align-vmiddle\">\n",
        "<!-- Alexa web traffic metrics are available via our API at http://aws.amazon.com/awis -->\n",
        "5,402,245              </strong>]"
       ]
      },
      {
       "output_type": "stream",
       "stream": "stdout",
       "text": [
        "\n",
        "[<strong class=\"metrics-data align-vmiddle\">\n",
        "<!-- Alexa web traffic metrics are available via our API at http://aws.amazon.com/awis -->\n",
        "<span style=\"margin-left: 10px;\">-</span> </strong>]"
       ]
      },
      {
       "output_type": "stream",
       "stream": "stdout",
       "text": [
        "\n",
        "[<strong class=\"metrics-data align-vmiddle\">\n",
        "<!-- Alexa web traffic metrics are available via our API at http://aws.amazon.com/awis -->\n",
        "359,125              </strong>]"
       ]
      },
      {
       "output_type": "stream",
       "stream": "stdout",
       "text": [
        "\n",
        "[<strong class=\"metrics-data align-vmiddle\">\n",
        "<!-- Alexa web traffic metrics are available via our API at http://aws.amazon.com/awis -->\n",
        "3,356,128              </strong>]"
       ]
      },
      {
       "output_type": "stream",
       "stream": "stdout",
       "text": [
        "\n",
        "[<strong class=\"metrics-data align-vmiddle\">\n",
        "<!-- Alexa web traffic metrics are available via our API at http://aws.amazon.com/awis -->\n",
        "<span style=\"margin-left: 10px;\">-</span> </strong>]"
       ]
      },
      {
       "output_type": "stream",
       "stream": "stdout",
       "text": [
        "\n",
        "[<strong class=\"metrics-data align-vmiddle\">\n",
        "<!-- Alexa web traffic metrics are available via our API at http://aws.amazon.com/awis -->\n",
        "<span style=\"margin-left: 10px;\">-</span> </strong>]"
       ]
      },
      {
       "output_type": "stream",
       "stream": "stdout",
       "text": [
        "\n",
        "[<strong class=\"metrics-data align-vmiddle\">\n",
        "<!-- Alexa web traffic metrics are available via our API at http://aws.amazon.com/awis -->\n",
        "3,862,485              </strong>]"
       ]
      },
      {
       "output_type": "stream",
       "stream": "stdout",
       "text": [
        "\n",
        "[<strong class=\"metrics-data align-vmiddle\">\n",
        "<!-- Alexa web traffic metrics are available via our API at http://aws.amazon.com/awis -->\n",
        "2,637,816              </strong>]"
       ]
      },
      {
       "output_type": "stream",
       "stream": "stdout",
       "text": [
        "\n",
        "[<strong class=\"metrics-data align-vmiddle\">\n",
        "<!-- Alexa web traffic metrics are available via our API at http://aws.amazon.com/awis -->\n",
        "9,378,817              </strong>]"
       ]
      },
      {
       "output_type": "stream",
       "stream": "stdout",
       "text": [
        "\n",
        "[<strong class=\"metrics-data align-vmiddle\">\n",
        "<!-- Alexa web traffic metrics are available via our API at http://aws.amazon.com/awis -->\n",
        "18,939,711              </strong>]"
       ]
      },
      {
       "output_type": "stream",
       "stream": "stdout",
       "text": [
        "\n",
        "[<strong class=\"metrics-data align-vmiddle\">\n",
        "<!-- Alexa web traffic metrics are available via our API at http://aws.amazon.com/awis -->\n",
        "11,011,841              </strong>]"
       ]
      },
      {
       "output_type": "stream",
       "stream": "stdout",
       "text": [
        "\n",
        "[<strong class=\"metrics-data align-vmiddle\">\n",
        "<!-- Alexa web traffic metrics are available via our API at http://aws.amazon.com/awis -->\n",
        "1,574,932              </strong>]"
       ]
      },
      {
       "output_type": "stream",
       "stream": "stdout",
       "text": [
        "\n",
        "[<strong class=\"metrics-data align-vmiddle\">\n",
        "<!-- Alexa web traffic metrics are available via our API at http://aws.amazon.com/awis -->\n",
        "<span style=\"margin-left: 10px;\">-</span> </strong>]"
       ]
      },
      {
       "output_type": "stream",
       "stream": "stdout",
       "text": [
        "\n",
        "[<strong class=\"metrics-data align-vmiddle\">\n",
        "<!-- Alexa web traffic metrics are available via our API at http://aws.amazon.com/awis -->\n",
        "<span style=\"margin-left: 10px;\">-</span> </strong>]"
       ]
      },
      {
       "output_type": "stream",
       "stream": "stdout",
       "text": [
        "\n",
        "[<strong class=\"metrics-data align-vmiddle\">\n",
        "<!-- Alexa web traffic metrics are available via our API at http://aws.amazon.com/awis -->\n",
        "1,602,099              </strong>]"
       ]
      },
      {
       "output_type": "stream",
       "stream": "stdout",
       "text": [
        "\n",
        "[<strong class=\"metrics-data align-vmiddle\">\n",
        "<!-- Alexa web traffic metrics are available via our API at http://aws.amazon.com/awis -->\n",
        "5,268,890              </strong>]"
       ]
      },
      {
       "output_type": "stream",
       "stream": "stdout",
       "text": [
        "\n",
        "[<strong class=\"metrics-data align-vmiddle\">\n",
        "<!-- Alexa web traffic metrics are available via our API at http://aws.amazon.com/awis -->\n",
        "2,092,488              </strong>]"
       ]
      },
      {
       "output_type": "stream",
       "stream": "stdout",
       "text": [
        "\n",
        "[<strong class=\"metrics-data align-vmiddle\">\n",
        "<!-- Alexa web traffic metrics are available via our API at http://aws.amazon.com/awis -->\n",
        "20,361,816              </strong>]"
       ]
      },
      {
       "output_type": "stream",
       "stream": "stdout",
       "text": [
        "\n",
        "[<strong class=\"metrics-data align-vmiddle\">\n",
        "<!-- Alexa web traffic metrics are available via our API at http://aws.amazon.com/awis -->\n",
        "<span style=\"margin-left: 10px;\">-</span> </strong>]"
       ]
      },
      {
       "output_type": "stream",
       "stream": "stdout",
       "text": [
        "\n",
        "[<strong class=\"metrics-data align-vmiddle\">\n",
        "<!-- Alexa web traffic metrics are available via our API at http://aws.amazon.com/awis -->\n",
        "1,820,966              </strong>]"
       ]
      },
      {
       "output_type": "stream",
       "stream": "stdout",
       "text": [
        "\n",
        "[<strong class=\"metrics-data align-vmiddle\">\n",
        "<!-- Alexa web traffic metrics are available via our API at http://aws.amazon.com/awis -->\n",
        "<span style=\"margin-left: 10px;\">-</span> </strong>]"
       ]
      },
      {
       "output_type": "stream",
       "stream": "stdout",
       "text": [
        "\n",
        "[<strong class=\"metrics-data align-vmiddle\">\n",
        "<!-- Alexa web traffic metrics are available via our API at http://aws.amazon.com/awis -->\n",
        "9,876,167              </strong>]"
       ]
      },
      {
       "output_type": "stream",
       "stream": "stdout",
       "text": [
        "\n",
        "[<strong class=\"metrics-data align-vmiddle\">\n",
        "<!-- Alexa web traffic metrics are available via our API at http://aws.amazon.com/awis -->\n",
        "2,049,748              </strong>]"
       ]
      },
      {
       "output_type": "stream",
       "stream": "stdout",
       "text": [
        "\n",
        "[<strong class=\"metrics-data align-vmiddle\">\n",
        "<!-- Alexa web traffic metrics are available via our API at http://aws.amazon.com/awis -->\n",
        "686,390              </strong>]"
       ]
      },
      {
       "output_type": "stream",
       "stream": "stdout",
       "text": [
        "\n",
        "[<strong class=\"metrics-data align-vmiddle\">\n",
        "<!-- Alexa web traffic metrics are available via our API at http://aws.amazon.com/awis -->\n",
        "360,130              </strong>]"
       ]
      },
      {
       "output_type": "stream",
       "stream": "stdout",
       "text": [
        "\n",
        "[<strong class=\"metrics-data align-vmiddle\">\n",
        "<!-- Alexa web traffic metrics are available via our API at http://aws.amazon.com/awis -->\n",
        "360,130              </strong>]"
       ]
      },
      {
       "output_type": "stream",
       "stream": "stdout",
       "text": [
        "\n",
        "[<strong class=\"metrics-data align-vmiddle\">\n",
        "<!-- Alexa web traffic metrics are available via our API at http://aws.amazon.com/awis -->\n",
        "5,374,079              </strong>]"
       ]
      },
      {
       "output_type": "stream",
       "stream": "stdout",
       "text": [
        "\n",
        "[<strong class=\"metrics-data align-vmiddle\">\n",
        "<!-- Alexa web traffic metrics are available via our API at http://aws.amazon.com/awis -->\n",
        "3,165,425              </strong>]"
       ]
      },
      {
       "output_type": "stream",
       "stream": "stdout",
       "text": [
        "\n",
        "[<strong class=\"metrics-data align-vmiddle\">\n",
        "<!-- Alexa web traffic metrics are available via our API at http://aws.amazon.com/awis -->\n",
        "80,493              </strong>]"
       ]
      },
      {
       "output_type": "stream",
       "stream": "stdout",
       "text": [
        "\n",
        "[<strong class=\"metrics-data align-vmiddle\">\n",
        "<!-- Alexa web traffic metrics are available via our API at http://aws.amazon.com/awis -->\n",
        "<span style=\"margin-left: 10px;\">-</span> </strong>]"
       ]
      },
      {
       "output_type": "stream",
       "stream": "stdout",
       "text": [
        "\n",
        "[<strong class=\"metrics-data align-vmiddle\">\n",
        "<!-- Alexa web traffic metrics are available via our API at http://aws.amazon.com/awis -->\n",
        "5,434,602              </strong>]"
       ]
      },
      {
       "output_type": "stream",
       "stream": "stdout",
       "text": [
        "\n",
        "[<strong class=\"metrics-data align-vmiddle\">\n",
        "<!-- Alexa web traffic metrics are available via our API at http://aws.amazon.com/awis -->\n",
        "6,568,138              </strong>]"
       ]
      },
      {
       "output_type": "stream",
       "stream": "stdout",
       "text": [
        "\n",
        "[<strong class=\"metrics-data align-vmiddle\">\n",
        "<!-- Alexa web traffic metrics are available via our API at http://aws.amazon.com/awis -->\n",
        "240,552              </strong>]"
       ]
      },
      {
       "output_type": "stream",
       "stream": "stdout",
       "text": [
        "\n",
        "[<strong class=\"metrics-data align-vmiddle\">\n",
        "<!-- Alexa web traffic metrics are available via our API at http://aws.amazon.com/awis -->\n",
        "<span style=\"margin-left: 10px;\">-</span> </strong>]"
       ]
      },
      {
       "output_type": "stream",
       "stream": "stdout",
       "text": [
        "\n",
        "[<strong class=\"metrics-data align-vmiddle\">\n",
        "<!-- Alexa web traffic metrics are available via our API at http://aws.amazon.com/awis -->\n",
        "6,829,079              </strong>]"
       ]
      },
      {
       "output_type": "stream",
       "stream": "stdout",
       "text": [
        "\n",
        "[<strong class=\"metrics-data align-vmiddle\">\n",
        "<!-- Alexa web traffic metrics are available via our API at http://aws.amazon.com/awis -->\n",
        "<span style=\"margin-left: 10px;\">-</span> </strong>]"
       ]
      },
      {
       "output_type": "stream",
       "stream": "stdout",
       "text": [
        "\n",
        "[<strong class=\"metrics-data align-vmiddle\">\n",
        "<!-- Alexa web traffic metrics are available via our API at http://aws.amazon.com/awis -->\n",
        "794,767              </strong>]"
       ]
      },
      {
       "output_type": "stream",
       "stream": "stdout",
       "text": [
        "\n",
        "[<strong class=\"metrics-data align-vmiddle\">\n",
        "<!-- Alexa web traffic metrics are available via our API at http://aws.amazon.com/awis -->\n",
        "60,681              </strong>]"
       ]
      },
      {
       "output_type": "stream",
       "stream": "stdout",
       "text": [
        "\n",
        "[<strong class=\"metrics-data align-vmiddle\">\n",
        "<!-- Alexa web traffic metrics are available via our API at http://aws.amazon.com/awis -->\n",
        "<span style=\"margin-left: 10px;\">-</span> </strong>]"
       ]
      },
      {
       "output_type": "stream",
       "stream": "stdout",
       "text": [
        "\n",
        "[<strong class=\"metrics-data align-vmiddle\">\n",
        "<!-- Alexa web traffic metrics are available via our API at http://aws.amazon.com/awis -->\n",
        "12,032,233              </strong>]"
       ]
      },
      {
       "output_type": "stream",
       "stream": "stdout",
       "text": [
        "\n",
        "[<strong class=\"metrics-data align-vmiddle\">\n",
        "<!-- Alexa web traffic metrics are available via our API at http://aws.amazon.com/awis -->\n",
        "20,047,290              </strong>]"
       ]
      },
      {
       "output_type": "stream",
       "stream": "stdout",
       "text": [
        "\n",
        "[<strong class=\"metrics-data align-vmiddle\">\n",
        "<!-- Alexa web traffic metrics are available via our API at http://aws.amazon.com/awis -->\n",
        "<span style=\"margin-left: 10px;\">-</span> </strong>]"
       ]
      },
      {
       "output_type": "stream",
       "stream": "stdout",
       "text": [
        "\n",
        "[<strong class=\"metrics-data align-vmiddle\">\n",
        "<!-- Alexa web traffic metrics are available via our API at http://aws.amazon.com/awis -->\n",
        "397,065              </strong>]"
       ]
      },
      {
       "output_type": "stream",
       "stream": "stdout",
       "text": [
        "\n",
        "[<strong class=\"metrics-data align-vmiddle\">\n",
        "<!-- Alexa web traffic metrics are available via our API at http://aws.amazon.com/awis -->\n",
        "3,669,391              </strong>]"
       ]
      },
      {
       "output_type": "stream",
       "stream": "stdout",
       "text": [
        "\n",
        "[<strong class=\"metrics-data align-vmiddle\">\n",
        "<!-- Alexa web traffic metrics are available via our API at http://aws.amazon.com/awis -->\n",
        "3,789,574              </strong>]"
       ]
      },
      {
       "output_type": "stream",
       "stream": "stdout",
       "text": [
        "\n",
        "[<strong class=\"metrics-data align-vmiddle\">\n",
        "<!-- Alexa web traffic metrics are available via our API at http://aws.amazon.com/awis -->\n",
        "4,710,501              </strong>]"
       ]
      },
      {
       "output_type": "stream",
       "stream": "stdout",
       "text": [
        "\n",
        "[<strong class=\"metrics-data align-vmiddle\">\n",
        "<!-- Alexa web traffic metrics are available via our API at http://aws.amazon.com/awis -->\n",
        "4,563,196              </strong>]"
       ]
      },
      {
       "output_type": "stream",
       "stream": "stdout",
       "text": [
        "\n",
        "[<strong class=\"metrics-data align-vmiddle\">\n",
        "<!-- Alexa web traffic metrics are available via our API at http://aws.amazon.com/awis -->\n",
        "1,057,146              </strong>]"
       ]
      },
      {
       "output_type": "stream",
       "stream": "stdout",
       "text": [
        "\n",
        "[<strong class=\"metrics-data align-vmiddle\">\n",
        "<!-- Alexa web traffic metrics are available via our API at http://aws.amazon.com/awis -->\n",
        "6,283,396              </strong>]"
       ]
      },
      {
       "output_type": "stream",
       "stream": "stdout",
       "text": [
        "\n",
        "[<strong class=\"metrics-data align-vmiddle\">\n",
        "<!-- Alexa web traffic metrics are available via our API at http://aws.amazon.com/awis -->\n",
        "8,179              </strong>]"
       ]
      },
      {
       "output_type": "stream",
       "stream": "stdout",
       "text": [
        "\n",
        "[<strong class=\"metrics-data align-vmiddle\">\n",
        "<!-- Alexa web traffic metrics are available via our API at http://aws.amazon.com/awis -->\n",
        "8,280,431              </strong>]"
       ]
      },
      {
       "output_type": "stream",
       "stream": "stdout",
       "text": [
        "\n",
        "[<strong class=\"metrics-data align-vmiddle\">\n",
        "<!-- Alexa web traffic metrics are available via our API at http://aws.amazon.com/awis -->\n",
        "11,995,183              </strong>]"
       ]
      },
      {
       "output_type": "stream",
       "stream": "stdout",
       "text": [
        "\n",
        "[<strong class=\"metrics-data align-vmiddle\">\n",
        "<!-- Alexa web traffic metrics are available via our API at http://aws.amazon.com/awis -->\n",
        "4,037,006              </strong>]"
       ]
      },
      {
       "output_type": "stream",
       "stream": "stdout",
       "text": [
        "\n",
        "[<strong class=\"metrics-data align-vmiddle\">\n",
        "<!-- Alexa web traffic metrics are available via our API at http://aws.amazon.com/awis -->\n",
        "555,879              </strong>]"
       ]
      },
      {
       "output_type": "stream",
       "stream": "stdout",
       "text": [
        "\n",
        "[<strong class=\"metrics-data align-vmiddle\">\n",
        "<!-- Alexa web traffic metrics are available via our API at http://aws.amazon.com/awis -->\n",
        "3,215,489              </strong>]"
       ]
      },
      {
       "output_type": "stream",
       "stream": "stdout",
       "text": [
        "\n",
        "[<strong class=\"metrics-data align-vmiddle\">\n",
        "<!-- Alexa web traffic metrics are available via our API at http://aws.amazon.com/awis -->\n",
        "23,606,393              </strong>]"
       ]
      },
      {
       "output_type": "stream",
       "stream": "stdout",
       "text": [
        "\n",
        "[<strong class=\"metrics-data align-vmiddle\">\n",
        "<!-- Alexa web traffic metrics are available via our API at http://aws.amazon.com/awis -->\n",
        "<span style=\"margin-left: 10px;\">-</span> </strong>]"
       ]
      },
      {
       "output_type": "stream",
       "stream": "stdout",
       "text": [
        "\n",
        "[<strong class=\"metrics-data align-vmiddle\">\n",
        "<!-- Alexa web traffic metrics are available via our API at http://aws.amazon.com/awis -->\n",
        "9,430,209              </strong>]"
       ]
      },
      {
       "output_type": "stream",
       "stream": "stdout",
       "text": [
        "\n",
        "[<strong class=\"metrics-data align-vmiddle\">\n",
        "<!-- Alexa web traffic metrics are available via our API at http://aws.amazon.com/awis -->\n",
        "10,257,920              </strong>]"
       ]
      },
      {
       "output_type": "stream",
       "stream": "stdout",
       "text": [
        "\n",
        "[<strong class=\"metrics-data align-vmiddle\">\n",
        "<!-- Alexa web traffic metrics are available via our API at http://aws.amazon.com/awis -->\n",
        "<span style=\"margin-left: 10px;\">-</span> </strong>]"
       ]
      },
      {
       "output_type": "stream",
       "stream": "stdout",
       "text": [
        "\n",
        "[<strong class=\"metrics-data align-vmiddle\">\n",
        "<!-- Alexa web traffic metrics are available via our API at http://aws.amazon.com/awis -->\n",
        "1,346,762              </strong>]"
       ]
      },
      {
       "output_type": "stream",
       "stream": "stdout",
       "text": [
        "\n",
        "[<strong class=\"metrics-data align-vmiddle\">\n",
        "<!-- Alexa web traffic metrics are available via our API at http://aws.amazon.com/awis -->\n",
        "2,656,613              </strong>]"
       ]
      },
      {
       "output_type": "stream",
       "stream": "stdout",
       "text": [
        "\n",
        "[<strong class=\"metrics-data align-vmiddle\">\n",
        "<!-- Alexa web traffic metrics are available via our API at http://aws.amazon.com/awis -->\n",
        "834,904              </strong>]"
       ]
      },
      {
       "output_type": "stream",
       "stream": "stdout",
       "text": [
        "\n",
        "[<strong class=\"metrics-data align-vmiddle\">\n",
        "<!-- Alexa web traffic metrics are available via our API at http://aws.amazon.com/awis -->\n",
        "1,066,078              </strong>]"
       ]
      },
      {
       "output_type": "stream",
       "stream": "stdout",
       "text": [
        "\n",
        "[<strong class=\"metrics-data align-vmiddle\">\n",
        "<!-- Alexa web traffic metrics are available via our API at http://aws.amazon.com/awis -->\n",
        "1,410,600              </strong>]"
       ]
      },
      {
       "output_type": "stream",
       "stream": "stdout",
       "text": [
        "\n",
        "[<strong class=\"metrics-data align-vmiddle\">\n",
        "<!-- Alexa web traffic metrics are available via our API at http://aws.amazon.com/awis -->\n",
        "77,592              </strong>]"
       ]
      },
      {
       "output_type": "stream",
       "stream": "stdout",
       "text": [
        "\n",
        "[<strong class=\"metrics-data align-vmiddle\">\n",
        "<!-- Alexa web traffic metrics are available via our API at http://aws.amazon.com/awis -->\n",
        "1,951,931              </strong>]"
       ]
      },
      {
       "output_type": "stream",
       "stream": "stdout",
       "text": [
        "\n",
        "[<strong class=\"metrics-data align-vmiddle\">\n",
        "<!-- Alexa web traffic metrics are available via our API at http://aws.amazon.com/awis -->\n",
        "13,880,526              </strong>]"
       ]
      },
      {
       "output_type": "stream",
       "stream": "stdout",
       "text": [
        "\n",
        "[<strong class=\"metrics-data align-vmiddle\">\n",
        "<!-- Alexa web traffic metrics are available via our API at http://aws.amazon.com/awis -->\n",
        "<span style=\"margin-left: 10px;\">-</span> </strong>]"
       ]
      },
      {
       "output_type": "stream",
       "stream": "stdout",
       "text": [
        "\n",
        "[<strong class=\"metrics-data align-vmiddle\">\n",
        "<!-- Alexa web traffic metrics are available via our API at http://aws.amazon.com/awis -->\n",
        "<span style=\"margin-left: 10px;\">-</span> </strong>]"
       ]
      },
      {
       "output_type": "stream",
       "stream": "stdout",
       "text": [
        "\n",
        "[<strong class=\"metrics-data align-vmiddle\">\n",
        "<!-- Alexa web traffic metrics are available via our API at http://aws.amazon.com/awis -->\n",
        "<span style=\"margin-left: 10px;\">-</span> </strong>]"
       ]
      },
      {
       "output_type": "stream",
       "stream": "stdout",
       "text": [
        "\n",
        "[<strong class=\"metrics-data align-vmiddle\">\n",
        "<!-- Alexa web traffic metrics are available via our API at http://aws.amazon.com/awis -->\n",
        "3,793,196              </strong>]"
       ]
      },
      {
       "output_type": "stream",
       "stream": "stdout",
       "text": [
        "\n",
        "[<strong class=\"metrics-data align-vmiddle\">\n",
        "<!-- Alexa web traffic metrics are available via our API at http://aws.amazon.com/awis -->\n",
        "1,346,762              </strong>]"
       ]
      },
      {
       "output_type": "stream",
       "stream": "stdout",
       "text": [
        "\n",
        "[<strong class=\"metrics-data align-vmiddle\">\n",
        "<!-- Alexa web traffic metrics are available via our API at http://aws.amazon.com/awis -->\n",
        "<span style=\"margin-left: 10px;\">-</span> </strong>]"
       ]
      },
      {
       "output_type": "stream",
       "stream": "stdout",
       "text": [
        "\n",
        "[<strong class=\"metrics-data align-vmiddle\">\n",
        "<!-- Alexa web traffic metrics are available via our API at http://aws.amazon.com/awis -->\n",
        "<span style=\"margin-left: 10px;\">-</span> </strong>]"
       ]
      },
      {
       "output_type": "stream",
       "stream": "stdout",
       "text": [
        "\n",
        "[<strong class=\"metrics-data align-vmiddle\">\n",
        "<!-- Alexa web traffic metrics are available via our API at http://aws.amazon.com/awis -->\n",
        "175,977              </strong>]"
       ]
      },
      {
       "output_type": "stream",
       "stream": "stdout",
       "text": [
        "\n",
        "[<strong class=\"metrics-data align-vmiddle\">\n",
        "<!-- Alexa web traffic metrics are available via our API at http://aws.amazon.com/awis -->\n",
        "2,389,980              </strong>]"
       ]
      },
      {
       "output_type": "stream",
       "stream": "stdout",
       "text": [
        "\n",
        "[<strong class=\"metrics-data align-vmiddle\">\n",
        "<!-- Alexa web traffic metrics are available via our API at http://aws.amazon.com/awis -->\n",
        "12,234,512              </strong>]"
       ]
      },
      {
       "output_type": "stream",
       "stream": "stdout",
       "text": [
        "\n",
        "[<strong class=\"metrics-data align-vmiddle\">\n",
        "<!-- Alexa web traffic metrics are available via our API at http://aws.amazon.com/awis -->\n",
        "<span style=\"margin-left: 10px;\">-</span> </strong>]"
       ]
      },
      {
       "output_type": "stream",
       "stream": "stdout",
       "text": [
        "\n",
        "[<strong class=\"metrics-data align-vmiddle\">\n",
        "<!-- Alexa web traffic metrics are available via our API at http://aws.amazon.com/awis -->\n",
        "6,318,576              </strong>]"
       ]
      },
      {
       "output_type": "stream",
       "stream": "stdout",
       "text": [
        "\n",
        "[<strong class=\"metrics-data align-vmiddle\">\n",
        "<!-- Alexa web traffic metrics are available via our API at http://aws.amazon.com/awis -->\n",
        "1,565,741              </strong>]"
       ]
      },
      {
       "output_type": "stream",
       "stream": "stdout",
       "text": [
        "\n",
        "[<strong class=\"metrics-data align-vmiddle\">\n",
        "<!-- Alexa web traffic metrics are available via our API at http://aws.amazon.com/awis -->\n",
        "9,551,403              </strong>]"
       ]
      },
      {
       "output_type": "stream",
       "stream": "stdout",
       "text": [
        "\n",
        "[<strong class=\"metrics-data align-vmiddle\">\n",
        "<!-- Alexa web traffic metrics are available via our API at http://aws.amazon.com/awis -->\n",
        "144,834              </strong>]"
       ]
      },
      {
       "output_type": "stream",
       "stream": "stdout",
       "text": [
        "\n",
        "[<strong class=\"metrics-data align-vmiddle\">\n",
        "<!-- Alexa web traffic metrics are available via our API at http://aws.amazon.com/awis -->\n",
        "<span style=\"margin-left: 10px;\">-</span> </strong>]"
       ]
      },
      {
       "output_type": "stream",
       "stream": "stdout",
       "text": [
        "\n",
        "[<strong class=\"metrics-data align-vmiddle\">\n",
        "<!-- Alexa web traffic metrics are available via our API at http://aws.amazon.com/awis -->\n",
        "5,274,330              </strong>]"
       ]
      },
      {
       "output_type": "stream",
       "stream": "stdout",
       "text": [
        "\n",
        "[<strong class=\"metrics-data align-vmiddle\">\n",
        "<!-- Alexa web traffic metrics are available via our API at http://aws.amazon.com/awis -->\n",
        "5,204,282              </strong>]"
       ]
      },
      {
       "output_type": "stream",
       "stream": "stdout",
       "text": [
        "\n",
        "[<strong class=\"metrics-data align-vmiddle\">\n",
        "<!-- Alexa web traffic metrics are available via our API at http://aws.amazon.com/awis -->\n",
        "10,503,170              </strong>]"
       ]
      },
      {
       "output_type": "stream",
       "stream": "stdout",
       "text": [
        "\n",
        "[<strong class=\"metrics-data align-vmiddle\">\n",
        "<!-- Alexa web traffic metrics are available via our API at http://aws.amazon.com/awis -->\n",
        "1,293,683              </strong>]"
       ]
      },
      {
       "output_type": "stream",
       "stream": "stdout",
       "text": [
        "\n",
        "[<strong class=\"metrics-data align-vmiddle\">\n",
        "<!-- Alexa web traffic metrics are available via our API at http://aws.amazon.com/awis -->\n",
        "16,355,946              </strong>]"
       ]
      },
      {
       "output_type": "stream",
       "stream": "stdout",
       "text": [
        "\n",
        "[<strong class=\"metrics-data align-vmiddle\">\n",
        "<!-- Alexa web traffic metrics are available via our API at http://aws.amazon.com/awis -->\n",
        "1,261,610              </strong>]"
       ]
      },
      {
       "output_type": "stream",
       "stream": "stdout",
       "text": [
        "\n",
        "[<strong class=\"metrics-data align-vmiddle\">\n",
        "<!-- Alexa web traffic metrics are available via our API at http://aws.amazon.com/awis -->\n",
        "<span style=\"margin-left: 10px;\">-</span> </strong>]"
       ]
      },
      {
       "output_type": "stream",
       "stream": "stdout",
       "text": [
        "\n",
        "[<strong class=\"metrics-data align-vmiddle\">\n",
        "<!-- Alexa web traffic metrics are available via our API at http://aws.amazon.com/awis -->\n",
        "<span style=\"margin-left: 10px;\">-</span> </strong>]"
       ]
      },
      {
       "output_type": "stream",
       "stream": "stdout",
       "text": [
        "\n",
        "[<strong class=\"metrics-data align-vmiddle\">\n",
        "<!-- Alexa web traffic metrics are available via our API at http://aws.amazon.com/awis -->\n",
        "<span style=\"margin-left: 10px;\">-</span> </strong>]"
       ]
      },
      {
       "output_type": "stream",
       "stream": "stdout",
       "text": [
        "\n",
        "[<strong class=\"metrics-data align-vmiddle\">\n",
        "<!-- Alexa web traffic metrics are available via our API at http://aws.amazon.com/awis -->\n",
        "<span style=\"margin-left: 10px;\">-</span> </strong>]"
       ]
      },
      {
       "output_type": "stream",
       "stream": "stdout",
       "text": [
        "\n",
        "[<strong class=\"metrics-data align-vmiddle\">\n",
        "<!-- Alexa web traffic metrics are available via our API at http://aws.amazon.com/awis -->\n",
        "7,437,836              </strong>]"
       ]
      },
      {
       "output_type": "stream",
       "stream": "stdout",
       "text": [
        "\n",
        "[<strong class=\"metrics-data align-vmiddle\">\n",
        "<!-- Alexa web traffic metrics are available via our API at http://aws.amazon.com/awis -->\n",
        "<span style=\"margin-left: 10px;\">-</span> </strong>]"
       ]
      },
      {
       "output_type": "stream",
       "stream": "stdout",
       "text": [
        "\n",
        "[<strong class=\"metrics-data align-vmiddle\">\n",
        "<!-- Alexa web traffic metrics are available via our API at http://aws.amazon.com/awis -->\n",
        "12,585,434              </strong>]"
       ]
      },
      {
       "output_type": "stream",
       "stream": "stdout",
       "text": [
        "\n",
        "[<strong class=\"metrics-data align-vmiddle\">\n",
        "<!-- Alexa web traffic metrics are available via our API at http://aws.amazon.com/awis -->\n",
        "<span style=\"margin-left: 10px;\">-</span> </strong>]"
       ]
      },
      {
       "output_type": "stream",
       "stream": "stdout",
       "text": [
        "\n",
        "[<strong class=\"metrics-data align-vmiddle\">\n",
        "<!-- Alexa web traffic metrics are available via our API at http://aws.amazon.com/awis -->\n",
        "7,180,472              </strong>]"
       ]
      },
      {
       "output_type": "stream",
       "stream": "stdout",
       "text": [
        "\n",
        "[<strong class=\"metrics-data align-vmiddle\">\n",
        "<!-- Alexa web traffic metrics are available via our API at http://aws.amazon.com/awis -->\n",
        "651,528              </strong>]"
       ]
      },
      {
       "output_type": "stream",
       "stream": "stdout",
       "text": [
        "\n",
        "[<strong class=\"metrics-data align-vmiddle\">\n",
        "<!-- Alexa web traffic metrics are available via our API at http://aws.amazon.com/awis -->\n",
        "3,262,498              </strong>]"
       ]
      },
      {
       "output_type": "stream",
       "stream": "stdout",
       "text": [
        "\n",
        "[<strong class=\"metrics-data align-vmiddle\">\n",
        "<!-- Alexa web traffic metrics are available via our API at http://aws.amazon.com/awis -->\n",
        "2,003,551              </strong>]"
       ]
      },
      {
       "output_type": "stream",
       "stream": "stdout",
       "text": [
        "\n",
        "[<strong class=\"metrics-data align-vmiddle\">\n",
        "<!-- Alexa web traffic metrics are available via our API at http://aws.amazon.com/awis -->\n",
        "1,732,669              </strong>]"
       ]
      },
      {
       "output_type": "stream",
       "stream": "stdout",
       "text": [
        "\n",
        "[<strong class=\"metrics-data align-vmiddle\">\n",
        "<!-- Alexa web traffic metrics are available via our API at http://aws.amazon.com/awis -->\n",
        "1,057,146              </strong>]"
       ]
      },
      {
       "output_type": "stream",
       "stream": "stdout",
       "text": [
        "\n",
        "[<strong class=\"metrics-data align-vmiddle\">\n",
        "<!-- Alexa web traffic metrics are available via our API at http://aws.amazon.com/awis -->\n",
        "1,060,244              </strong>]"
       ]
      },
      {
       "output_type": "stream",
       "stream": "stdout",
       "text": [
        "\n",
        "[<strong class=\"metrics-data align-vmiddle\">\n",
        "<!-- Alexa web traffic metrics are available via our API at http://aws.amazon.com/awis -->\n",
        "11,239              </strong>]"
       ]
      },
      {
       "output_type": "stream",
       "stream": "stdout",
       "text": [
        "\n",
        "[<strong class=\"metrics-data align-vmiddle\">\n",
        "<!-- Alexa web traffic metrics are available via our API at http://aws.amazon.com/awis -->\n",
        "1,903,974              </strong>]"
       ]
      },
      {
       "output_type": "stream",
       "stream": "stdout",
       "text": [
        "\n",
        "[<strong class=\"metrics-data align-vmiddle\">\n",
        "<!-- Alexa web traffic metrics are available via our API at http://aws.amazon.com/awis -->\n",
        "41,256              </strong>]"
       ]
      },
      {
       "output_type": "stream",
       "stream": "stdout",
       "text": [
        "\n",
        "[<strong class=\"metrics-data align-vmiddle\">\n",
        "<!-- Alexa web traffic metrics are available via our API at http://aws.amazon.com/awis -->\n",
        "2,689,027              </strong>]"
       ]
      },
      {
       "output_type": "stream",
       "stream": "stdout",
       "text": [
        "\n",
        "[<strong class=\"metrics-data align-vmiddle\">\n",
        "<!-- Alexa web traffic metrics are available via our API at http://aws.amazon.com/awis -->\n",
        "11,055,917              </strong>]"
       ]
      },
      {
       "output_type": "stream",
       "stream": "stdout",
       "text": [
        "\n",
        "[<strong class=\"metrics-data align-vmiddle\">\n",
        "<!-- Alexa web traffic metrics are available via our API at http://aws.amazon.com/awis -->\n",
        "300,206              </strong>]"
       ]
      },
      {
       "output_type": "stream",
       "stream": "stdout",
       "text": [
        "\n",
        "[<strong class=\"metrics-data align-vmiddle\">\n",
        "<!-- Alexa web traffic metrics are available via our API at http://aws.amazon.com/awis -->\n",
        "6,554,320              </strong>]"
       ]
      },
      {
       "output_type": "stream",
       "stream": "stdout",
       "text": [
        "\n",
        "[<strong class=\"metrics-data align-vmiddle\">\n",
        "<!-- Alexa web traffic metrics are available via our API at http://aws.amazon.com/awis -->\n",
        "11,743,965              </strong>]"
       ]
      },
      {
       "output_type": "stream",
       "stream": "stdout",
       "text": [
        "\n",
        "[<strong class=\"metrics-data align-vmiddle\">\n",
        "<!-- Alexa web traffic metrics are available via our API at http://aws.amazon.com/awis -->\n",
        "9,651,194              </strong>]"
       ]
      },
      {
       "output_type": "stream",
       "stream": "stdout",
       "text": [
        "\n",
        "[<strong class=\"metrics-data align-vmiddle\">\n",
        "<!-- Alexa web traffic metrics are available via our API at http://aws.amazon.com/awis -->\n",
        "7,978,045              </strong>]"
       ]
      },
      {
       "output_type": "stream",
       "stream": "stdout",
       "text": [
        "\n",
        "[<strong class=\"metrics-data align-vmiddle\">\n",
        "<!-- Alexa web traffic metrics are available via our API at http://aws.amazon.com/awis -->\n",
        "9,810,672              </strong>]"
       ]
      },
      {
       "output_type": "stream",
       "stream": "stdout",
       "text": [
        "\n",
        "[<strong class=\"metrics-data align-vmiddle\">\n",
        "<!-- Alexa web traffic metrics are available via our API at http://aws.amazon.com/awis -->\n",
        "<span style=\"margin-left: 10px;\">-</span> </strong>]"
       ]
      },
      {
       "output_type": "stream",
       "stream": "stdout",
       "text": [
        "\n",
        "[<strong class=\"metrics-data align-vmiddle\">\n",
        "<!-- Alexa web traffic metrics are available via our API at http://aws.amazon.com/awis -->\n",
        "8,105,521              </strong>]"
       ]
      },
      {
       "output_type": "stream",
       "stream": "stdout",
       "text": [
        "\n",
        "[<strong class=\"metrics-data align-vmiddle\">\n",
        "<!-- Alexa web traffic metrics are available via our API at http://aws.amazon.com/awis -->\n",
        "4,037,006              </strong>]"
       ]
      },
      {
       "output_type": "stream",
       "stream": "stdout",
       "text": [
        "\n",
        "[<strong class=\"metrics-data align-vmiddle\">\n",
        "<!-- Alexa web traffic metrics are available via our API at http://aws.amazon.com/awis -->\n",
        "20,372,668              </strong>]"
       ]
      },
      {
       "output_type": "stream",
       "stream": "stdout",
       "text": [
        "\n",
        "[<strong class=\"metrics-data align-vmiddle\">\n",
        "<!-- Alexa web traffic metrics are available via our API at http://aws.amazon.com/awis -->\n",
        "5,147,597              </strong>]"
       ]
      },
      {
       "output_type": "stream",
       "stream": "stdout",
       "text": [
        "\n",
        "[<strong class=\"metrics-data align-vmiddle\">\n",
        "<!-- Alexa web traffic metrics are available via our API at http://aws.amazon.com/awis -->\n",
        "2,796,431              </strong>]"
       ]
      },
      {
       "output_type": "stream",
       "stream": "stdout",
       "text": [
        "\n",
        "[<strong class=\"metrics-data align-vmiddle\">\n",
        "<!-- Alexa web traffic metrics are available via our API at http://aws.amazon.com/awis -->\n",
        "7,361,113              </strong>]"
       ]
      },
      {
       "output_type": "stream",
       "stream": "stdout",
       "text": [
        "\n",
        "[<strong class=\"metrics-data align-vmiddle\">\n",
        "<!-- Alexa web traffic metrics are available via our API at http://aws.amazon.com/awis -->\n",
        "2,996,302              </strong>]"
       ]
      },
      {
       "output_type": "stream",
       "stream": "stdout",
       "text": [
        "\n",
        "[<strong class=\"metrics-data align-vmiddle\">\n",
        "<!-- Alexa web traffic metrics are available via our API at http://aws.amazon.com/awis -->\n",
        "2,885,434              </strong>]"
       ]
      },
      {
       "output_type": "stream",
       "stream": "stdout",
       "text": [
        "\n",
        "[<strong class=\"metrics-data align-vmiddle\">\n",
        "<!-- Alexa web traffic metrics are available via our API at http://aws.amazon.com/awis -->\n",
        "5,882,922              </strong>]"
       ]
      },
      {
       "output_type": "stream",
       "stream": "stdout",
       "text": [
        "\n",
        "[<strong class=\"metrics-data align-vmiddle\">\n",
        "<!-- Alexa web traffic metrics are available via our API at http://aws.amazon.com/awis -->\n",
        "1,982,730              </strong>]"
       ]
      },
      {
       "output_type": "stream",
       "stream": "stdout",
       "text": [
        "\n",
        "[<strong class=\"metrics-data align-vmiddle\">\n",
        "<!-- Alexa web traffic metrics are available via our API at http://aws.amazon.com/awis -->\n",
        "1,841,199              </strong>]"
       ]
      },
      {
       "output_type": "stream",
       "stream": "stdout",
       "text": [
        "\n",
        "[<strong class=\"metrics-data align-vmiddle\">\n",
        "<!-- Alexa web traffic metrics are available via our API at http://aws.amazon.com/awis -->\n",
        "9,398,501              </strong>]"
       ]
      },
      {
       "output_type": "stream",
       "stream": "stdout",
       "text": [
        "\n",
        "[<strong class=\"metrics-data align-vmiddle\">\n",
        "<!-- Alexa web traffic metrics are available via our API at http://aws.amazon.com/awis -->\n",
        "<span style=\"margin-left: 10px;\">-</span> </strong>]"
       ]
      },
      {
       "output_type": "stream",
       "stream": "stdout",
       "text": [
        "\n",
        "[<strong class=\"metrics-data align-vmiddle\">\n",
        "<!-- Alexa web traffic metrics are available via our API at http://aws.amazon.com/awis -->\n",
        "11,027,632              </strong>]"
       ]
      },
      {
       "output_type": "stream",
       "stream": "stdout",
       "text": [
        "\n",
        "[<strong class=\"metrics-data align-vmiddle\">\n",
        "<!-- Alexa web traffic metrics are available via our API at http://aws.amazon.com/awis -->\n",
        "10,542,458              </strong>]"
       ]
      },
      {
       "output_type": "stream",
       "stream": "stdout",
       "text": [
        "\n",
        "[<strong class=\"metrics-data align-vmiddle\">\n",
        "<!-- Alexa web traffic metrics are available via our API at http://aws.amazon.com/awis -->\n",
        "2,177,114              </strong>]"
       ]
      },
      {
       "output_type": "stream",
       "stream": "stdout",
       "text": [
        "\n",
        "[<strong class=\"metrics-data align-vmiddle\">\n",
        "<!-- Alexa web traffic metrics are available via our API at http://aws.amazon.com/awis -->\n",
        "9,567,998              </strong>]"
       ]
      },
      {
       "output_type": "stream",
       "stream": "stdout",
       "text": [
        "\n",
        "[<strong class=\"metrics-data align-vmiddle\">\n",
        "<!-- Alexa web traffic metrics are available via our API at http://aws.amazon.com/awis -->\n",
        "3,854,134              </strong>]"
       ]
      },
      {
       "output_type": "stream",
       "stream": "stdout",
       "text": [
        "\n",
        "[<strong class=\"metrics-data align-vmiddle\">\n",
        "<!-- Alexa web traffic metrics are available via our API at http://aws.amazon.com/awis -->\n",
        "<span style=\"margin-left: 10px;\">-</span> </strong>]"
       ]
      },
      {
       "output_type": "stream",
       "stream": "stdout",
       "text": [
        "\n",
        "[<strong class=\"metrics-data align-vmiddle\">\n",
        "<!-- Alexa web traffic metrics are available via our API at http://aws.amazon.com/awis -->\n",
        "<span style=\"margin-left: 10px;\">-</span> </strong>]"
       ]
      },
      {
       "output_type": "stream",
       "stream": "stdout",
       "text": [
        "\n",
        "[<strong class=\"metrics-data align-vmiddle\">\n",
        "<!-- Alexa web traffic metrics are available via our API at http://aws.amazon.com/awis -->\n",
        "5,378,412              </strong>]"
       ]
      },
      {
       "output_type": "stream",
       "stream": "stdout",
       "text": [
        "\n",
        "[<strong class=\"metrics-data align-vmiddle\">\n",
        "<!-- Alexa web traffic metrics are available via our API at http://aws.amazon.com/awis -->\n",
        "<span style=\"margin-left: 10px;\">-</span> </strong>]"
       ]
      },
      {
       "output_type": "stream",
       "stream": "stdout",
       "text": [
        "\n",
        "[<strong class=\"metrics-data align-vmiddle\">\n",
        "<!-- Alexa web traffic metrics are available via our API at http://aws.amazon.com/awis -->\n",
        "15,904,814              </strong>]"
       ]
      },
      {
       "output_type": "stream",
       "stream": "stdout",
       "text": [
        "\n",
        "[<strong class=\"metrics-data align-vmiddle\">\n",
        "<!-- Alexa web traffic metrics are available via our API at http://aws.amazon.com/awis -->\n",
        "6,338,841              </strong>]"
       ]
      },
      {
       "output_type": "stream",
       "stream": "stdout",
       "text": [
        "\n",
        "[<strong class=\"metrics-data align-vmiddle\">\n",
        "<!-- Alexa web traffic metrics are available via our API at http://aws.amazon.com/awis -->\n",
        "1,391,230              </strong>]"
       ]
      },
      {
       "output_type": "stream",
       "stream": "stdout",
       "text": [
        "\n",
        "[<strong class=\"metrics-data align-vmiddle\">\n",
        "<!-- Alexa web traffic metrics are available via our API at http://aws.amazon.com/awis -->\n",
        "<span style=\"margin-left: 10px;\">-</span> </strong>]"
       ]
      },
      {
       "output_type": "stream",
       "stream": "stdout",
       "text": [
        "\n",
        "[<strong class=\"metrics-data align-vmiddle\">\n",
        "<!-- Alexa web traffic metrics are available via our API at http://aws.amazon.com/awis -->\n",
        "<span style=\"margin-left: 10px;\">-</span> </strong>]"
       ]
      },
      {
       "output_type": "stream",
       "stream": "stdout",
       "text": [
        "\n",
        "[<strong class=\"metrics-data align-vmiddle\">\n",
        "<!-- Alexa web traffic metrics are available via our API at http://aws.amazon.com/awis -->\n",
        "6,751,747              </strong>]"
       ]
      },
      {
       "output_type": "stream",
       "stream": "stdout",
       "text": [
        "\n",
        "[<strong class=\"metrics-data align-vmiddle\">\n",
        "<!-- Alexa web traffic metrics are available via our API at http://aws.amazon.com/awis -->\n",
        "<span style=\"margin-left: 10px;\">-</span> </strong>]"
       ]
      },
      {
       "output_type": "stream",
       "stream": "stdout",
       "text": [
        "\n",
        "[<strong class=\"metrics-data align-vmiddle\">\n",
        "<!-- Alexa web traffic metrics are available via our API at http://aws.amazon.com/awis -->\n",
        "8,989,423              </strong>]"
       ]
      },
      {
       "output_type": "stream",
       "stream": "stdout",
       "text": [
        "\n",
        "[<strong class=\"metrics-data align-vmiddle\">\n",
        "<!-- Alexa web traffic metrics are available via our API at http://aws.amazon.com/awis -->\n",
        "<span style=\"margin-left: 10px;\">-</span> </strong>]"
       ]
      },
      {
       "output_type": "stream",
       "stream": "stdout",
       "text": [
        "\n",
        "[<strong class=\"metrics-data align-vmiddle\">\n",
        "<!-- Alexa web traffic metrics are available via our API at http://aws.amazon.com/awis -->\n",
        "<span style=\"margin-left: 10px;\">-</span> </strong>]"
       ]
      },
      {
       "output_type": "stream",
       "stream": "stdout",
       "text": [
        "\n",
        "[<strong class=\"metrics-data align-vmiddle\">\n",
        "<!-- Alexa web traffic metrics are available via our API at http://aws.amazon.com/awis -->\n",
        "3,549,787              </strong>]"
       ]
      },
      {
       "output_type": "stream",
       "stream": "stdout",
       "text": [
        "\n",
        "[<strong class=\"metrics-data align-vmiddle\">\n",
        "<!-- Alexa web traffic metrics are available via our API at http://aws.amazon.com/awis -->\n",
        "<span style=\"margin-left: 10px;\">-</span> </strong>]"
       ]
      },
      {
       "output_type": "stream",
       "stream": "stdout",
       "text": [
        "\n",
        "[<strong class=\"metrics-data align-vmiddle\">\n",
        "<!-- Alexa web traffic metrics are available via our API at http://aws.amazon.com/awis -->\n",
        "<span style=\"margin-left: 10px;\">-</span> </strong>]"
       ]
      },
      {
       "output_type": "stream",
       "stream": "stdout",
       "text": [
        "\n",
        "[<strong class=\"metrics-data align-vmiddle\">\n",
        "<!-- Alexa web traffic metrics are available via our API at http://aws.amazon.com/awis -->\n",
        "<span style=\"margin-left: 10px;\">-</span> </strong>]"
       ]
      },
      {
       "output_type": "stream",
       "stream": "stdout",
       "text": [
        "\n",
        "[<strong class=\"metrics-data align-vmiddle\">\n",
        "<!-- Alexa web traffic metrics are available via our API at http://aws.amazon.com/awis -->\n",
        "22,093,103              </strong>]"
       ]
      },
      {
       "output_type": "stream",
       "stream": "stdout",
       "text": [
        "\n",
        "[<strong class=\"metrics-data align-vmiddle\">\n",
        "<!-- Alexa web traffic metrics are available via our API at http://aws.amazon.com/awis -->\n",
        "12,889,156              </strong>]"
       ]
      },
      {
       "output_type": "stream",
       "stream": "stdout",
       "text": [
        "\n",
        "[<strong class=\"metrics-data align-vmiddle\">\n",
        "<!-- Alexa web traffic metrics are available via our API at http://aws.amazon.com/awis -->\n",
        "<span style=\"margin-left: 10px;\">-</span> </strong>]"
       ]
      },
      {
       "output_type": "stream",
       "stream": "stdout",
       "text": [
        "\n",
        "[<strong class=\"metrics-data align-vmiddle\">\n",
        "<!-- Alexa web traffic metrics are available via our API at http://aws.amazon.com/awis -->\n",
        "235,913              </strong>]"
       ]
      },
      {
       "output_type": "stream",
       "stream": "stdout",
       "text": [
        "\n",
        "[<strong class=\"metrics-data align-vmiddle\">\n",
        "<!-- Alexa web traffic metrics are available via our API at http://aws.amazon.com/awis -->\n",
        "9,509,888              </strong>]"
       ]
      },
      {
       "output_type": "stream",
       "stream": "stdout",
       "text": [
        "\n",
        "[<strong class=\"metrics-data align-vmiddle\">\n",
        "<!-- Alexa web traffic metrics are available via our API at http://aws.amazon.com/awis -->\n",
        "<span style=\"margin-left: 10px;\">-</span> </strong>]"
       ]
      },
      {
       "output_type": "stream",
       "stream": "stdout",
       "text": [
        "\n",
        "[<strong class=\"metrics-data align-vmiddle\">\n",
        "<!-- Alexa web traffic metrics are available via our API at http://aws.amazon.com/awis -->\n",
        "562,952              </strong>]"
       ]
      },
      {
       "output_type": "stream",
       "stream": "stdout",
       "text": [
        "\n",
        "[<strong class=\"metrics-data align-vmiddle\">\n",
        "<!-- Alexa web traffic metrics are available via our API at http://aws.amazon.com/awis -->\n",
        "1,664,429              </strong>]"
       ]
      },
      {
       "output_type": "stream",
       "stream": "stdout",
       "text": [
        "\n",
        "[<strong class=\"metrics-data align-vmiddle\">\n",
        "<!-- Alexa web traffic metrics are available via our API at http://aws.amazon.com/awis -->\n",
        "11,133,637              </strong>]"
       ]
      },
      {
       "output_type": "stream",
       "stream": "stdout",
       "text": [
        "\n",
        "[<strong class=\"metrics-data align-vmiddle\">\n",
        "<!-- Alexa web traffic metrics are available via our API at http://aws.amazon.com/awis -->\n",
        "<span style=\"margin-left: 10px;\">-</span> </strong>]"
       ]
      },
      {
       "output_type": "stream",
       "stream": "stdout",
       "text": [
        "\n",
        "[<strong class=\"metrics-data align-vmiddle\">\n",
        "<!-- Alexa web traffic metrics are available via our API at http://aws.amazon.com/awis -->\n",
        "<span style=\"margin-left: 10px;\">-</span> </strong>]"
       ]
      },
      {
       "output_type": "stream",
       "stream": "stdout",
       "text": [
        "\n",
        "[<strong class=\"metrics-data align-vmiddle\">\n",
        "<!-- Alexa web traffic metrics are available via our API at http://aws.amazon.com/awis -->\n",
        "9,823,971              </strong>]"
       ]
      },
      {
       "output_type": "stream",
       "stream": "stdout",
       "text": [
        "\n",
        "[<strong class=\"metrics-data align-vmiddle\">\n",
        "<!-- Alexa web traffic metrics are available via our API at http://aws.amazon.com/awis -->\n",
        "12,538,171              </strong>]"
       ]
      },
      {
       "output_type": "stream",
       "stream": "stdout",
       "text": [
        "\n",
        "[<strong class=\"metrics-data align-vmiddle\">\n",
        "<!-- Alexa web traffic metrics are available via our API at http://aws.amazon.com/awis -->\n",
        "14,629,749              </strong>]"
       ]
      },
      {
       "output_type": "stream",
       "stream": "stdout",
       "text": [
        "\n",
        "[<strong class=\"metrics-data align-vmiddle\">\n",
        "<!-- Alexa web traffic metrics are available via our API at http://aws.amazon.com/awis -->\n",
        "1,513,815              </strong>]"
       ]
      },
      {
       "output_type": "stream",
       "stream": "stdout",
       "text": [
        "\n",
        "[<strong class=\"metrics-data align-vmiddle\">\n",
        "<!-- Alexa web traffic metrics are available via our API at http://aws.amazon.com/awis -->\n",
        "715,904              </strong>]"
       ]
      },
      {
       "output_type": "stream",
       "stream": "stdout",
       "text": [
        "\n",
        "[<strong class=\"metrics-data align-vmiddle\">\n",
        "<!-- Alexa web traffic metrics are available via our API at http://aws.amazon.com/awis -->\n",
        "1,074,019              </strong>]"
       ]
      },
      {
       "output_type": "stream",
       "stream": "stdout",
       "text": [
        "\n",
        "[<strong class=\"metrics-data align-vmiddle\">\n",
        "<!-- Alexa web traffic metrics are available via our API at http://aws.amazon.com/awis -->\n",
        "<span style=\"margin-left: 10px;\">-</span> </strong>]"
       ]
      },
      {
       "output_type": "stream",
       "stream": "stdout",
       "text": [
        "\n",
        "[<strong class=\"metrics-data align-vmiddle\">\n",
        "<!-- Alexa web traffic metrics are available via our API at http://aws.amazon.com/awis -->\n",
        "23,247,358              </strong>]"
       ]
      },
      {
       "output_type": "stream",
       "stream": "stdout",
       "text": [
        "\n",
        "[<strong class=\"metrics-data align-vmiddle\">\n",
        "<!-- Alexa web traffic metrics are available via our API at http://aws.amazon.com/awis -->\n",
        "9,365,476              </strong>]"
       ]
      },
      {
       "output_type": "stream",
       "stream": "stdout",
       "text": [
        "\n",
        "[<strong class=\"metrics-data align-vmiddle\">\n",
        "<!-- Alexa web traffic metrics are available via our API at http://aws.amazon.com/awis -->\n",
        "1,507,578              </strong>]"
       ]
      },
      {
       "output_type": "stream",
       "stream": "stdout",
       "text": [
        "\n",
        "[<strong class=\"metrics-data align-vmiddle\">\n",
        "<!-- Alexa web traffic metrics are available via our API at http://aws.amazon.com/awis -->\n",
        "348,445              </strong>]"
       ]
      },
      {
       "output_type": "stream",
       "stream": "stdout",
       "text": [
        "\n",
        "[<strong class=\"metrics-data align-vmiddle\">\n",
        "<!-- Alexa web traffic metrics are available via our API at http://aws.amazon.com/awis -->\n",
        "<span style=\"margin-left: 10px;\">-</span> </strong>]"
       ]
      },
      {
       "output_type": "stream",
       "stream": "stdout",
       "text": [
        "\n",
        "[<strong class=\"metrics-data align-vmiddle\">\n",
        "<!-- Alexa web traffic metrics are available via our API at http://aws.amazon.com/awis -->\n",
        "2,091,895              </strong>]"
       ]
      },
      {
       "output_type": "stream",
       "stream": "stdout",
       "text": [
        "\n",
        "[<strong class=\"metrics-data align-vmiddle\">\n",
        "<!-- Alexa web traffic metrics are available via our API at http://aws.amazon.com/awis -->\n",
        "<span style=\"margin-left: 10px;\">-</span> </strong>]"
       ]
      },
      {
       "output_type": "stream",
       "stream": "stdout",
       "text": [
        "\n",
        "[<strong class=\"metrics-data align-vmiddle\">\n",
        "<!-- Alexa web traffic metrics are available via our API at http://aws.amazon.com/awis -->\n",
        "<span style=\"margin-left: 10px;\">-</span> </strong>]"
       ]
      },
      {
       "output_type": "stream",
       "stream": "stdout",
       "text": [
        "\n",
        "[<strong class=\"metrics-data align-vmiddle\">\n",
        "<!-- Alexa web traffic metrics are available via our API at http://aws.amazon.com/awis -->\n",
        "4,378,000              </strong>]"
       ]
      },
      {
       "output_type": "stream",
       "stream": "stdout",
       "text": [
        "\n",
        "[<strong class=\"metrics-data align-vmiddle\">\n",
        "<!-- Alexa web traffic metrics are available via our API at http://aws.amazon.com/awis -->\n",
        "4,511,759              </strong>]"
       ]
      },
      {
       "output_type": "stream",
       "stream": "stdout",
       "text": [
        "\n",
        "[<strong class=\"metrics-data align-vmiddle\">\n",
        "<!-- Alexa web traffic metrics are available via our API at http://aws.amazon.com/awis -->\n",
        "<span style=\"margin-left: 10px;\">-</span> </strong>]"
       ]
      },
      {
       "output_type": "stream",
       "stream": "stdout",
       "text": [
        "\n",
        "[<strong class=\"metrics-data align-vmiddle\">\n",
        "<!-- Alexa web traffic metrics are available via our API at http://aws.amazon.com/awis -->\n",
        "5,929,105              </strong>]"
       ]
      },
      {
       "output_type": "stream",
       "stream": "stdout",
       "text": [
        "\n",
        "[<strong class=\"metrics-data align-vmiddle\">\n",
        "<!-- Alexa web traffic metrics are available via our API at http://aws.amazon.com/awis -->\n",
        "20,279,042              </strong>]"
       ]
      },
      {
       "output_type": "stream",
       "stream": "stdout",
       "text": [
        "\n",
        "[<strong class=\"metrics-data align-vmiddle\">\n",
        "<!-- Alexa web traffic metrics are available via our API at http://aws.amazon.com/awis -->\n",
        "<span style=\"margin-left: 10px;\">-</span> </strong>]"
       ]
      },
      {
       "output_type": "stream",
       "stream": "stdout",
       "text": [
        "\n",
        "[<strong class=\"metrics-data align-vmiddle\">\n",
        "<!-- Alexa web traffic metrics are available via our API at http://aws.amazon.com/awis -->\n",
        "6,031,905              </strong>]"
       ]
      },
      {
       "output_type": "stream",
       "stream": "stdout",
       "text": [
        "\n",
        "[<strong class=\"metrics-data align-vmiddle\">\n",
        "<!-- Alexa web traffic metrics are available via our API at http://aws.amazon.com/awis -->\n",
        "11,055,957              </strong>]"
       ]
      },
      {
       "output_type": "stream",
       "stream": "stdout",
       "text": [
        "\n",
        "[<strong class=\"metrics-data align-vmiddle\">\n",
        "<!-- Alexa web traffic metrics are available via our API at http://aws.amazon.com/awis -->\n",
        "19,018,715              </strong>]"
       ]
      },
      {
       "output_type": "stream",
       "stream": "stdout",
       "text": [
        "\n",
        "[<strong class=\"metrics-data align-vmiddle\">\n",
        "<!-- Alexa web traffic metrics are available via our API at http://aws.amazon.com/awis -->\n",
        "1,056,732              </strong>]"
       ]
      },
      {
       "output_type": "stream",
       "stream": "stdout",
       "text": [
        "\n",
        "[<strong class=\"metrics-data align-vmiddle\">\n",
        "<!-- Alexa web traffic metrics are available via our API at http://aws.amazon.com/awis -->\n",
        "5,524,551              </strong>]"
       ]
      },
      {
       "output_type": "stream",
       "stream": "stdout",
       "text": [
        "\n",
        "[<strong class=\"metrics-data align-vmiddle\">\n",
        "<!-- Alexa web traffic metrics are available via our API at http://aws.amazon.com/awis -->\n",
        "9,514,627              </strong>]"
       ]
      },
      {
       "output_type": "stream",
       "stream": "stdout",
       "text": [
        "\n",
        "[<strong class=\"metrics-data align-vmiddle\">\n",
        "<!-- Alexa web traffic metrics are available via our API at http://aws.amazon.com/awis -->\n",
        "3,098,348              </strong>]"
       ]
      },
      {
       "output_type": "stream",
       "stream": "stdout",
       "text": [
        "\n",
        "[<strong class=\"metrics-data align-vmiddle\">\n",
        "<!-- Alexa web traffic metrics are available via our API at http://aws.amazon.com/awis -->\n",
        "<span style=\"margin-left: 10px;\">-</span> </strong>]"
       ]
      },
      {
       "output_type": "stream",
       "stream": "stdout",
       "text": [
        "\n",
        "[<strong class=\"metrics-data align-vmiddle\">\n",
        "<!-- Alexa web traffic metrics are available via our API at http://aws.amazon.com/awis -->\n",
        "<span style=\"margin-left: 10px;\">-</span> </strong>]"
       ]
      },
      {
       "output_type": "stream",
       "stream": "stdout",
       "text": [
        "\n",
        "[<strong class=\"metrics-data align-vmiddle\">\n",
        "<!-- Alexa web traffic metrics are available via our API at http://aws.amazon.com/awis -->\n",
        "2,750,900              </strong>]"
       ]
      },
      {
       "output_type": "stream",
       "stream": "stdout",
       "text": [
        "\n",
        "[<strong class=\"metrics-data align-vmiddle\">\n",
        "<!-- Alexa web traffic metrics are available via our API at http://aws.amazon.com/awis -->\n",
        "1,152,083              </strong>]"
       ]
      },
      {
       "output_type": "stream",
       "stream": "stdout",
       "text": [
        "\n",
        "[<strong class=\"metrics-data align-vmiddle\">\n",
        "<!-- Alexa web traffic metrics are available via our API at http://aws.amazon.com/awis -->\n",
        "6,886,482              </strong>]"
       ]
      },
      {
       "output_type": "stream",
       "stream": "stdout",
       "text": [
        "\n",
        "[<strong class=\"metrics-data align-vmiddle\">\n",
        "<!-- Alexa web traffic metrics are available via our API at http://aws.amazon.com/awis -->\n",
        "106,065              </strong>]"
       ]
      },
      {
       "output_type": "stream",
       "stream": "stdout",
       "text": [
        "\n",
        "[<strong class=\"metrics-data align-vmiddle\">\n",
        "<!-- Alexa web traffic metrics are available via our API at http://aws.amazon.com/awis -->\n",
        "<span style=\"margin-left: 10px;\">-</span> </strong>]"
       ]
      },
      {
       "output_type": "stream",
       "stream": "stdout",
       "text": [
        "\n",
        "[<strong class=\"metrics-data align-vmiddle\">\n",
        "<!-- Alexa web traffic metrics are available via our API at http://aws.amazon.com/awis -->\n",
        "1,163,061              </strong>]"
       ]
      },
      {
       "output_type": "stream",
       "stream": "stdout",
       "text": [
        "\n",
        "[<strong class=\"metrics-data align-vmiddle\">\n",
        "<!-- Alexa web traffic metrics are available via our API at http://aws.amazon.com/awis -->\n",
        "5,598,531              </strong>]"
       ]
      },
      {
       "output_type": "stream",
       "stream": "stdout",
       "text": [
        "\n",
        "[<strong class=\"metrics-data align-vmiddle\">\n",
        "<!-- Alexa web traffic metrics are available via our API at http://aws.amazon.com/awis -->\n",
        "5,257,533              </strong>]"
       ]
      },
      {
       "output_type": "stream",
       "stream": "stdout",
       "text": [
        "\n",
        "[<strong class=\"metrics-data align-vmiddle\">\n",
        "<!-- Alexa web traffic metrics are available via our API at http://aws.amazon.com/awis -->\n",
        "2,205              </strong>]"
       ]
      },
      {
       "output_type": "stream",
       "stream": "stdout",
       "text": [
        "\n",
        "[<strong class=\"metrics-data align-vmiddle\">\n",
        "<!-- Alexa web traffic metrics are available via our API at http://aws.amazon.com/awis -->\n",
        "3,347,630              </strong>]"
       ]
      },
      {
       "output_type": "stream",
       "stream": "stdout",
       "text": [
        "\n",
        "[<strong class=\"metrics-data align-vmiddle\">\n",
        "<!-- Alexa web traffic metrics are available via our API at http://aws.amazon.com/awis -->\n",
        "191,061              </strong>]"
       ]
      },
      {
       "output_type": "stream",
       "stream": "stdout",
       "text": [
        "\n",
        "[<strong class=\"metrics-data align-vmiddle\">\n",
        "<!-- Alexa web traffic metrics are available via our API at http://aws.amazon.com/awis -->\n",
        "2,384,335              </strong>]"
       ]
      },
      {
       "output_type": "stream",
       "stream": "stdout",
       "text": [
        "\n",
        "[<strong class=\"metrics-data align-vmiddle\">\n",
        "<!-- Alexa web traffic metrics are available via our API at http://aws.amazon.com/awis -->\n",
        "16,356,011              </strong>]"
       ]
      },
      {
       "output_type": "stream",
       "stream": "stdout",
       "text": [
        "\n",
        "[<strong class=\"metrics-data align-vmiddle\">\n",
        "<!-- Alexa web traffic metrics are available via our API at http://aws.amazon.com/awis -->\n",
        "<span style=\"margin-left: 10px;\">-</span> </strong>]"
       ]
      },
      {
       "output_type": "stream",
       "stream": "stdout",
       "text": [
        "\n",
        "[<strong class=\"metrics-data align-vmiddle\">\n",
        "<!-- Alexa web traffic metrics are available via our API at http://aws.amazon.com/awis -->\n",
        "1,450,100              </strong>]"
       ]
      },
      {
       "output_type": "stream",
       "stream": "stdout",
       "text": [
        "\n",
        "[<strong class=\"metrics-data align-vmiddle\">\n",
        "<!-- Alexa web traffic metrics are available via our API at http://aws.amazon.com/awis -->\n",
        "7,958,582              </strong>]"
       ]
      },
      {
       "output_type": "stream",
       "stream": "stdout",
       "text": [
        "\n",
        "[<strong class=\"metrics-data align-vmiddle\">\n",
        "<!-- Alexa web traffic metrics are available via our API at http://aws.amazon.com/awis -->\n",
        "1,513,815              </strong>]"
       ]
      },
      {
       "output_type": "stream",
       "stream": "stdout",
       "text": [
        "\n",
        "[<strong class=\"metrics-data align-vmiddle\">\n",
        "<!-- Alexa web traffic metrics are available via our API at http://aws.amazon.com/awis -->\n",
        "173,332              </strong>]"
       ]
      },
      {
       "output_type": "stream",
       "stream": "stdout",
       "text": [
        "\n",
        "[<strong class=\"metrics-data align-vmiddle\">\n",
        "<!-- Alexa web traffic metrics are available via our API at http://aws.amazon.com/awis -->\n",
        "7,331,645              </strong>]"
       ]
      },
      {
       "output_type": "stream",
       "stream": "stdout",
       "text": [
        "\n",
        "[<strong class=\"metrics-data align-vmiddle\">\n",
        "<!-- Alexa web traffic metrics are available via our API at http://aws.amazon.com/awis -->\n",
        "2,722,598              </strong>]"
       ]
      },
      {
       "output_type": "stream",
       "stream": "stdout",
       "text": [
        "\n",
        "[<strong class=\"metrics-data align-vmiddle\">\n",
        "<!-- Alexa web traffic metrics are available via our API at http://aws.amazon.com/awis -->\n",
        "22,840,077              </strong>]"
       ]
      },
      {
       "output_type": "stream",
       "stream": "stdout",
       "text": [
        "\n",
        "[<strong class=\"metrics-data align-vmiddle\">\n",
        "<!-- Alexa web traffic metrics are available via our API at http://aws.amazon.com/awis -->\n",
        "2,628,072              </strong>]"
       ]
      },
      {
       "output_type": "stream",
       "stream": "stdout",
       "text": [
        "\n",
        "[<strong class=\"metrics-data align-vmiddle\">\n",
        "<!-- Alexa web traffic metrics are available via our API at http://aws.amazon.com/awis -->\n",
        "4,712,288              </strong>]"
       ]
      },
      {
       "output_type": "stream",
       "stream": "stdout",
       "text": [
        "\n",
        "[<strong class=\"metrics-data align-vmiddle\">\n",
        "<!-- Alexa web traffic metrics are available via our API at http://aws.amazon.com/awis -->\n",
        "845,009              </strong>]"
       ]
      },
      {
       "output_type": "stream",
       "stream": "stdout",
       "text": [
        "\n",
        "[<strong class=\"metrics-data align-vmiddle\">\n",
        "<!-- Alexa web traffic metrics are available via our API at http://aws.amazon.com/awis -->\n",
        "9,761,112              </strong>]"
       ]
      },
      {
       "output_type": "stream",
       "stream": "stdout",
       "text": [
        "\n",
        "[<strong class=\"metrics-data align-vmiddle\">\n",
        "<!-- Alexa web traffic metrics are available via our API at http://aws.amazon.com/awis -->\n",
        "12,603,520              </strong>]"
       ]
      },
      {
       "output_type": "stream",
       "stream": "stdout",
       "text": [
        "\n",
        "[<strong class=\"metrics-data align-vmiddle\">\n",
        "<!-- Alexa web traffic metrics are available via our API at http://aws.amazon.com/awis -->\n",
        "<span style=\"margin-left: 10px;\">-</span> </strong>]"
       ]
      },
      {
       "output_type": "stream",
       "stream": "stdout",
       "text": [
        "\n",
        "[<strong class=\"metrics-data align-vmiddle\">\n",
        "<!-- Alexa web traffic metrics are available via our API at http://aws.amazon.com/awis -->\n",
        "2,747,642              </strong>]"
       ]
      },
      {
       "output_type": "stream",
       "stream": "stdout",
       "text": [
        "\n",
        "[<strong class=\"metrics-data align-vmiddle\">\n",
        "<!-- Alexa web traffic metrics are available via our API at http://aws.amazon.com/awis -->\n",
        "12,391,030              </strong>]"
       ]
      },
      {
       "output_type": "stream",
       "stream": "stdout",
       "text": [
        "\n",
        "[<strong class=\"metrics-data align-vmiddle\">\n",
        "<!-- Alexa web traffic metrics are available via our API at http://aws.amazon.com/awis -->\n",
        "5,813,238              </strong>]"
       ]
      },
      {
       "output_type": "stream",
       "stream": "stdout",
       "text": [
        "\n",
        "[<strong class=\"metrics-data align-vmiddle\">\n",
        "<!-- Alexa web traffic metrics are available via our API at http://aws.amazon.com/awis -->\n",
        "<span style=\"margin-left: 10px;\">-</span> </strong>]"
       ]
      },
      {
       "output_type": "stream",
       "stream": "stdout",
       "text": [
        "\n",
        "[<strong class=\"metrics-data align-vmiddle\">\n",
        "<!-- Alexa web traffic metrics are available via our API at http://aws.amazon.com/awis -->\n",
        "13,646,897              </strong>]"
       ]
      },
      {
       "output_type": "stream",
       "stream": "stdout",
       "text": [
        "\n",
        "[<strong class=\"metrics-data align-vmiddle\">\n",
        "<!-- Alexa web traffic metrics are available via our API at http://aws.amazon.com/awis -->\n",
        "6,575,819              </strong>]"
       ]
      },
      {
       "output_type": "stream",
       "stream": "stdout",
       "text": [
        "\n",
        "[<strong class=\"metrics-data align-vmiddle\">\n",
        "<!-- Alexa web traffic metrics are available via our API at http://aws.amazon.com/awis -->\n",
        "2,922,895              </strong>]"
       ]
      },
      {
       "output_type": "stream",
       "stream": "stdout",
       "text": [
        "\n",
        "[<strong class=\"metrics-data align-vmiddle\">\n",
        "<!-- Alexa web traffic metrics are available via our API at http://aws.amazon.com/awis -->\n",
        "<span style=\"margin-left: 10px;\">-</span> </strong>]"
       ]
      },
      {
       "output_type": "stream",
       "stream": "stdout",
       "text": [
        "\n",
        "[<strong class=\"metrics-data align-vmiddle\">\n",
        "<!-- Alexa web traffic metrics are available via our API at http://aws.amazon.com/awis -->\n",
        "20,109,749              </strong>]"
       ]
      },
      {
       "output_type": "stream",
       "stream": "stdout",
       "text": [
        "\n",
        "[<strong class=\"metrics-data align-vmiddle\">\n",
        "<!-- Alexa web traffic metrics are available via our API at http://aws.amazon.com/awis -->\n",
        "<span style=\"margin-left: 10px;\">-</span> </strong>]"
       ]
      },
      {
       "output_type": "stream",
       "stream": "stdout",
       "text": [
        "\n",
        "[<strong class=\"metrics-data align-vmiddle\">\n",
        "<!-- Alexa web traffic metrics are available via our API at http://aws.amazon.com/awis -->\n",
        "<span style=\"margin-left: 10px;\">-</span> </strong>]"
       ]
      },
      {
       "output_type": "stream",
       "stream": "stdout",
       "text": [
        "\n",
        "[<strong class=\"metrics-data align-vmiddle\">\n",
        "<!-- Alexa web traffic metrics are available via our API at http://aws.amazon.com/awis -->\n",
        "<span style=\"margin-left: 10px;\">-</span> </strong>]"
       ]
      },
      {
       "output_type": "stream",
       "stream": "stdout",
       "text": [
        "\n",
        "[<strong class=\"metrics-data align-vmiddle\">\n",
        "<!-- Alexa web traffic metrics are available via our API at http://aws.amazon.com/awis -->\n",
        "<span style=\"margin-left: 10px;\">-</span> </strong>]"
       ]
      },
      {
       "output_type": "stream",
       "stream": "stdout",
       "text": [
        "\n",
        "[<strong class=\"metrics-data align-vmiddle\">\n",
        "<!-- Alexa web traffic metrics are available via our API at http://aws.amazon.com/awis -->\n",
        "2,243,240              </strong>]"
       ]
      },
      {
       "output_type": "stream",
       "stream": "stdout",
       "text": [
        "\n",
        "[<strong class=\"metrics-data align-vmiddle\">\n",
        "<!-- Alexa web traffic metrics are available via our API at http://aws.amazon.com/awis -->\n",
        "<span style=\"margin-left: 10px;\">-</span> </strong>]"
       ]
      },
      {
       "output_type": "stream",
       "stream": "stdout",
       "text": [
        "\n",
        "[<strong class=\"metrics-data align-vmiddle\">\n",
        "<!-- Alexa web traffic metrics are available via our API at http://aws.amazon.com/awis -->\n",
        "32,704              </strong>]"
       ]
      },
      {
       "output_type": "stream",
       "stream": "stdout",
       "text": [
        "\n",
        "[<strong class=\"metrics-data align-vmiddle\">\n",
        "<!-- Alexa web traffic metrics are available via our API at http://aws.amazon.com/awis -->\n",
        "256,400              </strong>]"
       ]
      },
      {
       "output_type": "stream",
       "stream": "stdout",
       "text": [
        "\n",
        "[<strong class=\"metrics-data align-vmiddle\">\n",
        "<!-- Alexa web traffic metrics are available via our API at http://aws.amazon.com/awis -->\n",
        "344,259              </strong>]"
       ]
      },
      {
       "output_type": "stream",
       "stream": "stdout",
       "text": [
        "\n",
        "[<strong class=\"metrics-data align-vmiddle\">\n",
        "<!-- Alexa web traffic metrics are available via our API at http://aws.amazon.com/awis -->\n",
        "6,529,309              </strong>]"
       ]
      },
      {
       "output_type": "stream",
       "stream": "stdout",
       "text": [
        "\n",
        "[<strong class=\"metrics-data align-vmiddle\">\n",
        "<!-- Alexa web traffic metrics are available via our API at http://aws.amazon.com/awis -->\n",
        "4,668,239              </strong>]"
       ]
      },
      {
       "output_type": "stream",
       "stream": "stdout",
       "text": [
        "\n",
        "[<strong class=\"metrics-data align-vmiddle\">\n",
        "<!-- Alexa web traffic metrics are available via our API at http://aws.amazon.com/awis -->\n",
        "10,385,983              </strong>]"
       ]
      },
      {
       "output_type": "stream",
       "stream": "stdout",
       "text": [
        "\n",
        "[<strong class=\"metrics-data align-vmiddle\">\n",
        "<!-- Alexa web traffic metrics are available via our API at http://aws.amazon.com/awis -->\n",
        "9,406,632              </strong>]"
       ]
      },
      {
       "output_type": "stream",
       "stream": "stdout",
       "text": [
        "\n",
        "[<strong class=\"metrics-data align-vmiddle\">\n",
        "<!-- Alexa web traffic metrics are available via our API at http://aws.amazon.com/awis -->\n",
        "<span style=\"margin-left: 10px;\">-</span> </strong>]"
       ]
      },
      {
       "output_type": "stream",
       "stream": "stdout",
       "text": [
        "\n",
        "[<strong class=\"metrics-data align-vmiddle\">\n",
        "<!-- Alexa web traffic metrics are available via our API at http://aws.amazon.com/awis -->\n",
        "<span style=\"margin-left: 10px;\">-</span> </strong>]"
       ]
      },
      {
       "output_type": "stream",
       "stream": "stdout",
       "text": [
        "\n",
        "[<strong class=\"metrics-data align-vmiddle\">\n",
        "<!-- Alexa web traffic metrics are available via our API at http://aws.amazon.com/awis -->\n",
        "1,573,600              </strong>]"
       ]
      },
      {
       "output_type": "stream",
       "stream": "stdout",
       "text": [
        "\n",
        "[<strong class=\"metrics-data align-vmiddle\">\n",
        "<!-- Alexa web traffic metrics are available via our API at http://aws.amazon.com/awis -->\n",
        "<span style=\"margin-left: 10px;\">-</span> </strong>]"
       ]
      },
      {
       "output_type": "stream",
       "stream": "stdout",
       "text": [
        "\n",
        "[<strong class=\"metrics-data align-vmiddle\">\n",
        "<!-- Alexa web traffic metrics are available via our API at http://aws.amazon.com/awis -->\n",
        "4,763,399              </strong>]"
       ]
      },
      {
       "output_type": "stream",
       "stream": "stdout",
       "text": [
        "\n",
        "[<strong class=\"metrics-data align-vmiddle\">\n",
        "<!-- Alexa web traffic metrics are available via our API at http://aws.amazon.com/awis -->\n",
        "<span style=\"margin-left: 10px;\">-</span> </strong>]"
       ]
      },
      {
       "output_type": "stream",
       "stream": "stdout",
       "text": [
        "\n",
        "[<strong class=\"metrics-data align-vmiddle\">\n",
        "<!-- Alexa web traffic metrics are available via our API at http://aws.amazon.com/awis -->\n",
        "4,192,814              </strong>]"
       ]
      },
      {
       "output_type": "stream",
       "stream": "stdout",
       "text": [
        "\n",
        "[<strong class=\"metrics-data align-vmiddle\">\n",
        "<!-- Alexa web traffic metrics are available via our API at http://aws.amazon.com/awis -->\n",
        "432,228              </strong>]"
       ]
      },
      {
       "output_type": "stream",
       "stream": "stdout",
       "text": [
        "\n",
        "[<strong class=\"metrics-data align-vmiddle\">\n",
        "<!-- Alexa web traffic metrics are available via our API at http://aws.amazon.com/awis -->\n",
        "4,540,416              </strong>]"
       ]
      },
      {
       "output_type": "stream",
       "stream": "stdout",
       "text": [
        "\n",
        "[<strong class=\"metrics-data align-vmiddle\">\n",
        "<!-- Alexa web traffic metrics are available via our API at http://aws.amazon.com/awis -->\n",
        "746,411              </strong>]"
       ]
      },
      {
       "output_type": "stream",
       "stream": "stdout",
       "text": [
        "\n",
        "[<strong class=\"metrics-data align-vmiddle\">\n",
        "<!-- Alexa web traffic metrics are available via our API at http://aws.amazon.com/awis -->\n",
        "10,129,009              </strong>]"
       ]
      },
      {
       "output_type": "stream",
       "stream": "stdout",
       "text": [
        "\n",
        "[<strong class=\"metrics-data align-vmiddle\">\n",
        "<!-- Alexa web traffic metrics are available via our API at http://aws.amazon.com/awis -->\n",
        "<span style=\"margin-left: 10px;\">-</span> </strong>]"
       ]
      },
      {
       "output_type": "stream",
       "stream": "stdout",
       "text": [
        "\n",
        "[<strong class=\"metrics-data align-vmiddle\">\n",
        "<!-- Alexa web traffic metrics are available via our API at http://aws.amazon.com/awis -->\n",
        "6,447,568              </strong>]"
       ]
      },
      {
       "output_type": "stream",
       "stream": "stdout",
       "text": [
        "\n",
        "[<strong class=\"metrics-data align-vmiddle\">\n",
        "<!-- Alexa web traffic metrics are available via our API at http://aws.amazon.com/awis -->\n",
        "<span style=\"margin-left: 10px;\">-</span> </strong>]"
       ]
      },
      {
       "output_type": "stream",
       "stream": "stdout",
       "text": [
        "\n",
        "[<strong class=\"metrics-data align-vmiddle\">\n",
        "<!-- Alexa web traffic metrics are available via our API at http://aws.amazon.com/awis -->\n",
        "<span style=\"margin-left: 10px;\">-</span> </strong>]"
       ]
      },
      {
       "output_type": "stream",
       "stream": "stdout",
       "text": [
        "\n",
        "[<strong class=\"metrics-data align-vmiddle\">\n",
        "<!-- Alexa web traffic metrics are available via our API at http://aws.amazon.com/awis -->\n",
        "6,345,780              </strong>]"
       ]
      },
      {
       "output_type": "stream",
       "stream": "stdout",
       "text": [
        "\n",
        "[<strong class=\"metrics-data align-vmiddle\">\n",
        "<!-- Alexa web traffic metrics are available via our API at http://aws.amazon.com/awis -->\n",
        "<span style=\"margin-left: 10px;\">-</span> </strong>]"
       ]
      },
      {
       "output_type": "stream",
       "stream": "stdout",
       "text": [
        "\n",
        "[<strong class=\"metrics-data align-vmiddle\">\n",
        "<!-- Alexa web traffic metrics are available via our API at http://aws.amazon.com/awis -->\n",
        "2,014,671              </strong>]"
       ]
      },
      {
       "output_type": "stream",
       "stream": "stdout",
       "text": [
        "\n",
        "[<strong class=\"metrics-data align-vmiddle\">\n",
        "<!-- Alexa web traffic metrics are available via our API at http://aws.amazon.com/awis -->\n",
        "<span style=\"margin-left: 10px;\">-</span> </strong>]"
       ]
      },
      {
       "output_type": "stream",
       "stream": "stdout",
       "text": [
        "\n",
        "[<strong class=\"metrics-data align-vmiddle\">\n",
        "<!-- Alexa web traffic metrics are available via our API at http://aws.amazon.com/awis -->\n",
        "2,903,909              </strong>]"
       ]
      },
      {
       "output_type": "stream",
       "stream": "stdout",
       "text": [
        "\n",
        "[<strong class=\"metrics-data align-vmiddle\">\n",
        "<!-- Alexa web traffic metrics are available via our API at http://aws.amazon.com/awis -->\n",
        "<span style=\"margin-left: 10px;\">-</span> </strong>]"
       ]
      },
      {
       "output_type": "stream",
       "stream": "stdout",
       "text": [
        "\n",
        "[<strong class=\"metrics-data align-vmiddle\">\n",
        "<!-- Alexa web traffic metrics are available via our API at http://aws.amazon.com/awis -->\n",
        "<span style=\"margin-left: 10px;\">-</span> </strong>]"
       ]
      },
      {
       "output_type": "stream",
       "stream": "stdout",
       "text": [
        "\n",
        "[<strong class=\"metrics-data align-vmiddle\">\n",
        "<!-- Alexa web traffic metrics are available via our API at http://aws.amazon.com/awis -->\n",
        "<span style=\"margin-left: 10px;\">-</span> </strong>]"
       ]
      },
      {
       "output_type": "stream",
       "stream": "stdout",
       "text": [
        "\n",
        "[<strong class=\"metrics-data align-vmiddle\">\n",
        "<!-- Alexa web traffic metrics are available via our API at http://aws.amazon.com/awis -->\n",
        "<span style=\"margin-left: 10px;\">-</span> </strong>]"
       ]
      },
      {
       "output_type": "stream",
       "stream": "stdout",
       "text": [
        "\n",
        "[<strong class=\"metrics-data align-vmiddle\">\n",
        "<!-- Alexa web traffic metrics are available via our API at http://aws.amazon.com/awis -->\n",
        "<span style=\"margin-left: 10px;\">-</span> </strong>]"
       ]
      },
      {
       "output_type": "stream",
       "stream": "stdout",
       "text": [
        "\n",
        "[<strong class=\"metrics-data align-vmiddle\">\n",
        "<!-- Alexa web traffic metrics are available via our API at http://aws.amazon.com/awis -->\n",
        "<span style=\"margin-left: 10px;\">-</span> </strong>]"
       ]
      },
      {
       "output_type": "stream",
       "stream": "stdout",
       "text": [
        "\n",
        "[<strong class=\"metrics-data align-vmiddle\">\n",
        "<!-- Alexa web traffic metrics are available via our API at http://aws.amazon.com/awis -->\n",
        "5,164,997              </strong>]"
       ]
      },
      {
       "output_type": "stream",
       "stream": "stdout",
       "text": [
        "\n",
        "[<strong class=\"metrics-data align-vmiddle\">\n",
        "<!-- Alexa web traffic metrics are available via our API at http://aws.amazon.com/awis -->\n",
        "<span style=\"margin-left: 10px;\">-</span> </strong>]"
       ]
      },
      {
       "output_type": "stream",
       "stream": "stdout",
       "text": [
        "\n",
        "[<strong class=\"metrics-data align-vmiddle\">\n",
        "<!-- Alexa web traffic metrics are available via our API at http://aws.amazon.com/awis -->\n",
        "1,091,427              </strong>]"
       ]
      },
      {
       "output_type": "stream",
       "stream": "stdout",
       "text": [
        "\n",
        "[<strong class=\"metrics-data align-vmiddle\">\n",
        "<!-- Alexa web traffic metrics are available via our API at http://aws.amazon.com/awis -->\n",
        "<span style=\"margin-left: 10px;\">-</span> </strong>]"
       ]
      },
      {
       "output_type": "stream",
       "stream": "stdout",
       "text": [
        "\n",
        "[<strong class=\"metrics-data align-vmiddle\">\n",
        "<!-- Alexa web traffic metrics are available via our API at http://aws.amazon.com/awis -->\n",
        "<span style=\"margin-left: 10px;\">-</span> </strong>]"
       ]
      },
      {
       "output_type": "stream",
       "stream": "stdout",
       "text": [
        "\n",
        "[<strong class=\"metrics-data align-vmiddle\">\n",
        "<!-- Alexa web traffic metrics are available via our API at http://aws.amazon.com/awis -->\n",
        "1,806,972              </strong>]"
       ]
      },
      {
       "output_type": "stream",
       "stream": "stdout",
       "text": [
        "\n",
        "[<strong class=\"metrics-data align-vmiddle\">\n",
        "<!-- Alexa web traffic metrics are available via our API at http://aws.amazon.com/awis -->\n",
        "3,610,281              </strong>]"
       ]
      },
      {
       "output_type": "stream",
       "stream": "stdout",
       "text": [
        "\n",
        "[<strong class=\"metrics-data align-vmiddle\">\n",
        "<!-- Alexa web traffic metrics are available via our API at http://aws.amazon.com/awis -->\n",
        "19,591,733              </strong>]"
       ]
      },
      {
       "output_type": "stream",
       "stream": "stdout",
       "text": [
        "\n",
        "[<strong class=\"metrics-data align-vmiddle\">\n",
        "<!-- Alexa web traffic metrics are available via our API at http://aws.amazon.com/awis -->\n",
        "<span style=\"margin-left: 10px;\">-</span> </strong>]"
       ]
      },
      {
       "output_type": "stream",
       "stream": "stdout",
       "text": [
        "\n",
        "[<strong class=\"metrics-data align-vmiddle\">\n",
        "<!-- Alexa web traffic metrics are available via our API at http://aws.amazon.com/awis -->\n",
        "825,694              </strong>]"
       ]
      },
      {
       "output_type": "stream",
       "stream": "stdout",
       "text": [
        "\n",
        "[<strong class=\"metrics-data align-vmiddle\">\n",
        "<!-- Alexa web traffic metrics are available via our API at http://aws.amazon.com/awis -->\n",
        "2,398,679              </strong>]"
       ]
      },
      {
       "output_type": "stream",
       "stream": "stdout",
       "text": [
        "\n",
        "[<strong class=\"metrics-data align-vmiddle\">\n",
        "<!-- Alexa web traffic metrics are available via our API at http://aws.amazon.com/awis -->\n",
        "5,765,189              </strong>]"
       ]
      },
      {
       "output_type": "stream",
       "stream": "stdout",
       "text": [
        "\n",
        "[<strong class=\"metrics-data align-vmiddle\">\n",
        "<!-- Alexa web traffic metrics are available via our API at http://aws.amazon.com/awis -->\n",
        "<span style=\"margin-left: 10px;\">-</span> </strong>]"
       ]
      },
      {
       "output_type": "stream",
       "stream": "stdout",
       "text": [
        "\n",
        "[<strong class=\"metrics-data align-vmiddle\">\n",
        "<!-- Alexa web traffic metrics are available via our API at http://aws.amazon.com/awis -->\n",
        "4,945,113              </strong>]"
       ]
      },
      {
       "output_type": "stream",
       "stream": "stdout",
       "text": [
        "\n",
        "[<strong class=\"metrics-data align-vmiddle\">\n",
        "<!-- Alexa web traffic metrics are available via our API at http://aws.amazon.com/awis -->\n",
        "1,923,650              </strong>]"
       ]
      },
      {
       "output_type": "stream",
       "stream": "stdout",
       "text": [
        "\n",
        "[<strong class=\"metrics-data align-vmiddle\">\n",
        "<!-- Alexa web traffic metrics are available via our API at http://aws.amazon.com/awis -->\n",
        "559,156              </strong>]"
       ]
      },
      {
       "output_type": "stream",
       "stream": "stdout",
       "text": [
        "\n",
        "[<strong class=\"metrics-data align-vmiddle\">\n",
        "<!-- Alexa web traffic metrics are available via our API at http://aws.amazon.com/awis -->\n",
        "<span style=\"margin-left: 10px;\">-</span> </strong>]"
       ]
      },
      {
       "output_type": "stream",
       "stream": "stdout",
       "text": [
        "\n",
        "[<strong class=\"metrics-data align-vmiddle\">\n",
        "<!-- Alexa web traffic metrics are available via our API at http://aws.amazon.com/awis -->\n",
        "9,175,469              </strong>]"
       ]
      },
      {
       "output_type": "stream",
       "stream": "stdout",
       "text": [
        "\n",
        "[<strong class=\"metrics-data align-vmiddle\">\n",
        "<!-- Alexa web traffic metrics are available via our API at http://aws.amazon.com/awis -->\n",
        "4,803              </strong>]"
       ]
      },
      {
       "output_type": "stream",
       "stream": "stdout",
       "text": [
        "\n",
        "[<strong class=\"metrics-data align-vmiddle\">\n",
        "<!-- Alexa web traffic metrics are available via our API at http://aws.amazon.com/awis -->\n",
        "3,383,636              </strong>]"
       ]
      },
      {
       "output_type": "stream",
       "stream": "stdout",
       "text": [
        "\n",
        "[<strong class=\"metrics-data align-vmiddle\">\n",
        "<!-- Alexa web traffic metrics are available via our API at http://aws.amazon.com/awis -->\n",
        "237,956              </strong>]"
       ]
      },
      {
       "output_type": "stream",
       "stream": "stdout",
       "text": [
        "\n",
        "[<strong class=\"metrics-data align-vmiddle\">\n",
        "<!-- Alexa web traffic metrics are available via our API at http://aws.amazon.com/awis -->\n",
        "<span style=\"margin-left: 10px;\">-</span> </strong>]"
       ]
      },
      {
       "output_type": "stream",
       "stream": "stdout",
       "text": [
        "\n",
        "[<strong class=\"metrics-data align-vmiddle\">\n",
        "<!-- Alexa web traffic metrics are available via our API at http://aws.amazon.com/awis -->\n",
        "6,891,545              </strong>]"
       ]
      },
      {
       "output_type": "stream",
       "stream": "stdout",
       "text": [
        "\n",
        "[<strong class=\"metrics-data align-vmiddle\">\n",
        "<!-- Alexa web traffic metrics are available via our API at http://aws.amazon.com/awis -->\n",
        "<span style=\"margin-left: 10px;\">-</span> </strong>]"
       ]
      },
      {
       "output_type": "stream",
       "stream": "stdout",
       "text": [
        "\n",
        "[<strong class=\"metrics-data align-vmiddle\">\n",
        "<!-- Alexa web traffic metrics are available via our API at http://aws.amazon.com/awis -->\n",
        "1,360              </strong>]"
       ]
      },
      {
       "output_type": "stream",
       "stream": "stdout",
       "text": [
        "\n",
        "[<strong class=\"metrics-data align-vmiddle\">\n",
        "<!-- Alexa web traffic metrics are available via our API at http://aws.amazon.com/awis -->\n",
        "<span style=\"margin-left: 10px;\">-</span> </strong>]"
       ]
      },
      {
       "output_type": "stream",
       "stream": "stdout",
       "text": [
        "\n",
        "[<strong class=\"metrics-data align-vmiddle\">\n",
        "<!-- Alexa web traffic metrics are available via our API at http://aws.amazon.com/awis -->\n",
        "<span style=\"margin-left: 10px;\">-</span> </strong>]"
       ]
      },
      {
       "output_type": "stream",
       "stream": "stdout",
       "text": [
        "\n",
        "[<strong class=\"metrics-data align-vmiddle\">\n",
        "<!-- Alexa web traffic metrics are available via our API at http://aws.amazon.com/awis -->\n",
        "<span style=\"margin-left: 10px;\">-</span> </strong>]"
       ]
      },
      {
       "output_type": "stream",
       "stream": "stdout",
       "text": [
        "\n",
        "[<strong class=\"metrics-data align-vmiddle\">\n",
        "<!-- Alexa web traffic metrics are available via our API at http://aws.amazon.com/awis -->\n",
        "1,149              </strong>]"
       ]
      },
      {
       "output_type": "stream",
       "stream": "stdout",
       "text": [
        "\n",
        "[<strong class=\"metrics-data align-vmiddle\">\n",
        "<!-- Alexa web traffic metrics are available via our API at http://aws.amazon.com/awis -->\n",
        "10,335,225              </strong>]"
       ]
      },
      {
       "output_type": "stream",
       "stream": "stdout",
       "text": [
        "\n",
        "[<strong class=\"metrics-data align-vmiddle\">\n",
        "<!-- Alexa web traffic metrics are available via our API at http://aws.amazon.com/awis -->\n",
        "5,430,178              </strong>]"
       ]
      },
      {
       "output_type": "stream",
       "stream": "stdout",
       "text": [
        "\n",
        "[<strong class=\"metrics-data align-vmiddle\">\n",
        "<!-- Alexa web traffic metrics are available via our API at http://aws.amazon.com/awis -->\n",
        "<span style=\"margin-left: 10px;\">-</span> </strong>]"
       ]
      },
      {
       "output_type": "stream",
       "stream": "stdout",
       "text": [
        "\n",
        "[<strong class=\"metrics-data align-vmiddle\">\n",
        "<!-- Alexa web traffic metrics are available via our API at http://aws.amazon.com/awis -->\n",
        "<span style=\"margin-left: 10px;\">-</span> </strong>]"
       ]
      },
      {
       "output_type": "stream",
       "stream": "stdout",
       "text": [
        "\n",
        "[<strong class=\"metrics-data align-vmiddle\">\n",
        "<!-- Alexa web traffic metrics are available via our API at http://aws.amazon.com/awis -->\n",
        "1,100,042              </strong>]"
       ]
      },
      {
       "output_type": "stream",
       "stream": "stdout",
       "text": [
        "\n",
        "[<strong class=\"metrics-data align-vmiddle\">\n",
        "<!-- Alexa web traffic metrics are available via our API at http://aws.amazon.com/awis -->\n",
        "714,592              </strong>]"
       ]
      },
      {
       "output_type": "stream",
       "stream": "stdout",
       "text": [
        "\n",
        "[<strong class=\"metrics-data align-vmiddle\">\n",
        "<!-- Alexa web traffic metrics are available via our API at http://aws.amazon.com/awis -->\n",
        "<span style=\"margin-left: 10px;\">-</span> </strong>]"
       ]
      },
      {
       "output_type": "stream",
       "stream": "stdout",
       "text": [
        "\n",
        "[<strong class=\"metrics-data align-vmiddle\">\n",
        "<!-- Alexa web traffic metrics are available via our API at http://aws.amazon.com/awis -->\n",
        "3,657,438              </strong>]"
       ]
      },
      {
       "output_type": "stream",
       "stream": "stdout",
       "text": [
        "\n",
        "[<strong class=\"metrics-data align-vmiddle\">\n",
        "<!-- Alexa web traffic metrics are available via our API at http://aws.amazon.com/awis -->\n",
        "4,089,211              </strong>]"
       ]
      },
      {
       "output_type": "stream",
       "stream": "stdout",
       "text": [
        "\n",
        "[<strong class=\"metrics-data align-vmiddle\">\n",
        "<!-- Alexa web traffic metrics are available via our API at http://aws.amazon.com/awis -->\n",
        "335,299              </strong>]"
       ]
      },
      {
       "output_type": "stream",
       "stream": "stdout",
       "text": [
        "\n",
        "[<strong class=\"metrics-data align-vmiddle\">\n",
        "<!-- Alexa web traffic metrics are available via our API at http://aws.amazon.com/awis -->\n",
        "<span style=\"margin-left: 10px;\">-</span> </strong>]"
       ]
      },
      {
       "output_type": "stream",
       "stream": "stdout",
       "text": [
        "\n",
        "[<strong class=\"metrics-data align-vmiddle\">\n",
        "<!-- Alexa web traffic metrics are available via our API at http://aws.amazon.com/awis -->\n",
        "<span style=\"margin-left: 10px;\">-</span> </strong>]"
       ]
      },
      {
       "output_type": "stream",
       "stream": "stdout",
       "text": [
        "\n",
        "[<strong class=\"metrics-data align-vmiddle\">\n",
        "<!-- Alexa web traffic metrics are available via our API at http://aws.amazon.com/awis -->\n",
        "3,945,092              </strong>]"
       ]
      },
      {
       "output_type": "stream",
       "stream": "stdout",
       "text": [
        "\n",
        "[<strong class=\"metrics-data align-vmiddle\">\n",
        "<!-- Alexa web traffic metrics are available via our API at http://aws.amazon.com/awis -->\n",
        "<span style=\"margin-left: 10px;\">-</span> </strong>]"
       ]
      },
      {
       "output_type": "stream",
       "stream": "stdout",
       "text": [
        "\n",
        "[<strong class=\"metrics-data align-vmiddle\">\n",
        "<!-- Alexa web traffic metrics are available via our API at http://aws.amazon.com/awis -->\n",
        "<span style=\"margin-left: 10px;\">-</span> </strong>]"
       ]
      },
      {
       "output_type": "stream",
       "stream": "stdout",
       "text": [
        "\n",
        "[<strong class=\"metrics-data align-vmiddle\">\n",
        "<!-- Alexa web traffic metrics are available via our API at http://aws.amazon.com/awis -->\n",
        "11,644,500              </strong>]"
       ]
      },
      {
       "output_type": "stream",
       "stream": "stdout",
       "text": [
        "\n",
        "[<strong class=\"metrics-data align-vmiddle\">\n",
        "<!-- Alexa web traffic metrics are available via our API at http://aws.amazon.com/awis -->\n",
        "17,715,202              </strong>]"
       ]
      },
      {
       "output_type": "stream",
       "stream": "stdout",
       "text": [
        "\n",
        "[<strong class=\"metrics-data align-vmiddle\">\n",
        "<!-- Alexa web traffic metrics are available via our API at http://aws.amazon.com/awis -->\n",
        "2,255,138              </strong>]"
       ]
      },
      {
       "output_type": "stream",
       "stream": "stdout",
       "text": [
        "\n",
        "[<strong class=\"metrics-data align-vmiddle\">\n",
        "<!-- Alexa web traffic metrics are available via our API at http://aws.amazon.com/awis -->\n",
        "<span style=\"margin-left: 10px;\">-</span> </strong>]"
       ]
      },
      {
       "output_type": "stream",
       "stream": "stdout",
       "text": [
        "\n",
        "[<strong class=\"metrics-data align-vmiddle\">\n",
        "<!-- Alexa web traffic metrics are available via our API at http://aws.amazon.com/awis -->\n",
        "4,319,716              </strong>]"
       ]
      },
      {
       "output_type": "stream",
       "stream": "stdout",
       "text": [
        "\n",
        "[<strong class=\"metrics-data align-vmiddle\">\n",
        "<!-- Alexa web traffic metrics are available via our API at http://aws.amazon.com/awis -->\n",
        "2,199,670              </strong>]"
       ]
      },
      {
       "output_type": "stream",
       "stream": "stdout",
       "text": [
        "\n",
        "[<strong class=\"metrics-data align-vmiddle\">\n",
        "<!-- Alexa web traffic metrics are available via our API at http://aws.amazon.com/awis -->\n",
        "473,333              </strong>]"
       ]
      },
      {
       "output_type": "stream",
       "stream": "stdout",
       "text": [
        "\n",
        "[<strong class=\"metrics-data align-vmiddle\">\n",
        "<!-- Alexa web traffic metrics are available via our API at http://aws.amazon.com/awis -->\n",
        "3,281,013              </strong>]"
       ]
      },
      {
       "output_type": "stream",
       "stream": "stdout",
       "text": [
        "\n",
        "[<strong class=\"metrics-data align-vmiddle\">\n",
        "<!-- Alexa web traffic metrics are available via our API at http://aws.amazon.com/awis -->\n",
        "3,281,013              </strong>]"
       ]
      },
      {
       "output_type": "stream",
       "stream": "stdout",
       "text": [
        "\n",
        "[<strong class=\"metrics-data align-vmiddle\">\n",
        "<!-- Alexa web traffic metrics are available via our API at http://aws.amazon.com/awis -->\n",
        "<span style=\"margin-left: 10px;\">-</span> </strong>]"
       ]
      },
      {
       "output_type": "stream",
       "stream": "stdout",
       "text": [
        "\n",
        "[<strong class=\"metrics-data align-vmiddle\">\n",
        "<!-- Alexa web traffic metrics are available via our API at http://aws.amazon.com/awis -->\n",
        "4,876,732              </strong>]"
       ]
      },
      {
       "output_type": "stream",
       "stream": "stdout",
       "text": [
        "\n",
        "[<strong class=\"metrics-data align-vmiddle\">\n",
        "<!-- Alexa web traffic metrics are available via our API at http://aws.amazon.com/awis -->\n",
        "14,849,712              </strong>]"
       ]
      },
      {
       "output_type": "stream",
       "stream": "stdout",
       "text": [
        "\n",
        "[<strong class=\"metrics-data align-vmiddle\">\n",
        "<!-- Alexa web traffic metrics are available via our API at http://aws.amazon.com/awis -->\n",
        "8,221,254              </strong>]"
       ]
      },
      {
       "output_type": "stream",
       "stream": "stdout",
       "text": [
        "\n",
        "[<strong class=\"metrics-data align-vmiddle\">\n",
        "<!-- Alexa web traffic metrics are available via our API at http://aws.amazon.com/awis -->\n",
        "1,880,263              </strong>]"
       ]
      },
      {
       "output_type": "stream",
       "stream": "stdout",
       "text": [
        "\n",
        "[<strong class=\"metrics-data align-vmiddle\">\n",
        "<!-- Alexa web traffic metrics are available via our API at http://aws.amazon.com/awis -->\n",
        "5,106,090              </strong>]"
       ]
      },
      {
       "output_type": "stream",
       "stream": "stdout",
       "text": [
        "\n",
        "[<strong class=\"metrics-data align-vmiddle\">\n",
        "<!-- Alexa web traffic metrics are available via our API at http://aws.amazon.com/awis -->\n",
        "1,107,837              </strong>]"
       ]
      },
      {
       "output_type": "stream",
       "stream": "stdout",
       "text": [
        "\n",
        "[<strong class=\"metrics-data align-vmiddle\">\n",
        "<!-- Alexa web traffic metrics are available via our API at http://aws.amazon.com/awis -->\n",
        "699,827              </strong>]"
       ]
      },
      {
       "output_type": "stream",
       "stream": "stdout",
       "text": [
        "\n",
        "[<strong class=\"metrics-data align-vmiddle\">\n",
        "<!-- Alexa web traffic metrics are available via our API at http://aws.amazon.com/awis -->\n",
        "1,901,677              </strong>]"
       ]
      },
      {
       "output_type": "stream",
       "stream": "stdout",
       "text": [
        "\n",
        "[<strong class=\"metrics-data align-vmiddle\">\n",
        "<!-- Alexa web traffic metrics are available via our API at http://aws.amazon.com/awis -->\n",
        "10,553,397              </strong>]"
       ]
      },
      {
       "output_type": "stream",
       "stream": "stdout",
       "text": [
        "\n",
        "[<strong class=\"metrics-data align-vmiddle\">\n",
        "<!-- Alexa web traffic metrics are available via our API at http://aws.amazon.com/awis -->\n",
        "<span style=\"margin-left: 10px;\">-</span> </strong>]"
       ]
      },
      {
       "output_type": "stream",
       "stream": "stdout",
       "text": [
        "\n",
        "[<strong class=\"metrics-data align-vmiddle\">\n",
        "<!-- Alexa web traffic metrics are available via our API at http://aws.amazon.com/awis -->\n",
        "10,772,180              </strong>]"
       ]
      },
      {
       "output_type": "stream",
       "stream": "stdout",
       "text": [
        "\n",
        "[<strong class=\"metrics-data align-vmiddle\">\n",
        "<!-- Alexa web traffic metrics are available via our API at http://aws.amazon.com/awis -->\n",
        "<span style=\"margin-left: 10px;\">-</span> </strong>]"
       ]
      },
      {
       "output_type": "stream",
       "stream": "stdout",
       "text": [
        "\n",
        "[<strong class=\"metrics-data align-vmiddle\">\n",
        "<!-- Alexa web traffic metrics are available via our API at http://aws.amazon.com/awis -->\n",
        "5,059,941              </strong>]"
       ]
      },
      {
       "output_type": "stream",
       "stream": "stdout",
       "text": [
        "\n",
        "[<strong class=\"metrics-data align-vmiddle\">\n",
        "<!-- Alexa web traffic metrics are available via our API at http://aws.amazon.com/awis -->\n",
        "<span style=\"margin-left: 10px;\">-</span> </strong>]"
       ]
      },
      {
       "output_type": "stream",
       "stream": "stdout",
       "text": [
        "\n",
        "[<strong class=\"metrics-data align-vmiddle\">\n",
        "<!-- Alexa web traffic metrics are available via our API at http://aws.amazon.com/awis -->\n",
        "15,003,799              </strong>]"
       ]
      },
      {
       "output_type": "stream",
       "stream": "stdout",
       "text": [
        "\n",
        "[<strong class=\"metrics-data align-vmiddle\">\n",
        "<!-- Alexa web traffic metrics are available via our API at http://aws.amazon.com/awis -->\n",
        "<span style=\"margin-left: 10px;\">-</span> </strong>]"
       ]
      },
      {
       "output_type": "stream",
       "stream": "stdout",
       "text": [
        "\n",
        "[<strong class=\"metrics-data align-vmiddle\">\n",
        "<!-- Alexa web traffic metrics are available via our API at http://aws.amazon.com/awis -->\n",
        "<span style=\"margin-left: 10px;\">-</span> </strong>]"
       ]
      },
      {
       "output_type": "stream",
       "stream": "stdout",
       "text": [
        "\n",
        "[<strong class=\"metrics-data align-vmiddle\">\n",
        "<!-- Alexa web traffic metrics are available via our API at http://aws.amazon.com/awis -->\n",
        "902,250              </strong>]"
       ]
      },
      {
       "output_type": "stream",
       "stream": "stdout",
       "text": [
        "\n",
        "[<strong class=\"metrics-data align-vmiddle\">\n",
        "<!-- Alexa web traffic metrics are available via our API at http://aws.amazon.com/awis -->\n",
        "<span style=\"margin-left: 10px;\">-</span> </strong>]"
       ]
      },
      {
       "output_type": "stream",
       "stream": "stdout",
       "text": [
        "\n",
        "[<strong class=\"metrics-data align-vmiddle\">\n",
        "<!-- Alexa web traffic metrics are available via our API at http://aws.amazon.com/awis -->\n",
        "8,387,789              </strong>]"
       ]
      },
      {
       "output_type": "stream",
       "stream": "stdout",
       "text": [
        "\n",
        "[<strong class=\"metrics-data align-vmiddle\">\n",
        "<!-- Alexa web traffic metrics are available via our API at http://aws.amazon.com/awis -->\n",
        "559,156              </strong>]"
       ]
      },
      {
       "output_type": "stream",
       "stream": "stdout",
       "text": [
        "\n",
        "[<strong class=\"metrics-data align-vmiddle\">\n",
        "<!-- Alexa web traffic metrics are available via our API at http://aws.amazon.com/awis -->\n",
        "<span style=\"margin-left: 10px;\">-</span> </strong>]"
       ]
      },
      {
       "output_type": "stream",
       "stream": "stdout",
       "text": [
        "\n",
        "[<strong class=\"metrics-data align-vmiddle\">\n",
        "<!-- Alexa web traffic metrics are available via our API at http://aws.amazon.com/awis -->\n",
        "5,613,429              </strong>]"
       ]
      },
      {
       "output_type": "stream",
       "stream": "stdout",
       "text": [
        "\n",
        "[<strong class=\"metrics-data align-vmiddle\">\n",
        "<!-- Alexa web traffic metrics are available via our API at http://aws.amazon.com/awis -->\n",
        "5,069,724              </strong>]"
       ]
      },
      {
       "output_type": "stream",
       "stream": "stdout",
       "text": [
        "\n",
        "[<strong class=\"metrics-data align-vmiddle\">\n",
        "<!-- Alexa web traffic metrics are available via our API at http://aws.amazon.com/awis -->\n",
        "12,315,602              </strong>]"
       ]
      },
      {
       "output_type": "stream",
       "stream": "stdout",
       "text": [
        "\n",
        "[<strong class=\"metrics-data align-vmiddle\">\n",
        "<!-- Alexa web traffic metrics are available via our API at http://aws.amazon.com/awis -->\n",
        "2,076,220              </strong>]"
       ]
      },
      {
       "output_type": "stream",
       "stream": "stdout",
       "text": [
        "\n",
        "[<strong class=\"metrics-data align-vmiddle\">\n",
        "<!-- Alexa web traffic metrics are available via our API at http://aws.amazon.com/awis -->\n",
        "<span style=\"margin-left: 10px;\">-</span> </strong>]"
       ]
      },
      {
       "output_type": "stream",
       "stream": "stdout",
       "text": [
        "\n",
        "[<strong class=\"metrics-data align-vmiddle\">\n",
        "<!-- Alexa web traffic metrics are available via our API at http://aws.amazon.com/awis -->\n",
        "1,986,551              </strong>]"
       ]
      },
      {
       "output_type": "stream",
       "stream": "stdout",
       "text": [
        "\n",
        "[<strong class=\"metrics-data align-vmiddle\">\n",
        "<!-- Alexa web traffic metrics are available via our API at http://aws.amazon.com/awis -->\n",
        "2,065,269              </strong>]"
       ]
      },
      {
       "output_type": "stream",
       "stream": "stdout",
       "text": [
        "\n",
        "[<strong class=\"metrics-data align-vmiddle\">\n",
        "<!-- Alexa web traffic metrics are available via our API at http://aws.amazon.com/awis -->\n",
        "1,558,260              </strong>]"
       ]
      },
      {
       "output_type": "stream",
       "stream": "stdout",
       "text": [
        "\n",
        "[<strong class=\"metrics-data align-vmiddle\">\n",
        "<!-- Alexa web traffic metrics are available via our API at http://aws.amazon.com/awis -->\n",
        "2,090,023              </strong>]"
       ]
      },
      {
       "output_type": "stream",
       "stream": "stdout",
       "text": [
        "\n",
        "[<strong class=\"metrics-data align-vmiddle\">\n",
        "<!-- Alexa web traffic metrics are available via our API at http://aws.amazon.com/awis -->\n",
        "2,498,853              </strong>]"
       ]
      },
      {
       "output_type": "stream",
       "stream": "stdout",
       "text": [
        "\n",
        "[<strong class=\"metrics-data align-vmiddle\">\n",
        "<!-- Alexa web traffic metrics are available via our API at http://aws.amazon.com/awis -->\n",
        "<span style=\"margin-left: 10px;\">-</span> </strong>]"
       ]
      },
      {
       "output_type": "stream",
       "stream": "stdout",
       "text": [
        "\n",
        "[<strong class=\"metrics-data align-vmiddle\">\n",
        "<!-- Alexa web traffic metrics are available via our API at http://aws.amazon.com/awis -->\n",
        "16,130,735              </strong>]"
       ]
      },
      {
       "output_type": "stream",
       "stream": "stdout",
       "text": [
        "\n",
        "[<strong class=\"metrics-data align-vmiddle\">\n",
        "<!-- Alexa web traffic metrics are available via our API at http://aws.amazon.com/awis -->\n",
        "1,359,193              </strong>]"
       ]
      },
      {
       "output_type": "stream",
       "stream": "stdout",
       "text": [
        "\n",
        "[<strong class=\"metrics-data align-vmiddle\">\n",
        "<!-- Alexa web traffic metrics are available via our API at http://aws.amazon.com/awis -->\n",
        "2,209,011              </strong>]"
       ]
      },
      {
       "output_type": "stream",
       "stream": "stdout",
       "text": [
        "\n",
        "[<strong class=\"metrics-data align-vmiddle\">\n",
        "<!-- Alexa web traffic metrics are available via our API at http://aws.amazon.com/awis -->\n",
        "21,347,240              </strong>]"
       ]
      },
      {
       "output_type": "stream",
       "stream": "stdout",
       "text": [
        "\n",
        "[<strong class=\"metrics-data align-vmiddle\">\n",
        "<!-- Alexa web traffic metrics are available via our API at http://aws.amazon.com/awis -->\n",
        "9,932,145              </strong>]"
       ]
      },
      {
       "output_type": "stream",
       "stream": "stdout",
       "text": [
        "\n",
        "[<strong class=\"metrics-data align-vmiddle\">\n",
        "<!-- Alexa web traffic metrics are available via our API at http://aws.amazon.com/awis -->\n",
        "11,071,677              </strong>]"
       ]
      },
      {
       "output_type": "stream",
       "stream": "stdout",
       "text": [
        "\n",
        "[<strong class=\"metrics-data align-vmiddle\">\n",
        "<!-- Alexa web traffic metrics are available via our API at http://aws.amazon.com/awis -->\n",
        "<span style=\"margin-left: 10px;\">-</span> </strong>]"
       ]
      },
      {
       "output_type": "stream",
       "stream": "stdout",
       "text": [
        "\n",
        "[<strong class=\"metrics-data align-vmiddle\">\n",
        "<!-- Alexa web traffic metrics are available via our API at http://aws.amazon.com/awis -->\n",
        "15,848,131              </strong>]"
       ]
      },
      {
       "output_type": "stream",
       "stream": "stdout",
       "text": [
        "\n",
        "[<strong class=\"metrics-data align-vmiddle\">\n",
        "<!-- Alexa web traffic metrics are available via our API at http://aws.amazon.com/awis -->\n",
        "1,783,938              </strong>]"
       ]
      },
      {
       "output_type": "stream",
       "stream": "stdout",
       "text": [
        "\n",
        "[<strong class=\"metrics-data align-vmiddle\">\n",
        "<!-- Alexa web traffic metrics are available via our API at http://aws.amazon.com/awis -->\n",
        "5,752,018              </strong>]"
       ]
      },
      {
       "output_type": "stream",
       "stream": "stdout",
       "text": [
        "\n",
        "[<strong class=\"metrics-data align-vmiddle\">\n",
        "<!-- Alexa web traffic metrics are available via our API at http://aws.amazon.com/awis -->\n",
        "847,984              </strong>]"
       ]
      },
      {
       "output_type": "stream",
       "stream": "stdout",
       "text": [
        "\n",
        "[<strong class=\"metrics-data align-vmiddle\">\n",
        "<!-- Alexa web traffic metrics are available via our API at http://aws.amazon.com/awis -->\n",
        "1,360              </strong>]"
       ]
      },
      {
       "output_type": "stream",
       "stream": "stdout",
       "text": [
        "\n",
        "[<strong class=\"metrics-data align-vmiddle\">\n",
        "<!-- Alexa web traffic metrics are available via our API at http://aws.amazon.com/awis -->\n",
        "2,209,011              </strong>]"
       ]
      },
      {
       "output_type": "stream",
       "stream": "stdout",
       "text": [
        "\n",
        "[<strong class=\"metrics-data align-vmiddle\">\n",
        "<!-- Alexa web traffic metrics are available via our API at http://aws.amazon.com/awis -->\n",
        "<span style=\"margin-left: 10px;\">-</span> </strong>]"
       ]
      },
      {
       "output_type": "stream",
       "stream": "stdout",
       "text": [
        "\n",
        "[<strong class=\"metrics-data align-vmiddle\">\n",
        "<!-- Alexa web traffic metrics are available via our API at http://aws.amazon.com/awis -->\n",
        "<span style=\"margin-left: 10px;\">-</span> </strong>]"
       ]
      },
      {
       "output_type": "stream",
       "stream": "stdout",
       "text": [
        "\n",
        "[<strong class=\"metrics-data align-vmiddle\">\n",
        "<!-- Alexa web traffic metrics are available via our API at http://aws.amazon.com/awis -->\n",
        "<span style=\"margin-left: 10px;\">-</span> </strong>]"
       ]
      },
      {
       "output_type": "stream",
       "stream": "stdout",
       "text": [
        "\n",
        "[<strong class=\"metrics-data align-vmiddle\">\n",
        "<!-- Alexa web traffic metrics are available via our API at http://aws.amazon.com/awis -->\n",
        "336,424              </strong>]"
       ]
      },
      {
       "output_type": "stream",
       "stream": "stdout",
       "text": [
        "\n",
        "[<strong class=\"metrics-data align-vmiddle\">\n",
        "<!-- Alexa web traffic metrics are available via our API at http://aws.amazon.com/awis -->\n",
        "8,779,555              </strong>]"
       ]
      },
      {
       "output_type": "stream",
       "stream": "stdout",
       "text": [
        "\n",
        "[<strong class=\"metrics-data align-vmiddle\">\n",
        "<!-- Alexa web traffic metrics are available via our API at http://aws.amazon.com/awis -->\n",
        "3,501,071              </strong>]"
       ]
      },
      {
       "output_type": "stream",
       "stream": "stdout",
       "text": [
        "\n",
        "[<strong class=\"metrics-data align-vmiddle\">\n",
        "<!-- Alexa web traffic metrics are available via our API at http://aws.amazon.com/awis -->\n",
        "723,277              </strong>]"
       ]
      },
      {
       "output_type": "stream",
       "stream": "stdout",
       "text": [
        "\n",
        "[<strong class=\"metrics-data align-vmiddle\">\n",
        "<!-- Alexa web traffic metrics are available via our API at http://aws.amazon.com/awis -->\n",
        "157,797              </strong>]"
       ]
      },
      {
       "output_type": "stream",
       "stream": "stdout",
       "text": [
        "\n",
        "[<strong class=\"metrics-data align-vmiddle\">\n",
        "<!-- Alexa web traffic metrics are available via our API at http://aws.amazon.com/awis -->\n",
        "<span style=\"margin-left: 10px;\">-</span> </strong>]"
       ]
      },
      {
       "output_type": "stream",
       "stream": "stdout",
       "text": [
        "\n",
        "[<strong class=\"metrics-data align-vmiddle\">\n",
        "<!-- Alexa web traffic metrics are available via our API at http://aws.amazon.com/awis -->\n",
        "12,432,146              </strong>]"
       ]
      },
      {
       "output_type": "stream",
       "stream": "stdout",
       "text": [
        "\n",
        "[<strong class=\"metrics-data align-vmiddle\">\n",
        "<!-- Alexa web traffic metrics are available via our API at http://aws.amazon.com/awis -->\n",
        "10,312,559              </strong>]"
       ]
      },
      {
       "output_type": "stream",
       "stream": "stdout",
       "text": [
        "\n",
        "[<strong class=\"metrics-data align-vmiddle\">\n",
        "<!-- Alexa web traffic metrics are available via our API at http://aws.amazon.com/awis -->\n",
        "4,663,632              </strong>]"
       ]
      },
      {
       "output_type": "stream",
       "stream": "stdout",
       "text": [
        "\n",
        "[<strong class=\"metrics-data align-vmiddle\">\n",
        "<!-- Alexa web traffic metrics are available via our API at http://aws.amazon.com/awis -->\n",
        "<span style=\"margin-left: 10px;\">-</span> </strong>]"
       ]
      },
      {
       "output_type": "stream",
       "stream": "stdout",
       "text": [
        "\n",
        "[<strong class=\"metrics-data align-vmiddle\">\n",
        "<!-- Alexa web traffic metrics are available via our API at http://aws.amazon.com/awis -->\n",
        "<span style=\"margin-left: 10px;\">-</span> </strong>]"
       ]
      },
      {
       "output_type": "stream",
       "stream": "stdout",
       "text": [
        "\n",
        "[<strong class=\"metrics-data align-vmiddle\">\n",
        "<!-- Alexa web traffic metrics are available via our API at http://aws.amazon.com/awis -->\n",
        "<span style=\"margin-left: 10px;\">-</span> </strong>]"
       ]
      },
      {
       "output_type": "stream",
       "stream": "stdout",
       "text": [
        "\n",
        "[<strong class=\"metrics-data align-vmiddle\">\n",
        "<!-- Alexa web traffic metrics are available via our API at http://aws.amazon.com/awis -->\n",
        "6,109,955              </strong>]"
       ]
      },
      {
       "output_type": "stream",
       "stream": "stdout",
       "text": [
        "\n",
        "[<strong class=\"metrics-data align-vmiddle\">\n",
        "<!-- Alexa web traffic metrics are available via our API at http://aws.amazon.com/awis -->\n",
        "12,682              </strong>]"
       ]
      },
      {
       "output_type": "stream",
       "stream": "stdout",
       "text": [
        "\n",
        "[<strong class=\"metrics-data align-vmiddle\">\n",
        "<!-- Alexa web traffic metrics are available via our API at http://aws.amazon.com/awis -->\n",
        "<span style=\"margin-left: 10px;\">-</span> </strong>]"
       ]
      },
      {
       "output_type": "stream",
       "stream": "stdout",
       "text": [
        "\n",
        "[<strong class=\"metrics-data align-vmiddle\">\n",
        "<!-- Alexa web traffic metrics are available via our API at http://aws.amazon.com/awis -->\n",
        "<span style=\"margin-left: 10px;\">-</span> </strong>]"
       ]
      },
      {
       "output_type": "stream",
       "stream": "stdout",
       "text": [
        "\n",
        "[<strong class=\"metrics-data align-vmiddle\">\n",
        "<!-- Alexa web traffic metrics are available via our API at http://aws.amazon.com/awis -->\n",
        "1,901,677              </strong>]"
       ]
      },
      {
       "output_type": "stream",
       "stream": "stdout",
       "text": [
        "\n",
        "[<strong class=\"metrics-data align-vmiddle\">\n",
        "<!-- Alexa web traffic metrics are available via our API at http://aws.amazon.com/awis -->\n",
        "<span style=\"margin-left: 10px;\">-</span> </strong>]"
       ]
      },
      {
       "output_type": "stream",
       "stream": "stdout",
       "text": [
        "\n",
        "[<strong class=\"metrics-data align-vmiddle\">\n",
        "<!-- Alexa web traffic metrics are available via our API at http://aws.amazon.com/awis -->\n",
        "<span style=\"margin-left: 10px;\">-</span> </strong>]"
       ]
      },
      {
       "output_type": "stream",
       "stream": "stdout",
       "text": [
        "\n",
        "[<strong class=\"metrics-data align-vmiddle\">\n",
        "<!-- Alexa web traffic metrics are available via our API at http://aws.amazon.com/awis -->\n",
        "<span style=\"margin-left: 10px;\">-</span> </strong>]"
       ]
      },
      {
       "output_type": "stream",
       "stream": "stdout",
       "text": [
        "\n",
        "[<strong class=\"metrics-data align-vmiddle\">\n",
        "<!-- Alexa web traffic metrics are available via our API at http://aws.amazon.com/awis -->\n",
        "<span style=\"margin-left: 10px;\">-</span> </strong>]"
       ]
      },
      {
       "output_type": "stream",
       "stream": "stdout",
       "text": [
        "\n",
        "[<strong class=\"metrics-data align-vmiddle\">\n",
        "<!-- Alexa web traffic metrics are available via our API at http://aws.amazon.com/awis -->\n",
        "<span style=\"margin-left: 10px;\">-</span> </strong>]"
       ]
      },
      {
       "output_type": "stream",
       "stream": "stdout",
       "text": [
        "\n",
        "[<strong class=\"metrics-data align-vmiddle\">\n",
        "<!-- Alexa web traffic metrics are available via our API at http://aws.amazon.com/awis -->\n",
        "17,715,910              </strong>]"
       ]
      },
      {
       "output_type": "stream",
       "stream": "stdout",
       "text": [
        "\n",
        "[<strong class=\"metrics-data align-vmiddle\">\n",
        "<!-- Alexa web traffic metrics are available via our API at http://aws.amazon.com/awis -->\n",
        "<span style=\"margin-left: 10px;\">-</span> </strong>]"
       ]
      },
      {
       "output_type": "stream",
       "stream": "stdout",
       "text": [
        "\n",
        "[<strong class=\"metrics-data align-vmiddle\">\n",
        "<!-- Alexa web traffic metrics are available via our API at http://aws.amazon.com/awis -->\n",
        "880,940              </strong>]"
       ]
      },
      {
       "output_type": "stream",
       "stream": "stdout",
       "text": [
        "\n",
        "[<strong class=\"metrics-data align-vmiddle\">\n",
        "<!-- Alexa web traffic metrics are available via our API at http://aws.amazon.com/awis -->\n",
        "1,500,641              </strong>]"
       ]
      },
      {
       "output_type": "stream",
       "stream": "stdout",
       "text": [
        "\n",
        "[<strong class=\"metrics-data align-vmiddle\">\n",
        "<!-- Alexa web traffic metrics are available via our API at http://aws.amazon.com/awis -->\n",
        "3,543,847              </strong>]"
       ]
      },
      {
       "output_type": "stream",
       "stream": "stdout",
       "text": [
        "\n",
        "[<strong class=\"metrics-data align-vmiddle\">\n",
        "<!-- Alexa web traffic metrics are available via our API at http://aws.amazon.com/awis -->\n",
        "1,670,740              </strong>]"
       ]
      },
      {
       "output_type": "stream",
       "stream": "stdout",
       "text": [
        "\n",
        "[<strong class=\"metrics-data align-vmiddle\">\n",
        "<!-- Alexa web traffic metrics are available via our API at http://aws.amazon.com/awis -->\n",
        "479,099              </strong>]"
       ]
      },
      {
       "output_type": "stream",
       "stream": "stdout",
       "text": [
        "\n",
        "[<strong class=\"metrics-data align-vmiddle\">\n",
        "<!-- Alexa web traffic metrics are available via our API at http://aws.amazon.com/awis -->\n",
        "3,793,567              </strong>]"
       ]
      },
      {
       "output_type": "stream",
       "stream": "stdout",
       "text": [
        "\n",
        "[<strong class=\"metrics-data align-vmiddle\">\n",
        "<!-- Alexa web traffic metrics are available via our API at http://aws.amazon.com/awis -->\n",
        "<span style=\"margin-left: 10px;\">-</span> </strong>]"
       ]
      },
      {
       "output_type": "stream",
       "stream": "stdout",
       "text": [
        "\n",
        "[<strong class=\"metrics-data align-vmiddle\">\n",
        "<!-- Alexa web traffic metrics are available via our API at http://aws.amazon.com/awis -->\n",
        "<span style=\"margin-left: 10px;\">-</span> </strong>]"
       ]
      },
      {
       "output_type": "stream",
       "stream": "stdout",
       "text": [
        "\n",
        "[<strong class=\"metrics-data align-vmiddle\">\n",
        "<!-- Alexa web traffic metrics are available via our API at http://aws.amazon.com/awis -->\n",
        "2,512,306              </strong>]"
       ]
      },
      {
       "output_type": "stream",
       "stream": "stdout",
       "text": [
        "\n",
        "[<strong class=\"metrics-data align-vmiddle\">\n",
        "<!-- Alexa web traffic metrics are available via our API at http://aws.amazon.com/awis -->\n",
        "2,994,611              </strong>]"
       ]
      },
      {
       "output_type": "stream",
       "stream": "stdout",
       "text": [
        "\n",
        "[<strong class=\"metrics-data align-vmiddle\">\n",
        "<!-- Alexa web traffic metrics are available via our API at http://aws.amazon.com/awis -->\n",
        "<span style=\"margin-left: 10px;\">-</span> </strong>]"
       ]
      },
      {
       "output_type": "stream",
       "stream": "stdout",
       "text": [
        "\n",
        "[<strong class=\"metrics-data align-vmiddle\">\n",
        "<!-- Alexa web traffic metrics are available via our API at http://aws.amazon.com/awis -->\n",
        "<span style=\"margin-left: 10px;\">-</span> </strong>]"
       ]
      },
      {
       "output_type": "stream",
       "stream": "stdout",
       "text": [
        "\n",
        "[<strong class=\"metrics-data align-vmiddle\">\n",
        "<!-- Alexa web traffic metrics are available via our API at http://aws.amazon.com/awis -->\n",
        "366,597              </strong>]"
       ]
      },
      {
       "output_type": "stream",
       "stream": "stdout",
       "text": [
        "\n",
        "[<strong class=\"metrics-data align-vmiddle\">\n",
        "<!-- Alexa web traffic metrics are available via our API at http://aws.amazon.com/awis -->\n",
        "18,961,769              </strong>]"
       ]
      },
      {
       "output_type": "stream",
       "stream": "stdout",
       "text": [
        "\n",
        "[<strong class=\"metrics-data align-vmiddle\">\n",
        "<!-- Alexa web traffic metrics are available via our API at http://aws.amazon.com/awis -->\n",
        "2,244              </strong>]"
       ]
      },
      {
       "output_type": "stream",
       "stream": "stdout",
       "text": [
        "\n",
        "[<strong class=\"metrics-data align-vmiddle\">\n",
        "<!-- Alexa web traffic metrics are available via our API at http://aws.amazon.com/awis -->\n",
        "15,848,135              </strong>]"
       ]
      },
      {
       "output_type": "stream",
       "stream": "stdout",
       "text": [
        "\n",
        "[<strong class=\"metrics-data align-vmiddle\">\n",
        "<!-- Alexa web traffic metrics are available via our API at http://aws.amazon.com/awis -->\n",
        "4,255,984              </strong>]"
       ]
      },
      {
       "output_type": "stream",
       "stream": "stdout",
       "text": [
        "\n",
        "[<strong class=\"metrics-data align-vmiddle\">\n",
        "<!-- Alexa web traffic metrics are available via our API at http://aws.amazon.com/awis -->\n",
        "<span style=\"margin-left: 10px;\">-</span> </strong>]"
       ]
      },
      {
       "output_type": "stream",
       "stream": "stdout",
       "text": [
        "\n",
        "[<strong class=\"metrics-data align-vmiddle\">\n",
        "<!-- Alexa web traffic metrics are available via our API at http://aws.amazon.com/awis -->\n",
        "803,330              </strong>]"
       ]
      },
      {
       "output_type": "stream",
       "stream": "stdout",
       "text": [
        "\n",
        "[<strong class=\"metrics-data align-vmiddle\">\n",
        "<!-- Alexa web traffic metrics are available via our API at http://aws.amazon.com/awis -->\n",
        "<span style=\"margin-left: 10px;\">-</span> </strong>]"
       ]
      },
      {
       "output_type": "stream",
       "stream": "stdout",
       "text": [
        "\n",
        "[<strong class=\"metrics-data align-vmiddle\">\n",
        "<!-- Alexa web traffic metrics are available via our API at http://aws.amazon.com/awis -->\n",
        "4,489,713              </strong>]"
       ]
      },
      {
       "output_type": "stream",
       "stream": "stdout",
       "text": [
        "\n",
        "[<strong class=\"metrics-data align-vmiddle\">\n",
        "<!-- Alexa web traffic metrics are available via our API at http://aws.amazon.com/awis -->\n",
        "<span style=\"margin-left: 10px;\">-</span> </strong>]"
       ]
      },
      {
       "output_type": "stream",
       "stream": "stdout",
       "text": [
        "\n",
        "[<strong class=\"metrics-data align-vmiddle\">\n",
        "<!-- Alexa web traffic metrics are available via our API at http://aws.amazon.com/awis -->\n",
        "7,807,710              </strong>]"
       ]
      },
      {
       "output_type": "stream",
       "stream": "stdout",
       "text": [
        "\n",
        "[<strong class=\"metrics-data align-vmiddle\">\n",
        "<!-- Alexa web traffic metrics are available via our API at http://aws.amazon.com/awis -->\n",
        "4,321,933              </strong>]"
       ]
      },
      {
       "output_type": "stream",
       "stream": "stdout",
       "text": [
        "\n",
        "[<strong class=\"metrics-data align-vmiddle\">\n",
        "<!-- Alexa web traffic metrics are available via our API at http://aws.amazon.com/awis -->\n",
        "629,731              </strong>]"
       ]
      },
      {
       "output_type": "stream",
       "stream": "stdout",
       "text": [
        "\n",
        "[<strong class=\"metrics-data align-vmiddle\">\n",
        "<!-- Alexa web traffic metrics are available via our API at http://aws.amazon.com/awis -->\n",
        "<span style=\"margin-left: 10px;\">-</span> </strong>]"
       ]
      },
      {
       "output_type": "stream",
       "stream": "stdout",
       "text": [
        "\n",
        "[<strong class=\"metrics-data align-vmiddle\">\n",
        "<!-- Alexa web traffic metrics are available via our API at http://aws.amazon.com/awis -->\n",
        "9,878,613              </strong>]"
       ]
      },
      {
       "output_type": "stream",
       "stream": "stdout",
       "text": [
        "\n",
        "[<strong class=\"metrics-data align-vmiddle\">\n",
        "<!-- Alexa web traffic metrics are available via our API at http://aws.amazon.com/awis -->\n",
        "295,586              </strong>]"
       ]
      },
      {
       "output_type": "stream",
       "stream": "stdout",
       "text": [
        "\n",
        "[<strong class=\"metrics-data align-vmiddle\">\n",
        "<!-- Alexa web traffic metrics are available via our API at http://aws.amazon.com/awis -->\n",
        "6,398,296              </strong>]"
       ]
      },
      {
       "output_type": "stream",
       "stream": "stdout",
       "text": [
        "\n",
        "[<strong class=\"metrics-data align-vmiddle\">\n",
        "<!-- Alexa web traffic metrics are available via our API at http://aws.amazon.com/awis -->\n",
        "2,044,538              </strong>]"
       ]
      },
      {
       "output_type": "stream",
       "stream": "stdout",
       "text": [
        "\n",
        "[<strong class=\"metrics-data align-vmiddle\">\n",
        "<!-- Alexa web traffic metrics are available via our API at http://aws.amazon.com/awis -->\n",
        "<span style=\"margin-left: 10px;\">-</span> </strong>]"
       ]
      },
      {
       "output_type": "stream",
       "stream": "stdout",
       "text": [
        "\n",
        "[<strong class=\"metrics-data align-vmiddle\">\n",
        "<!-- Alexa web traffic metrics are available via our API at http://aws.amazon.com/awis -->\n",
        "1,776,361              </strong>]"
       ]
      },
      {
       "output_type": "stream",
       "stream": "stdout",
       "text": [
        "\n",
        "[<strong class=\"metrics-data align-vmiddle\">\n",
        "<!-- Alexa web traffic metrics are available via our API at http://aws.amazon.com/awis -->\n",
        "10,602,936              </strong>]"
       ]
      },
      {
       "output_type": "stream",
       "stream": "stdout",
       "text": [
        "\n",
        "[<strong class=\"metrics-data align-vmiddle\">\n",
        "<!-- Alexa web traffic metrics are available via our API at http://aws.amazon.com/awis -->\n",
        "885,246              </strong>]"
       ]
      },
      {
       "output_type": "stream",
       "stream": "stdout",
       "text": [
        "\n",
        "[<strong class=\"metrics-data align-vmiddle\">\n",
        "<!-- Alexa web traffic metrics are available via our API at http://aws.amazon.com/awis -->\n",
        "7,962,683              </strong>]"
       ]
      },
      {
       "output_type": "stream",
       "stream": "stdout",
       "text": [
        "\n",
        "[<strong class=\"metrics-data align-vmiddle\">\n",
        "<!-- Alexa web traffic metrics are available via our API at http://aws.amazon.com/awis -->\n",
        "3,467,294              </strong>]"
       ]
      },
      {
       "output_type": "stream",
       "stream": "stdout",
       "text": [
        "\n",
        "[<strong class=\"metrics-data align-vmiddle\">\n",
        "<!-- Alexa web traffic metrics are available via our API at http://aws.amazon.com/awis -->\n",
        "18,935,241              </strong>]"
       ]
      },
      {
       "output_type": "stream",
       "stream": "stdout",
       "text": [
        "\n",
        "[<strong class=\"metrics-data align-vmiddle\">\n",
        "<!-- Alexa web traffic metrics are available via our API at http://aws.amazon.com/awis -->\n",
        "9,429,380              </strong>]"
       ]
      },
      {
       "output_type": "stream",
       "stream": "stdout",
       "text": [
        "\n",
        "[<strong class=\"metrics-data align-vmiddle\">\n",
        "<!-- Alexa web traffic metrics are available via our API at http://aws.amazon.com/awis -->\n",
        "5,829,167              </strong>]"
       ]
      },
      {
       "output_type": "stream",
       "stream": "stdout",
       "text": [
        "\n",
        "[<strong class=\"metrics-data align-vmiddle\">\n",
        "<!-- Alexa web traffic metrics are available via our API at http://aws.amazon.com/awis -->\n",
        "3,744,799              </strong>]"
       ]
      },
      {
       "output_type": "stream",
       "stream": "stdout",
       "text": [
        "\n",
        "[<strong class=\"metrics-data align-vmiddle\">\n",
        "<!-- Alexa web traffic metrics are available via our API at http://aws.amazon.com/awis -->\n",
        "<span style=\"margin-left: 10px;\">-</span> </strong>]"
       ]
      },
      {
       "output_type": "stream",
       "stream": "stdout",
       "text": [
        "\n",
        "[<strong class=\"metrics-data align-vmiddle\">\n",
        "<!-- Alexa web traffic metrics are available via our API at http://aws.amazon.com/awis -->\n",
        "<span style=\"margin-left: 10px;\">-</span> </strong>]"
       ]
      },
      {
       "output_type": "stream",
       "stream": "stdout",
       "text": [
        "\n",
        "[<strong class=\"metrics-data align-vmiddle\">\n",
        "<!-- Alexa web traffic metrics are available via our API at http://aws.amazon.com/awis -->\n",
        "3,785,319              </strong>]"
       ]
      },
      {
       "output_type": "stream",
       "stream": "stdout",
       "text": [
        "\n",
        "[<strong class=\"metrics-data align-vmiddle\">\n",
        "<!-- Alexa web traffic metrics are available via our API at http://aws.amazon.com/awis -->\n",
        "<span style=\"margin-left: 10px;\">-</span> </strong>]"
       ]
      },
      {
       "output_type": "stream",
       "stream": "stdout",
       "text": [
        "\n",
        "[<strong class=\"metrics-data align-vmiddle\">\n",
        "<!-- Alexa web traffic metrics are available via our API at http://aws.amazon.com/awis -->\n",
        "<span style=\"margin-left: 10px;\">-</span> </strong>]"
       ]
      },
      {
       "output_type": "stream",
       "stream": "stdout",
       "text": [
        "\n",
        "[<strong class=\"metrics-data align-vmiddle\">\n",
        "<!-- Alexa web traffic metrics are available via our API at http://aws.amazon.com/awis -->\n",
        "3,982,625              </strong>]"
       ]
      },
      {
       "output_type": "stream",
       "stream": "stdout",
       "text": [
        "\n",
        "[<strong class=\"metrics-data align-vmiddle\">\n",
        "<!-- Alexa web traffic metrics are available via our API at http://aws.amazon.com/awis -->\n",
        "3,443,724              </strong>]"
       ]
      },
      {
       "output_type": "stream",
       "stream": "stdout",
       "text": [
        "\n",
        "[<strong class=\"metrics-data align-vmiddle\">\n",
        "<!-- Alexa web traffic metrics are available via our API at http://aws.amazon.com/awis -->\n",
        "1,666,545              </strong>]"
       ]
      },
      {
       "output_type": "stream",
       "stream": "stdout",
       "text": [
        "\n",
        "[<strong class=\"metrics-data align-vmiddle\">\n",
        "<!-- Alexa web traffic metrics are available via our API at http://aws.amazon.com/awis -->\n",
        "14,647,530              </strong>]"
       ]
      },
      {
       "output_type": "stream",
       "stream": "stdout",
       "text": [
        "\n",
        "[<strong class=\"metrics-data align-vmiddle\">\n",
        "<!-- Alexa web traffic metrics are available via our API at http://aws.amazon.com/awis -->\n",
        "1,667,478              </strong>]"
       ]
      },
      {
       "output_type": "stream",
       "stream": "stdout",
       "text": [
        "\n",
        "[<strong class=\"metrics-data align-vmiddle\">\n",
        "<!-- Alexa web traffic metrics are available via our API at http://aws.amazon.com/awis -->\n",
        "4,994,605              </strong>]"
       ]
      },
      {
       "output_type": "stream",
       "stream": "stdout",
       "text": [
        "\n",
        "[<strong class=\"metrics-data align-vmiddle\">\n",
        "<!-- Alexa web traffic metrics are available via our API at http://aws.amazon.com/awis -->\n",
        "4,029,632              </strong>]"
       ]
      },
      {
       "output_type": "stream",
       "stream": "stdout",
       "text": [
        "\n",
        "[<strong class=\"metrics-data align-vmiddle\">\n",
        "<!-- Alexa web traffic metrics are available via our API at http://aws.amazon.com/awis -->\n",
        "16,626,661              </strong>]"
       ]
      },
      {
       "output_type": "stream",
       "stream": "stdout",
       "text": [
        "\n",
        "[<strong class=\"metrics-data align-vmiddle\">\n",
        "<!-- Alexa web traffic metrics are available via our API at http://aws.amazon.com/awis -->\n",
        "1,583,763              </strong>]"
       ]
      },
      {
       "output_type": "stream",
       "stream": "stdout",
       "text": [
        "\n",
        "[<strong class=\"metrics-data align-vmiddle\">\n",
        "<!-- Alexa web traffic metrics are available via our API at http://aws.amazon.com/awis -->\n",
        "<span style=\"margin-left: 10px;\">-</span> </strong>]"
       ]
      },
      {
       "output_type": "stream",
       "stream": "stdout",
       "text": [
        "\n",
        "[<strong class=\"metrics-data align-vmiddle\">\n",
        "<!-- Alexa web traffic metrics are available via our API at http://aws.amazon.com/awis -->\n",
        "<span style=\"margin-left: 10px;\">-</span> </strong>]"
       ]
      },
      {
       "output_type": "stream",
       "stream": "stdout",
       "text": [
        "\n",
        "[<strong class=\"metrics-data align-vmiddle\">\n",
        "<!-- Alexa web traffic metrics are available via our API at http://aws.amazon.com/awis -->\n",
        "1,080,900              </strong>]"
       ]
      },
      {
       "output_type": "stream",
       "stream": "stdout",
       "text": [
        "\n",
        "[<strong class=\"metrics-data align-vmiddle\">\n",
        "<!-- Alexa web traffic metrics are available via our API at http://aws.amazon.com/awis -->\n",
        "22,267,650              </strong>]"
       ]
      },
      {
       "output_type": "stream",
       "stream": "stdout",
       "text": [
        "\n",
        "[<strong class=\"metrics-data align-vmiddle\">\n",
        "<!-- Alexa web traffic metrics are available via our API at http://aws.amazon.com/awis -->\n",
        "8,988,928              </strong>]"
       ]
      },
      {
       "output_type": "stream",
       "stream": "stdout",
       "text": [
        "\n",
        "[<strong class=\"metrics-data align-vmiddle\">\n",
        "<!-- Alexa web traffic metrics are available via our API at http://aws.amazon.com/awis -->\n",
        "9,217,522              </strong>]"
       ]
      },
      {
       "output_type": "stream",
       "stream": "stdout",
       "text": [
        "\n",
        "[<strong class=\"metrics-data align-vmiddle\">\n",
        "<!-- Alexa web traffic metrics are available via our API at http://aws.amazon.com/awis -->\n",
        "2,106,303              </strong>]"
       ]
      },
      {
       "output_type": "stream",
       "stream": "stdout",
       "text": [
        "\n",
        "[<strong class=\"metrics-data align-vmiddle\">\n",
        "<!-- Alexa web traffic metrics are available via our API at http://aws.amazon.com/awis -->\n",
        "11,137,463              </strong>]"
       ]
      },
      {
       "output_type": "stream",
       "stream": "stdout",
       "text": [
        "\n",
        "[<strong class=\"metrics-data align-vmiddle\">\n",
        "<!-- Alexa web traffic metrics are available via our API at http://aws.amazon.com/awis -->\n",
        "<span style=\"margin-left: 10px;\">-</span> </strong>]"
       ]
      },
      {
       "output_type": "stream",
       "stream": "stdout",
       "text": [
        "\n",
        "[<strong class=\"metrics-data align-vmiddle\">\n",
        "<!-- Alexa web traffic metrics are available via our API at http://aws.amazon.com/awis -->\n",
        "4,869,092              </strong>]"
       ]
      },
      {
       "output_type": "stream",
       "stream": "stdout",
       "text": [
        "\n",
        "[<strong class=\"metrics-data align-vmiddle\">\n",
        "<!-- Alexa web traffic metrics are available via our API at http://aws.amazon.com/awis -->\n",
        "<span style=\"margin-left: 10px;\">-</span> </strong>]"
       ]
      },
      {
       "output_type": "stream",
       "stream": "stdout",
       "text": [
        "\n",
        "[<strong class=\"metrics-data align-vmiddle\">\n",
        "<!-- Alexa web traffic metrics are available via our API at http://aws.amazon.com/awis -->\n",
        "4,284,369              </strong>]"
       ]
      },
      {
       "output_type": "stream",
       "stream": "stdout",
       "text": [
        "\n",
        "[<strong class=\"metrics-data align-vmiddle\">\n",
        "<!-- Alexa web traffic metrics are available via our API at http://aws.amazon.com/awis -->\n",
        "7,389,744              </strong>]"
       ]
      },
      {
       "output_type": "stream",
       "stream": "stdout",
       "text": [
        "\n",
        "[<strong class=\"metrics-data align-vmiddle\">\n",
        "<!-- Alexa web traffic metrics are available via our API at http://aws.amazon.com/awis -->\n",
        "5,720,318              </strong>]"
       ]
      },
      {
       "output_type": "stream",
       "stream": "stdout",
       "text": [
        "\n",
        "[<strong class=\"metrics-data align-vmiddle\">\n",
        "<!-- Alexa web traffic metrics are available via our API at http://aws.amazon.com/awis -->\n",
        "<span style=\"margin-left: 10px;\">-</span> </strong>]"
       ]
      },
      {
       "output_type": "stream",
       "stream": "stdout",
       "text": [
        "\n",
        "[<strong class=\"metrics-data align-vmiddle\">\n",
        "<!-- Alexa web traffic metrics are available via our API at http://aws.amazon.com/awis -->\n",
        "8,629,260              </strong>]"
       ]
      },
      {
       "output_type": "stream",
       "stream": "stdout",
       "text": [
        "\n",
        "[<strong class=\"metrics-data align-vmiddle\">\n",
        "<!-- Alexa web traffic metrics are available via our API at http://aws.amazon.com/awis -->\n",
        "<span style=\"margin-left: 10px;\">-</span> </strong>]"
       ]
      },
      {
       "output_type": "stream",
       "stream": "stdout",
       "text": [
        "\n",
        "[<strong class=\"metrics-data align-vmiddle\">\n",
        "<!-- Alexa web traffic metrics are available via our API at http://aws.amazon.com/awis -->\n",
        "12,277,347              </strong>]"
       ]
      },
      {
       "output_type": "stream",
       "stream": "stdout",
       "text": [
        "\n",
        "[<strong class=\"metrics-data align-vmiddle\">\n",
        "<!-- Alexa web traffic metrics are available via our API at http://aws.amazon.com/awis -->\n",
        "19,180,395              </strong>]"
       ]
      },
      {
       "output_type": "stream",
       "stream": "stdout",
       "text": [
        "\n",
        "[<strong class=\"metrics-data align-vmiddle\">\n",
        "<!-- Alexa web traffic metrics are available via our API at http://aws.amazon.com/awis -->\n",
        "<span style=\"margin-left: 10px;\">-</span> </strong>]"
       ]
      },
      {
       "output_type": "stream",
       "stream": "stdout",
       "text": [
        "\n",
        "[<strong class=\"metrics-data align-vmiddle\">\n",
        "<!-- Alexa web traffic metrics are available via our API at http://aws.amazon.com/awis -->\n",
        "1,080,134              </strong>]"
       ]
      },
      {
       "output_type": "stream",
       "stream": "stdout",
       "text": [
        "\n",
        "[<strong class=\"metrics-data align-vmiddle\">\n",
        "<!-- Alexa web traffic metrics are available via our API at http://aws.amazon.com/awis -->\n",
        "13,175,840              </strong>]"
       ]
      },
      {
       "output_type": "stream",
       "stream": "stdout",
       "text": [
        "\n",
        "[<strong class=\"metrics-data align-vmiddle\">\n",
        "<!-- Alexa web traffic metrics are available via our API at http://aws.amazon.com/awis -->\n",
        "<span style=\"margin-left: 10px;\">-</span> </strong>]"
       ]
      },
      {
       "output_type": "stream",
       "stream": "stdout",
       "text": [
        "\n",
        "[<strong class=\"metrics-data align-vmiddle\">\n",
        "<!-- Alexa web traffic metrics are available via our API at http://aws.amazon.com/awis -->\n",
        "<span style=\"margin-left: 10px;\">-</span> </strong>]"
       ]
      },
      {
       "output_type": "stream",
       "stream": "stdout",
       "text": [
        "\n",
        "[<strong class=\"metrics-data align-vmiddle\">\n",
        "<!-- Alexa web traffic metrics are available via our API at http://aws.amazon.com/awis -->\n",
        "8,666,116              </strong>]"
       ]
      },
      {
       "output_type": "stream",
       "stream": "stdout",
       "text": [
        "\n",
        "[<strong class=\"metrics-data align-vmiddle\">\n",
        "<!-- Alexa web traffic metrics are available via our API at http://aws.amazon.com/awis -->\n",
        "27,118              </strong>]"
       ]
      },
      {
       "output_type": "stream",
       "stream": "stdout",
       "text": [
        "\n",
        "[<strong class=\"metrics-data align-vmiddle\">\n",
        "<!-- Alexa web traffic metrics are available via our API at http://aws.amazon.com/awis -->\n",
        "<span style=\"margin-left: 10px;\">-</span> </strong>]"
       ]
      },
      {
       "output_type": "stream",
       "stream": "stdout",
       "text": [
        "\n",
        "[<strong class=\"metrics-data align-vmiddle\">\n",
        "<!-- Alexa web traffic metrics are available via our API at http://aws.amazon.com/awis -->\n",
        "5,846,100              </strong>]"
       ]
      },
      {
       "output_type": "stream",
       "stream": "stdout",
       "text": [
        "\n",
        "[<strong class=\"metrics-data align-vmiddle\">\n",
        "<!-- Alexa web traffic metrics are available via our API at http://aws.amazon.com/awis -->\n",
        "2,633,269              </strong>]"
       ]
      },
      {
       "output_type": "stream",
       "stream": "stdout",
       "text": [
        "\n",
        "[<strong class=\"metrics-data align-vmiddle\">\n",
        "<!-- Alexa web traffic metrics are available via our API at http://aws.amazon.com/awis -->\n",
        "672,642              </strong>]"
       ]
      },
      {
       "output_type": "stream",
       "stream": "stdout",
       "text": [
        "\n",
        "[<strong class=\"metrics-data align-vmiddle\">\n",
        "<!-- Alexa web traffic metrics are available via our API at http://aws.amazon.com/awis -->\n",
        "15,457,399              </strong>]"
       ]
      },
      {
       "output_type": "stream",
       "stream": "stdout",
       "text": [
        "\n",
        "[<strong class=\"metrics-data align-vmiddle\">\n",
        "<!-- Alexa web traffic metrics are available via our API at http://aws.amazon.com/awis -->\n",
        "15,848,148              </strong>]"
       ]
      },
      {
       "output_type": "stream",
       "stream": "stdout",
       "text": [
        "\n",
        "[<strong class=\"metrics-data align-vmiddle\">\n",
        "<!-- Alexa web traffic metrics are available via our API at http://aws.amazon.com/awis -->\n",
        "8,523,365              </strong>]"
       ]
      },
      {
       "output_type": "stream",
       "stream": "stdout",
       "text": [
        "\n",
        "[<strong class=\"metrics-data align-vmiddle\">\n",
        "<!-- Alexa web traffic metrics are available via our API at http://aws.amazon.com/awis -->\n",
        "5,885,876              </strong>]"
       ]
      },
      {
       "output_type": "stream",
       "stream": "stdout",
       "text": [
        "\n",
        "[<strong class=\"metrics-data align-vmiddle\">\n",
        "<!-- Alexa web traffic metrics are available via our API at http://aws.amazon.com/awis -->\n",
        "8,865,048              </strong>]"
       ]
      },
      {
       "output_type": "stream",
       "stream": "stdout",
       "text": [
        "\n",
        "[<strong class=\"metrics-data align-vmiddle\">\n",
        "<!-- Alexa web traffic metrics are available via our API at http://aws.amazon.com/awis -->\n",
        "<span style=\"margin-left: 10px;\">-</span> </strong>]"
       ]
      },
      {
       "output_type": "stream",
       "stream": "stdout",
       "text": [
        "\n",
        "[<strong class=\"metrics-data align-vmiddle\">\n",
        "<!-- Alexa web traffic metrics are available via our API at http://aws.amazon.com/awis -->\n",
        "1,666,582              </strong>]"
       ]
      },
      {
       "output_type": "stream",
       "stream": "stdout",
       "text": [
        "\n",
        "[<strong class=\"metrics-data align-vmiddle\">\n",
        "<!-- Alexa web traffic metrics are available via our API at http://aws.amazon.com/awis -->\n",
        "3,106,400              </strong>]"
       ]
      },
      {
       "output_type": "stream",
       "stream": "stdout",
       "text": [
        "\n",
        "[<strong class=\"metrics-data align-vmiddle\">\n",
        "<!-- Alexa web traffic metrics are available via our API at http://aws.amazon.com/awis -->\n",
        "3,348,041              </strong>]"
       ]
      },
      {
       "output_type": "stream",
       "stream": "stdout",
       "text": [
        "\n",
        "[<strong class=\"metrics-data align-vmiddle\">\n",
        "<!-- Alexa web traffic metrics are available via our API at http://aws.amazon.com/awis -->\n",
        "11,877,016              </strong>]"
       ]
      },
      {
       "output_type": "stream",
       "stream": "stdout",
       "text": [
        "\n",
        "[<strong class=\"metrics-data align-vmiddle\">\n",
        "<!-- Alexa web traffic metrics are available via our API at http://aws.amazon.com/awis -->\n",
        "1,179,715              </strong>]"
       ]
      },
      {
       "output_type": "stream",
       "stream": "stdout",
       "text": [
        "\n",
        "[<strong class=\"metrics-data align-vmiddle\">\n",
        "<!-- Alexa web traffic metrics are available via our API at http://aws.amazon.com/awis -->\n",
        "<span style=\"margin-left: 10px;\">-</span> </strong>]"
       ]
      },
      {
       "output_type": "stream",
       "stream": "stdout",
       "text": [
        "\n",
        "[<strong class=\"metrics-data align-vmiddle\">\n",
        "<!-- Alexa web traffic metrics are available via our API at http://aws.amazon.com/awis -->\n",
        "10,982,072              </strong>]"
       ]
      },
      {
       "output_type": "stream",
       "stream": "stdout",
       "text": [
        "\n",
        "[<strong class=\"metrics-data align-vmiddle\">\n",
        "<!-- Alexa web traffic metrics are available via our API at http://aws.amazon.com/awis -->\n",
        "9,294,957              </strong>]"
       ]
      },
      {
       "output_type": "stream",
       "stream": "stdout",
       "text": [
        "\n",
        "[<strong class=\"metrics-data align-vmiddle\">\n",
        "<!-- Alexa web traffic metrics are available via our API at http://aws.amazon.com/awis -->\n",
        "11,642,653              </strong>]"
       ]
      },
      {
       "output_type": "stream",
       "stream": "stdout",
       "text": [
        "\n",
        "[<strong class=\"metrics-data align-vmiddle\">\n",
        "<!-- Alexa web traffic metrics are available via our API at http://aws.amazon.com/awis -->\n",
        "<span style=\"margin-left: 10px;\">-</span> </strong>]"
       ]
      },
      {
       "output_type": "stream",
       "stream": "stdout",
       "text": [
        "\n",
        "[<strong class=\"metrics-data align-vmiddle\">\n",
        "<!-- Alexa web traffic metrics are available via our API at http://aws.amazon.com/awis -->\n",
        "10,057,100              </strong>]"
       ]
      },
      {
       "output_type": "stream",
       "stream": "stdout",
       "text": [
        "\n",
        "[<strong class=\"metrics-data align-vmiddle\">\n",
        "<!-- Alexa web traffic metrics are available via our API at http://aws.amazon.com/awis -->\n",
        "4,323,002              </strong>]"
       ]
      },
      {
       "output_type": "stream",
       "stream": "stdout",
       "text": [
        "\n",
        "[<strong class=\"metrics-data align-vmiddle\">\n",
        "<!-- Alexa web traffic metrics are available via our API at http://aws.amazon.com/awis -->\n",
        "2,091,090              </strong>]"
       ]
      },
      {
       "output_type": "stream",
       "stream": "stdout",
       "text": [
        "\n",
        "[<strong class=\"metrics-data align-vmiddle\">\n",
        "<!-- Alexa web traffic metrics are available via our API at http://aws.amazon.com/awis -->\n",
        "1,089,066              </strong>]"
       ]
      },
      {
       "output_type": "stream",
       "stream": "stdout",
       "text": [
        "\n",
        "[<strong class=\"metrics-data align-vmiddle\">\n",
        "<!-- Alexa web traffic metrics are available via our API at http://aws.amazon.com/awis -->\n",
        "1,220,096              </strong>]"
       ]
      },
      {
       "output_type": "stream",
       "stream": "stdout",
       "text": [
        "\n",
        "[<strong class=\"metrics-data align-vmiddle\">\n",
        "<!-- Alexa web traffic metrics are available via our API at http://aws.amazon.com/awis -->\n",
        "<span style=\"margin-left: 10px;\">-</span> </strong>]"
       ]
      },
      {
       "output_type": "stream",
       "stream": "stdout",
       "text": [
        "\n",
        "[<strong class=\"metrics-data align-vmiddle\">\n",
        "<!-- Alexa web traffic metrics are available via our API at http://aws.amazon.com/awis -->\n",
        "1,526,138              </strong>]"
       ]
      },
      {
       "output_type": "stream",
       "stream": "stdout",
       "text": [
        "\n",
        "[<strong class=\"metrics-data align-vmiddle\">\n",
        "<!-- Alexa web traffic metrics are available via our API at http://aws.amazon.com/awis -->\n",
        "981,907              </strong>]"
       ]
      },
      {
       "output_type": "stream",
       "stream": "stdout",
       "text": [
        "\n",
        "[<strong class=\"metrics-data align-vmiddle\">\n",
        "<!-- Alexa web traffic metrics are available via our API at http://aws.amazon.com/awis -->\n",
        "5,034,239              </strong>]"
       ]
      },
      {
       "output_type": "stream",
       "stream": "stdout",
       "text": [
        "\n",
        "[<strong class=\"metrics-data align-vmiddle\">\n",
        "<!-- Alexa web traffic metrics are available via our API at http://aws.amazon.com/awis -->\n",
        "<span style=\"margin-left: 10px;\">-</span> </strong>]"
       ]
      },
      {
       "output_type": "stream",
       "stream": "stdout",
       "text": [
        "\n",
        "[<strong class=\"metrics-data align-vmiddle\">\n",
        "<!-- Alexa web traffic metrics are available via our API at http://aws.amazon.com/awis -->\n",
        "4,605,787              </strong>]"
       ]
      },
      {
       "output_type": "stream",
       "stream": "stdout",
       "text": [
        "\n",
        "[<strong class=\"metrics-data align-vmiddle\">\n",
        "<!-- Alexa web traffic metrics are available via our API at http://aws.amazon.com/awis -->\n",
        "7,502,975              </strong>]"
       ]
      },
      {
       "output_type": "stream",
       "stream": "stdout",
       "text": [
        "\n",
        "[<strong class=\"metrics-data align-vmiddle\">\n",
        "<!-- Alexa web traffic metrics are available via our API at http://aws.amazon.com/awis -->\n",
        "<span style=\"margin-left: 10px;\">-</span> </strong>]"
       ]
      },
      {
       "output_type": "stream",
       "stream": "stdout",
       "text": [
        "\n",
        "[<strong class=\"metrics-data align-vmiddle\">\n",
        "<!-- Alexa web traffic metrics are available via our API at http://aws.amazon.com/awis -->\n",
        "<span style=\"margin-left: 10px;\">-</span> </strong>]"
       ]
      },
      {
       "output_type": "stream",
       "stream": "stdout",
       "text": [
        "\n",
        "[<strong class=\"metrics-data align-vmiddle\">\n",
        "<!-- Alexa web traffic metrics are available via our API at http://aws.amazon.com/awis -->\n",
        "1,584,623              </strong>]"
       ]
      },
      {
       "output_type": "stream",
       "stream": "stdout",
       "text": [
        "\n",
        "[<strong class=\"metrics-data align-vmiddle\">\n",
        "<!-- Alexa web traffic metrics are available via our API at http://aws.amazon.com/awis -->\n",
        "<span style=\"margin-left: 10px;\">-</span> </strong>]"
       ]
      },
      {
       "output_type": "stream",
       "stream": "stdout",
       "text": [
        "\n",
        "[<strong class=\"metrics-data align-vmiddle\">\n",
        "<!-- Alexa web traffic metrics are available via our API at http://aws.amazon.com/awis -->\n",
        "11,600,636              </strong>]"
       ]
      },
      {
       "output_type": "stream",
       "stream": "stdout",
       "text": [
        "\n",
        "[<strong class=\"metrics-data align-vmiddle\">\n",
        "<!-- Alexa web traffic metrics are available via our API at http://aws.amazon.com/awis -->\n",
        "6,608,121              </strong>]"
       ]
      },
      {
       "output_type": "stream",
       "stream": "stdout",
       "text": [
        "\n",
        "[<strong class=\"metrics-data align-vmiddle\">\n",
        "<!-- Alexa web traffic metrics are available via our API at http://aws.amazon.com/awis -->\n",
        "343,047              </strong>]"
       ]
      },
      {
       "output_type": "stream",
       "stream": "stdout",
       "text": [
        "\n",
        "[<strong class=\"metrics-data align-vmiddle\">\n",
        "<!-- Alexa web traffic metrics are available via our API at http://aws.amazon.com/awis -->\n",
        "12,174,720              </strong>]"
       ]
      },
      {
       "output_type": "stream",
       "stream": "stdout",
       "text": [
        "\n",
        "[<strong class=\"metrics-data align-vmiddle\">\n",
        "<!-- Alexa web traffic metrics are available via our API at http://aws.amazon.com/awis -->\n",
        "11,820,832              </strong>]"
       ]
      },
      {
       "output_type": "stream",
       "stream": "stdout",
       "text": [
        "\n",
        "[<strong class=\"metrics-data align-vmiddle\">\n",
        "<!-- Alexa web traffic metrics are available via our API at http://aws.amazon.com/awis -->\n",
        "3,267,658              </strong>]"
       ]
      },
      {
       "output_type": "stream",
       "stream": "stdout",
       "text": [
        "\n",
        "[<strong class=\"metrics-data align-vmiddle\">\n",
        "<!-- Alexa web traffic metrics are available via our API at http://aws.amazon.com/awis -->\n",
        "8,327,665              </strong>]"
       ]
      },
      {
       "output_type": "stream",
       "stream": "stdout",
       "text": [
        "\n",
        "[<strong class=\"metrics-data align-vmiddle\">\n",
        "<!-- Alexa web traffic metrics are available via our API at http://aws.amazon.com/awis -->\n",
        "4,403,373              </strong>]"
       ]
      },
      {
       "output_type": "stream",
       "stream": "stdout",
       "text": [
        "\n",
        "[<strong class=\"metrics-data align-vmiddle\">\n",
        "<!-- Alexa web traffic metrics are available via our API at http://aws.amazon.com/awis -->\n",
        "<span style=\"margin-left: 10px;\">-</span> </strong>]"
       ]
      },
      {
       "output_type": "stream",
       "stream": "stdout",
       "text": [
        "\n",
        "[<strong class=\"metrics-data align-vmiddle\">\n",
        "<!-- Alexa web traffic metrics are available via our API at http://aws.amazon.com/awis -->\n",
        "13,238,497              </strong>]"
       ]
      },
      {
       "output_type": "stream",
       "stream": "stdout",
       "text": [
        "\n",
        "[<strong class=\"metrics-data align-vmiddle\">\n",
        "<!-- Alexa web traffic metrics are available via our API at http://aws.amazon.com/awis -->\n",
        "<span style=\"margin-left: 10px;\">-</span> </strong>]"
       ]
      },
      {
       "output_type": "stream",
       "stream": "stdout",
       "text": [
        "\n",
        "[<strong class=\"metrics-data align-vmiddle\">\n",
        "<!-- Alexa web traffic metrics are available via our API at http://aws.amazon.com/awis -->\n",
        "12,341,719              </strong>]"
       ]
      },
      {
       "output_type": "stream",
       "stream": "stdout",
       "text": [
        "\n",
        "[<strong class=\"metrics-data align-vmiddle\">\n",
        "<!-- Alexa web traffic metrics are available via our API at http://aws.amazon.com/awis -->\n",
        "<span style=\"margin-left: 10px;\">-</span> </strong>]"
       ]
      },
      {
       "output_type": "stream",
       "stream": "stdout",
       "text": [
        "\n",
        "[<strong class=\"metrics-data align-vmiddle\">\n",
        "<!-- Alexa web traffic metrics are available via our API at http://aws.amazon.com/awis -->\n",
        "<span style=\"margin-left: 10px;\">-</span> </strong>]"
       ]
      },
      {
       "output_type": "stream",
       "stream": "stdout",
       "text": [
        "\n",
        "[<strong class=\"metrics-data align-vmiddle\">\n",
        "<!-- Alexa web traffic metrics are available via our API at http://aws.amazon.com/awis -->\n",
        "8,565,767              </strong>]"
       ]
      },
      {
       "output_type": "stream",
       "stream": "stdout",
       "text": [
        "\n",
        "[<strong class=\"metrics-data align-vmiddle\">\n",
        "<!-- Alexa web traffic metrics are available via our API at http://aws.amazon.com/awis -->\n",
        "1,580,338              </strong>]"
       ]
      },
      {
       "output_type": "stream",
       "stream": "stdout",
       "text": [
        "\n",
        "[<strong class=\"metrics-data align-vmiddle\">\n",
        "<!-- Alexa web traffic metrics are available via our API at http://aws.amazon.com/awis -->\n",
        "16,131,224              </strong>]"
       ]
      },
      {
       "output_type": "stream",
       "stream": "stdout",
       "text": [
        "\n",
        "[<strong class=\"metrics-data align-vmiddle\">\n",
        "<!-- Alexa web traffic metrics are available via our API at http://aws.amazon.com/awis -->\n",
        "420,913              </strong>]"
       ]
      },
      {
       "output_type": "stream",
       "stream": "stdout",
       "text": [
        "\n",
        "[<strong class=\"metrics-data align-vmiddle\">\n",
        "<!-- Alexa web traffic metrics are available via our API at http://aws.amazon.com/awis -->\n",
        "3,798,945              </strong>]"
       ]
      },
      {
       "output_type": "stream",
       "stream": "stdout",
       "text": [
        "\n",
        "[<strong class=\"metrics-data align-vmiddle\">\n",
        "<!-- Alexa web traffic metrics are available via our API at http://aws.amazon.com/awis -->\n",
        "520,643              </strong>]"
       ]
      },
      {
       "output_type": "stream",
       "stream": "stdout",
       "text": [
        "\n",
        "[<strong class=\"metrics-data align-vmiddle\">\n",
        "<!-- Alexa web traffic metrics are available via our API at http://aws.amazon.com/awis -->\n",
        "<span style=\"margin-left: 10px;\">-</span> </strong>]"
       ]
      },
      {
       "output_type": "stream",
       "stream": "stdout",
       "text": [
        "\n",
        "[<strong class=\"metrics-data align-vmiddle\">\n",
        "<!-- Alexa web traffic metrics are available via our API at http://aws.amazon.com/awis -->\n",
        "8,612,807              </strong>]"
       ]
      },
      {
       "output_type": "stream",
       "stream": "stdout",
       "text": [
        "\n",
        "[<strong class=\"metrics-data align-vmiddle\">\n",
        "<!-- Alexa web traffic metrics are available via our API at http://aws.amazon.com/awis -->\n",
        "<span style=\"margin-left: 10px;\">-</span> </strong>]"
       ]
      },
      {
       "output_type": "stream",
       "stream": "stdout",
       "text": [
        "\n",
        "[<strong class=\"metrics-data align-vmiddle\">\n",
        "<!-- Alexa web traffic metrics are available via our API at http://aws.amazon.com/awis -->\n",
        "5,244,200              </strong>]"
       ]
      },
      {
       "output_type": "stream",
       "stream": "stdout",
       "text": [
        "\n",
        "[<strong class=\"metrics-data align-vmiddle\">\n",
        "<!-- Alexa web traffic metrics are available via our API at http://aws.amazon.com/awis -->\n",
        "2,275,245              </strong>]"
       ]
      },
      {
       "output_type": "stream",
       "stream": "stdout",
       "text": [
        "\n",
        "[<strong class=\"metrics-data align-vmiddle\">\n",
        "<!-- Alexa web traffic metrics are available via our API at http://aws.amazon.com/awis -->\n",
        "<span style=\"margin-left: 10px;\">-</span> </strong>]"
       ]
      },
      {
       "output_type": "stream",
       "stream": "stdout",
       "text": [
        "\n",
        "[<strong class=\"metrics-data align-vmiddle\">\n",
        "<!-- Alexa web traffic metrics are available via our API at http://aws.amazon.com/awis -->\n",
        "<span style=\"margin-left: 10px;\">-</span> </strong>]"
       ]
      },
      {
       "output_type": "stream",
       "stream": "stdout",
       "text": [
        "\n",
        "[<strong class=\"metrics-data align-vmiddle\">\n",
        "<!-- Alexa web traffic metrics are available via our API at http://aws.amazon.com/awis -->\n",
        "<span style=\"margin-left: 10px;\">-</span> </strong>]"
       ]
      },
      {
       "output_type": "stream",
       "stream": "stdout",
       "text": [
        "\n",
        "[<strong class=\"metrics-data align-vmiddle\">\n",
        "<!-- Alexa web traffic metrics are available via our API at http://aws.amazon.com/awis -->\n",
        "<span style=\"margin-left: 10px;\">-</span> </strong>]"
       ]
      },
      {
       "output_type": "stream",
       "stream": "stdout",
       "text": [
        "\n",
        "[<strong class=\"metrics-data align-vmiddle\">\n",
        "<!-- Alexa web traffic metrics are available via our API at http://aws.amazon.com/awis -->\n",
        "733,591              </strong>]"
       ]
      },
      {
       "output_type": "stream",
       "stream": "stdout",
       "text": [
        "\n",
        "[<strong class=\"metrics-data align-vmiddle\">\n",
        "<!-- Alexa web traffic metrics are available via our API at http://aws.amazon.com/awis -->\n",
        "7,958,674              </strong>]"
       ]
      },
      {
       "output_type": "stream",
       "stream": "stdout",
       "text": [
        "\n",
        "[<strong class=\"metrics-data align-vmiddle\">\n",
        "<!-- Alexa web traffic metrics are available via our API at http://aws.amazon.com/awis -->\n",
        "<span style=\"margin-left: 10px;\">-</span> </strong>]"
       ]
      },
      {
       "output_type": "stream",
       "stream": "stdout",
       "text": [
        "\n",
        "[<strong class=\"metrics-data align-vmiddle\">\n",
        "<!-- Alexa web traffic metrics are available via our API at http://aws.amazon.com/awis -->\n",
        "3,544,723              </strong>]"
       ]
      },
      {
       "output_type": "stream",
       "stream": "stdout",
       "text": [
        "\n",
        "[<strong class=\"metrics-data align-vmiddle\">\n",
        "<!-- Alexa web traffic metrics are available via our API at http://aws.amazon.com/awis -->\n",
        "10,239,341              </strong>]"
       ]
      },
      {
       "output_type": "stream",
       "stream": "stdout",
       "text": [
        "\n",
        "[<strong class=\"metrics-data align-vmiddle\">\n",
        "<!-- Alexa web traffic metrics are available via our API at http://aws.amazon.com/awis -->\n",
        "<span style=\"margin-left: 10px;\">-</span> </strong>]"
       ]
      },
      {
       "output_type": "stream",
       "stream": "stdout",
       "text": [
        "\n",
        "[<strong class=\"metrics-data align-vmiddle\">\n",
        "<!-- Alexa web traffic metrics are available via our API at http://aws.amazon.com/awis -->\n",
        "7,920,209              </strong>]"
       ]
      },
      {
       "output_type": "stream",
       "stream": "stdout",
       "text": [
        "\n",
        "[<strong class=\"metrics-data align-vmiddle\">\n",
        "<!-- Alexa web traffic metrics are available via our API at http://aws.amazon.com/awis -->\n",
        "<span style=\"margin-left: 10px;\">-</span> </strong>]"
       ]
      },
      {
       "output_type": "stream",
       "stream": "stdout",
       "text": [
        "\n",
        "[<strong class=\"metrics-data align-vmiddle\">\n",
        "<!-- Alexa web traffic metrics are available via our API at http://aws.amazon.com/awis -->\n",
        "9,327,382              </strong>]"
       ]
      },
      {
       "output_type": "stream",
       "stream": "stdout",
       "text": [
        "\n",
        "[<strong class=\"metrics-data align-vmiddle\">\n",
        "<!-- Alexa web traffic metrics are available via our API at http://aws.amazon.com/awis -->\n",
        "10,542,527              </strong>]"
       ]
      },
      {
       "output_type": "stream",
       "stream": "stdout",
       "text": [
        "\n",
        "[<strong class=\"metrics-data align-vmiddle\">\n",
        "<!-- Alexa web traffic metrics are available via our API at http://aws.amazon.com/awis -->\n",
        "<span style=\"margin-left: 10px;\">-</span> </strong>]"
       ]
      },
      {
       "output_type": "stream",
       "stream": "stdout",
       "text": [
        "\n",
        "[<strong class=\"metrics-data align-vmiddle\">\n",
        "<!-- Alexa web traffic metrics are available via our API at http://aws.amazon.com/awis -->\n",
        "<span style=\"margin-left: 10px;\">-</span> </strong>]"
       ]
      },
      {
       "output_type": "stream",
       "stream": "stdout",
       "text": [
        "\n",
        "[<strong class=\"metrics-data align-vmiddle\">\n",
        "<!-- Alexa web traffic metrics are available via our API at http://aws.amazon.com/awis -->\n",
        "15,156,756              </strong>]"
       ]
      },
      {
       "output_type": "stream",
       "stream": "stdout",
       "text": [
        "\n",
        "[<strong class=\"metrics-data align-vmiddle\">\n",
        "<!-- Alexa web traffic metrics are available via our API at http://aws.amazon.com/awis -->\n",
        "5,483,812              </strong>]"
       ]
      },
      {
       "output_type": "stream",
       "stream": "stdout",
       "text": [
        "\n",
        "[<strong class=\"metrics-data align-vmiddle\">\n",
        "<!-- Alexa web traffic metrics are available via our API at http://aws.amazon.com/awis -->\n",
        "3,017,644              </strong>]"
       ]
      },
      {
       "output_type": "stream",
       "stream": "stdout",
       "text": [
        "\n",
        "[<strong class=\"metrics-data align-vmiddle\">\n",
        "<!-- Alexa web traffic metrics are available via our API at http://aws.amazon.com/awis -->\n",
        "<span style=\"margin-left: 10px;\">-</span> </strong>]"
       ]
      },
      {
       "output_type": "stream",
       "stream": "stdout",
       "text": [
        "\n",
        "[<strong class=\"metrics-data align-vmiddle\">\n",
        "<!-- Alexa web traffic metrics are available via our API at http://aws.amazon.com/awis -->\n",
        "<span style=\"margin-left: 10px;\">-</span> </strong>]"
       ]
      },
      {
       "output_type": "stream",
       "stream": "stdout",
       "text": [
        "\n",
        "[<strong class=\"metrics-data align-vmiddle\">\n",
        "<!-- Alexa web traffic metrics are available via our API at http://aws.amazon.com/awis -->\n",
        "1,891,748              </strong>]"
       ]
      },
      {
       "output_type": "stream",
       "stream": "stdout",
       "text": [
        "\n",
        "[<strong class=\"metrics-data align-vmiddle\">\n",
        "<!-- Alexa web traffic metrics are available via our API at http://aws.amazon.com/awis -->\n",
        "12,391,254              </strong>]"
       ]
      },
      {
       "output_type": "stream",
       "stream": "stdout",
       "text": [
        "\n",
        "[<strong class=\"metrics-data align-vmiddle\">\n",
        "<!-- Alexa web traffic metrics are available via our API at http://aws.amazon.com/awis -->\n",
        "4,679,273              </strong>]"
       ]
      },
      {
       "output_type": "stream",
       "stream": "stdout",
       "text": [
        "\n",
        "[<strong class=\"metrics-data align-vmiddle\">\n",
        "<!-- Alexa web traffic metrics are available via our API at http://aws.amazon.com/awis -->\n",
        "<span style=\"margin-left: 10px;\">-</span> </strong>]"
       ]
      },
      {
       "output_type": "stream",
       "stream": "stdout",
       "text": [
        "\n",
        "[<strong class=\"metrics-data align-vmiddle\">\n",
        "<!-- Alexa web traffic metrics are available via our API at http://aws.amazon.com/awis -->\n",
        "12,401,957              </strong>]"
       ]
      },
      {
       "output_type": "stream",
       "stream": "stdout",
       "text": [
        "\n",
        "[<strong class=\"metrics-data align-vmiddle\">\n",
        "<!-- Alexa web traffic metrics are available via our API at http://aws.amazon.com/awis -->\n",
        "1,610,396              </strong>]"
       ]
      },
      {
       "output_type": "stream",
       "stream": "stdout",
       "text": [
        "\n",
        "[<strong class=\"metrics-data align-vmiddle\">\n",
        "<!-- Alexa web traffic metrics are available via our API at http://aws.amazon.com/awis -->\n",
        "<span style=\"margin-left: 10px;\">-</span> </strong>]"
       ]
      },
      {
       "output_type": "stream",
       "stream": "stdout",
       "text": [
        "\n",
        "[<strong class=\"metrics-data align-vmiddle\">\n",
        "<!-- Alexa web traffic metrics are available via our API at http://aws.amazon.com/awis -->\n",
        "10,373,619              </strong>]"
       ]
      },
      {
       "output_type": "stream",
       "stream": "stdout",
       "text": [
        "\n",
        "[<strong class=\"metrics-data align-vmiddle\">\n",
        "<!-- Alexa web traffic metrics are available via our API at http://aws.amazon.com/awis -->\n",
        "5,912,975              </strong>]"
       ]
      },
      {
       "output_type": "stream",
       "stream": "stdout",
       "text": [
        "\n",
        "[<strong class=\"metrics-data align-vmiddle\">\n",
        "<!-- Alexa web traffic metrics are available via our API at http://aws.amazon.com/awis -->\n",
        "10,222,456              </strong>]"
       ]
      },
      {
       "output_type": "stream",
       "stream": "stdout",
       "text": [
        "\n",
        "[<strong class=\"metrics-data align-vmiddle\">\n",
        "<!-- Alexa web traffic metrics are available via our API at http://aws.amazon.com/awis -->\n",
        "<span style=\"margin-left: 10px;\">-</span> </strong>]"
       ]
      },
      {
       "output_type": "stream",
       "stream": "stdout",
       "text": [
        "\n",
        "[<strong class=\"metrics-data align-vmiddle\">\n",
        "<!-- Alexa web traffic metrics are available via our API at http://aws.amazon.com/awis -->\n",
        "6,023,891              </strong>]"
       ]
      },
      {
       "output_type": "stream",
       "stream": "stdout",
       "text": [
        "\n",
        "[<strong class=\"metrics-data align-vmiddle\">\n",
        "<!-- Alexa web traffic metrics are available via our API at http://aws.amazon.com/awis -->\n",
        "<span style=\"margin-left: 10px;\">-</span> </strong>]"
       ]
      },
      {
       "output_type": "stream",
       "stream": "stdout",
       "text": [
        "\n",
        "[<strong class=\"metrics-data align-vmiddle\">\n",
        "<!-- Alexa web traffic metrics are available via our API at http://aws.amazon.com/awis -->\n",
        "5,767,486              </strong>]"
       ]
      },
      {
       "output_type": "stream",
       "stream": "stdout",
       "text": [
        "\n",
        "[<strong class=\"metrics-data align-vmiddle\">\n",
        "<!-- Alexa web traffic metrics are available via our API at http://aws.amazon.com/awis -->\n",
        "24,477,764              </strong>]"
       ]
      },
      {
       "output_type": "stream",
       "stream": "stdout",
       "text": [
        "\n",
        "[<strong class=\"metrics-data align-vmiddle\">\n",
        "<!-- Alexa web traffic metrics are available via our API at http://aws.amazon.com/awis -->\n",
        "<span style=\"margin-left: 10px;\">-</span> </strong>]"
       ]
      },
      {
       "output_type": "stream",
       "stream": "stdout",
       "text": [
        "\n",
        "[<strong class=\"metrics-data align-vmiddle\">\n",
        "<!-- Alexa web traffic metrics are available via our API at http://aws.amazon.com/awis -->\n",
        "<span style=\"margin-left: 10px;\">-</span> </strong>]"
       ]
      },
      {
       "output_type": "stream",
       "stream": "stdout",
       "text": [
        "\n",
        "[<strong class=\"metrics-data align-vmiddle\">\n",
        "<!-- Alexa web traffic metrics are available via our API at http://aws.amazon.com/awis -->\n",
        "3,974,226              </strong>]"
       ]
      },
      {
       "output_type": "stream",
       "stream": "stdout",
       "text": [
        "\n",
        "[<strong class=\"metrics-data align-vmiddle\">\n",
        "<!-- Alexa web traffic metrics are available via our API at http://aws.amazon.com/awis -->\n",
        "8,031,065              </strong>]"
       ]
      },
      {
       "output_type": "stream",
       "stream": "stdout",
       "text": [
        "\n",
        "[<strong class=\"metrics-data align-vmiddle\">\n",
        "<!-- Alexa web traffic metrics are available via our API at http://aws.amazon.com/awis -->\n",
        "<span style=\"margin-left: 10px;\">-</span> </strong>]"
       ]
      },
      {
       "output_type": "stream",
       "stream": "stdout",
       "text": [
        "\n",
        "[<strong class=\"metrics-data align-vmiddle\">\n",
        "<!-- Alexa web traffic metrics are available via our API at http://aws.amazon.com/awis -->\n",
        "1,599,500              </strong>]"
       ]
      },
      {
       "output_type": "stream",
       "stream": "stdout",
       "text": [
        "\n",
        "[<strong class=\"metrics-data align-vmiddle\">\n",
        "<!-- Alexa web traffic metrics are available via our API at http://aws.amazon.com/awis -->\n",
        "10,526,488              </strong>]"
       ]
      },
      {
       "output_type": "stream",
       "stream": "stdout",
       "text": [
        "\n",
        "[<strong class=\"metrics-data align-vmiddle\">\n",
        "<!-- Alexa web traffic metrics are available via our API at http://aws.amazon.com/awis -->\n",
        "<span style=\"margin-left: 10px;\">-</span> </strong>]"
       ]
      },
      {
       "output_type": "stream",
       "stream": "stdout",
       "text": [
        "\n",
        "[<strong class=\"metrics-data align-vmiddle\">\n",
        "<!-- Alexa web traffic metrics are available via our API at http://aws.amazon.com/awis -->\n",
        "10,830,352              </strong>]"
       ]
      },
      {
       "output_type": "stream",
       "stream": "stdout",
       "text": [
        "\n",
        "[<strong class=\"metrics-data align-vmiddle\">\n",
        "<!-- Alexa web traffic metrics are available via our API at http://aws.amazon.com/awis -->\n",
        "4,613,645              </strong>]"
       ]
      },
      {
       "output_type": "stream",
       "stream": "stdout",
       "text": [
        "\n",
        "[<strong class=\"metrics-data align-vmiddle\">\n",
        "<!-- Alexa web traffic metrics are available via our API at http://aws.amazon.com/awis -->\n",
        "1,791,339              </strong>]"
       ]
      },
      {
       "output_type": "stream",
       "stream": "stdout",
       "text": [
        "\n",
        "[<strong class=\"metrics-data align-vmiddle\">\n",
        "<!-- Alexa web traffic metrics are available via our API at http://aws.amazon.com/awis -->\n",
        "<span style=\"margin-left: 10px;\">-</span> </strong>]"
       ]
      },
      {
       "output_type": "stream",
       "stream": "stdout",
       "text": [
        "\n",
        "[<strong class=\"metrics-data align-vmiddle\">\n",
        "<!-- Alexa web traffic metrics are available via our API at http://aws.amazon.com/awis -->\n",
        "3,362,442              </strong>]"
       ]
      },
      {
       "output_type": "stream",
       "stream": "stdout",
       "text": [
        "\n",
        "[<strong class=\"metrics-data align-vmiddle\">\n",
        "<!-- Alexa web traffic metrics are available via our API at http://aws.amazon.com/awis -->\n",
        "<span style=\"margin-left: 10px;\">-</span> </strong>]"
       ]
      },
      {
       "output_type": "stream",
       "stream": "stdout",
       "text": [
        "\n",
        "[<strong class=\"metrics-data align-vmiddle\">\n",
        "<!-- Alexa web traffic metrics are available via our API at http://aws.amazon.com/awis -->\n",
        "7,236,430              </strong>]"
       ]
      },
      {
       "output_type": "stream",
       "stream": "stdout",
       "text": [
        "\n",
        "[<strong class=\"metrics-data align-vmiddle\">\n",
        "<!-- Alexa web traffic metrics are available via our API at http://aws.amazon.com/awis -->\n",
        "<span style=\"margin-left: 10px;\">-</span> </strong>]"
       ]
      },
      {
       "output_type": "stream",
       "stream": "stdout",
       "text": [
        "\n",
        "[<strong class=\"metrics-data align-vmiddle\">\n",
        "<!-- Alexa web traffic metrics are available via our API at http://aws.amazon.com/awis -->\n",
        "<span style=\"margin-left: 10px;\">-</span> </strong>]"
       ]
      },
      {
       "output_type": "stream",
       "stream": "stdout",
       "text": [
        "\n",
        "[<strong class=\"metrics-data align-vmiddle\">\n",
        "<!-- Alexa web traffic metrics are available via our API at http://aws.amazon.com/awis -->\n",
        "<span style=\"margin-left: 10px;\">-</span> </strong>]"
       ]
      },
      {
       "output_type": "stream",
       "stream": "stdout",
       "text": [
        "\n",
        "[<strong class=\"metrics-data align-vmiddle\">\n",
        "<!-- Alexa web traffic metrics are available via our API at http://aws.amazon.com/awis -->\n",
        "11,858,924              </strong>]"
       ]
      },
      {
       "output_type": "stream",
       "stream": "stdout",
       "text": [
        "\n",
        "[<strong class=\"metrics-data align-vmiddle\">\n",
        "<!-- Alexa web traffic metrics are available via our API at http://aws.amazon.com/awis -->\n",
        "<span style=\"margin-left: 10px;\">-</span> </strong>]"
       ]
      },
      {
       "output_type": "stream",
       "stream": "stdout",
       "text": [
        "\n",
        "[<strong class=\"metrics-data align-vmiddle\">\n",
        "<!-- Alexa web traffic metrics are available via our API at http://aws.amazon.com/awis -->\n",
        "<span style=\"margin-left: 10px;\">-</span> </strong>]"
       ]
      },
      {
       "output_type": "stream",
       "stream": "stdout",
       "text": [
        "\n",
        "[<strong class=\"metrics-data align-vmiddle\">\n",
        "<!-- Alexa web traffic metrics are available via our API at http://aws.amazon.com/awis -->\n",
        "7,888,865              </strong>]"
       ]
      },
      {
       "output_type": "stream",
       "stream": "stdout",
       "text": [
        "\n",
        "[<strong class=\"metrics-data align-vmiddle\">\n",
        "<!-- Alexa web traffic metrics are available via our API at http://aws.amazon.com/awis -->\n",
        "<span style=\"margin-left: 10px;\">-</span> </strong>]"
       ]
      },
      {
       "output_type": "stream",
       "stream": "stdout",
       "text": [
        "\n",
        "[<strong class=\"metrics-data align-vmiddle\">\n",
        "<!-- Alexa web traffic metrics are available via our API at http://aws.amazon.com/awis -->\n",
        "<span style=\"margin-left: 10px;\">-</span> </strong>]"
       ]
      },
      {
       "output_type": "stream",
       "stream": "stdout",
       "text": [
        "\n",
        "[<strong class=\"metrics-data align-vmiddle\">\n",
        "<!-- Alexa web traffic metrics are available via our API at http://aws.amazon.com/awis -->\n",
        "5,368,066              </strong>]"
       ]
      },
      {
       "output_type": "stream",
       "stream": "stdout",
       "text": [
        "\n",
        "[<strong class=\"metrics-data align-vmiddle\">\n",
        "<!-- Alexa web traffic metrics are available via our API at http://aws.amazon.com/awis -->\n",
        "18,384,075              </strong>]"
       ]
      },
      {
       "output_type": "stream",
       "stream": "stdout",
       "text": [
        "\n",
        "[<strong class=\"metrics-data align-vmiddle\">\n",
        "<!-- Alexa web traffic metrics are available via our API at http://aws.amazon.com/awis -->\n",
        "<span style=\"margin-left: 10px;\">-</span> </strong>]"
       ]
      },
      {
       "output_type": "stream",
       "stream": "stdout",
       "text": [
        "\n",
        "[<strong class=\"metrics-data align-vmiddle\">\n",
        "<!-- Alexa web traffic metrics are available via our API at http://aws.amazon.com/awis -->\n",
        "2,147,676              </strong>]"
       ]
      },
      {
       "output_type": "stream",
       "stream": "stdout",
       "text": [
        "\n",
        "[<strong class=\"metrics-data align-vmiddle\">\n",
        "<!-- Alexa web traffic metrics are available via our API at http://aws.amazon.com/awis -->\n",
        "9,775,451              </strong>]"
       ]
      },
      {
       "output_type": "stream",
       "stream": "stdout",
       "text": [
        "\n",
        "[<strong class=\"metrics-data align-vmiddle\">\n",
        "<!-- Alexa web traffic metrics are available via our API at http://aws.amazon.com/awis -->\n",
        "<span style=\"margin-left: 10px;\">-</span> </strong>]"
       ]
      },
      {
       "output_type": "stream",
       "stream": "stdout",
       "text": [
        "\n",
        "[<strong class=\"metrics-data align-vmiddle\">\n",
        "<!-- Alexa web traffic metrics are available via our API at http://aws.amazon.com/awis -->\n",
        "8,911,749              </strong>]"
       ]
      },
      {
       "output_type": "stream",
       "stream": "stdout",
       "text": [
        "\n",
        "[<strong class=\"metrics-data align-vmiddle\">\n",
        "<!-- Alexa web traffic metrics are available via our API at http://aws.amazon.com/awis -->\n",
        "1,315,593              </strong>]"
       ]
      },
      {
       "output_type": "stream",
       "stream": "stdout",
       "text": [
        "\n",
        "[<strong class=\"metrics-data align-vmiddle\">\n",
        "<!-- Alexa web traffic metrics are available via our API at http://aws.amazon.com/awis -->\n",
        "14,879,016              </strong>]"
       ]
      },
      {
       "output_type": "stream",
       "stream": "stdout",
       "text": [
        "\n",
        "[<strong class=\"metrics-data align-vmiddle\">\n",
        "<!-- Alexa web traffic metrics are available via our API at http://aws.amazon.com/awis -->\n",
        "<span style=\"margin-left: 10px;\">-</span> </strong>]"
       ]
      },
      {
       "output_type": "stream",
       "stream": "stdout",
       "text": [
        "\n",
        "[<strong class=\"metrics-data align-vmiddle\">\n",
        "<!-- Alexa web traffic metrics are available via our API at http://aws.amazon.com/awis -->\n",
        "1,884,800              </strong>]"
       ]
      },
      {
       "output_type": "stream",
       "stream": "stdout",
       "text": [
        "\n",
        "[<strong class=\"metrics-data align-vmiddle\">\n",
        "<!-- Alexa web traffic metrics are available via our API at http://aws.amazon.com/awis -->\n",
        "1,460,287              </strong>]"
       ]
      },
      {
       "output_type": "stream",
       "stream": "stdout",
       "text": [
        "\n",
        "[<strong class=\"metrics-data align-vmiddle\">\n",
        "<!-- Alexa web traffic metrics are available via our API at http://aws.amazon.com/awis -->\n",
        "<span style=\"margin-left: 10px;\">-</span> </strong>]"
       ]
      },
      {
       "output_type": "stream",
       "stream": "stdout",
       "text": [
        "\n",
        "[<strong class=\"metrics-data align-vmiddle\">\n",
        "<!-- Alexa web traffic metrics are available via our API at http://aws.amazon.com/awis -->\n",
        "3,414,460              </strong>]"
       ]
      },
      {
       "output_type": "stream",
       "stream": "stdout",
       "text": [
        "\n",
        "[<strong class=\"metrics-data align-vmiddle\">\n",
        "<!-- Alexa web traffic metrics are available via our API at http://aws.amazon.com/awis -->\n",
        "3,091,385              </strong>]"
       ]
      },
      {
       "output_type": "stream",
       "stream": "stdout",
       "text": [
        "\n",
        "[<strong class=\"metrics-data align-vmiddle\">\n",
        "<!-- Alexa web traffic metrics are available via our API at http://aws.amazon.com/awis -->\n",
        "12,401,990              </strong>]"
       ]
      },
      {
       "output_type": "stream",
       "stream": "stdout",
       "text": [
        "\n",
        "[<strong class=\"metrics-data align-vmiddle\">\n",
        "<!-- Alexa web traffic metrics are available via our API at http://aws.amazon.com/awis -->\n",
        "<span style=\"margin-left: 10px;\">-</span> </strong>]"
       ]
      },
      {
       "output_type": "stream",
       "stream": "stdout",
       "text": [
        "\n",
        "[<strong class=\"metrics-data align-vmiddle\">\n",
        "<!-- Alexa web traffic metrics are available via our API at http://aws.amazon.com/awis -->\n",
        "3,523,920              </strong>]"
       ]
      },
      {
       "output_type": "stream",
       "stream": "stdout",
       "text": [
        "\n",
        "[<strong class=\"metrics-data align-vmiddle\">\n",
        "<!-- Alexa web traffic metrics are available via our API at http://aws.amazon.com/awis -->\n",
        "3,049,153              </strong>]"
       ]
      },
      {
       "output_type": "stream",
       "stream": "stdout",
       "text": [
        "\n",
        "[<strong class=\"metrics-data align-vmiddle\">\n",
        "<!-- Alexa web traffic metrics are available via our API at http://aws.amazon.com/awis -->\n",
        "1,414              </strong>]"
       ]
      },
      {
       "output_type": "stream",
       "stream": "stdout",
       "text": [
        "\n",
        "[<strong class=\"metrics-data align-vmiddle\">\n",
        "<!-- Alexa web traffic metrics are available via our API at http://aws.amazon.com/awis -->\n",
        "<span style=\"margin-left: 10px;\">-</span> </strong>]"
       ]
      },
      {
       "output_type": "stream",
       "stream": "stdout",
       "text": [
        "\n",
        "[<strong class=\"metrics-data align-vmiddle\">\n",
        "<!-- Alexa web traffic metrics are available via our API at http://aws.amazon.com/awis -->\n",
        "1,282,946              </strong>]"
       ]
      },
      {
       "output_type": "stream",
       "stream": "stdout",
       "text": [
        "\n",
        "[<strong class=\"metrics-data align-vmiddle\">\n",
        "<!-- Alexa web traffic metrics are available via our API at http://aws.amazon.com/awis -->\n",
        "885,761              </strong>]"
       ]
      },
      {
       "output_type": "stream",
       "stream": "stdout",
       "text": [
        "\n",
        "[<strong class=\"metrics-data align-vmiddle\">\n",
        "<!-- Alexa web traffic metrics are available via our API at http://aws.amazon.com/awis -->\n",
        "6,513,889              </strong>]"
       ]
      },
      {
       "output_type": "stream",
       "stream": "stdout",
       "text": [
        "\n",
        "[<strong class=\"metrics-data align-vmiddle\">\n",
        "<!-- Alexa web traffic metrics are available via our API at http://aws.amazon.com/awis -->\n",
        "3,943,544              </strong>]"
       ]
      },
      {
       "output_type": "stream",
       "stream": "stdout",
       "text": [
        "\n",
        "[<strong class=\"metrics-data align-vmiddle\">\n",
        "<!-- Alexa web traffic metrics are available via our API at http://aws.amazon.com/awis -->\n",
        "7,884,503              </strong>]"
       ]
      },
      {
       "output_type": "stream",
       "stream": "stdout",
       "text": [
        "\n",
        "[<strong class=\"metrics-data align-vmiddle\">\n",
        "<!-- Alexa web traffic metrics are available via our API at http://aws.amazon.com/awis -->\n",
        "4,200,207              </strong>]"
       ]
      },
      {
       "output_type": "stream",
       "stream": "stdout",
       "text": [
        "\n",
        "[<strong class=\"metrics-data align-vmiddle\">\n",
        "<!-- Alexa web traffic metrics are available via our API at http://aws.amazon.com/awis -->\n",
        "3,444,987              </strong>]"
       ]
      },
      {
       "output_type": "stream",
       "stream": "stdout",
       "text": [
        "\n",
        "[<strong class=\"metrics-data align-vmiddle\">\n",
        "<!-- Alexa web traffic metrics are available via our API at http://aws.amazon.com/awis -->\n",
        "12,276,469              </strong>]"
       ]
      },
      {
       "output_type": "stream",
       "stream": "stdout",
       "text": [
        "\n",
        "[<strong class=\"metrics-data align-vmiddle\">\n",
        "<!-- Alexa web traffic metrics are available via our API at http://aws.amazon.com/awis -->\n",
        "587,937              </strong>]"
       ]
      },
      {
       "output_type": "stream",
       "stream": "stdout",
       "text": [
        "\n",
        "[<strong class=\"metrics-data align-vmiddle\">\n",
        "<!-- Alexa web traffic metrics are available via our API at http://aws.amazon.com/awis -->\n",
        "<span style=\"margin-left: 10px;\">-</span> </strong>]"
       ]
      },
      {
       "output_type": "stream",
       "stream": "stdout",
       "text": [
        "\n",
        "[<strong class=\"metrics-data align-vmiddle\">\n",
        "<!-- Alexa web traffic metrics are available via our API at http://aws.amazon.com/awis -->\n",
        "9,878,641              </strong>]"
       ]
      },
      {
       "output_type": "stream",
       "stream": "stdout",
       "text": [
        "\n",
        "[<strong class=\"metrics-data align-vmiddle\">\n",
        "<!-- Alexa web traffic metrics are available via our API at http://aws.amazon.com/awis -->\n",
        "6,197,673              </strong>]"
       ]
      },
      {
       "output_type": "stream",
       "stream": "stdout",
       "text": [
        "\n",
        "[<strong class=\"metrics-data align-vmiddle\">\n",
        "<!-- Alexa web traffic metrics are available via our API at http://aws.amazon.com/awis -->\n",
        "4,809,807              </strong>]"
       ]
      },
      {
       "output_type": "stream",
       "stream": "stdout",
       "text": [
        "\n",
        "[<strong class=\"metrics-data align-vmiddle\">\n",
        "<!-- Alexa web traffic metrics are available via our API at http://aws.amazon.com/awis -->\n",
        "<span style=\"margin-left: 10px;\">-</span> </strong>]"
       ]
      },
      {
       "output_type": "stream",
       "stream": "stdout",
       "text": [
        "\n",
        "[<strong class=\"metrics-data align-vmiddle\">\n",
        "<!-- Alexa web traffic metrics are available via our API at http://aws.amazon.com/awis -->\n",
        "555,520              </strong>]"
       ]
      },
      {
       "output_type": "stream",
       "stream": "stdout",
       "text": [
        "\n",
        "[<strong class=\"metrics-data align-vmiddle\">\n",
        "<!-- Alexa web traffic metrics are available via our API at http://aws.amazon.com/awis -->\n",
        "<span style=\"margin-left: 10px;\">-</span> </strong>]"
       ]
      },
      {
       "output_type": "stream",
       "stream": "stdout",
       "text": [
        "\n",
        "[<strong class=\"metrics-data align-vmiddle\">\n",
        "<!-- Alexa web traffic metrics are available via our API at http://aws.amazon.com/awis -->\n",
        "11,303,111              </strong>]"
       ]
      },
      {
       "output_type": "stream",
       "stream": "stdout",
       "text": [
        "\n",
        "[<strong class=\"metrics-data align-vmiddle\">\n",
        "<!-- Alexa web traffic metrics are available via our API at http://aws.amazon.com/awis -->\n",
        "<span style=\"margin-left: 10px;\">-</span> </strong>]"
       ]
      },
      {
       "output_type": "stream",
       "stream": "stdout",
       "text": [
        "\n",
        "[<strong class=\"metrics-data align-vmiddle\">\n",
        "<!-- Alexa web traffic metrics are available via our API at http://aws.amazon.com/awis -->\n",
        "268,860              </strong>]"
       ]
      },
      {
       "output_type": "stream",
       "stream": "stdout",
       "text": [
        "\n",
        "[<strong class=\"metrics-data align-vmiddle\">\n",
        "<!-- Alexa web traffic metrics are available via our API at http://aws.amazon.com/awis -->\n",
        "<span style=\"margin-left: 10px;\">-</span> </strong>]"
       ]
      },
      {
       "output_type": "stream",
       "stream": "stdout",
       "text": [
        "\n",
        "[<strong class=\"metrics-data align-vmiddle\">\n",
        "<!-- Alexa web traffic metrics are available via our API at http://aws.amazon.com/awis -->\n",
        "8,959,952              </strong>]"
       ]
      },
      {
       "output_type": "stream",
       "stream": "stdout",
       "text": [
        "\n",
        "[<strong class=\"metrics-data align-vmiddle\">\n",
        "<!-- Alexa web traffic metrics are available via our API at http://aws.amazon.com/awis -->\n",
        "2,671,963              </strong>]"
       ]
      },
      {
       "output_type": "stream",
       "stream": "stdout",
       "text": [
        "\n",
        "[<strong class=\"metrics-data align-vmiddle\">\n",
        "<!-- Alexa web traffic metrics are available via our API at http://aws.amazon.com/awis -->\n",
        "16,056,806              </strong>]"
       ]
      },
      {
       "output_type": "stream",
       "stream": "stdout",
       "text": [
        "\n",
        "[<strong class=\"metrics-data align-vmiddle\">\n",
        "<!-- Alexa web traffic metrics are available via our API at http://aws.amazon.com/awis -->\n",
        "14,856,086              </strong>]"
       ]
      },
      {
       "output_type": "stream",
       "stream": "stdout",
       "text": [
        "\n",
        "[<strong class=\"metrics-data align-vmiddle\">\n",
        "<!-- Alexa web traffic metrics are available via our API at http://aws.amazon.com/awis -->\n",
        "<span style=\"margin-left: 10px;\">-</span> </strong>]"
       ]
      },
      {
       "output_type": "stream",
       "stream": "stdout",
       "text": [
        "\n",
        "[<strong class=\"metrics-data align-vmiddle\">\n",
        "<!-- Alexa web traffic metrics are available via our API at http://aws.amazon.com/awis -->\n",
        "837,235              </strong>]"
       ]
      },
      {
       "output_type": "stream",
       "stream": "stdout",
       "text": [
        "\n",
        "[<strong class=\"metrics-data align-vmiddle\">\n",
        "<!-- Alexa web traffic metrics are available via our API at http://aws.amazon.com/awis -->\n",
        "9,664,421              </strong>]"
       ]
      },
      {
       "output_type": "stream",
       "stream": "stdout",
       "text": [
        "\n",
        "[<strong class=\"metrics-data align-vmiddle\">\n",
        "<!-- Alexa web traffic metrics are available via our API at http://aws.amazon.com/awis -->\n",
        "<span style=\"margin-left: 10px;\">-</span> </strong>]"
       ]
      },
      {
       "output_type": "stream",
       "stream": "stdout",
       "text": [
        "\n",
        "[<strong class=\"metrics-data align-vmiddle\">\n",
        "<!-- Alexa web traffic metrics are available via our API at http://aws.amazon.com/awis -->\n",
        "14,849,839              </strong>]"
       ]
      },
      {
       "output_type": "stream",
       "stream": "stdout",
       "text": [
        "\n",
        "[<strong class=\"metrics-data align-vmiddle\">\n",
        "<!-- Alexa web traffic metrics are available via our API at http://aws.amazon.com/awis -->\n",
        "<span style=\"margin-left: 10px;\">-</span> </strong>]"
       ]
      },
      {
       "output_type": "stream",
       "stream": "stdout",
       "text": [
        "\n",
        "[<strong class=\"metrics-data align-vmiddle\">\n",
        "<!-- Alexa web traffic metrics are available via our API at http://aws.amazon.com/awis -->\n",
        "1,837,353              </strong>]"
       ]
      },
      {
       "output_type": "stream",
       "stream": "stdout",
       "text": [
        "\n",
        "[<strong class=\"metrics-data align-vmiddle\">\n",
        "<!-- Alexa web traffic metrics are available via our API at http://aws.amazon.com/awis -->\n",
        "16,658,958              </strong>]"
       ]
      },
      {
       "output_type": "stream",
       "stream": "stdout",
       "text": [
        "\n",
        "[<strong class=\"metrics-data align-vmiddle\">\n",
        "<!-- Alexa web traffic metrics are available via our API at http://aws.amazon.com/awis -->\n",
        "9,823,345              </strong>]"
       ]
      },
      {
       "output_type": "stream",
       "stream": "stdout",
       "text": [
        "\n",
        "[<strong class=\"metrics-data align-vmiddle\">\n",
        "<!-- Alexa web traffic metrics are available via our API at http://aws.amazon.com/awis -->\n",
        "3,890,606              </strong>]"
       ]
      },
      {
       "output_type": "stream",
       "stream": "stdout",
       "text": [
        "\n",
        "[<strong class=\"metrics-data align-vmiddle\">\n",
        "<!-- Alexa web traffic metrics are available via our API at http://aws.amazon.com/awis -->\n",
        "9,823,998              </strong>]"
       ]
      },
      {
       "output_type": "stream",
       "stream": "stdout",
       "text": [
        "\n",
        "[<strong class=\"metrics-data align-vmiddle\">\n",
        "<!-- Alexa web traffic metrics are available via our API at http://aws.amazon.com/awis -->\n",
        "<span style=\"margin-left: 10px;\">-</span> </strong>]"
       ]
      },
      {
       "output_type": "stream",
       "stream": "stdout",
       "text": [
        "\n",
        "[<strong class=\"metrics-data align-vmiddle\">\n",
        "<!-- Alexa web traffic metrics are available via our API at http://aws.amazon.com/awis -->\n",
        "5,377,691              </strong>]"
       ]
      },
      {
       "output_type": "stream",
       "stream": "stdout",
       "text": [
        "\n",
        "[<strong class=\"metrics-data align-vmiddle\">\n",
        "<!-- Alexa web traffic metrics are available via our API at http://aws.amazon.com/awis -->\n",
        "509,245              </strong>]"
       ]
      },
      {
       "output_type": "stream",
       "stream": "stdout",
       "text": [
        "\n",
        "[<strong class=\"metrics-data align-vmiddle\">\n",
        "<!-- Alexa web traffic metrics are available via our API at http://aws.amazon.com/awis -->\n",
        "6,510,892              </strong>]"
       ]
      },
      {
       "output_type": "stream",
       "stream": "stdout",
       "text": [
        "\n",
        "[<strong class=\"metrics-data align-vmiddle\">\n",
        "<!-- Alexa web traffic metrics are available via our API at http://aws.amazon.com/awis -->\n",
        "<span style=\"margin-left: 10px;\">-</span> </strong>]"
       ]
      },
      {
       "output_type": "stream",
       "stream": "stdout",
       "text": [
        "\n",
        "[<strong class=\"metrics-data align-vmiddle\">\n",
        "<!-- Alexa web traffic metrics are available via our API at http://aws.amazon.com/awis -->\n",
        "9,830,307              </strong>]"
       ]
      },
      {
       "output_type": "stream",
       "stream": "stdout",
       "text": [
        "\n",
        "[<strong class=\"metrics-data align-vmiddle\">\n",
        "<!-- Alexa web traffic metrics are available via our API at http://aws.amazon.com/awis -->\n",
        "6,237,281              </strong>]"
       ]
      },
      {
       "output_type": "stream",
       "stream": "stdout",
       "text": [
        "\n",
        "[<strong class=\"metrics-data align-vmiddle\">\n",
        "<!-- Alexa web traffic metrics are available via our API at http://aws.amazon.com/awis -->\n",
        "2,183,802              </strong>]"
       ]
      },
      {
       "output_type": "stream",
       "stream": "stdout",
       "text": [
        "\n",
        "[<strong class=\"metrics-data align-vmiddle\">\n",
        "<!-- Alexa web traffic metrics are available via our API at http://aws.amazon.com/awis -->\n",
        "9,810,712              </strong>]"
       ]
      },
      {
       "output_type": "stream",
       "stream": "stdout",
       "text": [
        "\n",
        "[<strong class=\"metrics-data align-vmiddle\">\n",
        "<!-- Alexa web traffic metrics are available via our API at http://aws.amazon.com/awis -->\n",
        "<span style=\"margin-left: 10px;\">-</span> </strong>]"
       ]
      },
      {
       "output_type": "stream",
       "stream": "stdout",
       "text": [
        "\n",
        "[<strong class=\"metrics-data align-vmiddle\">\n",
        "<!-- Alexa web traffic metrics are available via our API at http://aws.amazon.com/awis -->\n",
        "6,244,442              </strong>]"
       ]
      },
      {
       "output_type": "stream",
       "stream": "stdout",
       "text": [
        "\n",
        "[<strong class=\"metrics-data align-vmiddle\">\n",
        "<!-- Alexa web traffic metrics are available via our API at http://aws.amazon.com/awis -->\n",
        "14,484,832              </strong>]"
       ]
      },
      {
       "output_type": "stream",
       "stream": "stdout",
       "text": [
        "\n",
        "[<strong class=\"metrics-data align-vmiddle\">\n",
        "<!-- Alexa web traffic metrics are available via our API at http://aws.amazon.com/awis -->\n",
        "6,387,987              </strong>]"
       ]
      },
      {
       "output_type": "stream",
       "stream": "stdout",
       "text": [
        "\n",
        "[<strong class=\"metrics-data align-vmiddle\">\n",
        "<!-- Alexa web traffic metrics are available via our API at http://aws.amazon.com/awis -->\n",
        "<span style=\"margin-left: 10px;\">-</span> </strong>]"
       ]
      },
      {
       "output_type": "stream",
       "stream": "stdout",
       "text": [
        "\n",
        "[<strong class=\"metrics-data align-vmiddle\">\n",
        "<!-- Alexa web traffic metrics are available via our API at http://aws.amazon.com/awis -->\n",
        "1,919,681              </strong>]"
       ]
      },
      {
       "output_type": "stream",
       "stream": "stdout",
       "text": [
        "\n",
        "[<strong class=\"metrics-data align-vmiddle\">\n",
        "<!-- Alexa web traffic metrics are available via our API at http://aws.amazon.com/awis -->\n",
        "1,385,884              </strong>]"
       ]
      },
      {
       "output_type": "stream",
       "stream": "stdout",
       "text": [
        "\n",
        "[<strong class=\"metrics-data align-vmiddle\">\n",
        "<!-- Alexa web traffic metrics are available via our API at http://aws.amazon.com/awis -->\n",
        "4,197,765              </strong>]"
       ]
      },
      {
       "output_type": "stream",
       "stream": "stdout",
       "text": [
        "\n",
        "[<strong class=\"metrics-data align-vmiddle\">\n",
        "<!-- Alexa web traffic metrics are available via our API at http://aws.amazon.com/awis -->\n",
        "<span style=\"margin-left: 10px;\">-</span> </strong>]"
       ]
      },
      {
       "output_type": "stream",
       "stream": "stdout",
       "text": [
        "\n",
        "[<strong class=\"metrics-data align-vmiddle\">\n",
        "<!-- Alexa web traffic metrics are available via our API at http://aws.amazon.com/awis -->\n",
        "<span style=\"margin-left: 10px;\">-</span> </strong>]"
       ]
      },
      {
       "output_type": "stream",
       "stream": "stdout",
       "text": [
        "\n",
        "[<strong class=\"metrics-data align-vmiddle\">\n",
        "<!-- Alexa web traffic metrics are available via our API at http://aws.amazon.com/awis -->\n",
        "143,881              </strong>]"
       ]
      },
      {
       "output_type": "stream",
       "stream": "stdout",
       "text": [
        "\n",
        "[<strong class=\"metrics-data align-vmiddle\">\n",
        "<!-- Alexa web traffic metrics are available via our API at http://aws.amazon.com/awis -->\n",
        "7,559,725              </strong>]"
       ]
      },
      {
       "output_type": "stream",
       "stream": "stdout",
       "text": [
        "\n",
        "[<strong class=\"metrics-data align-vmiddle\">\n",
        "<!-- Alexa web traffic metrics are available via our API at http://aws.amazon.com/awis -->\n",
        "1,705,110              </strong>]"
       ]
      },
      {
       "output_type": "stream",
       "stream": "stdout",
       "text": [
        "\n",
        "[<strong class=\"metrics-data align-vmiddle\">\n",
        "<!-- Alexa web traffic metrics are available via our API at http://aws.amazon.com/awis -->\n",
        "<span style=\"margin-left: 10px;\">-</span> </strong>]"
       ]
      },
      {
       "output_type": "stream",
       "stream": "stdout",
       "text": [
        "\n",
        "[<strong class=\"metrics-data align-vmiddle\">\n",
        "<!-- Alexa web traffic metrics are available via our API at http://aws.amazon.com/awis -->\n",
        "<span style=\"margin-left: 10px;\">-</span> </strong>]"
       ]
      },
      {
       "output_type": "stream",
       "stream": "stdout",
       "text": [
        "\n",
        "[<strong class=\"metrics-data align-vmiddle\">\n",
        "<!-- Alexa web traffic metrics are available via our API at http://aws.amazon.com/awis -->\n",
        "8,246,113              </strong>]"
       ]
      },
      {
       "output_type": "stream",
       "stream": "stdout",
       "text": [
        "\n",
        "[<strong class=\"metrics-data align-vmiddle\">\n",
        "<!-- Alexa web traffic metrics are available via our API at http://aws.amazon.com/awis -->\n",
        "2,879,869              </strong>]"
       ]
      },
      {
       "output_type": "stream",
       "stream": "stdout",
       "text": [
        "\n",
        "[<strong class=\"metrics-data align-vmiddle\">\n",
        "<!-- Alexa web traffic metrics are available via our API at http://aws.amazon.com/awis -->\n",
        "13,555,004              </strong>]"
       ]
      },
      {
       "output_type": "stream",
       "stream": "stdout",
       "text": [
        "\n",
        "[<strong class=\"metrics-data align-vmiddle\">\n",
        "<!-- Alexa web traffic metrics are available via our API at http://aws.amazon.com/awis -->\n",
        "<span style=\"margin-left: 10px;\">-</span> </strong>]"
       ]
      },
      {
       "output_type": "stream",
       "stream": "stdout",
       "text": [
        "\n",
        "[<strong class=\"metrics-data align-vmiddle\">\n",
        "<!-- Alexa web traffic metrics are available via our API at http://aws.amazon.com/awis -->\n",
        "24,307,193              </strong>]"
       ]
      },
      {
       "output_type": "stream",
       "stream": "stdout",
       "text": [
        "\n",
        "[<strong class=\"metrics-data align-vmiddle\">\n",
        "<!-- Alexa web traffic metrics are available via our API at http://aws.amazon.com/awis -->\n",
        "<span style=\"margin-left: 10px;\">-</span> </strong>]"
       ]
      },
      {
       "output_type": "stream",
       "stream": "stdout",
       "text": [
        "\n",
        "[<strong class=\"metrics-data align-vmiddle\">\n",
        "<!-- Alexa web traffic metrics are available via our API at http://aws.amazon.com/awis -->\n",
        "<span style=\"margin-left: 10px;\">-</span> </strong>]"
       ]
      },
      {
       "output_type": "stream",
       "stream": "stdout",
       "text": [
        "\n",
        "[<strong class=\"metrics-data align-vmiddle\">\n",
        "<!-- Alexa web traffic metrics are available via our API at http://aws.amazon.com/awis -->\n",
        "3,111,558              </strong>]"
       ]
      },
      {
       "output_type": "stream",
       "stream": "stdout",
       "text": [
        "\n",
        "[<strong class=\"metrics-data align-vmiddle\">\n",
        "<!-- Alexa web traffic metrics are available via our API at http://aws.amazon.com/awis -->\n",
        "<span style=\"margin-left: 10px;\">-</span> </strong>]"
       ]
      },
      {
       "output_type": "stream",
       "stream": "stdout",
       "text": [
        "\n",
        "[<strong class=\"metrics-data align-vmiddle\">\n",
        "<!-- Alexa web traffic metrics are available via our API at http://aws.amazon.com/awis -->\n",
        "<span style=\"margin-left: 10px;\">-</span> </strong>]"
       ]
      },
      {
       "output_type": "stream",
       "stream": "stdout",
       "text": [
        "\n",
        "[<strong class=\"metrics-data align-vmiddle\">\n",
        "<!-- Alexa web traffic metrics are available via our API at http://aws.amazon.com/awis -->\n",
        "3,173,335              </strong>]"
       ]
      },
      {
       "output_type": "stream",
       "stream": "stdout",
       "text": [
        "\n",
        "[<strong class=\"metrics-data align-vmiddle\">\n",
        "<!-- Alexa web traffic metrics are available via our API at http://aws.amazon.com/awis -->\n",
        "1,520,651              </strong>]"
       ]
      },
      {
       "output_type": "stream",
       "stream": "stdout",
       "text": [
        "\n",
        "[<strong class=\"metrics-data align-vmiddle\">\n",
        "<!-- Alexa web traffic metrics are available via our API at http://aws.amazon.com/awis -->\n",
        "<span style=\"margin-left: 10px;\">-</span> </strong>]"
       ]
      },
      {
       "output_type": "stream",
       "stream": "stdout",
       "text": [
        "\n",
        "[<strong class=\"metrics-data align-vmiddle\">\n",
        "<!-- Alexa web traffic metrics are available via our API at http://aws.amazon.com/awis -->\n",
        "8,431,721              </strong>]"
       ]
      },
      {
       "output_type": "stream",
       "stream": "stdout",
       "text": [
        "\n",
        "[<strong class=\"metrics-data align-vmiddle\">\n",
        "<!-- Alexa web traffic metrics are available via our API at http://aws.amazon.com/awis -->\n",
        "<span style=\"margin-left: 10px;\">-</span> </strong>]"
       ]
      },
      {
       "output_type": "stream",
       "stream": "stdout",
       "text": [
        "\n",
        "[<strong class=\"metrics-data align-vmiddle\">\n",
        "<!-- Alexa web traffic metrics are available via our API at http://aws.amazon.com/awis -->\n",
        "503,733              </strong>]"
       ]
      },
      {
       "output_type": "stream",
       "stream": "stdout",
       "text": [
        "\n",
        "[<strong class=\"metrics-data align-vmiddle\">\n",
        "<!-- Alexa web traffic metrics are available via our API at http://aws.amazon.com/awis -->\n",
        "9,878,646              </strong>]"
       ]
      },
      {
       "output_type": "stream",
       "stream": "stdout",
       "text": [
        "\n",
        "[<strong class=\"metrics-data align-vmiddle\">\n",
        "<!-- Alexa web traffic metrics are available via our API at http://aws.amazon.com/awis -->\n",
        "<span style=\"margin-left: 10px;\">-</span> </strong>]"
       ]
      },
      {
       "output_type": "stream",
       "stream": "stdout",
       "text": [
        "\n",
        "[<strong class=\"metrics-data align-vmiddle\">\n",
        "<!-- Alexa web traffic metrics are available via our API at http://aws.amazon.com/awis -->\n",
        "9,992,603              </strong>]"
       ]
      },
      {
       "output_type": "stream",
       "stream": "stdout",
       "text": [
        "\n",
        "[<strong class=\"metrics-data align-vmiddle\">\n",
        "<!-- Alexa web traffic metrics are available via our API at http://aws.amazon.com/awis -->\n",
        "9,005,834              </strong>]"
       ]
      },
      {
       "output_type": "stream",
       "stream": "stdout",
       "text": [
        "\n",
        "[<strong class=\"metrics-data align-vmiddle\">\n",
        "<!-- Alexa web traffic metrics are available via our API at http://aws.amazon.com/awis -->\n",
        "<span style=\"margin-left: 10px;\">-</span> </strong>]"
       ]
      },
      {
       "output_type": "stream",
       "stream": "stdout",
       "text": [
        "\n",
        "[<strong class=\"metrics-data align-vmiddle\">\n",
        "<!-- Alexa web traffic metrics are available via our API at http://aws.amazon.com/awis -->\n",
        "1,035,529              </strong>]"
       ]
      },
      {
       "output_type": "stream",
       "stream": "stdout",
       "text": [
        "\n",
        "[<strong class=\"metrics-data align-vmiddle\">\n",
        "<!-- Alexa web traffic metrics are available via our API at http://aws.amazon.com/awis -->\n",
        "224,602              </strong>]"
       ]
      },
      {
       "output_type": "stream",
       "stream": "stdout",
       "text": [
        "\n",
        "[<strong class=\"metrics-data align-vmiddle\">\n",
        "<!-- Alexa web traffic metrics are available via our API at http://aws.amazon.com/awis -->\n",
        "2,525,792              </strong>]"
       ]
      },
      {
       "output_type": "stream",
       "stream": "stdout",
       "text": [
        "\n",
        "[<strong class=\"metrics-data align-vmiddle\">\n",
        "<!-- Alexa web traffic metrics are available via our API at http://aws.amazon.com/awis -->\n",
        "<span style=\"margin-left: 10px;\">-</span> </strong>]"
       ]
      },
      {
       "output_type": "stream",
       "stream": "stdout",
       "text": [
        "\n",
        "[<strong class=\"metrics-data align-vmiddle\">\n",
        "<!-- Alexa web traffic metrics are available via our API at http://aws.amazon.com/awis -->\n",
        "3,553,894              </strong>]"
       ]
      },
      {
       "output_type": "stream",
       "stream": "stdout",
       "text": [
        "\n",
        "[<strong class=\"metrics-data align-vmiddle\">\n",
        "<!-- Alexa web traffic metrics are available via our API at http://aws.amazon.com/awis -->\n",
        "501,762              </strong>]"
       ]
      },
      {
       "output_type": "stream",
       "stream": "stdout",
       "text": [
        "\n",
        "[<strong class=\"metrics-data align-vmiddle\">\n",
        "<!-- Alexa web traffic metrics are available via our API at http://aws.amazon.com/awis -->\n",
        "6,795,726              </strong>]"
       ]
      },
      {
       "output_type": "stream",
       "stream": "stdout",
       "text": [
        "\n",
        "[<strong class=\"metrics-data align-vmiddle\">\n",
        "<!-- Alexa web traffic metrics are available via our API at http://aws.amazon.com/awis -->\n",
        "<span style=\"margin-left: 10px;\">-</span> </strong>]"
       ]
      },
      {
       "output_type": "stream",
       "stream": "stdout",
       "text": [
        "\n",
        "[<strong class=\"metrics-data align-vmiddle\">\n",
        "<!-- Alexa web traffic metrics are available via our API at http://aws.amazon.com/awis -->\n",
        "4,572,060              </strong>]"
       ]
      },
      {
       "output_type": "stream",
       "stream": "stdout",
       "text": [
        "\n",
        "[<strong class=\"metrics-data align-vmiddle\">\n",
        "<!-- Alexa web traffic metrics are available via our API at http://aws.amazon.com/awis -->\n",
        "<span style=\"margin-left: 10px;\">-</span> </strong>]"
       ]
      },
      {
       "output_type": "stream",
       "stream": "stdout",
       "text": [
        "\n",
        "[<strong class=\"metrics-data align-vmiddle\">\n",
        "<!-- Alexa web traffic metrics are available via our API at http://aws.amazon.com/awis -->\n",
        "14,298,728              </strong>]"
       ]
      },
      {
       "output_type": "stream",
       "stream": "stdout",
       "text": [
        "\n",
        "[<strong class=\"metrics-data align-vmiddle\">\n",
        "<!-- Alexa web traffic metrics are available via our API at http://aws.amazon.com/awis -->\n",
        "<span style=\"margin-left: 10px;\">-</span> </strong>]"
       ]
      },
      {
       "output_type": "stream",
       "stream": "stdout",
       "text": [
        "\n",
        "[<strong class=\"metrics-data align-vmiddle\">\n",
        "<!-- Alexa web traffic metrics are available via our API at http://aws.amazon.com/awis -->\n",
        "<span style=\"margin-left: 10px;\">-</span> </strong>]"
       ]
      },
      {
       "output_type": "stream",
       "stream": "stdout",
       "text": [
        "\n",
        "[<strong class=\"metrics-data align-vmiddle\">\n",
        "<!-- Alexa web traffic metrics are available via our API at http://aws.amazon.com/awis -->\n",
        "1,107,928              </strong>]"
       ]
      },
      {
       "output_type": "stream",
       "stream": "stdout",
       "text": [
        "\n",
        "[<strong class=\"metrics-data align-vmiddle\">\n",
        "<!-- Alexa web traffic metrics are available via our API at http://aws.amazon.com/awis -->\n",
        "<span style=\"margin-left: 10px;\">-</span> </strong>]"
       ]
      },
      {
       "output_type": "stream",
       "stream": "stdout",
       "text": [
        "\n",
        "[<strong class=\"metrics-data align-vmiddle\">\n",
        "<!-- Alexa web traffic metrics are available via our API at http://aws.amazon.com/awis -->\n",
        "<span style=\"margin-left: 10px;\">-</span> </strong>]"
       ]
      },
      {
       "output_type": "stream",
       "stream": "stdout",
       "text": [
        "\n",
        "[<strong class=\"metrics-data align-vmiddle\">\n",
        "<!-- Alexa web traffic metrics are available via our API at http://aws.amazon.com/awis -->\n",
        "<span style=\"margin-left: 10px;\">-</span> </strong>]"
       ]
      },
      {
       "output_type": "stream",
       "stream": "stdout",
       "text": [
        "\n",
        "[<strong class=\"metrics-data align-vmiddle\">\n",
        "<!-- Alexa web traffic metrics are available via our API at http://aws.amazon.com/awis -->\n",
        "<span style=\"margin-left: 10px;\">-</span> </strong>]"
       ]
      },
      {
       "output_type": "stream",
       "stream": "stdout",
       "text": [
        "\n",
        "[<strong class=\"metrics-data align-vmiddle\">\n",
        "<!-- Alexa web traffic metrics are available via our API at http://aws.amazon.com/awis -->\n",
        "911,783              </strong>]"
       ]
      },
      {
       "output_type": "stream",
       "stream": "stdout",
       "text": [
        "\n",
        "[<strong class=\"metrics-data align-vmiddle\">\n",
        "<!-- Alexa web traffic metrics are available via our API at http://aws.amazon.com/awis -->\n",
        "16,367,666              </strong>]"
       ]
      },
      {
       "output_type": "stream",
       "stream": "stdout",
       "text": [
        "\n",
        "[<strong class=\"metrics-data align-vmiddle\">\n",
        "<!-- Alexa web traffic metrics are available via our API at http://aws.amazon.com/awis -->\n",
        "9,810,718              </strong>]"
       ]
      },
      {
       "output_type": "stream",
       "stream": "stdout",
       "text": [
        "\n",
        "[<strong class=\"metrics-data align-vmiddle\">\n",
        "<!-- Alexa web traffic metrics are available via our API at http://aws.amazon.com/awis -->\n",
        "20,727,659              </strong>]"
       ]
      },
      {
       "output_type": "stream",
       "stream": "stdout",
       "text": [
        "\n",
        "[<strong class=\"metrics-data align-vmiddle\">\n",
        "<!-- Alexa web traffic metrics are available via our API at http://aws.amazon.com/awis -->\n",
        "9,916,910              </strong>]"
       ]
      },
      {
       "output_type": "stream",
       "stream": "stdout",
       "text": [
        "\n",
        "[<strong class=\"metrics-data align-vmiddle\">\n",
        "<!-- Alexa web traffic metrics are available via our API at http://aws.amazon.com/awis -->\n",
        "6,824,628              </strong>]"
       ]
      },
      {
       "output_type": "stream",
       "stream": "stdout",
       "text": [
        "\n",
        "[<strong class=\"metrics-data align-vmiddle\">\n",
        "<!-- Alexa web traffic metrics are available via our API at http://aws.amazon.com/awis -->\n",
        "<span style=\"margin-left: 10px;\">-</span> </strong>]"
       ]
      },
      {
       "output_type": "stream",
       "stream": "stdout",
       "text": [
        "\n",
        "[<strong class=\"metrics-data align-vmiddle\">\n",
        "<!-- Alexa web traffic metrics are available via our API at http://aws.amazon.com/awis -->\n",
        "1,982,501              </strong>]"
       ]
      },
      {
       "output_type": "stream",
       "stream": "stdout",
       "text": [
        "\n",
        "[<strong class=\"metrics-data align-vmiddle\">\n",
        "<!-- Alexa web traffic metrics are available via our API at http://aws.amazon.com/awis -->\n",
        "1,864,412              </strong>]"
       ]
      },
      {
       "output_type": "stream",
       "stream": "stdout",
       "text": [
        "\n",
        "[<strong class=\"metrics-data align-vmiddle\">\n",
        "<!-- Alexa web traffic metrics are available via our API at http://aws.amazon.com/awis -->\n",
        "<span style=\"margin-left: 10px;\">-</span> </strong>]"
       ]
      },
      {
       "output_type": "stream",
       "stream": "stdout",
       "text": [
        "\n",
        "[<strong class=\"metrics-data align-vmiddle\">\n",
        "<!-- Alexa web traffic metrics are available via our API at http://aws.amazon.com/awis -->\n",
        "2,404,202              </strong>]"
       ]
      },
      {
       "output_type": "stream",
       "stream": "stdout",
       "text": [
        "\n",
        "[<strong class=\"metrics-data align-vmiddle\">\n",
        "<!-- Alexa web traffic metrics are available via our API at http://aws.amazon.com/awis -->\n",
        "8,797,405              </strong>]"
       ]
      },
      {
       "output_type": "stream",
       "stream": "stdout",
       "text": [
        "\n",
        "[<strong class=\"metrics-data align-vmiddle\">\n",
        "<!-- Alexa web traffic metrics are available via our API at http://aws.amazon.com/awis -->\n",
        "7,794,645              </strong>]"
       ]
      },
      {
       "output_type": "stream",
       "stream": "stdout",
       "text": [
        "\n",
        "[<strong class=\"metrics-data align-vmiddle\">\n",
        "<!-- Alexa web traffic metrics are available via our API at http://aws.amazon.com/awis -->\n",
        "<span style=\"margin-left: 10px;\">-</span> </strong>]"
       ]
      },
      {
       "output_type": "stream",
       "stream": "stdout",
       "text": [
        "\n",
        "[<strong class=\"metrics-data align-vmiddle\">\n",
        "<!-- Alexa web traffic metrics are available via our API at http://aws.amazon.com/awis -->\n",
        "<span style=\"margin-left: 10px;\">-</span> </strong>]"
       ]
      },
      {
       "output_type": "stream",
       "stream": "stdout",
       "text": [
        "\n",
        "[<strong class=\"metrics-data align-vmiddle\">\n",
        "<!-- Alexa web traffic metrics are available via our API at http://aws.amazon.com/awis -->\n",
        "2,330,722              </strong>]"
       ]
      },
      {
       "output_type": "stream",
       "stream": "stdout",
       "text": [
        "\n",
        "[<strong class=\"metrics-data align-vmiddle\">\n",
        "<!-- Alexa web traffic metrics are available via our API at http://aws.amazon.com/awis -->\n",
        "<span style=\"margin-left: 10px;\">-</span> </strong>]"
       ]
      },
      {
       "output_type": "stream",
       "stream": "stdout",
       "text": [
        "\n",
        "[<strong class=\"metrics-data align-vmiddle\">\n",
        "<!-- Alexa web traffic metrics are available via our API at http://aws.amazon.com/awis -->\n",
        "3,443,108              </strong>]"
       ]
      },
      {
       "output_type": "stream",
       "stream": "stdout",
       "text": [
        "\n",
        "[<strong class=\"metrics-data align-vmiddle\">\n",
        "<!-- Alexa web traffic metrics are available via our API at http://aws.amazon.com/awis -->\n",
        "<span style=\"margin-left: 10px;\">-</span> </strong>]"
       ]
      },
      {
       "output_type": "stream",
       "stream": "stdout",
       "text": [
        "\n",
        "[<strong class=\"metrics-data align-vmiddle\">\n",
        "<!-- Alexa web traffic metrics are available via our API at http://aws.amazon.com/awis -->\n",
        "<span style=\"margin-left: 10px;\">-</span> </strong>]"
       ]
      },
      {
       "output_type": "stream",
       "stream": "stdout",
       "text": [
        "\n",
        "[<strong class=\"metrics-data align-vmiddle\">\n",
        "<!-- Alexa web traffic metrics are available via our API at http://aws.amazon.com/awis -->\n",
        "3,023,538              </strong>]"
       ]
      },
      {
       "output_type": "stream",
       "stream": "stdout",
       "text": [
        "\n",
        "[<strong class=\"metrics-data align-vmiddle\">\n",
        "<!-- Alexa web traffic metrics are available via our API at http://aws.amazon.com/awis -->\n",
        "11,056,067              </strong>]"
       ]
      },
      {
       "output_type": "stream",
       "stream": "stdout",
       "text": [
        "\n",
        "[<strong class=\"metrics-data align-vmiddle\">\n",
        "<!-- Alexa web traffic metrics are available via our API at http://aws.amazon.com/awis -->\n",
        "<span style=\"margin-left: 10px;\">-</span> </strong>]"
       ]
      },
      {
       "output_type": "stream",
       "stream": "stdout",
       "text": [
        "\n",
        "[<strong class=\"metrics-data align-vmiddle\">\n",
        "<!-- Alexa web traffic metrics are available via our API at http://aws.amazon.com/awis -->\n",
        "12,306,902              </strong>]"
       ]
      },
      {
       "output_type": "stream",
       "stream": "stdout",
       "text": [
        "\n",
        "[<strong class=\"metrics-data align-vmiddle\">\n",
        "<!-- Alexa web traffic metrics are available via our API at http://aws.amazon.com/awis -->\n",
        "<span style=\"margin-left: 10px;\">-</span> </strong>]"
       ]
      },
      {
       "output_type": "stream",
       "stream": "stdout",
       "text": [
        "\n",
        "[<strong class=\"metrics-data align-vmiddle\">\n",
        "<!-- Alexa web traffic metrics are available via our API at http://aws.amazon.com/awis -->\n",
        "<span style=\"margin-left: 10px;\">-</span> </strong>]"
       ]
      },
      {
       "output_type": "stream",
       "stream": "stdout",
       "text": [
        "\n",
        "[<strong class=\"metrics-data align-vmiddle\">\n",
        "<!-- Alexa web traffic metrics are available via our API at http://aws.amazon.com/awis -->\n",
        "2,131,098              </strong>]"
       ]
      },
      {
       "output_type": "stream",
       "stream": "stdout",
       "text": [
        "\n",
        "[<strong class=\"metrics-data align-vmiddle\">\n",
        "<!-- Alexa web traffic metrics are available via our API at http://aws.amazon.com/awis -->\n",
        "88,690              </strong>]"
       ]
      },
      {
       "output_type": "stream",
       "stream": "stdout",
       "text": [
        "\n",
        "[<strong class=\"metrics-data align-vmiddle\">\n",
        "<!-- Alexa web traffic metrics are available via our API at http://aws.amazon.com/awis -->\n",
        "5,664,276              </strong>]"
       ]
      },
      {
       "output_type": "stream",
       "stream": "stdout",
       "text": [
        "\n",
        "[<strong class=\"metrics-data align-vmiddle\">\n",
        "<!-- Alexa web traffic metrics are available via our API at http://aws.amazon.com/awis -->\n",
        "126,302              </strong>]"
       ]
      },
      {
       "output_type": "stream",
       "stream": "stdout",
       "text": [
        "\n",
        "[<strong class=\"metrics-data align-vmiddle\">\n",
        "<!-- Alexa web traffic metrics are available via our API at http://aws.amazon.com/awis -->\n",
        "20,482,598              </strong>]"
       ]
      },
      {
       "output_type": "stream",
       "stream": "stdout",
       "text": [
        "\n",
        "[<strong class=\"metrics-data align-vmiddle\">\n",
        "<!-- Alexa web traffic metrics are available via our API at http://aws.amazon.com/awis -->\n",
        "<span style=\"margin-left: 10px;\">-</span> </strong>]"
       ]
      },
      {
       "output_type": "stream",
       "stream": "stdout",
       "text": [
        "\n",
        "[<strong class=\"metrics-data align-vmiddle\">\n",
        "<!-- Alexa web traffic metrics are available via our API at http://aws.amazon.com/awis -->\n",
        "4,405,728              </strong>]"
       ]
      },
      {
       "output_type": "stream",
       "stream": "stdout",
       "text": [
        "\n",
        "[<strong class=\"metrics-data align-vmiddle\">\n",
        "<!-- Alexa web traffic metrics are available via our API at http://aws.amazon.com/awis -->\n",
        "<span style=\"margin-left: 10px;\">-</span> </strong>]"
       ]
      },
      {
       "output_type": "stream",
       "stream": "stdout",
       "text": [
        "\n",
        "[<strong class=\"metrics-data align-vmiddle\">\n",
        "<!-- Alexa web traffic metrics are available via our API at http://aws.amazon.com/awis -->\n",
        "11,668,443              </strong>]"
       ]
      },
      {
       "output_type": "stream",
       "stream": "stdout",
       "text": [
        "\n",
        "[<strong class=\"metrics-data align-vmiddle\">\n",
        "<!-- Alexa web traffic metrics are available via our API at http://aws.amazon.com/awis -->\n",
        "<span style=\"margin-left: 10px;\">-</span> </strong>]"
       ]
      },
      {
       "output_type": "stream",
       "stream": "stdout",
       "text": [
        "\n",
        "[<strong class=\"metrics-data align-vmiddle\">\n",
        "<!-- Alexa web traffic metrics are available via our API at http://aws.amazon.com/awis -->\n",
        "2,388,409              </strong>]"
       ]
      },
      {
       "output_type": "stream",
       "stream": "stdout",
       "text": [
        "\n",
        "[<strong class=\"metrics-data align-vmiddle\">\n",
        "<!-- Alexa web traffic metrics are available via our API at http://aws.amazon.com/awis -->\n",
        "327,465              </strong>]"
       ]
      },
      {
       "output_type": "stream",
       "stream": "stdout",
       "text": [
        "\n",
        "[<strong class=\"metrics-data align-vmiddle\">\n",
        "<!-- Alexa web traffic metrics are available via our API at http://aws.amazon.com/awis -->\n",
        "10,260,893              </strong>]"
       ]
      },
      {
       "output_type": "stream",
       "stream": "stdout",
       "text": [
        "\n",
        "[<strong class=\"metrics-data align-vmiddle\">\n",
        "<!-- Alexa web traffic metrics are available via our API at http://aws.amazon.com/awis -->\n",
        "7,717,152              </strong>]"
       ]
      },
      {
       "output_type": "stream",
       "stream": "stdout",
       "text": [
        "\n",
        "[<strong class=\"metrics-data align-vmiddle\">\n",
        "<!-- Alexa web traffic metrics are available via our API at http://aws.amazon.com/awis -->\n",
        "1,774,845              </strong>]"
       ]
      },
      {
       "output_type": "stream",
       "stream": "stdout",
       "text": [
        "\n",
        "[<strong class=\"metrics-data align-vmiddle\">\n",
        "<!-- Alexa web traffic metrics are available via our API at http://aws.amazon.com/awis -->\n",
        "9,761,143              </strong>]"
       ]
      },
      {
       "output_type": "stream",
       "stream": "stdout",
       "text": [
        "\n",
        "[<strong class=\"metrics-data align-vmiddle\">\n",
        "<!-- Alexa web traffic metrics are available via our API at http://aws.amazon.com/awis -->\n",
        "1,774,845              </strong>]"
       ]
      },
      {
       "output_type": "stream",
       "stream": "stdout",
       "text": [
        "\n",
        "[<strong class=\"metrics-data align-vmiddle\">\n",
        "<!-- Alexa web traffic metrics are available via our API at http://aws.amazon.com/awis -->\n",
        "4,037,006              </strong>]"
       ]
      },
      {
       "output_type": "stream",
       "stream": "stdout",
       "text": [
        "\n",
        "[<strong class=\"metrics-data align-vmiddle\">\n",
        "<!-- Alexa web traffic metrics are available via our API at http://aws.amazon.com/awis -->\n",
        "15,806,094              </strong>]"
       ]
      },
      {
       "output_type": "stream",
       "stream": "stdout",
       "text": [
        "\n",
        "[<strong class=\"metrics-data align-vmiddle\">\n",
        "<!-- Alexa web traffic metrics are available via our API at http://aws.amazon.com/awis -->\n",
        "545,992              </strong>]"
       ]
      },
      {
       "output_type": "stream",
       "stream": "stdout",
       "text": [
        "\n",
        "[<strong class=\"metrics-data align-vmiddle\">\n",
        "<!-- Alexa web traffic metrics are available via our API at http://aws.amazon.com/awis -->\n",
        "2,769,788              </strong>]"
       ]
      },
      {
       "output_type": "stream",
       "stream": "stdout",
       "text": [
        "\n",
        "[<strong class=\"metrics-data align-vmiddle\">\n",
        "<!-- Alexa web traffic metrics are available via our API at http://aws.amazon.com/awis -->\n",
        "12,163,552              </strong>]"
       ]
      },
      {
       "output_type": "stream",
       "stream": "stdout",
       "text": [
        "\n",
        "[<strong class=\"metrics-data align-vmiddle\">\n",
        "<!-- Alexa web traffic metrics are available via our API at http://aws.amazon.com/awis -->\n",
        "434,323              </strong>]"
       ]
      },
      {
       "output_type": "stream",
       "stream": "stdout",
       "text": [
        "\n",
        "[<strong class=\"metrics-data align-vmiddle\">\n",
        "<!-- Alexa web traffic metrics are available via our API at http://aws.amazon.com/awis -->\n",
        "<span style=\"margin-left: 10px;\">-</span> </strong>]"
       ]
      },
      {
       "output_type": "stream",
       "stream": "stdout",
       "text": [
        "\n",
        "[<strong class=\"metrics-data align-vmiddle\">\n",
        "<!-- Alexa web traffic metrics are available via our API at http://aws.amazon.com/awis -->\n",
        "<span style=\"margin-left: 10px;\">-</span> </strong>]"
       ]
      },
      {
       "output_type": "stream",
       "stream": "stdout",
       "text": [
        "\n",
        "[<strong class=\"metrics-data align-vmiddle\">\n",
        "<!-- Alexa web traffic metrics are available via our API at http://aws.amazon.com/awis -->\n",
        "3,994,285              </strong>]"
       ]
      },
      {
       "output_type": "stream",
       "stream": "stdout",
       "text": [
        "\n",
        "[<strong class=\"metrics-data align-vmiddle\">\n",
        "<!-- Alexa web traffic metrics are available via our API at http://aws.amazon.com/awis -->\n",
        "<span style=\"margin-left: 10px;\">-</span> </strong>]"
       ]
      },
      {
       "output_type": "stream",
       "stream": "stdout",
       "text": [
        "\n",
        "[<strong class=\"metrics-data align-vmiddle\">\n",
        "<!-- Alexa web traffic metrics are available via our API at http://aws.amazon.com/awis -->\n",
        "10,623,138              </strong>]"
       ]
      },
      {
       "output_type": "stream",
       "stream": "stdout",
       "text": [
        "\n",
        "[<strong class=\"metrics-data align-vmiddle\">\n",
        "<!-- Alexa web traffic metrics are available via our API at http://aws.amazon.com/awis -->\n",
        "<span style=\"margin-left: 10px;\">-</span> </strong>]"
       ]
      },
      {
       "output_type": "stream",
       "stream": "stdout",
       "text": [
        "\n",
        "[<strong class=\"metrics-data align-vmiddle\">\n",
        "<!-- Alexa web traffic metrics are available via our API at http://aws.amazon.com/awis -->\n",
        "9,268,900              </strong>]"
       ]
      },
      {
       "output_type": "stream",
       "stream": "stdout",
       "text": [
        "\n",
        "[<strong class=\"metrics-data align-vmiddle\">\n",
        "<!-- Alexa web traffic metrics are available via our API at http://aws.amazon.com/awis -->\n",
        "696,207              </strong>]"
       ]
      },
      {
       "output_type": "stream",
       "stream": "stdout",
       "text": [
        "\n",
        "[<strong class=\"metrics-data align-vmiddle\">\n",
        "<!-- Alexa web traffic metrics are available via our API at http://aws.amazon.com/awis -->\n",
        "7,969,805              </strong>]"
       ]
      },
      {
       "output_type": "stream",
       "stream": "stdout",
       "text": [
        "\n",
        "[<strong class=\"metrics-data align-vmiddle\">\n",
        "<!-- Alexa web traffic metrics are available via our API at http://aws.amazon.com/awis -->\n",
        "<span style=\"margin-left: 10px;\">-</span> </strong>]"
       ]
      },
      {
       "output_type": "stream",
       "stream": "stdout",
       "text": [
        "\n",
        "[<strong class=\"metrics-data align-vmiddle\">\n",
        "<!-- Alexa web traffic metrics are available via our API at http://aws.amazon.com/awis -->\n",
        "4,664,229              </strong>]"
       ]
      },
      {
       "output_type": "stream",
       "stream": "stdout",
       "text": [
        "\n",
        "[<strong class=\"metrics-data align-vmiddle\">\n",
        "<!-- Alexa web traffic metrics are available via our API at http://aws.amazon.com/awis -->\n",
        "<span style=\"margin-left: 10px;\">-</span> </strong>]"
       ]
      },
      {
       "output_type": "stream",
       "stream": "stdout",
       "text": [
        "\n",
        "[<strong class=\"metrics-data align-vmiddle\">\n",
        "<!-- Alexa web traffic metrics are available via our API at http://aws.amazon.com/awis -->\n",
        "9,446,511              </strong>]"
       ]
      },
      {
       "output_type": "stream",
       "stream": "stdout",
       "text": [
        "\n",
        "[<strong class=\"metrics-data align-vmiddle\">\n",
        "<!-- Alexa web traffic metrics are available via our API at http://aws.amazon.com/awis -->\n",
        "7,978,038              </strong>]"
       ]
      },
      {
       "output_type": "stream",
       "stream": "stdout",
       "text": [
        "\n",
        "[<strong class=\"metrics-data align-vmiddle\">\n",
        "<!-- Alexa web traffic metrics are available via our API at http://aws.amazon.com/awis -->\n",
        "701,733              </strong>]"
       ]
      },
      {
       "output_type": "stream",
       "stream": "stdout",
       "text": [
        "\n",
        "[<strong class=\"metrics-data align-vmiddle\">\n",
        "<!-- Alexa web traffic metrics are available via our API at http://aws.amazon.com/awis -->\n",
        "1,465,667              </strong>]"
       ]
      },
      {
       "output_type": "stream",
       "stream": "stdout",
       "text": [
        "\n",
        "[<strong class=\"metrics-data align-vmiddle\">\n",
        "<!-- Alexa web traffic metrics are available via our API at http://aws.amazon.com/awis -->\n",
        "4,800,375              </strong>]"
       ]
      },
      {
       "output_type": "stream",
       "stream": "stdout",
       "text": [
        "\n",
        "[<strong class=\"metrics-data align-vmiddle\">\n",
        "<!-- Alexa web traffic metrics are available via our API at http://aws.amazon.com/awis -->\n",
        "72,737              </strong>]"
       ]
      },
      {
       "output_type": "stream",
       "stream": "stdout",
       "text": [
        "\n",
        "[<strong class=\"metrics-data align-vmiddle\">\n",
        "<!-- Alexa web traffic metrics are available via our API at http://aws.amazon.com/awis -->\n",
        "955,207              </strong>]"
       ]
      },
      {
       "output_type": "stream",
       "stream": "stdout",
       "text": [
        "\n",
        "[<strong class=\"metrics-data align-vmiddle\">\n",
        "<!-- Alexa web traffic metrics are available via our API at http://aws.amazon.com/awis -->\n",
        "1,519,949              </strong>]"
       ]
      },
      {
       "output_type": "stream",
       "stream": "stdout",
       "text": [
        "\n",
        "[<strong class=\"metrics-data align-vmiddle\">\n",
        "<!-- Alexa web traffic metrics are available via our API at http://aws.amazon.com/awis -->\n",
        "10,007              </strong>]"
       ]
      },
      {
       "output_type": "stream",
       "stream": "stdout",
       "text": [
        "\n",
        "[<strong class=\"metrics-data align-vmiddle\">\n",
        "<!-- Alexa web traffic metrics are available via our API at http://aws.amazon.com/awis -->\n",
        "8,475,347              </strong>]"
       ]
      },
      {
       "output_type": "stream",
       "stream": "stdout",
       "text": [
        "\n",
        "[<strong class=\"metrics-data align-vmiddle\">\n",
        "<!-- Alexa web traffic metrics are available via our API at http://aws.amazon.com/awis -->\n",
        "12,618,754              </strong>]"
       ]
      },
      {
       "output_type": "stream",
       "stream": "stdout",
       "text": [
        "\n",
        "[<strong class=\"metrics-data align-vmiddle\">\n",
        "<!-- Alexa web traffic metrics are available via our API at http://aws.amazon.com/awis -->\n",
        "7,985,355              </strong>]"
       ]
      },
      {
       "output_type": "stream",
       "stream": "stdout",
       "text": [
        "\n",
        "[<strong class=\"metrics-data align-vmiddle\">\n",
        "<!-- Alexa web traffic metrics are available via our API at http://aws.amazon.com/awis -->\n",
        "377,759              </strong>]"
       ]
      },
      {
       "output_type": "stream",
       "stream": "stdout",
       "text": [
        "\n",
        "[<strong class=\"metrics-data align-vmiddle\">\n",
        "<!-- Alexa web traffic metrics are available via our API at http://aws.amazon.com/awis -->\n",
        "377,759              </strong>]"
       ]
      },
      {
       "output_type": "stream",
       "stream": "stdout",
       "text": [
        "\n",
        "[<strong class=\"metrics-data align-vmiddle\">\n",
        "<!-- Alexa web traffic metrics are available via our API at http://aws.amazon.com/awis -->\n",
        "8,082,442              </strong>]"
       ]
      },
      {
       "output_type": "stream",
       "stream": "stdout",
       "text": [
        "\n",
        "[<strong class=\"metrics-data align-vmiddle\">\n",
        "<!-- Alexa web traffic metrics are available via our API at http://aws.amazon.com/awis -->\n",
        "<span style=\"margin-left: 10px;\">-</span> </strong>]"
       ]
      },
      {
       "output_type": "stream",
       "stream": "stdout",
       "text": [
        "\n",
        "[<strong class=\"metrics-data align-vmiddle\">\n",
        "<!-- Alexa web traffic metrics are available via our API at http://aws.amazon.com/awis -->\n",
        "<span style=\"margin-left: 10px;\">-</span> </strong>]"
       ]
      },
      {
       "output_type": "stream",
       "stream": "stdout",
       "text": [
        "\n",
        "[<strong class=\"metrics-data align-vmiddle\">\n",
        "<!-- Alexa web traffic metrics are available via our API at http://aws.amazon.com/awis -->\n",
        "12,120,781              </strong>]"
       ]
      },
      {
       "output_type": "stream",
       "stream": "stdout",
       "text": [
        "\n",
        "[<strong class=\"metrics-data align-vmiddle\">\n",
        "<!-- Alexa web traffic metrics are available via our API at http://aws.amazon.com/awis -->\n",
        "12,618,754              </strong>]"
       ]
      },
      {
       "output_type": "stream",
       "stream": "stdout",
       "text": [
        "\n",
        "[<strong class=\"metrics-data align-vmiddle\">\n",
        "<!-- Alexa web traffic metrics are available via our API at http://aws.amazon.com/awis -->\n",
        "5,278,143              </strong>]"
       ]
      },
      {
       "output_type": "stream",
       "stream": "stdout",
       "text": [
        "\n",
        "[<strong class=\"metrics-data align-vmiddle\">\n",
        "<!-- Alexa web traffic metrics are available via our API at http://aws.amazon.com/awis -->\n",
        "4,905,418              </strong>]"
       ]
      },
      {
       "output_type": "stream",
       "stream": "stdout",
       "text": [
        "\n",
        "[<strong class=\"metrics-data align-vmiddle\">\n",
        "<!-- Alexa web traffic metrics are available via our API at http://aws.amazon.com/awis -->\n",
        "2,653,457              </strong>]"
       ]
      },
      {
       "output_type": "stream",
       "stream": "stdout",
       "text": [
        "\n",
        "[<strong class=\"metrics-data align-vmiddle\">\n",
        "<!-- Alexa web traffic metrics are available via our API at http://aws.amazon.com/awis -->\n",
        "265,836              </strong>]"
       ]
      },
      {
       "output_type": "stream",
       "stream": "stdout",
       "text": [
        "\n",
        "[<strong class=\"metrics-data align-vmiddle\">\n",
        "<!-- Alexa web traffic metrics are available via our API at http://aws.amazon.com/awis -->\n",
        "16,131,910              </strong>]"
       ]
      },
      {
       "output_type": "stream",
       "stream": "stdout",
       "text": [
        "\n",
        "[<strong class=\"metrics-data align-vmiddle\">\n",
        "<!-- Alexa web traffic metrics are available via our API at http://aws.amazon.com/awis -->\n",
        "20,549,559              </strong>]"
       ]
      },
      {
       "output_type": "stream",
       "stream": "stdout",
       "text": [
        "\n",
        "[<strong class=\"metrics-data align-vmiddle\">\n",
        "<!-- Alexa web traffic metrics are available via our API at http://aws.amazon.com/awis -->\n",
        "1,132,171              </strong>]"
       ]
      },
      {
       "output_type": "stream",
       "stream": "stdout",
       "text": [
        "\n",
        "[<strong class=\"metrics-data align-vmiddle\">\n",
        "<!-- Alexa web traffic metrics are available via our API at http://aws.amazon.com/awis -->\n",
        "<span style=\"margin-left: 10px;\">-</span> </strong>]"
       ]
      },
      {
       "output_type": "stream",
       "stream": "stdout",
       "text": [
        "\n",
        "[<strong class=\"metrics-data align-vmiddle\">\n",
        "<!-- Alexa web traffic metrics are available via our API at http://aws.amazon.com/awis -->\n",
        "<span style=\"margin-left: 10px;\">-</span> </strong>]"
       ]
      },
      {
       "output_type": "stream",
       "stream": "stdout",
       "text": [
        "\n",
        "[<strong class=\"metrics-data align-vmiddle\">\n",
        "<!-- Alexa web traffic metrics are available via our API at http://aws.amazon.com/awis -->\n",
        "9,117,350              </strong>]"
       ]
      },
      {
       "output_type": "stream",
       "stream": "stdout",
       "text": [
        "\n",
        "[<strong class=\"metrics-data align-vmiddle\">\n",
        "<!-- Alexa web traffic metrics are available via our API at http://aws.amazon.com/awis -->\n",
        "<span style=\"margin-left: 10px;\">-</span> </strong>]"
       ]
      },
      {
       "output_type": "stream",
       "stream": "stdout",
       "text": [
        "\n",
        "[<strong class=\"metrics-data align-vmiddle\">\n",
        "<!-- Alexa web traffic metrics are available via our API at http://aws.amazon.com/awis -->\n",
        "5,754,316              </strong>]"
       ]
      },
      {
       "output_type": "stream",
       "stream": "stdout",
       "text": [
        "\n",
        "[<strong class=\"metrics-data align-vmiddle\">\n",
        "<!-- Alexa web traffic metrics are available via our API at http://aws.amazon.com/awis -->\n",
        "<span style=\"margin-left: 10px;\">-</span> </strong>]"
       ]
      },
      {
       "output_type": "stream",
       "stream": "stdout",
       "text": [
        "\n",
        "[<strong class=\"metrics-data align-vmiddle\">\n",
        "<!-- Alexa web traffic metrics are available via our API at http://aws.amazon.com/awis -->\n",
        "4,149,285              </strong>]"
       ]
      },
      {
       "output_type": "stream",
       "stream": "stdout",
       "text": [
        "\n",
        "[<strong class=\"metrics-data align-vmiddle\">\n",
        "<!-- Alexa web traffic metrics are available via our API at http://aws.amazon.com/awis -->\n",
        "3,076,371              </strong>]"
       ]
      },
      {
       "output_type": "stream",
       "stream": "stdout",
       "text": [
        "\n",
        "[<strong class=\"metrics-data align-vmiddle\">\n",
        "<!-- Alexa web traffic metrics are available via our API at http://aws.amazon.com/awis -->\n",
        "7,053,621              </strong>]"
       ]
      },
      {
       "output_type": "stream",
       "stream": "stdout",
       "text": [
        "\n",
        "[<strong class=\"metrics-data align-vmiddle\">\n",
        "<!-- Alexa web traffic metrics are available via our API at http://aws.amazon.com/awis -->\n",
        "12,618,754              </strong>]"
       ]
      },
      {
       "output_type": "stream",
       "stream": "stdout",
       "text": [
        "\n",
        "[<strong class=\"metrics-data align-vmiddle\">\n",
        "<!-- Alexa web traffic metrics are available via our API at http://aws.amazon.com/awis -->\n",
        "<span style=\"margin-left: 10px;\">-</span> </strong>]"
       ]
      },
      {
       "output_type": "stream",
       "stream": "stdout",
       "text": [
        "\n",
        "[<strong class=\"metrics-data align-vmiddle\">\n",
        "<!-- Alexa web traffic metrics are available via our API at http://aws.amazon.com/awis -->\n",
        "12,618,754              </strong>]"
       ]
      },
      {
       "output_type": "stream",
       "stream": "stdout",
       "text": [
        "\n",
        "[<strong class=\"metrics-data align-vmiddle\">\n",
        "<!-- Alexa web traffic metrics are available via our API at http://aws.amazon.com/awis -->\n",
        "<span style=\"margin-left: 10px;\">-</span> </strong>]"
       ]
      },
      {
       "output_type": "stream",
       "stream": "stdout",
       "text": [
        "\n",
        "[<strong class=\"metrics-data align-vmiddle\">\n",
        "<!-- Alexa web traffic metrics are available via our API at http://aws.amazon.com/awis -->\n",
        "1,264,286              </strong>]"
       ]
      },
      {
       "output_type": "stream",
       "stream": "stdout",
       "text": [
        "\n",
        "[<strong class=\"metrics-data align-vmiddle\">\n",
        "<!-- Alexa web traffic metrics are available via our API at http://aws.amazon.com/awis -->\n",
        "1,256,000              </strong>]"
       ]
      },
      {
       "output_type": "stream",
       "stream": "stdout",
       "text": [
        "\n",
        "[<strong class=\"metrics-data align-vmiddle\">\n",
        "<!-- Alexa web traffic metrics are available via our API at http://aws.amazon.com/awis -->\n",
        "2,812,332              </strong>]"
       ]
      },
      {
       "output_type": "stream",
       "stream": "stdout",
       "text": [
        "\n",
        "[<strong class=\"metrics-data align-vmiddle\">\n",
        "<!-- Alexa web traffic metrics are available via our API at http://aws.amazon.com/awis -->\n",
        "<span style=\"margin-left: 10px;\">-</span> </strong>]"
       ]
      },
      {
       "output_type": "stream",
       "stream": "stdout",
       "text": [
        "\n",
        "[<strong class=\"metrics-data align-vmiddle\">\n",
        "<!-- Alexa web traffic metrics are available via our API at http://aws.amazon.com/awis -->\n",
        "3,214,508              </strong>]"
       ]
      },
      {
       "output_type": "stream",
       "stream": "stdout",
       "text": [
        "\n",
        "[<strong class=\"metrics-data align-vmiddle\">\n",
        "<!-- Alexa web traffic metrics are available via our API at http://aws.amazon.com/awis -->\n",
        "12,486,275              </strong>]"
       ]
      },
      {
       "output_type": "stream",
       "stream": "stdout",
       "text": [
        "\n",
        "[<strong class=\"metrics-data align-vmiddle\">\n",
        "<!-- Alexa web traffic metrics are available via our API at http://aws.amazon.com/awis -->\n",
        "2,040,661              </strong>]"
       ]
      },
      {
       "output_type": "stream",
       "stream": "stdout",
       "text": [
        "\n",
        "[<strong class=\"metrics-data align-vmiddle\">\n",
        "<!-- Alexa web traffic metrics are available via our API at http://aws.amazon.com/awis -->\n",
        "12,618,754              </strong>]"
       ]
      },
      {
       "output_type": "stream",
       "stream": "stdout",
       "text": [
        "\n",
        "[<strong class=\"metrics-data align-vmiddle\">\n",
        "<!-- Alexa web traffic metrics are available via our API at http://aws.amazon.com/awis -->\n",
        "4,088,588              </strong>]"
       ]
      },
      {
       "output_type": "stream",
       "stream": "stdout",
       "text": [
        "\n",
        "[<strong class=\"metrics-data align-vmiddle\">\n",
        "<!-- Alexa web traffic metrics are available via our API at http://aws.amazon.com/awis -->\n",
        "12,374              </strong>]"
       ]
      },
      {
       "output_type": "stream",
       "stream": "stdout",
       "text": [
        "\n",
        "[<strong class=\"metrics-data align-vmiddle\">\n",
        "<!-- Alexa web traffic metrics are available via our API at http://aws.amazon.com/awis -->\n",
        "12,618,754              </strong>]"
       ]
      },
      {
       "output_type": "stream",
       "stream": "stdout",
       "text": [
        "\n",
        "[<strong class=\"metrics-data align-vmiddle\">\n",
        "<!-- Alexa web traffic metrics are available via our API at http://aws.amazon.com/awis -->\n",
        "12,618,754              </strong>]"
       ]
      },
      {
       "output_type": "stream",
       "stream": "stdout",
       "text": [
        "\n",
        "[<strong class=\"metrics-data align-vmiddle\">\n",
        "<!-- Alexa web traffic metrics are available via our API at http://aws.amazon.com/awis -->\n",
        "12,618,754              </strong>]"
       ]
      },
      {
       "output_type": "stream",
       "stream": "stdout",
       "text": [
        "\n",
        "[<strong class=\"metrics-data align-vmiddle\">\n",
        "<!-- Alexa web traffic metrics are available via our API at http://aws.amazon.com/awis -->\n",
        "12,618,754              </strong>]"
       ]
      },
      {
       "output_type": "stream",
       "stream": "stdout",
       "text": [
        "\n",
        "[<strong class=\"metrics-data align-vmiddle\">\n",
        "<!-- Alexa web traffic metrics are available via our API at http://aws.amazon.com/awis -->\n",
        "9,761,148              </strong>]"
       ]
      },
      {
       "output_type": "stream",
       "stream": "stdout",
       "text": [
        "\n",
        "[<strong class=\"metrics-data align-vmiddle\">\n",
        "<!-- Alexa web traffic metrics are available via our API at http://aws.amazon.com/awis -->\n",
        "<span style=\"margin-left: 10px;\">-</span> </strong>]"
       ]
      },
      {
       "output_type": "stream",
       "stream": "stdout",
       "text": [
        "\n",
        "[<strong class=\"metrics-data align-vmiddle\">\n",
        "<!-- Alexa web traffic metrics are available via our API at http://aws.amazon.com/awis -->\n",
        "1,739,138              </strong>]"
       ]
      },
      {
       "output_type": "stream",
       "stream": "stdout",
       "text": [
        "\n",
        "[<strong class=\"metrics-data align-vmiddle\">\n",
        "<!-- Alexa web traffic metrics are available via our API at http://aws.amazon.com/awis -->\n",
        "4,071,424              </strong>]"
       ]
      },
      {
       "output_type": "stream",
       "stream": "stdout",
       "text": [
        "\n",
        "[<strong class=\"metrics-data align-vmiddle\">\n",
        "<!-- Alexa web traffic metrics are available via our API at http://aws.amazon.com/awis -->\n",
        "5,992,550              </strong>]"
       ]
      },
      {
       "output_type": "stream",
       "stream": "stdout",
       "text": [
        "\n",
        "[<strong class=\"metrics-data align-vmiddle\">\n",
        "<!-- Alexa web traffic metrics are available via our API at http://aws.amazon.com/awis -->\n",
        "1,048,655              </strong>]"
       ]
      },
      {
       "output_type": "stream",
       "stream": "stdout",
       "text": [
        "\n",
        "[<strong class=\"metrics-data align-vmiddle\">\n",
        "<!-- Alexa web traffic metrics are available via our API at http://aws.amazon.com/awis -->\n",
        "<span style=\"margin-left: 10px;\">-</span> </strong>]"
       ]
      },
      {
       "output_type": "stream",
       "stream": "stdout",
       "text": [
        "\n",
        "[<strong class=\"metrics-data align-vmiddle\">\n",
        "<!-- Alexa web traffic metrics are available via our API at http://aws.amazon.com/awis -->\n",
        "3,876,595              </strong>]"
       ]
      },
      {
       "output_type": "stream",
       "stream": "stdout",
       "text": [
        "\n",
        "[<strong class=\"metrics-data align-vmiddle\">\n",
        "<!-- Alexa web traffic metrics are available via our API at http://aws.amazon.com/awis -->\n",
        "5,262,342              </strong>]"
       ]
      },
      {
       "output_type": "stream",
       "stream": "stdout",
       "text": [
        "\n",
        "[<strong class=\"metrics-data align-vmiddle\">\n",
        "<!-- Alexa web traffic metrics are available via our API at http://aws.amazon.com/awis -->\n",
        "9,637,388              </strong>]"
       ]
      },
      {
       "output_type": "stream",
       "stream": "stdout",
       "text": [
        "\n",
        "[<strong class=\"metrics-data align-vmiddle\">\n",
        "<!-- Alexa web traffic metrics are available via our API at http://aws.amazon.com/awis -->\n",
        "<span style=\"margin-left: 10px;\">-</span> </strong>]"
       ]
      },
      {
       "output_type": "stream",
       "stream": "stdout",
       "text": [
        "\n",
        "[<strong class=\"metrics-data align-vmiddle\">\n",
        "<!-- Alexa web traffic metrics are available via our API at http://aws.amazon.com/awis -->\n",
        "5,793,985              </strong>]"
       ]
      },
      {
       "output_type": "stream",
       "stream": "stdout",
       "text": [
        "\n",
        "[<strong class=\"metrics-data align-vmiddle\">\n",
        "<!-- Alexa web traffic metrics are available via our API at http://aws.amazon.com/awis -->\n",
        "<span style=\"margin-left: 10px;\">-</span> </strong>]"
       ]
      },
      {
       "output_type": "stream",
       "stream": "stdout",
       "text": [
        "\n",
        "[<strong class=\"metrics-data align-vmiddle\">\n",
        "<!-- Alexa web traffic metrics are available via our API at http://aws.amazon.com/awis -->\n",
        "6,028,735              </strong>]"
       ]
      },
      {
       "output_type": "stream",
       "stream": "stdout",
       "text": [
        "\n",
        "[<strong class=\"metrics-data align-vmiddle\">\n",
        "<!-- Alexa web traffic metrics are available via our API at http://aws.amazon.com/awis -->\n",
        "20,579,237              </strong>]"
       ]
      },
      {
       "output_type": "stream",
       "stream": "stdout",
       "text": [
        "\n",
        "[<strong class=\"metrics-data align-vmiddle\">\n",
        "<!-- Alexa web traffic metrics are available via our API at http://aws.amazon.com/awis -->\n",
        "12,618,754              </strong>]"
       ]
      },
      {
       "output_type": "stream",
       "stream": "stdout",
       "text": [
        "\n",
        "[<strong class=\"metrics-data align-vmiddle\">\n",
        "<!-- Alexa web traffic metrics are available via our API at http://aws.amazon.com/awis -->\n",
        "<span style=\"margin-left: 10px;\">-</span> </strong>]"
       ]
      },
      {
       "output_type": "stream",
       "stream": "stdout",
       "text": [
        "\n",
        "[<strong class=\"metrics-data align-vmiddle\">\n",
        "<!-- Alexa web traffic metrics are available via our API at http://aws.amazon.com/awis -->\n",
        "5,678,489              </strong>]"
       ]
      },
      {
       "output_type": "stream",
       "stream": "stdout",
       "text": [
        "\n",
        "[<strong class=\"metrics-data align-vmiddle\">\n",
        "<!-- Alexa web traffic metrics are available via our API at http://aws.amazon.com/awis -->\n",
        "5,377,889              </strong>]"
       ]
      },
      {
       "output_type": "stream",
       "stream": "stdout",
       "text": [
        "\n",
        "[<strong class=\"metrics-data align-vmiddle\">\n",
        "<!-- Alexa web traffic metrics are available via our API at http://aws.amazon.com/awis -->\n",
        "12,157,306              </strong>]"
       ]
      },
      {
       "output_type": "stream",
       "stream": "stdout",
       "text": [
        "\n",
        "[<strong class=\"metrics-data align-vmiddle\">\n",
        "<!-- Alexa web traffic metrics are available via our API at http://aws.amazon.com/awis -->\n",
        "4,574,199              </strong>]"
       ]
      },
      {
       "output_type": "stream",
       "stream": "stdout",
       "text": [
        "\n",
        "[<strong class=\"metrics-data align-vmiddle\">\n",
        "<!-- Alexa web traffic metrics are available via our API at http://aws.amazon.com/awis -->\n",
        "72,156              </strong>]"
       ]
      },
      {
       "output_type": "stream",
       "stream": "stdout",
       "text": [
        "\n",
        "[<strong class=\"metrics-data align-vmiddle\">\n",
        "<!-- Alexa web traffic metrics are available via our API at http://aws.amazon.com/awis -->\n",
        "2,646,026              </strong>]"
       ]
      },
      {
       "output_type": "stream",
       "stream": "stdout",
       "text": [
        "\n",
        "[<strong class=\"metrics-data align-vmiddle\">\n",
        "<!-- Alexa web traffic metrics are available via our API at http://aws.amazon.com/awis -->\n",
        "4,981,606              </strong>]"
       ]
      },
      {
       "output_type": "stream",
       "stream": "stdout",
       "text": [
        "\n",
        "[<strong class=\"metrics-data align-vmiddle\">\n",
        "<!-- Alexa web traffic metrics are available via our API at http://aws.amazon.com/awis -->\n",
        "5,138,017              </strong>]"
       ]
      },
      {
       "output_type": "stream",
       "stream": "stdout",
       "text": [
        "\n",
        "[<strong class=\"metrics-data align-vmiddle\">\n",
        "<!-- Alexa web traffic metrics are available via our API at http://aws.amazon.com/awis -->\n",
        "5,867,045              </strong>]"
       ]
      },
      {
       "output_type": "stream",
       "stream": "stdout",
       "text": [
        "\n",
        "[<strong class=\"metrics-data align-vmiddle\">\n",
        "<!-- Alexa web traffic metrics are available via our API at http://aws.amazon.com/awis -->\n",
        "2,270,223              </strong>]"
       ]
      },
      {
       "output_type": "stream",
       "stream": "stdout",
       "text": [
        "\n",
        "[<strong class=\"metrics-data align-vmiddle\">\n",
        "<!-- Alexa web traffic metrics are available via our API at http://aws.amazon.com/awis -->\n",
        "429,285              </strong>]"
       ]
      },
      {
       "output_type": "stream",
       "stream": "stdout",
       "text": [
        "\n",
        "[<strong class=\"metrics-data align-vmiddle\">\n",
        "<!-- Alexa web traffic metrics are available via our API at http://aws.amazon.com/awis -->\n",
        "<span style=\"margin-left: 10px;\">-</span> </strong>]"
       ]
      },
      {
       "output_type": "stream",
       "stream": "stdout",
       "text": [
        "\n",
        "[<strong class=\"metrics-data align-vmiddle\">\n",
        "<!-- Alexa web traffic metrics are available via our API at http://aws.amazon.com/awis -->\n",
        "7,599,122              </strong>]"
       ]
      },
      {
       "output_type": "stream",
       "stream": "stdout",
       "text": [
        "\n",
        "[<strong class=\"metrics-data align-vmiddle\">\n",
        "<!-- Alexa web traffic metrics are available via our API at http://aws.amazon.com/awis -->\n",
        "12,618,754              </strong>]"
       ]
      },
      {
       "output_type": "stream",
       "stream": "stdout",
       "text": [
        "\n",
        "[<strong class=\"metrics-data align-vmiddle\">\n",
        "<!-- Alexa web traffic metrics are available via our API at http://aws.amazon.com/awis -->\n",
        "161,188              </strong>]"
       ]
      },
      {
       "output_type": "stream",
       "stream": "stdout",
       "text": [
        "\n",
        "[<strong class=\"metrics-data align-vmiddle\">\n",
        "<!-- Alexa web traffic metrics are available via our API at http://aws.amazon.com/awis -->\n",
        "12,618,754              </strong>]"
       ]
      },
      {
       "output_type": "stream",
       "stream": "stdout",
       "text": [
        "\n",
        "[<strong class=\"metrics-data align-vmiddle\">\n",
        "<!-- Alexa web traffic metrics are available via our API at http://aws.amazon.com/awis -->\n",
        "<span style=\"margin-left: 10px;\">-</span> </strong>]"
       ]
      },
      {
       "output_type": "stream",
       "stream": "stdout",
       "text": [
        "\n",
        "[<strong class=\"metrics-data align-vmiddle\">\n",
        "<!-- Alexa web traffic metrics are available via our API at http://aws.amazon.com/awis -->\n",
        "6,235,466              </strong>]"
       ]
      },
      {
       "output_type": "stream",
       "stream": "stdout",
       "text": [
        "\n",
        "[<strong class=\"metrics-data align-vmiddle\">\n",
        "<!-- Alexa web traffic metrics are available via our API at http://aws.amazon.com/awis -->\n",
        "59,924              </strong>]"
       ]
      },
      {
       "output_type": "stream",
       "stream": "stdout",
       "text": [
        "\n",
        "[<strong class=\"metrics-data align-vmiddle\">\n",
        "<!-- Alexa web traffic metrics are available via our API at http://aws.amazon.com/awis -->\n",
        "9,120,077              </strong>]"
       ]
      },
      {
       "output_type": "stream",
       "stream": "stdout",
       "text": [
        "\n",
        "[<strong class=\"metrics-data align-vmiddle\">\n",
        "<!-- Alexa web traffic metrics are available via our API at http://aws.amazon.com/awis -->\n",
        "6,996,691              </strong>]"
       ]
      },
      {
       "output_type": "stream",
       "stream": "stdout",
       "text": [
        "\n",
        "[<strong class=\"metrics-data align-vmiddle\">\n",
        "<!-- Alexa web traffic metrics are available via our API at http://aws.amazon.com/awis -->\n",
        "12,618,754              </strong>]"
       ]
      },
      {
       "output_type": "stream",
       "stream": "stdout",
       "text": [
        "\n",
        "[<strong class=\"metrics-data align-vmiddle\">\n",
        "<!-- Alexa web traffic metrics are available via our API at http://aws.amazon.com/awis -->\n",
        "3,906,427              </strong>]"
       ]
      },
      {
       "output_type": "stream",
       "stream": "stdout",
       "text": [
        "\n",
        "[<strong class=\"metrics-data align-vmiddle\">\n",
        "<!-- Alexa web traffic metrics are available via our API at http://aws.amazon.com/awis -->\n",
        "12,618,754              </strong>]"
       ]
      },
      {
       "output_type": "stream",
       "stream": "stdout",
       "text": [
        "\n",
        "[<strong class=\"metrics-data align-vmiddle\">\n",
        "<!-- Alexa web traffic metrics are available via our API at http://aws.amazon.com/awis -->\n",
        "1,530,683              </strong>]"
       ]
      },
      {
       "output_type": "stream",
       "stream": "stdout",
       "text": [
        "\n",
        "[<strong class=\"metrics-data align-vmiddle\">\n",
        "<!-- Alexa web traffic metrics are available via our API at http://aws.amazon.com/awis -->\n",
        "10,239,361              </strong>]"
       ]
      },
      {
       "output_type": "stream",
       "stream": "stdout",
       "text": [
        "\n",
        "[<strong class=\"metrics-data align-vmiddle\">\n",
        "<!-- Alexa web traffic metrics are available via our API at http://aws.amazon.com/awis -->\n",
        "<span style=\"margin-left: 10px;\">-</span> </strong>]"
       ]
      },
      {
       "output_type": "stream",
       "stream": "stdout",
       "text": [
        "\n",
        "[<strong class=\"metrics-data align-vmiddle\">\n",
        "<!-- Alexa web traffic metrics are available via our API at http://aws.amazon.com/awis -->\n",
        "12,618,754              </strong>]"
       ]
      },
      {
       "output_type": "stream",
       "stream": "stdout",
       "text": [
        "\n",
        "[<strong class=\"metrics-data align-vmiddle\">\n",
        "<!-- Alexa web traffic metrics are available via our API at http://aws.amazon.com/awis -->\n",
        "5,494,055              </strong>]"
       ]
      },
      {
       "output_type": "stream",
       "stream": "stdout",
       "text": [
        "\n",
        "[<strong class=\"metrics-data align-vmiddle\">\n",
        "<!-- Alexa web traffic metrics are available via our API at http://aws.amazon.com/awis -->\n",
        "10,044,787              </strong>]"
       ]
      },
      {
       "output_type": "stream",
       "stream": "stdout",
       "text": [
        "\n",
        "[<strong class=\"metrics-data align-vmiddle\">\n",
        "<!-- Alexa web traffic metrics are available via our API at http://aws.amazon.com/awis -->\n",
        "8,937,288              </strong>]"
       ]
      },
      {
       "output_type": "stream",
       "stream": "stdout",
       "text": [
        "\n",
        "[<strong class=\"metrics-data align-vmiddle\">\n",
        "<!-- Alexa web traffic metrics are available via our API at http://aws.amazon.com/awis -->\n",
        "12,618,754              </strong>]"
       ]
      },
      {
       "output_type": "stream",
       "stream": "stdout",
       "text": [
        "\n",
        "[<strong class=\"metrics-data align-vmiddle\">\n",
        "<!-- Alexa web traffic metrics are available via our API at http://aws.amazon.com/awis -->\n",
        "<span style=\"margin-left: 10px;\">-</span> </strong>]"
       ]
      },
      {
       "output_type": "stream",
       "stream": "stdout",
       "text": [
        "\n",
        "[<strong class=\"metrics-data align-vmiddle\">\n",
        "<!-- Alexa web traffic metrics are available via our API at http://aws.amazon.com/awis -->\n",
        "13,066,061              </strong>]"
       ]
      },
      {
       "output_type": "stream",
       "stream": "stdout",
       "text": [
        "\n",
        "[<strong class=\"metrics-data align-vmiddle\">\n",
        "<!-- Alexa web traffic metrics are available via our API at http://aws.amazon.com/awis -->\n",
        "8,348              </strong>]"
       ]
      },
      {
       "output_type": "stream",
       "stream": "stdout",
       "text": [
        "\n",
        "[<strong class=\"metrics-data align-vmiddle\">\n",
        "<!-- Alexa web traffic metrics are available via our API at http://aws.amazon.com/awis -->\n",
        "5,378,033              </strong>]"
       ]
      },
      {
       "output_type": "stream",
       "stream": "stdout",
       "text": [
        "\n",
        "[<strong class=\"metrics-data align-vmiddle\">\n",
        "<!-- Alexa web traffic metrics are available via our API at http://aws.amazon.com/awis -->\n",
        "<span style=\"margin-left: 10px;\">-</span> </strong>]"
       ]
      },
      {
       "output_type": "stream",
       "stream": "stdout",
       "text": [
        "\n",
        "[<strong class=\"metrics-data align-vmiddle\">\n",
        "<!-- Alexa web traffic metrics are available via our API at http://aws.amazon.com/awis -->\n",
        "559,669              </strong>]"
       ]
      },
      {
       "output_type": "stream",
       "stream": "stdout",
       "text": [
        "\n",
        "[<strong class=\"metrics-data align-vmiddle\">\n",
        "<!-- Alexa web traffic metrics are available via our API at http://aws.amazon.com/awis -->\n",
        "773,310              </strong>]"
       ]
      },
      {
       "output_type": "stream",
       "stream": "stdout",
       "text": [
        "\n",
        "[<strong class=\"metrics-data align-vmiddle\">\n",
        "<!-- Alexa web traffic metrics are available via our API at http://aws.amazon.com/awis -->\n",
        "<span style=\"margin-left: 10px;\">-</span> </strong>]"
       ]
      },
      {
       "output_type": "stream",
       "stream": "stdout",
       "text": [
        "\n",
        "[<strong class=\"metrics-data align-vmiddle\">\n",
        "<!-- Alexa web traffic metrics are available via our API at http://aws.amazon.com/awis -->\n",
        "<span style=\"margin-left: 10px;\">-</span> </strong>]"
       ]
      },
      {
       "output_type": "stream",
       "stream": "stdout",
       "text": [
        "\n",
        "[<strong class=\"metrics-data align-vmiddle\">\n",
        "<!-- Alexa web traffic metrics are available via our API at http://aws.amazon.com/awis -->\n",
        "4,682,837              </strong>]"
       ]
      },
      {
       "output_type": "stream",
       "stream": "stdout",
       "text": [
        "\n",
        "[<strong class=\"metrics-data align-vmiddle\">\n",
        "<!-- Alexa web traffic metrics are available via our API at http://aws.amazon.com/awis -->\n",
        "6,081,548              </strong>]"
       ]
      },
      {
       "output_type": "stream",
       "stream": "stdout",
       "text": [
        "\n",
        "[<strong class=\"metrics-data align-vmiddle\">\n",
        "<!-- Alexa web traffic metrics are available via our API at http://aws.amazon.com/awis -->\n",
        "<span style=\"margin-left: 10px;\">-</span> </strong>]"
       ]
      },
      {
       "output_type": "stream",
       "stream": "stdout",
       "text": [
        "\n",
        "[<strong class=\"metrics-data align-vmiddle\">\n",
        "<!-- Alexa web traffic metrics are available via our API at http://aws.amazon.com/awis -->\n",
        "<span style=\"margin-left: 10px;\">-</span> </strong>]"
       ]
      },
      {
       "output_type": "stream",
       "stream": "stdout",
       "text": [
        "\n",
        "[<strong class=\"metrics-data align-vmiddle\">\n",
        "<!-- Alexa web traffic metrics are available via our API at http://aws.amazon.com/awis -->\n",
        "4,091,133              </strong>]"
       ]
      },
      {
       "output_type": "stream",
       "stream": "stdout",
       "text": [
        "\n",
        "[<strong class=\"metrics-data align-vmiddle\">\n",
        "<!-- Alexa web traffic metrics are available via our API at http://aws.amazon.com/awis -->\n",
        "2,883,301              </strong>]"
       ]
      },
      {
       "output_type": "stream",
       "stream": "stdout",
       "text": [
        "\n",
        "[<strong class=\"metrics-data align-vmiddle\">\n",
        "<!-- Alexa web traffic metrics are available via our API at http://aws.amazon.com/awis -->\n",
        "10,911,023              </strong>]"
       ]
      },
      {
       "output_type": "stream",
       "stream": "stdout",
       "text": [
        "\n",
        "[<strong class=\"metrics-data align-vmiddle\">\n",
        "<!-- Alexa web traffic metrics are available via our API at http://aws.amazon.com/awis -->\n",
        "14,850,779              </strong>]"
       ]
      },
      {
       "output_type": "stream",
       "stream": "stdout",
       "text": [
        "\n",
        "[<strong class=\"metrics-data align-vmiddle\">\n",
        "<!-- Alexa web traffic metrics are available via our API at http://aws.amazon.com/awis -->\n",
        "7,975,645              </strong>]"
       ]
      },
      {
       "output_type": "stream",
       "stream": "stdout",
       "text": [
        "\n",
        "[<strong class=\"metrics-data align-vmiddle\">\n",
        "<!-- Alexa web traffic metrics are available via our API at http://aws.amazon.com/awis -->\n",
        "<span style=\"margin-left: 10px;\">-</span> </strong>]"
       ]
      },
      {
       "output_type": "stream",
       "stream": "stdout",
       "text": [
        "\n",
        "[<strong class=\"metrics-data align-vmiddle\">\n",
        "<!-- Alexa web traffic metrics are available via our API at http://aws.amazon.com/awis -->\n",
        "12,120,853              </strong>]"
       ]
      },
      {
       "output_type": "stream",
       "stream": "stdout",
       "text": [
        "\n",
        "[<strong class=\"metrics-data align-vmiddle\">\n",
        "<!-- Alexa web traffic metrics are available via our API at http://aws.amazon.com/awis -->\n",
        "6,058,072              </strong>]"
       ]
      },
      {
       "output_type": "stream",
       "stream": "stdout",
       "text": [
        "\n",
        "[<strong class=\"metrics-data align-vmiddle\">\n",
        "<!-- Alexa web traffic metrics are available via our API at http://aws.amazon.com/awis -->\n",
        "8,744,329              </strong>]"
       ]
      },
      {
       "output_type": "stream",
       "stream": "stdout",
       "text": [
        "\n",
        "[<strong class=\"metrics-data align-vmiddle\">\n",
        "<!-- Alexa web traffic metrics are available via our API at http://aws.amazon.com/awis -->\n",
        "9,897,175              </strong>]"
       ]
      },
      {
       "output_type": "stream",
       "stream": "stdout",
       "text": [
        "\n",
        "[<strong class=\"metrics-data align-vmiddle\">\n",
        "<!-- Alexa web traffic metrics are available via our API at http://aws.amazon.com/awis -->\n",
        "8,431,726              </strong>]"
       ]
      },
      {
       "output_type": "stream",
       "stream": "stdout",
       "text": [
        "\n",
        "[<strong class=\"metrics-data align-vmiddle\">\n",
        "<!-- Alexa web traffic metrics are available via our API at http://aws.amazon.com/awis -->\n",
        "8,637,959              </strong>]"
       ]
      },
      {
       "output_type": "stream",
       "stream": "stdout",
       "text": [
        "\n",
        "[<strong class=\"metrics-data align-vmiddle\">\n",
        "<!-- Alexa web traffic metrics are available via our API at http://aws.amazon.com/awis -->\n",
        "1,298,180              </strong>]"
       ]
      },
      {
       "output_type": "stream",
       "stream": "stdout",
       "text": [
        "\n",
        "[<strong class=\"metrics-data align-vmiddle\">\n",
        "<!-- Alexa web traffic metrics are available via our API at http://aws.amazon.com/awis -->\n",
        "<span style=\"margin-left: 10px;\">-</span> </strong>]"
       ]
      },
      {
       "output_type": "stream",
       "stream": "stdout",
       "text": [
        "\n",
        "[<strong class=\"metrics-data align-vmiddle\">\n",
        "<!-- Alexa web traffic metrics are available via our API at http://aws.amazon.com/awis -->\n",
        "9,329,423              </strong>]"
       ]
      },
      {
       "output_type": "stream",
       "stream": "stdout",
       "text": [
        "\n",
        "[<strong class=\"metrics-data align-vmiddle\">\n",
        "<!-- Alexa web traffic metrics are available via our API at http://aws.amazon.com/awis -->\n",
        "7,681,573              </strong>]"
       ]
      },
      {
       "output_type": "stream",
       "stream": "stdout",
       "text": [
        "\n",
        "[<strong class=\"metrics-data align-vmiddle\">\n",
        "<!-- Alexa web traffic metrics are available via our API at http://aws.amazon.com/awis -->\n",
        "<span style=\"margin-left: 10px;\">-</span> </strong>]"
       ]
      },
      {
       "output_type": "stream",
       "stream": "stdout",
       "text": [
        "\n",
        "[<strong class=\"metrics-data align-vmiddle\">\n",
        "<!-- Alexa web traffic metrics are available via our API at http://aws.amazon.com/awis -->\n",
        "<span style=\"margin-left: 10px;\">-</span> </strong>]"
       ]
      },
      {
       "output_type": "stream",
       "stream": "stdout",
       "text": [
        "\n",
        "[<strong class=\"metrics-data align-vmiddle\">\n",
        "<!-- Alexa web traffic metrics are available via our API at http://aws.amazon.com/awis -->\n",
        "9,329,422              </strong>]"
       ]
      },
      {
       "output_type": "stream",
       "stream": "stdout",
       "text": [
        "\n",
        "[<strong class=\"metrics-data align-vmiddle\">\n",
        "<!-- Alexa web traffic metrics are available via our API at http://aws.amazon.com/awis -->\n",
        "15,787,287              </strong>]"
       ]
      },
      {
       "output_type": "stream",
       "stream": "stdout",
       "text": [
        "\n",
        "[<strong class=\"metrics-data align-vmiddle\">\n",
        "<!-- Alexa web traffic metrics are available via our API at http://aws.amazon.com/awis -->\n",
        "4,961,034              </strong>]"
       ]
      },
      {
       "output_type": "stream",
       "stream": "stdout",
       "text": [
        "\n",
        "[<strong class=\"metrics-data align-vmiddle\">\n",
        "<!-- Alexa web traffic metrics are available via our API at http://aws.amazon.com/awis -->\n",
        "<span style=\"margin-left: 10px;\">-</span> </strong>]"
       ]
      },
      {
       "output_type": "stream",
       "stream": "stdout",
       "text": [
        "\n",
        "[<strong class=\"metrics-data align-vmiddle\">\n",
        "<!-- Alexa web traffic metrics are available via our API at http://aws.amazon.com/awis -->\n",
        "1,367,411              </strong>]"
       ]
      },
      {
       "output_type": "stream",
       "stream": "stdout",
       "text": [
        "\n",
        "[<strong class=\"metrics-data align-vmiddle\">\n",
        "<!-- Alexa web traffic metrics are available via our API at http://aws.amazon.com/awis -->\n",
        "<span style=\"margin-left: 10px;\">-</span> </strong>]"
       ]
      },
      {
       "output_type": "stream",
       "stream": "stdout",
       "text": [
        "\n",
        "[<strong class=\"metrics-data align-vmiddle\">\n",
        "<!-- Alexa web traffic metrics are available via our API at http://aws.amazon.com/awis -->\n",
        "64,735              </strong>]"
       ]
      },
      {
       "output_type": "stream",
       "stream": "stdout",
       "text": [
        "\n",
        "[<strong class=\"metrics-data align-vmiddle\">\n",
        "<!-- Alexa web traffic metrics are available via our API at http://aws.amazon.com/awis -->\n",
        "3,915,884              </strong>]"
       ]
      },
      {
       "output_type": "stream",
       "stream": "stdout",
       "text": [
        "\n",
        "[<strong class=\"metrics-data align-vmiddle\">\n",
        "<!-- Alexa web traffic metrics are available via our API at http://aws.amazon.com/awis -->\n",
        "<span style=\"margin-left: 10px;\">-</span> </strong>]"
       ]
      },
      {
       "output_type": "stream",
       "stream": "stdout",
       "text": [
        "\n",
        "[<strong class=\"metrics-data align-vmiddle\">\n",
        "<!-- Alexa web traffic metrics are available via our API at http://aws.amazon.com/awis -->\n",
        "3,160,657              </strong>]"
       ]
      },
      {
       "output_type": "stream",
       "stream": "stdout",
       "text": [
        "\n",
        "[<strong class=\"metrics-data align-vmiddle\">\n",
        "<!-- Alexa web traffic metrics are available via our API at http://aws.amazon.com/awis -->\n",
        "2,831,562              </strong>]"
       ]
      },
      {
       "output_type": "stream",
       "stream": "stdout",
       "text": [
        "\n",
        "[<strong class=\"metrics-data align-vmiddle\">\n",
        "<!-- Alexa web traffic metrics are available via our API at http://aws.amazon.com/awis -->\n",
        "6,924,572              </strong>]"
       ]
      },
      {
       "output_type": "stream",
       "stream": "stdout",
       "text": [
        "\n",
        "[<strong class=\"metrics-data align-vmiddle\">\n",
        "<!-- Alexa web traffic metrics are available via our API at http://aws.amazon.com/awis -->\n",
        "<span style=\"margin-left: 10px;\">-</span> </strong>]"
       ]
      },
      {
       "output_type": "stream",
       "stream": "stdout",
       "text": [
        "\n",
        "[<strong class=\"metrics-data align-vmiddle\">\n",
        "<!-- Alexa web traffic metrics are available via our API at http://aws.amazon.com/awis -->\n",
        "<span style=\"margin-left: 10px;\">-</span> </strong>]"
       ]
      },
      {
       "output_type": "stream",
       "stream": "stdout",
       "text": [
        "\n",
        "[<strong class=\"metrics-data align-vmiddle\">\n",
        "<!-- Alexa web traffic metrics are available via our API at http://aws.amazon.com/awis -->\n",
        "12,421,926              </strong>]"
       ]
      },
      {
       "output_type": "stream",
       "stream": "stdout",
       "text": [
        "\n",
        "[<strong class=\"metrics-data align-vmiddle\">\n",
        "<!-- Alexa web traffic metrics are available via our API at http://aws.amazon.com/awis -->\n",
        "20,997,263              </strong>]"
       ]
      },
      {
       "output_type": "stream",
       "stream": "stdout",
       "text": [
        "\n",
        "[<strong class=\"metrics-data align-vmiddle\">\n",
        "<!-- Alexa web traffic metrics are available via our API at http://aws.amazon.com/awis -->\n",
        "<span style=\"margin-left: 10px;\">-</span> </strong>]"
       ]
      },
      {
       "output_type": "stream",
       "stream": "stdout",
       "text": [
        "\n",
        "[<strong class=\"metrics-data align-vmiddle\">\n",
        "<!-- Alexa web traffic metrics are available via our API at http://aws.amazon.com/awis -->\n",
        "<span style=\"margin-left: 10px;\">-</span> </strong>]"
       ]
      },
      {
       "output_type": "stream",
       "stream": "stdout",
       "text": [
        "\n",
        "[<strong class=\"metrics-data align-vmiddle\">\n",
        "<!-- Alexa web traffic metrics are available via our API at http://aws.amazon.com/awis -->\n",
        "10,859,261              </strong>]"
       ]
      },
      {
       "output_type": "stream",
       "stream": "stdout",
       "text": [
        "\n",
        "[<strong class=\"metrics-data align-vmiddle\">\n",
        "<!-- Alexa web traffic metrics are available via our API at http://aws.amazon.com/awis -->\n",
        "15,848,235              </strong>]"
       ]
      },
      {
       "output_type": "stream",
       "stream": "stdout",
       "text": [
        "\n",
        "[<strong class=\"metrics-data align-vmiddle\">\n",
        "<!-- Alexa web traffic metrics are available via our API at http://aws.amazon.com/awis -->\n",
        "1,923,331              </strong>]"
       ]
      },
      {
       "output_type": "stream",
       "stream": "stdout",
       "text": [
        "\n",
        "[<strong class=\"metrics-data align-vmiddle\">\n",
        "<!-- Alexa web traffic metrics are available via our API at http://aws.amazon.com/awis -->\n",
        "<span style=\"margin-left: 10px;\">-</span> </strong>]"
       ]
      },
      {
       "output_type": "stream",
       "stream": "stdout",
       "text": [
        "\n",
        "[<strong class=\"metrics-data align-vmiddle\">\n",
        "<!-- Alexa web traffic metrics are available via our API at http://aws.amazon.com/awis -->\n",
        "12,234,920              </strong>]"
       ]
      },
      {
       "output_type": "stream",
       "stream": "stdout",
       "text": [
        "\n",
        "[<strong class=\"metrics-data align-vmiddle\">\n",
        "<!-- Alexa web traffic metrics are available via our API at http://aws.amazon.com/awis -->\n",
        "485,268              </strong>]"
       ]
      },
      {
       "output_type": "stream",
       "stream": "stdout",
       "text": [
        "\n",
        "[<strong class=\"metrics-data align-vmiddle\">\n",
        "<!-- Alexa web traffic metrics are available via our API at http://aws.amazon.com/awis -->\n",
        "12,147,925              </strong>]"
       ]
      },
      {
       "output_type": "stream",
       "stream": "stdout",
       "text": [
        "\n",
        "[<strong class=\"metrics-data align-vmiddle\">\n",
        "<!-- Alexa web traffic metrics are available via our API at http://aws.amazon.com/awis -->\n",
        "<span style=\"margin-left: 10px;\">-</span> </strong>]"
       ]
      },
      {
       "output_type": "stream",
       "stream": "stdout",
       "text": [
        "\n",
        "[<strong class=\"metrics-data align-vmiddle\">\n",
        "<!-- Alexa web traffic metrics are available via our API at http://aws.amazon.com/awis -->\n",
        "<span style=\"margin-left: 10px;\">-</span> </strong>]"
       ]
      },
      {
       "output_type": "stream",
       "stream": "stdout",
       "text": [
        "\n",
        "[<strong class=\"metrics-data align-vmiddle\">\n",
        "<!-- Alexa web traffic metrics are available via our API at http://aws.amazon.com/awis -->\n",
        "6,482,383              </strong>]"
       ]
      },
      {
       "output_type": "stream",
       "stream": "stdout",
       "text": [
        "\n",
        "[<strong class=\"metrics-data align-vmiddle\">\n",
        "<!-- Alexa web traffic metrics are available via our API at http://aws.amazon.com/awis -->\n",
        "<span style=\"margin-left: 10px;\">-</span> </strong>]"
       ]
      },
      {
       "output_type": "stream",
       "stream": "stdout",
       "text": [
        "\n",
        "[<strong class=\"metrics-data align-vmiddle\">\n",
        "<!-- Alexa web traffic metrics are available via our API at http://aws.amazon.com/awis -->\n",
        "<span style=\"margin-left: 10px;\">-</span> </strong>]"
       ]
      },
      {
       "output_type": "stream",
       "stream": "stdout",
       "text": [
        "\n",
        "[<strong class=\"metrics-data align-vmiddle\">\n",
        "<!-- Alexa web traffic metrics are available via our API at http://aws.amazon.com/awis -->\n",
        "695,892              </strong>]"
       ]
      },
      {
       "output_type": "stream",
       "stream": "stdout",
       "text": [
        "\n",
        "[<strong class=\"metrics-data align-vmiddle\">\n",
        "<!-- Alexa web traffic metrics are available via our API at http://aws.amazon.com/awis -->\n",
        "17,312,003              </strong>]"
       ]
      },
      {
       "output_type": "stream",
       "stream": "stdout",
       "text": [
        "\n",
        "[<strong class=\"metrics-data align-vmiddle\">\n",
        "<!-- Alexa web traffic metrics are available via our API at http://aws.amazon.com/awis -->\n",
        "6,441,681              </strong>]"
       ]
      },
      {
       "output_type": "stream",
       "stream": "stdout",
       "text": [
        "\n",
        "[<strong class=\"metrics-data align-vmiddle\">\n",
        "<!-- Alexa web traffic metrics are available via our API at http://aws.amazon.com/awis -->\n",
        "3,720,281              </strong>]"
       ]
      },
      {
       "output_type": "stream",
       "stream": "stdout",
       "text": [
        "\n",
        "[<strong class=\"metrics-data align-vmiddle\">\n",
        "<!-- Alexa web traffic metrics are available via our API at http://aws.amazon.com/awis -->\n",
        "5,401,442              </strong>]"
       ]
      },
      {
       "output_type": "stream",
       "stream": "stdout",
       "text": [
        "\n",
        "[<strong class=\"metrics-data align-vmiddle\">\n",
        "<!-- Alexa web traffic metrics are available via our API at http://aws.amazon.com/awis -->\n",
        "<span style=\"margin-left: 10px;\">-</span> </strong>]"
       ]
      },
      {
       "output_type": "stream",
       "stream": "stdout",
       "text": [
        "\n",
        "[<strong class=\"metrics-data align-vmiddle\">\n",
        "<!-- Alexa web traffic metrics are available via our API at http://aws.amazon.com/awis -->\n",
        "3,619,151              </strong>]"
       ]
      },
      {
       "output_type": "stream",
       "stream": "stdout",
       "text": [
        "\n",
        "[<strong class=\"metrics-data align-vmiddle\">\n",
        "<!-- Alexa web traffic metrics are available via our API at http://aws.amazon.com/awis -->\n",
        "13,528,742              </strong>]"
       ]
      },
      {
       "output_type": "stream",
       "stream": "stdout",
       "text": [
        "\n",
        "[<strong class=\"metrics-data align-vmiddle\">\n",
        "<!-- Alexa web traffic metrics are available via our API at http://aws.amazon.com/awis -->\n",
        "4,317,705              </strong>]"
       ]
      },
      {
       "output_type": "stream",
       "stream": "stdout",
       "text": [
        "\n",
        "[<strong class=\"metrics-data align-vmiddle\">\n",
        "<!-- Alexa web traffic metrics are available via our API at http://aws.amazon.com/awis -->\n",
        "<span style=\"margin-left: 10px;\">-</span> </strong>]"
       ]
      },
      {
       "output_type": "stream",
       "stream": "stdout",
       "text": [
        "\n",
        "[<strong class=\"metrics-data align-vmiddle\">\n",
        "<!-- Alexa web traffic metrics are available via our API at http://aws.amazon.com/awis -->\n",
        "7,223,574              </strong>]"
       ]
      },
      {
       "output_type": "stream",
       "stream": "stdout",
       "text": [
        "\n",
        "[<strong class=\"metrics-data align-vmiddle\">\n",
        "<!-- Alexa web traffic metrics are available via our API at http://aws.amazon.com/awis -->\n",
        "6,217,346              </strong>]"
       ]
      },
      {
       "output_type": "stream",
       "stream": "stdout",
       "text": [
        "\n",
        "[<strong class=\"metrics-data align-vmiddle\">\n",
        "<!-- Alexa web traffic metrics are available via our API at http://aws.amazon.com/awis -->\n",
        "<span style=\"margin-left: 10px;\">-</span> </strong>]"
       ]
      },
      {
       "output_type": "stream",
       "stream": "stdout",
       "text": [
        "\n",
        "[<strong class=\"metrics-data align-vmiddle\">\n",
        "<!-- Alexa web traffic metrics are available via our API at http://aws.amazon.com/awis -->\n",
        "<span style=\"margin-left: 10px;\">-</span> </strong>]"
       ]
      },
      {
       "output_type": "stream",
       "stream": "stdout",
       "text": [
        "\n",
        "[<strong class=\"metrics-data align-vmiddle\">\n",
        "<!-- Alexa web traffic metrics are available via our API at http://aws.amazon.com/awis -->\n",
        "<span style=\"margin-left: 10px;\">-</span> </strong>]"
       ]
      },
      {
       "output_type": "stream",
       "stream": "stdout",
       "text": [
        "\n",
        "[<strong class=\"metrics-data align-vmiddle\">\n",
        "<!-- Alexa web traffic metrics are available via our API at http://aws.amazon.com/awis -->\n",
        "<span style=\"margin-left: 10px;\">-</span> </strong>]"
       ]
      },
      {
       "output_type": "stream",
       "stream": "stdout",
       "text": [
        "\n",
        "[<strong class=\"metrics-data align-vmiddle\">\n",
        "<!-- Alexa web traffic metrics are available via our API at http://aws.amazon.com/awis -->\n",
        "<span style=\"margin-left: 10px;\">-</span> </strong>]"
       ]
      },
      {
       "output_type": "stream",
       "stream": "stdout",
       "text": [
        "\n",
        "[<strong class=\"metrics-data align-vmiddle\">\n",
        "<!-- Alexa web traffic metrics are available via our API at http://aws.amazon.com/awis -->\n",
        "2,455,555              </strong>]"
       ]
      },
      {
       "output_type": "stream",
       "stream": "stdout",
       "text": [
        "\n",
        "[<strong class=\"metrics-data align-vmiddle\">\n",
        "<!-- Alexa web traffic metrics are available via our API at http://aws.amazon.com/awis -->\n",
        "4,164,317              </strong>]"
       ]
      },
      {
       "output_type": "stream",
       "stream": "stdout",
       "text": [
        "\n",
        "[<strong class=\"metrics-data align-vmiddle\">\n",
        "<!-- Alexa web traffic metrics are available via our API at http://aws.amazon.com/awis -->\n",
        "3,439,516              </strong>]"
       ]
      },
      {
       "output_type": "stream",
       "stream": "stdout",
       "text": [
        "\n",
        "[<strong class=\"metrics-data align-vmiddle\">\n",
        "<!-- Alexa web traffic metrics are available via our API at http://aws.amazon.com/awis -->\n",
        "<span style=\"margin-left: 10px;\">-</span> </strong>]"
       ]
      },
      {
       "output_type": "stream",
       "stream": "stdout",
       "text": [
        "\n",
        "[<strong class=\"metrics-data align-vmiddle\">\n",
        "<!-- Alexa web traffic metrics are available via our API at http://aws.amazon.com/awis -->\n",
        "4,719,493              </strong>]"
       ]
      },
      {
       "output_type": "stream",
       "stream": "stdout",
       "text": [
        "\n",
        "[<strong class=\"metrics-data align-vmiddle\">\n",
        "<!-- Alexa web traffic metrics are available via our API at http://aws.amazon.com/awis -->\n",
        "1,087,050              </strong>]"
       ]
      },
      {
       "output_type": "stream",
       "stream": "stdout",
       "text": [
        "\n",
        "[<strong class=\"metrics-data align-vmiddle\">\n",
        "<!-- Alexa web traffic metrics are available via our API at http://aws.amazon.com/awis -->\n",
        "11,656,529              </strong>]"
       ]
      },
      {
       "output_type": "stream",
       "stream": "stdout",
       "text": [
        "\n",
        "[<strong class=\"metrics-data align-vmiddle\">\n",
        "<!-- Alexa web traffic metrics are available via our API at http://aws.amazon.com/awis -->\n",
        "<span style=\"margin-left: 10px;\">-</span> </strong>]"
       ]
      },
      {
       "output_type": "stream",
       "stream": "stdout",
       "text": [
        "\n",
        "[<strong class=\"metrics-data align-vmiddle\">\n",
        "<!-- Alexa web traffic metrics are available via our API at http://aws.amazon.com/awis -->\n",
        "<span style=\"margin-left: 10px;\">-</span> </strong>]"
       ]
      },
      {
       "output_type": "stream",
       "stream": "stdout",
       "text": [
        "\n",
        "[<strong class=\"metrics-data align-vmiddle\">\n",
        "<!-- Alexa web traffic metrics are available via our API at http://aws.amazon.com/awis -->\n",
        "<span style=\"margin-left: 10px;\">-</span> </strong>]"
       ]
      },
      {
       "output_type": "stream",
       "stream": "stdout",
       "text": [
        "\n",
        "[<strong class=\"metrics-data align-vmiddle\">\n",
        "<!-- Alexa web traffic metrics are available via our API at http://aws.amazon.com/awis -->\n",
        "10,057,467              </strong>]"
       ]
      },
      {
       "output_type": "stream",
       "stream": "stdout",
       "text": [
        "\n",
        "[<strong class=\"metrics-data align-vmiddle\">\n",
        "<!-- Alexa web traffic metrics are available via our API at http://aws.amazon.com/awis -->\n",
        "<span style=\"margin-left: 10px;\">-</span> </strong>]"
       ]
      },
      {
       "output_type": "stream",
       "stream": "stdout",
       "text": [
        "\n",
        "[<strong class=\"metrics-data align-vmiddle\">\n",
        "<!-- Alexa web traffic metrics are available via our API at http://aws.amazon.com/awis -->\n",
        "9,878,677              </strong>]"
       ]
      },
      {
       "output_type": "stream",
       "stream": "stdout",
       "text": [
        "\n",
        "[<strong class=\"metrics-data align-vmiddle\">\n",
        "<!-- Alexa web traffic metrics are available via our API at http://aws.amazon.com/awis -->\n",
        "2,158,812              </strong>]"
       ]
      },
      {
       "output_type": "stream",
       "stream": "stdout",
       "text": [
        "\n",
        "[<strong class=\"metrics-data align-vmiddle\">\n",
        "<!-- Alexa web traffic metrics are available via our API at http://aws.amazon.com/awis -->\n",
        "6,235,151              </strong>]"
       ]
      },
      {
       "output_type": "stream",
       "stream": "stdout",
       "text": [
        "\n",
        "[<strong class=\"metrics-data align-vmiddle\">\n",
        "<!-- Alexa web traffic metrics are available via our API at http://aws.amazon.com/awis -->\n",
        "13,090,436              </strong>]"
       ]
      },
      {
       "output_type": "stream",
       "stream": "stdout",
       "text": [
        "\n",
        "[<strong class=\"metrics-data align-vmiddle\">\n",
        "<!-- Alexa web traffic metrics are available via our API at http://aws.amazon.com/awis -->\n",
        "6,232,905              </strong>]"
       ]
      },
      {
       "output_type": "stream",
       "stream": "stdout",
       "text": [
        "\n",
        "[<strong class=\"metrics-data align-vmiddle\">\n",
        "<!-- Alexa web traffic metrics are available via our API at http://aws.amazon.com/awis -->\n",
        "556,037              </strong>]"
       ]
      },
      {
       "output_type": "stream",
       "stream": "stdout",
       "text": [
        "\n",
        "[<strong class=\"metrics-data align-vmiddle\">\n",
        "<!-- Alexa web traffic metrics are available via our API at http://aws.amazon.com/awis -->\n",
        "3,614,726              </strong>]"
       ]
      },
      {
       "output_type": "stream",
       "stream": "stdout",
       "text": [
        "\n",
        "[<strong class=\"metrics-data align-vmiddle\">\n",
        "<!-- Alexa web traffic metrics are available via our API at http://aws.amazon.com/awis -->\n",
        "<span style=\"margin-left: 10px;\">-</span> </strong>]"
       ]
      },
      {
       "output_type": "stream",
       "stream": "stdout",
       "text": [
        "\n",
        "[<strong class=\"metrics-data align-vmiddle\">\n",
        "<!-- Alexa web traffic metrics are available via our API at http://aws.amazon.com/awis -->\n",
        "4,690,337              </strong>]"
       ]
      },
      {
       "output_type": "stream",
       "stream": "stdout",
       "text": [
        "\n",
        "[<strong class=\"metrics-data align-vmiddle\">\n",
        "<!-- Alexa web traffic metrics are available via our API at http://aws.amazon.com/awis -->\n",
        "<span style=\"margin-left: 10px;\">-</span> </strong>]"
       ]
      },
      {
       "output_type": "stream",
       "stream": "stdout",
       "text": [
        "\n",
        "[<strong class=\"metrics-data align-vmiddle\">\n",
        "<!-- Alexa web traffic metrics are available via our API at http://aws.amazon.com/awis -->\n",
        "<span style=\"margin-left: 10px;\">-</span> </strong>]"
       ]
      },
      {
       "output_type": "stream",
       "stream": "stdout",
       "text": [
        "\n",
        "[<strong class=\"metrics-data align-vmiddle\">\n",
        "<!-- Alexa web traffic metrics are available via our API at http://aws.amazon.com/awis -->\n",
        "<span style=\"margin-left: 10px;\">-</span> </strong>]"
       ]
      },
      {
       "output_type": "stream",
       "stream": "stdout",
       "text": [
        "\n",
        "[<strong class=\"metrics-data align-vmiddle\">\n",
        "<!-- Alexa web traffic metrics are available via our API at http://aws.amazon.com/awis -->\n",
        "<span style=\"margin-left: 10px;\">-</span> </strong>]"
       ]
      },
      {
       "output_type": "stream",
       "stream": "stdout",
       "text": [
        "\n",
        "[<strong class=\"metrics-data align-vmiddle\">\n",
        "<!-- Alexa web traffic metrics are available via our API at http://aws.amazon.com/awis -->\n",
        "2,246,475              </strong>]"
       ]
      },
      {
       "output_type": "stream",
       "stream": "stdout",
       "text": [
        "\n",
        "[<strong class=\"metrics-data align-vmiddle\">\n",
        "<!-- Alexa web traffic metrics are available via our API at http://aws.amazon.com/awis -->\n",
        "<span style=\"margin-left: 10px;\">-</span> </strong>]"
       ]
      },
      {
       "output_type": "stream",
       "stream": "stdout",
       "text": [
        "\n",
        "[<strong class=\"metrics-data align-vmiddle\">\n",
        "<!-- Alexa web traffic metrics are available via our API at http://aws.amazon.com/awis -->\n",
        "9,598,716              </strong>]"
       ]
      },
      {
       "output_type": "stream",
       "stream": "stdout",
       "text": [
        "\n",
        "[<strong class=\"metrics-data align-vmiddle\">\n",
        "<!-- Alexa web traffic metrics are available via our API at http://aws.amazon.com/awis -->\n",
        "3,962,576              </strong>]"
       ]
      },
      {
       "output_type": "stream",
       "stream": "stdout",
       "text": [
        "\n",
        "[<strong class=\"metrics-data align-vmiddle\">\n",
        "<!-- Alexa web traffic metrics are available via our API at http://aws.amazon.com/awis -->\n",
        "2,135,037              </strong>]"
       ]
      },
      {
       "output_type": "stream",
       "stream": "stdout",
       "text": [
        "\n",
        "[<strong class=\"metrics-data align-vmiddle\">\n",
        "<!-- Alexa web traffic metrics are available via our API at http://aws.amazon.com/awis -->\n",
        "4,502,067              </strong>]"
       ]
      },
      {
       "output_type": "stream",
       "stream": "stdout",
       "text": [
        "\n",
        "[<strong class=\"metrics-data align-vmiddle\">\n",
        "<!-- Alexa web traffic metrics are available via our API at http://aws.amazon.com/awis -->\n",
        "10,751,121              </strong>]"
       ]
      },
      {
       "output_type": "stream",
       "stream": "stdout",
       "text": [
        "\n",
        "[<strong class=\"metrics-data align-vmiddle\">\n",
        "<!-- Alexa web traffic metrics are available via our API at http://aws.amazon.com/awis -->\n",
        "<span style=\"margin-left: 10px;\">-</span> </strong>]"
       ]
      },
      {
       "output_type": "stream",
       "stream": "stdout",
       "text": [
        "\n",
        "[<strong class=\"metrics-data align-vmiddle\">\n",
        "<!-- Alexa web traffic metrics are available via our API at http://aws.amazon.com/awis -->\n",
        "2,193,626              </strong>]"
       ]
      },
      {
       "output_type": "stream",
       "stream": "stdout",
       "text": [
        "\n",
        "[<strong class=\"metrics-data align-vmiddle\">\n",
        "<!-- Alexa web traffic metrics are available via our API at http://aws.amazon.com/awis -->\n",
        "4,491,262              </strong>]"
       ]
      },
      {
       "output_type": "stream",
       "stream": "stdout",
       "text": [
        "\n",
        "[<strong class=\"metrics-data align-vmiddle\">\n",
        "<!-- Alexa web traffic metrics are available via our API at http://aws.amazon.com/awis -->\n",
        "11,931,039              </strong>]"
       ]
      },
      {
       "output_type": "stream",
       "stream": "stdout",
       "text": [
        "\n",
        "[<strong class=\"metrics-data align-vmiddle\">\n",
        "<!-- Alexa web traffic metrics are available via our API at http://aws.amazon.com/awis -->\n",
        "<span style=\"margin-left: 10px;\">-</span> </strong>]"
       ]
      },
      {
       "output_type": "stream",
       "stream": "stdout",
       "text": [
        "\n",
        "[<strong class=\"metrics-data align-vmiddle\">\n",
        "<!-- Alexa web traffic metrics are available via our API at http://aws.amazon.com/awis -->\n",
        "5,276,938              </strong>]"
       ]
      },
      {
       "output_type": "stream",
       "stream": "stdout",
       "text": [
        "\n",
        "[<strong class=\"metrics-data align-vmiddle\">\n",
        "<!-- Alexa web traffic metrics are available via our API at http://aws.amazon.com/awis -->\n",
        "<span style=\"margin-left: 10px;\">-</span> </strong>]"
       ]
      },
      {
       "output_type": "stream",
       "stream": "stdout",
       "text": [
        "\n",
        "[<strong class=\"metrics-data align-vmiddle\">\n",
        "<!-- Alexa web traffic metrics are available via our API at http://aws.amazon.com/awis -->\n",
        "6,526,070              </strong>]"
       ]
      },
      {
       "output_type": "stream",
       "stream": "stdout",
       "text": [
        "\n",
        "[<strong class=\"metrics-data align-vmiddle\">\n",
        "<!-- Alexa web traffic metrics are available via our API at http://aws.amazon.com/awis -->\n",
        "7,649,437              </strong>]"
       ]
      },
      {
       "output_type": "stream",
       "stream": "stdout",
       "text": [
        "\n",
        "[<strong class=\"metrics-data align-vmiddle\">\n",
        "<!-- Alexa web traffic metrics are available via our API at http://aws.amazon.com/awis -->\n",
        "2,815,466              </strong>]"
       ]
      },
      {
       "output_type": "stream",
       "stream": "stdout",
       "text": [
        "\n",
        "[<strong class=\"metrics-data align-vmiddle\">\n",
        "<!-- Alexa web traffic metrics are available via our API at http://aws.amazon.com/awis -->\n",
        "<span style=\"margin-left: 10px;\">-</span> </strong>]"
       ]
      },
      {
       "output_type": "stream",
       "stream": "stdout",
       "text": [
        "\n",
        "[<strong class=\"metrics-data align-vmiddle\">\n",
        "<!-- Alexa web traffic metrics are available via our API at http://aws.amazon.com/awis -->\n",
        "367,116              </strong>]"
       ]
      },
      {
       "output_type": "stream",
       "stream": "stdout",
       "text": [
        "\n",
        "[<strong class=\"metrics-data align-vmiddle\">\n",
        "<!-- Alexa web traffic metrics are available via our API at http://aws.amazon.com/awis -->\n",
        "<span style=\"margin-left: 10px;\">-</span> </strong>]"
       ]
      },
      {
       "output_type": "stream",
       "stream": "stdout",
       "text": [
        "\n",
        "[<strong class=\"metrics-data align-vmiddle\">\n",
        "<!-- Alexa web traffic metrics are available via our API at http://aws.amazon.com/awis -->\n",
        "33,986              </strong>]"
       ]
      },
      {
       "output_type": "stream",
       "stream": "stdout",
       "text": [
        "\n",
        "[<strong class=\"metrics-data align-vmiddle\">\n",
        "<!-- Alexa web traffic metrics are available via our API at http://aws.amazon.com/awis -->\n",
        "8,908,197              </strong>]"
       ]
      },
      {
       "output_type": "stream",
       "stream": "stdout",
       "text": [
        "\n",
        "[<strong class=\"metrics-data align-vmiddle\">\n",
        "<!-- Alexa web traffic metrics are available via our API at http://aws.amazon.com/awis -->\n",
        "<span style=\"margin-left: 10px;\">-</span> </strong>]"
       ]
      },
      {
       "output_type": "stream",
       "stream": "stdout",
       "text": [
        "\n",
        "[<strong class=\"metrics-data align-vmiddle\">\n",
        "<!-- Alexa web traffic metrics are available via our API at http://aws.amazon.com/awis -->\n",
        "<span style=\"margin-left: 10px;\">-</span> </strong>]"
       ]
      },
      {
       "output_type": "stream",
       "stream": "stdout",
       "text": [
        "\n",
        "[<strong class=\"metrics-data align-vmiddle\">\n",
        "<!-- Alexa web traffic metrics are available via our API at http://aws.amazon.com/awis -->\n",
        "4,158,380              </strong>]"
       ]
      },
      {
       "output_type": "stream",
       "stream": "stdout",
       "text": [
        "\n",
        "[<strong class=\"metrics-data align-vmiddle\">\n",
        "<!-- Alexa web traffic metrics are available via our API at http://aws.amazon.com/awis -->\n",
        "<span style=\"margin-left: 10px;\">-</span> </strong>]"
       ]
      },
      {
       "output_type": "stream",
       "stream": "stdout",
       "text": [
        "\n",
        "[<strong class=\"metrics-data align-vmiddle\">\n",
        "<!-- Alexa web traffic metrics are available via our API at http://aws.amazon.com/awis -->\n",
        "<span style=\"margin-left: 10px;\">-</span> </strong>]"
       ]
      },
      {
       "output_type": "stream",
       "stream": "stdout",
       "text": [
        "\n",
        "[<strong class=\"metrics-data align-vmiddle\">\n",
        "<!-- Alexa web traffic metrics are available via our API at http://aws.amazon.com/awis -->\n",
        "2,345,115              </strong>]"
       ]
      },
      {
       "output_type": "stream",
       "stream": "stdout",
       "text": [
        "\n",
        "[<strong class=\"metrics-data align-vmiddle\">\n",
        "<!-- Alexa web traffic metrics are available via our API at http://aws.amazon.com/awis -->\n",
        "5,797,725              </strong>]"
       ]
      },
      {
       "output_type": "stream",
       "stream": "stdout",
       "text": [
        "\n",
        "[<strong class=\"metrics-data align-vmiddle\">\n",
        "<!-- Alexa web traffic metrics are available via our API at http://aws.amazon.com/awis -->\n",
        "14,335,199              </strong>]"
       ]
      },
      {
       "output_type": "stream",
       "stream": "stdout",
       "text": [
        "\n",
        "[<strong class=\"metrics-data align-vmiddle\">\n",
        "<!-- Alexa web traffic metrics are available via our API at http://aws.amazon.com/awis -->\n",
        "<span style=\"margin-left: 10px;\">-</span> </strong>]"
       ]
      },
      {
       "output_type": "stream",
       "stream": "stdout",
       "text": [
        "\n",
        "[<strong class=\"metrics-data align-vmiddle\">\n",
        "<!-- Alexa web traffic metrics are available via our API at http://aws.amazon.com/awis -->\n",
        "2,863,876              </strong>]"
       ]
      },
      {
       "output_type": "stream",
       "stream": "stdout",
       "text": [
        "\n",
        "[<strong class=\"metrics-data align-vmiddle\">\n",
        "<!-- Alexa web traffic metrics are available via our API at http://aws.amazon.com/awis -->\n",
        "<span style=\"margin-left: 10px;\">-</span> </strong>]"
       ]
      },
      {
       "output_type": "stream",
       "stream": "stdout",
       "text": [
        "\n",
        "[<strong class=\"metrics-data align-vmiddle\">\n",
        "<!-- Alexa web traffic metrics are available via our API at http://aws.amazon.com/awis -->\n",
        "2,545,527              </strong>]"
       ]
      },
      {
       "output_type": "stream",
       "stream": "stdout",
       "text": [
        "\n",
        "[<strong class=\"metrics-data align-vmiddle\">\n",
        "<!-- Alexa web traffic metrics are available via our API at http://aws.amazon.com/awis -->\n",
        "<span style=\"margin-left: 10px;\">-</span> </strong>]"
       ]
      },
      {
       "output_type": "stream",
       "stream": "stdout",
       "text": [
        "\n",
        "[<strong class=\"metrics-data align-vmiddle\">\n",
        "<!-- Alexa web traffic metrics are available via our API at http://aws.amazon.com/awis -->\n",
        "6,617,605              </strong>]"
       ]
      },
      {
       "output_type": "stream",
       "stream": "stdout",
       "text": [
        "\n",
        "[<strong class=\"metrics-data align-vmiddle\">\n",
        "<!-- Alexa web traffic metrics are available via our API at http://aws.amazon.com/awis -->\n",
        "11,884,365              </strong>]"
       ]
      },
      {
       "output_type": "stream",
       "stream": "stdout",
       "text": [
        "\n",
        "[<strong class=\"metrics-data align-vmiddle\">\n",
        "<!-- Alexa web traffic metrics are available via our API at http://aws.amazon.com/awis -->\n",
        "<span style=\"margin-left: 10px;\">-</span> </strong>]"
       ]
      },
      {
       "output_type": "stream",
       "stream": "stdout",
       "text": [
        "\n",
        "[<strong class=\"metrics-data align-vmiddle\">\n",
        "<!-- Alexa web traffic metrics are available via our API at http://aws.amazon.com/awis -->\n",
        "367,116              </strong>]"
       ]
      },
      {
       "output_type": "stream",
       "stream": "stdout",
       "text": [
        "\n",
        "[<strong class=\"metrics-data align-vmiddle\">\n",
        "<!-- Alexa web traffic metrics are available via our API at http://aws.amazon.com/awis -->\n",
        "2,744,912              </strong>]"
       ]
      },
      {
       "output_type": "stream",
       "stream": "stdout",
       "text": [
        "\n",
        "[<strong class=\"metrics-data align-vmiddle\">\n",
        "<!-- Alexa web traffic metrics are available via our API at http://aws.amazon.com/awis -->\n",
        "<span style=\"margin-left: 10px;\">-</span> </strong>]"
       ]
      },
      {
       "output_type": "stream",
       "stream": "stdout",
       "text": [
        "\n",
        "[<strong class=\"metrics-data align-vmiddle\">\n",
        "<!-- Alexa web traffic metrics are available via our API at http://aws.amazon.com/awis -->\n",
        "15,848,264              </strong>]"
       ]
      },
      {
       "output_type": "stream",
       "stream": "stdout",
       "text": [
        "\n",
        "[<strong class=\"metrics-data align-vmiddle\">\n",
        "<!-- Alexa web traffic metrics are available via our API at http://aws.amazon.com/awis -->\n",
        "4,835,044              </strong>]"
       ]
      },
      {
       "output_type": "stream",
       "stream": "stdout",
       "text": [
        "\n",
        "[<strong class=\"metrics-data align-vmiddle\">\n",
        "<!-- Alexa web traffic metrics are available via our API at http://aws.amazon.com/awis -->\n",
        "1,657,834              </strong>]"
       ]
      },
      {
       "output_type": "stream",
       "stream": "stdout",
       "text": [
        "\n",
        "[<strong class=\"metrics-data align-vmiddle\">\n",
        "<!-- Alexa web traffic metrics are available via our API at http://aws.amazon.com/awis -->\n",
        "6,565,557              </strong>]"
       ]
      },
      {
       "output_type": "stream",
       "stream": "stdout",
       "text": [
        "\n",
        "[<strong class=\"metrics-data align-vmiddle\">\n",
        "<!-- Alexa web traffic metrics are available via our API at http://aws.amazon.com/awis -->\n",
        "2,716,568              </strong>]"
       ]
      },
      {
       "output_type": "stream",
       "stream": "stdout",
       "text": [
        "\n",
        "[<strong class=\"metrics-data align-vmiddle\">\n",
        "<!-- Alexa web traffic metrics are available via our API at http://aws.amazon.com/awis -->\n",
        "<span style=\"margin-left: 10px;\">-</span> </strong>]"
       ]
      },
      {
       "output_type": "stream",
       "stream": "stdout",
       "text": [
        "\n",
        "[<strong class=\"metrics-data align-vmiddle\">\n",
        "<!-- Alexa web traffic metrics are available via our API at http://aws.amazon.com/awis -->\n",
        "<span style=\"margin-left: 10px;\">-</span> </strong>]"
       ]
      },
      {
       "output_type": "stream",
       "stream": "stdout",
       "text": [
        "\n",
        "[<strong class=\"metrics-data align-vmiddle\">\n",
        "<!-- Alexa web traffic metrics are available via our API at http://aws.amazon.com/awis -->\n",
        "706,608              </strong>]"
       ]
      },
      {
       "output_type": "stream",
       "stream": "stdout",
       "text": [
        "\n",
        "[<strong class=\"metrics-data align-vmiddle\">\n",
        "<!-- Alexa web traffic metrics are available via our API at http://aws.amazon.com/awis -->\n",
        "434,312              </strong>]"
       ]
      },
      {
       "output_type": "stream",
       "stream": "stdout",
       "text": [
        "\n",
        "[<strong class=\"metrics-data align-vmiddle\">\n",
        "<!-- Alexa web traffic metrics are available via our API at http://aws.amazon.com/awis -->\n",
        "<span style=\"margin-left: 10px;\">-</span> </strong>]"
       ]
      },
      {
       "output_type": "stream",
       "stream": "stdout",
       "text": [
        "\n",
        "[<strong class=\"metrics-data align-vmiddle\">\n",
        "<!-- Alexa web traffic metrics are available via our API at http://aws.amazon.com/awis -->\n",
        "1,108,511              </strong>]"
       ]
      },
      {
       "output_type": "stream",
       "stream": "stdout",
       "text": [
        "\n",
        "[<strong class=\"metrics-data align-vmiddle\">\n",
        "<!-- Alexa web traffic metrics are available via our API at http://aws.amazon.com/awis -->\n",
        "3,510,919              </strong>]"
       ]
      },
      {
       "output_type": "stream",
       "stream": "stdout",
       "text": [
        "\n",
        "[<strong class=\"metrics-data align-vmiddle\">\n",
        "<!-- Alexa web traffic metrics are available via our API at http://aws.amazon.com/awis -->\n",
        "9,268,802              </strong>]"
       ]
      },
      {
       "output_type": "stream",
       "stream": "stdout",
       "text": [
        "\n",
        "[<strong class=\"metrics-data align-vmiddle\">\n",
        "<!-- Alexa web traffic metrics are available via our API at http://aws.amazon.com/awis -->\n",
        "299,437              </strong>]"
       ]
      },
      {
       "output_type": "stream",
       "stream": "stdout",
       "text": [
        "\n",
        "[<strong class=\"metrics-data align-vmiddle\">\n",
        "<!-- Alexa web traffic metrics are available via our API at http://aws.amazon.com/awis -->\n",
        "<span style=\"margin-left: 10px;\">-</span> </strong>]"
       ]
      },
      {
       "output_type": "stream",
       "stream": "stdout",
       "text": [
        "\n",
        "[<strong class=\"metrics-data align-vmiddle\">\n",
        "<!-- Alexa web traffic metrics are available via our API at http://aws.amazon.com/awis -->\n",
        "9,761,167              </strong>]"
       ]
      },
      {
       "output_type": "stream",
       "stream": "stdout",
       "text": [
        "\n",
        "[<strong class=\"metrics-data align-vmiddle\">\n",
        "<!-- Alexa web traffic metrics are available via our API at http://aws.amazon.com/awis -->\n",
        "22,493,299              </strong>]"
       ]
      },
      {
       "output_type": "stream",
       "stream": "stdout",
       "text": [
        "\n",
        "[<strong class=\"metrics-data align-vmiddle\">\n",
        "<!-- Alexa web traffic metrics are available via our API at http://aws.amazon.com/awis -->\n",
        "3,959,417              </strong>]"
       ]
      },
      {
       "output_type": "stream",
       "stream": "stdout",
       "text": [
        "\n",
        "[<strong class=\"metrics-data align-vmiddle\">\n",
        "<!-- Alexa web traffic metrics are available via our API at http://aws.amazon.com/awis -->\n",
        "14,070,484              </strong>]"
       ]
      },
      {
       "output_type": "stream",
       "stream": "stdout",
       "text": [
        "\n",
        "[<strong class=\"metrics-data align-vmiddle\">\n",
        "<!-- Alexa web traffic metrics are available via our API at http://aws.amazon.com/awis -->\n",
        "11,946,249              </strong>]"
       ]
      },
      {
       "output_type": "stream",
       "stream": "stdout",
       "text": [
        "\n",
        "[<strong class=\"metrics-data align-vmiddle\">\n",
        "<!-- Alexa web traffic metrics are available via our API at http://aws.amazon.com/awis -->\n",
        "9,761,164              </strong>]"
       ]
      },
      {
       "output_type": "stream",
       "stream": "stdout",
       "text": [
        "\n",
        "[<strong class=\"metrics-data align-vmiddle\">\n",
        "<!-- Alexa web traffic metrics are available via our API at http://aws.amazon.com/awis -->\n",
        "<span style=\"margin-left: 10px;\">-</span> </strong>]"
       ]
      },
      {
       "output_type": "stream",
       "stream": "stdout",
       "text": [
        "\n",
        "[<strong class=\"metrics-data align-vmiddle\">\n",
        "<!-- Alexa web traffic metrics are available via our API at http://aws.amazon.com/awis -->\n",
        "76,571              </strong>]"
       ]
      },
      {
       "output_type": "stream",
       "stream": "stdout",
       "text": [
        "\n",
        "[<strong class=\"metrics-data align-vmiddle\">\n",
        "<!-- Alexa web traffic metrics are available via our API at http://aws.amazon.com/awis -->\n",
        "3,375,002              </strong>]"
       ]
      },
      {
       "output_type": "stream",
       "stream": "stdout",
       "text": [
        "\n",
        "[<strong class=\"metrics-data align-vmiddle\">\n",
        "<!-- Alexa web traffic metrics are available via our API at http://aws.amazon.com/awis -->\n",
        "3,142,325              </strong>]"
       ]
      },
      {
       "output_type": "stream",
       "stream": "stdout",
       "text": [
        "\n",
        "[<strong class=\"metrics-data align-vmiddle\">\n",
        "<!-- Alexa web traffic metrics are available via our API at http://aws.amazon.com/awis -->\n",
        "7,048,964              </strong>]"
       ]
      },
      {
       "output_type": "stream",
       "stream": "stdout",
       "text": [
        "\n",
        "[<strong class=\"metrics-data align-vmiddle\">\n",
        "<!-- Alexa web traffic metrics are available via our API at http://aws.amazon.com/awis -->\n",
        "8,167,575              </strong>]"
       ]
      },
      {
       "output_type": "stream",
       "stream": "stdout",
       "text": [
        "\n",
        "[<strong class=\"metrics-data align-vmiddle\">\n",
        "<!-- Alexa web traffic metrics are available via our API at http://aws.amazon.com/awis -->\n",
        "328,308              </strong>]"
       ]
      },
      {
       "output_type": "stream",
       "stream": "stdout",
       "text": [
        "\n",
        "[<strong class=\"metrics-data align-vmiddle\">\n",
        "<!-- Alexa web traffic metrics are available via our API at http://aws.amazon.com/awis -->\n",
        "966,942              </strong>]"
       ]
      },
      {
       "output_type": "stream",
       "stream": "stdout",
       "text": [
        "\n",
        "[<strong class=\"metrics-data align-vmiddle\">\n",
        "<!-- Alexa web traffic metrics are available via our API at http://aws.amazon.com/awis -->\n",
        "<span style=\"margin-left: 10px;\">-</span> </strong>]"
       ]
      },
      {
       "output_type": "stream",
       "stream": "stdout",
       "text": [
        "\n",
        "[<strong class=\"metrics-data align-vmiddle\">\n",
        "<!-- Alexa web traffic metrics are available via our API at http://aws.amazon.com/awis -->\n",
        "8,544,881              </strong>]"
       ]
      },
      {
       "output_type": "stream",
       "stream": "stdout",
       "text": [
        "\n",
        "[<strong class=\"metrics-data align-vmiddle\">\n",
        "<!-- Alexa web traffic metrics are available via our API at http://aws.amazon.com/awis -->\n",
        "6,864,218              </strong>]"
       ]
      },
      {
       "output_type": "stream",
       "stream": "stdout",
       "text": [
        "\n",
        "[<strong class=\"metrics-data align-vmiddle\">\n",
        "<!-- Alexa web traffic metrics are available via our API at http://aws.amazon.com/awis -->\n",
        "1,510,861              </strong>]"
       ]
      },
      {
       "output_type": "stream",
       "stream": "stdout",
       "text": [
        "\n",
        "[<strong class=\"metrics-data align-vmiddle\">\n",
        "<!-- Alexa web traffic metrics are available via our API at http://aws.amazon.com/awis -->\n",
        "<span style=\"margin-left: 10px;\">-</span> </strong>]"
       ]
      },
      {
       "output_type": "stream",
       "stream": "stdout",
       "text": [
        "\n",
        "[<strong class=\"metrics-data align-vmiddle\">\n",
        "<!-- Alexa web traffic metrics are available via our API at http://aws.amazon.com/awis -->\n",
        "<span style=\"margin-left: 10px;\">-</span> </strong>]"
       ]
      },
      {
       "output_type": "stream",
       "stream": "stdout",
       "text": [
        "\n",
        "[<strong class=\"metrics-data align-vmiddle\">\n",
        "<!-- Alexa web traffic metrics are available via our API at http://aws.amazon.com/awis -->\n",
        "18,446,706              </strong>]"
       ]
      },
      {
       "output_type": "stream",
       "stream": "stdout",
       "text": [
        "\n",
        "[<strong class=\"metrics-data align-vmiddle\">\n",
        "<!-- Alexa web traffic metrics are available via our API at http://aws.amazon.com/awis -->\n",
        "9,401,519              </strong>]"
       ]
      },
      {
       "output_type": "stream",
       "stream": "stdout",
       "text": [
        "\n",
        "[<strong class=\"metrics-data align-vmiddle\">\n",
        "<!-- Alexa web traffic metrics are available via our API at http://aws.amazon.com/awis -->\n",
        "3,313,442              </strong>]"
       ]
      },
      {
       "output_type": "stream",
       "stream": "stdout",
       "text": [
        "\n",
        "[<strong class=\"metrics-data align-vmiddle\">\n",
        "<!-- Alexa web traffic metrics are available via our API at http://aws.amazon.com/awis -->\n",
        "4,417,844              </strong>]"
       ]
      },
      {
       "output_type": "stream",
       "stream": "stdout",
       "text": [
        "\n",
        "[<strong class=\"metrics-data align-vmiddle\">\n",
        "<!-- Alexa web traffic metrics are available via our API at http://aws.amazon.com/awis -->\n",
        "1,533,689              </strong>]"
       ]
      },
      {
       "output_type": "stream",
       "stream": "stdout",
       "text": [
        "\n",
        "[<strong class=\"metrics-data align-vmiddle\">\n",
        "<!-- Alexa web traffic metrics are available via our API at http://aws.amazon.com/awis -->\n",
        "3,551,509              </strong>]"
       ]
      },
      {
       "output_type": "stream",
       "stream": "stdout",
       "text": [
        "\n",
        "[<strong class=\"metrics-data align-vmiddle\">\n",
        "<!-- Alexa web traffic metrics are available via our API at http://aws.amazon.com/awis -->\n",
        "<span style=\"margin-left: 10px;\">-</span> </strong>]"
       ]
      },
      {
       "output_type": "stream",
       "stream": "stdout",
       "text": [
        "\n",
        "[<strong class=\"metrics-data align-vmiddle\">\n",
        "<!-- Alexa web traffic metrics are available via our API at http://aws.amazon.com/awis -->\n",
        "2,555,579              </strong>]"
       ]
      },
      {
       "output_type": "stream",
       "stream": "stdout",
       "text": [
        "\n",
        "[<strong class=\"metrics-data align-vmiddle\">\n",
        "<!-- Alexa web traffic metrics are available via our API at http://aws.amazon.com/awis -->\n",
        "<span style=\"margin-left: 10px;\">-</span> </strong>]"
       ]
      },
      {
       "output_type": "stream",
       "stream": "stdout",
       "text": [
        "\n",
        "[<strong class=\"metrics-data align-vmiddle\">\n",
        "<!-- Alexa web traffic metrics are available via our API at http://aws.amazon.com/awis -->\n",
        "10,723,764              </strong>]"
       ]
      },
      {
       "output_type": "stream",
       "stream": "stdout",
       "text": [
        "\n",
        "[<strong class=\"metrics-data align-vmiddle\">\n",
        "<!-- Alexa web traffic metrics are available via our API at http://aws.amazon.com/awis -->\n",
        "1,991,248              </strong>]"
       ]
      },
      {
       "output_type": "stream",
       "stream": "stdout",
       "text": [
        "\n",
        "[<strong class=\"metrics-data align-vmiddle\">\n",
        "<!-- Alexa web traffic metrics are available via our API at http://aws.amazon.com/awis -->\n",
        "1,055,065              </strong>]"
       ]
      },
      {
       "output_type": "stream",
       "stream": "stdout",
       "text": [
        "\n",
        "[<strong class=\"metrics-data align-vmiddle\">\n",
        "<!-- Alexa web traffic metrics are available via our API at http://aws.amazon.com/awis -->\n",
        "5,473,850              </strong>]"
       ]
      },
      {
       "output_type": "stream",
       "stream": "stdout",
       "text": [
        "\n",
        "[<strong class=\"metrics-data align-vmiddle\">\n",
        "<!-- Alexa web traffic metrics are available via our API at http://aws.amazon.com/awis -->\n",
        "159,697              </strong>]"
       ]
      },
      {
       "output_type": "stream",
       "stream": "stdout",
       "text": [
        "\n",
        "[<strong class=\"metrics-data align-vmiddle\">\n",
        "<!-- Alexa web traffic metrics are available via our API at http://aws.amazon.com/awis -->\n",
        "10,893,971              </strong>]"
       ]
      },
      {
       "output_type": "stream",
       "stream": "stdout",
       "text": [
        "\n",
        "[<strong class=\"metrics-data align-vmiddle\">\n",
        "<!-- Alexa web traffic metrics are available via our API at http://aws.amazon.com/awis -->\n",
        "<span style=\"margin-left: 10px;\">-</span> </strong>]"
       ]
      },
      {
       "output_type": "stream",
       "stream": "stdout",
       "text": [
        "\n",
        "[<strong class=\"metrics-data align-vmiddle\">\n",
        "<!-- Alexa web traffic metrics are available via our API at http://aws.amazon.com/awis -->\n",
        "10,836,467              </strong>]"
       ]
      },
      {
       "output_type": "stream",
       "stream": "stdout",
       "text": [
        "\n",
        "[<strong class=\"metrics-data align-vmiddle\">\n",
        "<!-- Alexa web traffic metrics are available via our API at http://aws.amazon.com/awis -->\n",
        "789,287              </strong>]"
       ]
      },
      {
       "output_type": "stream",
       "stream": "stdout",
       "text": [
        "\n",
        "[<strong class=\"metrics-data align-vmiddle\">\n",
        "<!-- Alexa web traffic metrics are available via our API at http://aws.amazon.com/awis -->\n",
        "1,449,818              </strong>]"
       ]
      },
      {
       "output_type": "stream",
       "stream": "stdout",
       "text": [
        "\n",
        "[<strong class=\"metrics-data align-vmiddle\">\n",
        "<!-- Alexa web traffic metrics are available via our API at http://aws.amazon.com/awis -->\n",
        "95,741              </strong>]"
       ]
      },
      {
       "output_type": "stream",
       "stream": "stdout",
       "text": [
        "\n",
        "[<strong class=\"metrics-data align-vmiddle\">\n",
        "<!-- Alexa web traffic metrics are available via our API at http://aws.amazon.com/awis -->\n",
        "19,038,263              </strong>]"
       ]
      },
      {
       "output_type": "stream",
       "stream": "stdout",
       "text": [
        "\n",
        "[<strong class=\"metrics-data align-vmiddle\">\n",
        "<!-- Alexa web traffic metrics are available via our API at http://aws.amazon.com/awis -->\n",
        "19,103,041              </strong>]"
       ]
      },
      {
       "output_type": "stream",
       "stream": "stdout",
       "text": [
        "\n",
        "[<strong class=\"metrics-data align-vmiddle\">\n",
        "<!-- Alexa web traffic metrics are available via our API at http://aws.amazon.com/awis -->\n",
        "5,873,795              </strong>]"
       ]
      },
      {
       "output_type": "stream",
       "stream": "stdout",
       "text": [
        "\n",
        "[<strong class=\"metrics-data align-vmiddle\">\n",
        "<!-- Alexa web traffic metrics are available via our API at http://aws.amazon.com/awis -->\n",
        "10,402,301              </strong>]"
       ]
      },
      {
       "output_type": "stream",
       "stream": "stdout",
       "text": [
        "\n",
        "[<strong class=\"metrics-data align-vmiddle\">\n",
        "<!-- Alexa web traffic metrics are available via our API at http://aws.amazon.com/awis -->\n",
        "<span style=\"margin-left: 10px;\">-</span> </strong>]"
       ]
      },
      {
       "output_type": "stream",
       "stream": "stdout",
       "text": [
        "\n",
        "[<strong class=\"metrics-data align-vmiddle\">\n",
        "<!-- Alexa web traffic metrics are available via our API at http://aws.amazon.com/awis -->\n",
        "5,461,012              </strong>]"
       ]
      },
      {
       "output_type": "stream",
       "stream": "stdout",
       "text": [
        "\n",
        "[<strong class=\"metrics-data align-vmiddle\">\n",
        "<!-- Alexa web traffic metrics are available via our API at http://aws.amazon.com/awis -->\n",
        "<span style=\"margin-left: 10px;\">-</span> </strong>]"
       ]
      },
      {
       "output_type": "stream",
       "stream": "stdout",
       "text": [
        "\n",
        "[<strong class=\"metrics-data align-vmiddle\">\n",
        "<!-- Alexa web traffic metrics are available via our API at http://aws.amazon.com/awis -->\n",
        "10,386,077              </strong>]"
       ]
      },
      {
       "output_type": "stream",
       "stream": "stdout",
       "text": [
        "\n",
        "[<strong class=\"metrics-data align-vmiddle\">\n",
        "<!-- Alexa web traffic metrics are available via our API at http://aws.amazon.com/awis -->\n",
        "8,172,616              </strong>]"
       ]
      },
      {
       "output_type": "stream",
       "stream": "stdout",
       "text": [
        "\n",
        "[<strong class=\"metrics-data align-vmiddle\">\n",
        "<!-- Alexa web traffic metrics are available via our API at http://aws.amazon.com/awis -->\n",
        "6,613,130              </strong>]"
       ]
      },
      {
       "output_type": "stream",
       "stream": "stdout",
       "text": [
        "\n",
        "[<strong class=\"metrics-data align-vmiddle\">\n",
        "<!-- Alexa web traffic metrics are available via our API at http://aws.amazon.com/awis -->\n",
        "<span style=\"margin-left: 10px;\">-</span> </strong>]"
       ]
      },
      {
       "output_type": "stream",
       "stream": "stdout",
       "text": [
        "\n",
        "[<strong class=\"metrics-data align-vmiddle\">\n",
        "<!-- Alexa web traffic metrics are available via our API at http://aws.amazon.com/awis -->\n",
        "43,550              </strong>]"
       ]
      },
      {
       "output_type": "stream",
       "stream": "stdout",
       "text": [
        "\n",
        "[<strong class=\"metrics-data align-vmiddle\">\n",
        "<!-- Alexa web traffic metrics are available via our API at http://aws.amazon.com/awis -->\n",
        "<span style=\"margin-left: 10px;\">-</span> </strong>]"
       ]
      },
      {
       "output_type": "stream",
       "stream": "stdout",
       "text": [
        "\n",
        "[<strong class=\"metrics-data align-vmiddle\">\n",
        "<!-- Alexa web traffic metrics are available via our API at http://aws.amazon.com/awis -->\n",
        "1,159,537              </strong>]"
       ]
      },
      {
       "output_type": "stream",
       "stream": "stdout",
       "text": [
        "\n",
        "[<strong class=\"metrics-data align-vmiddle\">\n",
        "<!-- Alexa web traffic metrics are available via our API at http://aws.amazon.com/awis -->\n",
        "<span style=\"margin-left: 10px;\">-</span> </strong>]"
       ]
      },
      {
       "output_type": "stream",
       "stream": "stdout",
       "text": [
        "\n",
        "[<strong class=\"metrics-data align-vmiddle\">\n",
        "<!-- Alexa web traffic metrics are available via our API at http://aws.amazon.com/awis -->\n",
        "367,116              </strong>]"
       ]
      },
      {
       "output_type": "stream",
       "stream": "stdout",
       "text": [
        "\n",
        "[<strong class=\"metrics-data align-vmiddle\">\n",
        "<!-- Alexa web traffic metrics are available via our API at http://aws.amazon.com/awis -->\n",
        "56,743              </strong>]"
       ]
      },
      {
       "output_type": "stream",
       "stream": "stdout",
       "text": [
        "\n",
        "[<strong class=\"metrics-data align-vmiddle\">\n",
        "<!-- Alexa web traffic metrics are available via our API at http://aws.amazon.com/awis -->\n",
        "33,986              </strong>]"
       ]
      },
      {
       "output_type": "stream",
       "stream": "stdout",
       "text": [
        "\n",
        "[<strong class=\"metrics-data align-vmiddle\">\n",
        "<!-- Alexa web traffic metrics are available via our API at http://aws.amazon.com/awis -->\n",
        "<span style=\"margin-left: 10px;\">-</span> </strong>]"
       ]
      },
      {
       "output_type": "stream",
       "stream": "stdout",
       "text": [
        "\n",
        "[<strong class=\"metrics-data align-vmiddle\">\n",
        "<!-- Alexa web traffic metrics are available via our API at http://aws.amazon.com/awis -->\n",
        "9,761,169              </strong>]"
       ]
      },
      {
       "output_type": "stream",
       "stream": "stdout",
       "text": [
        "\n",
        "[<strong class=\"metrics-data align-vmiddle\">\n",
        "<!-- Alexa web traffic metrics are available via our API at http://aws.amazon.com/awis -->\n",
        "9,285,040              </strong>]"
       ]
      },
      {
       "output_type": "stream",
       "stream": "stdout",
       "text": [
        "\n",
        "[<strong class=\"metrics-data align-vmiddle\">\n",
        "<!-- Alexa web traffic metrics are available via our API at http://aws.amazon.com/awis -->\n",
        "3,989,012              </strong>]"
       ]
      },
      {
       "output_type": "stream",
       "stream": "stdout",
       "text": [
        "\n",
        "[<strong class=\"metrics-data align-vmiddle\">\n",
        "<!-- Alexa web traffic metrics are available via our API at http://aws.amazon.com/awis -->\n",
        "5,663,428              </strong>]"
       ]
      },
      {
       "output_type": "stream",
       "stream": "stdout",
       "text": [
        "\n",
        "[<strong class=\"metrics-data align-vmiddle\">\n",
        "<!-- Alexa web traffic metrics are available via our API at http://aws.amazon.com/awis -->\n",
        "5,482,103              </strong>]"
       ]
      },
      {
       "output_type": "stream",
       "stream": "stdout",
       "text": [
        "\n",
        "[<strong class=\"metrics-data align-vmiddle\">\n",
        "<!-- Alexa web traffic metrics are available via our API at http://aws.amazon.com/awis -->\n",
        "<span style=\"margin-left: 10px;\">-</span> </strong>]"
       ]
      },
      {
       "output_type": "stream",
       "stream": "stdout",
       "text": [
        "\n",
        "[<strong class=\"metrics-data align-vmiddle\">\n",
        "<!-- Alexa web traffic metrics are available via our API at http://aws.amazon.com/awis -->\n",
        "<span style=\"margin-left: 10px;\">-</span> </strong>]"
       ]
      },
      {
       "output_type": "stream",
       "stream": "stdout",
       "text": [
        "\n",
        "[<strong class=\"metrics-data align-vmiddle\">\n",
        "<!-- Alexa web traffic metrics are available via our API at http://aws.amazon.com/awis -->\n",
        "<span style=\"margin-left: 10px;\">-</span> </strong>]"
       ]
      },
      {
       "output_type": "stream",
       "stream": "stdout",
       "text": [
        "\n",
        "[<strong class=\"metrics-data align-vmiddle\">\n",
        "<!-- Alexa web traffic metrics are available via our API at http://aws.amazon.com/awis -->\n",
        "1,783,105              </strong>]"
       ]
      },
      {
       "output_type": "stream",
       "stream": "stdout",
       "text": [
        "\n",
        "[<strong class=\"metrics-data align-vmiddle\">\n",
        "<!-- Alexa web traffic metrics are available via our API at http://aws.amazon.com/awis -->\n",
        "24,547,781              </strong>]"
       ]
      },
      {
       "output_type": "stream",
       "stream": "stdout",
       "text": [
        "\n",
        "[<strong class=\"metrics-data align-vmiddle\">\n",
        "<!-- Alexa web traffic metrics are available via our API at http://aws.amazon.com/awis -->\n",
        "<span style=\"margin-left: 10px;\">-</span> </strong>]"
       ]
      },
      {
       "output_type": "stream",
       "stream": "stdout",
       "text": [
        "\n",
        "[<strong class=\"metrics-data align-vmiddle\">\n",
        "<!-- Alexa web traffic metrics are available via our API at http://aws.amazon.com/awis -->\n",
        "10,323,998              </strong>]"
       ]
      },
      {
       "output_type": "stream",
       "stream": "stdout",
       "text": [
        "\n",
        "[<strong class=\"metrics-data align-vmiddle\">\n",
        "<!-- Alexa web traffic metrics are available via our API at http://aws.amazon.com/awis -->\n",
        "11,671,569              </strong>]"
       ]
      },
      {
       "output_type": "stream",
       "stream": "stdout",
       "text": [
        "\n",
        "[<strong class=\"metrics-data align-vmiddle\">\n",
        "<!-- Alexa web traffic metrics are available via our API at http://aws.amazon.com/awis -->\n",
        "7,733,161              </strong>]"
       ]
      },
      {
       "output_type": "stream",
       "stream": "stdout",
       "text": [
        "\n",
        "[<strong class=\"metrics-data align-vmiddle\">\n",
        "<!-- Alexa web traffic metrics are available via our API at http://aws.amazon.com/awis -->\n",
        "8,056,797              </strong>]"
       ]
      },
      {
       "output_type": "stream",
       "stream": "stdout",
       "text": [
        "\n",
        "[<strong class=\"metrics-data align-vmiddle\">\n",
        "<!-- Alexa web traffic metrics are available via our API at http://aws.amazon.com/awis -->\n",
        "15,848,270              </strong>]"
       ]
      },
      {
       "output_type": "stream",
       "stream": "stdout",
       "text": [
        "\n",
        "[<strong class=\"metrics-data align-vmiddle\">\n",
        "<!-- Alexa web traffic metrics are available via our API at http://aws.amazon.com/awis -->\n",
        "20,164,304              </strong>]"
       ]
      },
      {
       "output_type": "stream",
       "stream": "stdout",
       "text": [
        "\n",
        "[<strong class=\"metrics-data align-vmiddle\">\n",
        "<!-- Alexa web traffic metrics are available via our API at http://aws.amazon.com/awis -->\n",
        "<span style=\"margin-left: 10px;\">-</span> </strong>]"
       ]
      },
      {
       "output_type": "stream",
       "stream": "stdout",
       "text": [
        "\n",
        "[<strong class=\"metrics-data align-vmiddle\">\n",
        "<!-- Alexa web traffic metrics are available via our API at http://aws.amazon.com/awis -->\n",
        "13,180,747              </strong>]"
       ]
      },
      {
       "output_type": "stream",
       "stream": "stdout",
       "text": [
        "\n",
        "[<strong class=\"metrics-data align-vmiddle\">\n",
        "<!-- Alexa web traffic metrics are available via our API at http://aws.amazon.com/awis -->\n",
        "3,298,892              </strong>]"
       ]
      },
      {
       "output_type": "stream",
       "stream": "stdout",
       "text": [
        "\n",
        "[<strong class=\"metrics-data align-vmiddle\">\n",
        "<!-- Alexa web traffic metrics are available via our API at http://aws.amazon.com/awis -->\n",
        "5,038,986              </strong>]"
       ]
      },
      {
       "output_type": "stream",
       "stream": "stdout",
       "text": [
        "\n",
        "[<strong class=\"metrics-data align-vmiddle\">\n",
        "<!-- Alexa web traffic metrics are available via our API at http://aws.amazon.com/awis -->\n",
        "586,605              </strong>]"
       ]
      },
      {
       "output_type": "stream",
       "stream": "stdout",
       "text": [
        "\n",
        "[<strong class=\"metrics-data align-vmiddle\">\n",
        "<!-- Alexa web traffic metrics are available via our API at http://aws.amazon.com/awis -->\n",
        "1,022,036              </strong>]"
       ]
      },
      {
       "output_type": "stream",
       "stream": "stdout",
       "text": [
        "\n",
        "[<strong class=\"metrics-data align-vmiddle\">\n",
        "<!-- Alexa web traffic metrics are available via our API at http://aws.amazon.com/awis -->\n",
        "706,777              </strong>]"
       ]
      },
      {
       "output_type": "stream",
       "stream": "stdout",
       "text": [
        "\n",
        "[<strong class=\"metrics-data align-vmiddle\">\n",
        "<!-- Alexa web traffic metrics are available via our API at http://aws.amazon.com/awis -->\n",
        "1,228,374              </strong>]"
       ]
      },
      {
       "output_type": "stream",
       "stream": "stdout",
       "text": [
        "\n",
        "[<strong class=\"metrics-data align-vmiddle\">\n",
        "<!-- Alexa web traffic metrics are available via our API at http://aws.amazon.com/awis -->\n",
        "<span style=\"margin-left: 10px;\">-</span> </strong>]"
       ]
      },
      {
       "output_type": "stream",
       "stream": "stdout",
       "text": [
        "\n",
        "[<strong class=\"metrics-data align-vmiddle\">\n",
        "<!-- Alexa web traffic metrics are available via our API at http://aws.amazon.com/awis -->\n",
        "256,400              </strong>]"
       ]
      },
      {
       "output_type": "stream",
       "stream": "stdout",
       "text": [
        "\n",
        "[<strong class=\"metrics-data align-vmiddle\">\n",
        "<!-- Alexa web traffic metrics are available via our API at http://aws.amazon.com/awis -->\n",
        "<span style=\"margin-left: 10px;\">-</span> </strong>]"
       ]
      },
      {
       "output_type": "stream",
       "stream": "stdout",
       "text": [
        "\n",
        "[<strong class=\"metrics-data align-vmiddle\">\n",
        "<!-- Alexa web traffic metrics are available via our API at http://aws.amazon.com/awis -->\n",
        "<span style=\"margin-left: 10px;\">-</span> </strong>]"
       ]
      },
      {
       "output_type": "stream",
       "stream": "stdout",
       "text": [
        "\n",
        "[<strong class=\"metrics-data align-vmiddle\">\n",
        "<!-- Alexa web traffic metrics are available via our API at http://aws.amazon.com/awis -->\n",
        "12,402,342              </strong>]"
       ]
      },
      {
       "output_type": "stream",
       "stream": "stdout",
       "text": [
        "\n",
        "[<strong class=\"metrics-data align-vmiddle\">\n",
        "<!-- Alexa web traffic metrics are available via our API at http://aws.amazon.com/awis -->\n",
        "9,810,745              </strong>]"
       ]
      },
      {
       "output_type": "stream",
       "stream": "stdout",
       "text": [
        "\n",
        "[<strong class=\"metrics-data align-vmiddle\">\n",
        "<!-- Alexa web traffic metrics are available via our API at http://aws.amazon.com/awis -->\n",
        "9,642,773              </strong>]"
       ]
      },
      {
       "output_type": "stream",
       "stream": "stdout",
       "text": [
        "\n",
        "[<strong class=\"metrics-data align-vmiddle\">\n",
        "<!-- Alexa web traffic metrics are available via our API at http://aws.amazon.com/awis -->\n",
        "3,562,450              </strong>]"
       ]
      },
      {
       "output_type": "stream",
       "stream": "stdout",
       "text": [
        "\n",
        "[<strong class=\"metrics-data align-vmiddle\">\n",
        "<!-- Alexa web traffic metrics are available via our API at http://aws.amazon.com/awis -->\n",
        "11,153,548              </strong>]"
       ]
      },
      {
       "output_type": "stream",
       "stream": "stdout",
       "text": [
        "\n",
        "[<strong class=\"metrics-data align-vmiddle\">\n",
        "<!-- Alexa web traffic metrics are available via our API at http://aws.amazon.com/awis -->\n",
        "<span style=\"margin-left: 10px;\">-</span> </strong>]"
       ]
      },
      {
       "output_type": "stream",
       "stream": "stdout",
       "text": [
        "\n",
        "[<strong class=\"metrics-data align-vmiddle\">\n",
        "<!-- Alexa web traffic metrics are available via our API at http://aws.amazon.com/awis -->\n",
        "20,820,056              </strong>]"
       ]
      },
      {
       "output_type": "stream",
       "stream": "stdout",
       "text": [
        "\n",
        "[<strong class=\"metrics-data align-vmiddle\">\n",
        "<!-- Alexa web traffic metrics are available via our API at http://aws.amazon.com/awis -->\n",
        "6,081,285              </strong>]"
       ]
      },
      {
       "output_type": "stream",
       "stream": "stdout",
       "text": [
        "\n",
        "[<strong class=\"metrics-data align-vmiddle\">\n",
        "<!-- Alexa web traffic metrics are available via our API at http://aws.amazon.com/awis -->\n",
        "11,644,864              </strong>]"
       ]
      },
      {
       "output_type": "stream",
       "stream": "stdout",
       "text": [
        "\n",
        "[<strong class=\"metrics-data align-vmiddle\">\n",
        "<!-- Alexa web traffic metrics are available via our API at http://aws.amazon.com/awis -->\n",
        "256,400              </strong>]"
       ]
      },
      {
       "output_type": "stream",
       "stream": "stdout",
       "text": [
        "\n",
        "[<strong class=\"metrics-data align-vmiddle\">\n",
        "<!-- Alexa web traffic metrics are available via our API at http://aws.amazon.com/awis -->\n",
        "6,478,681              </strong>]"
       ]
      },
      {
       "output_type": "stream",
       "stream": "stdout",
       "text": [
        "\n",
        "[<strong class=\"metrics-data align-vmiddle\">\n",
        "<!-- Alexa web traffic metrics are available via our API at http://aws.amazon.com/awis -->\n",
        "<span style=\"margin-left: 10px;\">-</span> </strong>]"
       ]
      },
      {
       "output_type": "stream",
       "stream": "stdout",
       "text": [
        "\n",
        "[<strong class=\"metrics-data align-vmiddle\">\n",
        "<!-- Alexa web traffic metrics are available via our API at http://aws.amazon.com/awis -->\n",
        "25,028              </strong>]"
       ]
      },
      {
       "output_type": "stream",
       "stream": "stdout",
       "text": [
        "\n",
        "[<strong class=\"metrics-data align-vmiddle\">\n",
        "<!-- Alexa web traffic metrics are available via our API at http://aws.amazon.com/awis -->\n",
        "16,374              </strong>]"
       ]
      },
      {
       "output_type": "stream",
       "stream": "stdout",
       "text": [
        "\n",
        "[<strong class=\"metrics-data align-vmiddle\">\n",
        "<!-- Alexa web traffic metrics are available via our API at http://aws.amazon.com/awis -->\n",
        "6,613,177              </strong>]"
       ]
      },
      {
       "output_type": "stream",
       "stream": "stdout",
       "text": [
        "\n",
        "[<strong class=\"metrics-data align-vmiddle\">\n",
        "<!-- Alexa web traffic metrics are available via our API at http://aws.amazon.com/awis -->\n",
        "2,171,152              </strong>]"
       ]
      },
      {
       "output_type": "stream",
       "stream": "stdout",
       "text": [
        "\n",
        "[<strong class=\"metrics-data align-vmiddle\">\n",
        "<!-- Alexa web traffic metrics are available via our API at http://aws.amazon.com/awis -->\n",
        "3,724,157              </strong>]"
       ]
      },
      {
       "output_type": "stream",
       "stream": "stdout",
       "text": [
        "\n",
        "[<strong class=\"metrics-data align-vmiddle\">\n",
        "<!-- Alexa web traffic metrics are available via our API at http://aws.amazon.com/awis -->\n",
        "367,116              </strong>]"
       ]
      },
      {
       "output_type": "stream",
       "stream": "stdout",
       "text": [
        "\n",
        "[<strong class=\"metrics-data align-vmiddle\">\n",
        "<!-- Alexa web traffic metrics are available via our API at http://aws.amazon.com/awis -->\n",
        "367,116              </strong>]"
       ]
      },
      {
       "output_type": "stream",
       "stream": "stdout",
       "text": [
        "\n",
        "[<strong class=\"metrics-data align-vmiddle\">\n",
        "<!-- Alexa web traffic metrics are available via our API at http://aws.amazon.com/awis -->\n",
        "5,661,788              </strong>]"
       ]
      },
      {
       "output_type": "stream",
       "stream": "stdout",
       "text": [
        "\n",
        "[<strong class=\"metrics-data align-vmiddle\">\n",
        "<!-- Alexa web traffic metrics are available via our API at http://aws.amazon.com/awis -->\n",
        "8,546,133              </strong>]"
       ]
      },
      {
       "output_type": "stream",
       "stream": "stdout",
       "text": [
        "\n",
        "[<strong class=\"metrics-data align-vmiddle\">\n",
        "<!-- Alexa web traffic metrics are available via our API at http://aws.amazon.com/awis -->\n",
        "2,867,832              </strong>]"
       ]
      },
      {
       "output_type": "stream",
       "stream": "stdout",
       "text": [
        "\n",
        "[<strong class=\"metrics-data align-vmiddle\">\n",
        "<!-- Alexa web traffic metrics are available via our API at http://aws.amazon.com/awis -->\n",
        "12,175,093              </strong>]"
       ]
      },
      {
       "output_type": "stream",
       "stream": "stdout",
       "text": [
        "\n",
        "[<strong class=\"metrics-data align-vmiddle\">\n",
        "<!-- Alexa web traffic metrics are available via our API at http://aws.amazon.com/awis -->\n",
        "7,746,995              </strong>]"
       ]
      },
      {
       "output_type": "stream",
       "stream": "stdout",
       "text": [
        "\n",
        "[<strong class=\"metrics-data align-vmiddle\">\n",
        "<!-- Alexa web traffic metrics are available via our API at http://aws.amazon.com/awis -->\n",
        "<span style=\"margin-left: 10px;\">-</span> </strong>]"
       ]
      },
      {
       "output_type": "stream",
       "stream": "stdout",
       "text": [
        "\n",
        "[<strong class=\"metrics-data align-vmiddle\">\n",
        "<!-- Alexa web traffic metrics are available via our API at http://aws.amazon.com/awis -->\n",
        "3,140,686              </strong>]"
       ]
      },
      {
       "output_type": "stream",
       "stream": "stdout",
       "text": [
        "\n",
        "[<strong class=\"metrics-data align-vmiddle\">\n",
        "<!-- Alexa web traffic metrics are available via our API at http://aws.amazon.com/awis -->\n",
        "<span style=\"margin-left: 10px;\">-</span> </strong>]"
       ]
      },
      {
       "output_type": "stream",
       "stream": "stdout",
       "text": [
        "\n",
        "[<strong class=\"metrics-data align-vmiddle\">\n",
        "<!-- Alexa web traffic metrics are available via our API at http://aws.amazon.com/awis -->\n",
        "348,064              </strong>]"
       ]
      },
      {
       "output_type": "stream",
       "stream": "stdout",
       "text": [
        "\n",
        "[<strong class=\"metrics-data align-vmiddle\">\n",
        "<!-- Alexa web traffic metrics are available via our API at http://aws.amazon.com/awis -->\n",
        "12,175,093              </strong>]"
       ]
      },
      {
       "output_type": "stream",
       "stream": "stdout",
       "text": [
        "\n",
        "[<strong class=\"metrics-data align-vmiddle\">\n",
        "<!-- Alexa web traffic metrics are available via our API at http://aws.amazon.com/awis -->\n",
        "280,387              </strong>]"
       ]
      },
      {
       "output_type": "stream",
       "stream": "stdout",
       "text": [
        "\n",
        "[<strong class=\"metrics-data align-vmiddle\">\n",
        "<!-- Alexa web traffic metrics are available via our API at http://aws.amazon.com/awis -->\n",
        "614,757              </strong>]"
       ]
      },
      {
       "output_type": "stream",
       "stream": "stdout",
       "text": [
        "\n",
        "[<strong class=\"metrics-data align-vmiddle\">\n",
        "<!-- Alexa web traffic metrics are available via our API at http://aws.amazon.com/awis -->\n",
        "1,279,513              </strong>]"
       ]
      },
      {
       "output_type": "stream",
       "stream": "stdout",
       "text": [
        "\n",
        "[<strong class=\"metrics-data align-vmiddle\">\n",
        "<!-- Alexa web traffic metrics are available via our API at http://aws.amazon.com/awis -->\n",
        "8,838,690              </strong>]"
       ]
      },
      {
       "output_type": "stream",
       "stream": "stdout",
       "text": [
        "\n",
        "[<strong class=\"metrics-data align-vmiddle\">\n",
        "<!-- Alexa web traffic metrics are available via our API at http://aws.amazon.com/awis -->\n",
        "<span style=\"margin-left: 10px;\">-</span> </strong>]"
       ]
      },
      {
       "output_type": "stream",
       "stream": "stdout",
       "text": [
        "\n",
        "[<strong class=\"metrics-data align-vmiddle\">\n",
        "<!-- Alexa web traffic metrics are available via our API at http://aws.amazon.com/awis -->\n",
        "3,802,855              </strong>]"
       ]
      },
      {
       "output_type": "stream",
       "stream": "stdout",
       "text": [
        "\n",
        "[<strong class=\"metrics-data align-vmiddle\">\n",
        "<!-- Alexa web traffic metrics are available via our API at http://aws.amazon.com/awis -->\n",
        "145,392              </strong>]"
       ]
      },
      {
       "output_type": "stream",
       "stream": "stdout",
       "text": [
        "\n",
        "[<strong class=\"metrics-data align-vmiddle\">\n",
        "<!-- Alexa web traffic metrics are available via our API at http://aws.amazon.com/awis -->\n",
        "856,549              </strong>]"
       ]
      },
      {
       "output_type": "stream",
       "stream": "stdout",
       "text": [
        "\n",
        "[<strong class=\"metrics-data align-vmiddle\">\n",
        "<!-- Alexa web traffic metrics are available via our API at http://aws.amazon.com/awis -->\n",
        "9,391,148              </strong>]"
       ]
      },
      {
       "output_type": "stream",
       "stream": "stdout",
       "text": [
        "\n",
        "[<strong class=\"metrics-data align-vmiddle\">\n",
        "<!-- Alexa web traffic metrics are available via our API at http://aws.amazon.com/awis -->\n",
        "3,648,056              </strong>]"
       ]
      },
      {
       "output_type": "stream",
       "stream": "stdout",
       "text": [
        "\n",
        "[<strong class=\"metrics-data align-vmiddle\">\n",
        "<!-- Alexa web traffic metrics are available via our API at http://aws.amazon.com/awis -->\n",
        "16,378,338              </strong>]"
       ]
      },
      {
       "output_type": "stream",
       "stream": "stdout",
       "text": [
        "\n",
        "[<strong class=\"metrics-data align-vmiddle\">\n",
        "<!-- Alexa web traffic metrics are available via our API at http://aws.amazon.com/awis -->\n",
        "<span style=\"margin-left: 10px;\">-</span> </strong>]"
       ]
      },
      {
       "output_type": "stream",
       "stream": "stdout",
       "text": [
        "\n",
        "[<strong class=\"metrics-data align-vmiddle\">\n",
        "<!-- Alexa web traffic metrics are available via our API at http://aws.amazon.com/awis -->\n",
        "<span style=\"margin-left: 10px;\">-</span> </strong>]"
       ]
      },
      {
       "output_type": "stream",
       "stream": "stdout",
       "text": [
        "\n",
        "[<strong class=\"metrics-data align-vmiddle\">\n",
        "<!-- Alexa web traffic metrics are available via our API at http://aws.amazon.com/awis -->\n",
        "<span style=\"margin-left: 10px;\">-</span> </strong>]"
       ]
      },
      {
       "output_type": "stream",
       "stream": "stdout",
       "text": [
        "\n",
        "[<strong class=\"metrics-data align-vmiddle\">\n",
        "<!-- Alexa web traffic metrics are available via our API at http://aws.amazon.com/awis -->\n",
        "3,693,142              </strong>]"
       ]
      },
      {
       "output_type": "stream",
       "stream": "stdout",
       "text": [
        "\n",
        "[<strong class=\"metrics-data align-vmiddle\">\n",
        "<!-- Alexa web traffic metrics are available via our API at http://aws.amazon.com/awis -->\n",
        "2,446,096              </strong>]"
       ]
      },
      {
       "output_type": "stream",
       "stream": "stdout",
       "text": [
        "\n",
        "[<strong class=\"metrics-data align-vmiddle\">\n",
        "<!-- Alexa web traffic metrics are available via our API at http://aws.amazon.com/awis -->\n",
        "113,360              </strong>]"
       ]
      },
      {
       "output_type": "stream",
       "stream": "stdout",
       "text": [
        "\n",
        "[<strong class=\"metrics-data align-vmiddle\">\n",
        "<!-- Alexa web traffic metrics are available via our API at http://aws.amazon.com/awis -->\n",
        "21,907,872              </strong>]"
       ]
      },
      {
       "output_type": "stream",
       "stream": "stdout",
       "text": [
        "\n",
        "[<strong class=\"metrics-data align-vmiddle\">\n",
        "<!-- Alexa web traffic metrics are available via our API at http://aws.amazon.com/awis -->\n",
        "1,749,715              </strong>]"
       ]
      },
      {
       "output_type": "stream",
       "stream": "stdout",
       "text": [
        "\n",
        "[<strong class=\"metrics-data align-vmiddle\">\n",
        "<!-- Alexa web traffic metrics are available via our API at http://aws.amazon.com/awis -->\n",
        "7,863,944              </strong>]"
       ]
      },
      {
       "output_type": "stream",
       "stream": "stdout",
       "text": [
        "\n",
        "[<strong class=\"metrics-data align-vmiddle\">\n",
        "<!-- Alexa web traffic metrics are available via our API at http://aws.amazon.com/awis -->\n",
        "<span style=\"margin-left: 10px;\">-</span> </strong>]"
       ]
      },
      {
       "output_type": "stream",
       "stream": "stdout",
       "text": [
        "\n",
        "[<strong class=\"metrics-data align-vmiddle\">\n",
        "<!-- Alexa web traffic metrics are available via our API at http://aws.amazon.com/awis -->\n",
        "4,318,725              </strong>]"
       ]
      },
      {
       "output_type": "stream",
       "stream": "stdout",
       "text": [
        "\n",
        "[<strong class=\"metrics-data align-vmiddle\">\n",
        "<!-- Alexa web traffic metrics are available via our API at http://aws.amazon.com/awis -->\n",
        "8,328,201              </strong>]"
       ]
      },
      {
       "output_type": "stream",
       "stream": "stdout",
       "text": [
        "\n",
        "[<strong class=\"metrics-data align-vmiddle\">\n",
        "<!-- Alexa web traffic metrics are available via our API at http://aws.amazon.com/awis -->\n",
        "<span style=\"margin-left: 10px;\">-</span> </strong>]"
       ]
      },
      {
       "output_type": "stream",
       "stream": "stdout",
       "text": [
        "\n",
        "[<strong class=\"metrics-data align-vmiddle\">\n",
        "<!-- Alexa web traffic metrics are available via our API at http://aws.amazon.com/awis -->\n",
        "4,782,696              </strong>]"
       ]
      },
      {
       "output_type": "stream",
       "stream": "stdout",
       "text": [
        "\n",
        "[<strong class=\"metrics-data align-vmiddle\">\n",
        "<!-- Alexa web traffic metrics are available via our API at http://aws.amazon.com/awis -->\n",
        "11,144,441              </strong>]"
       ]
      },
      {
       "output_type": "stream",
       "stream": "stdout",
       "text": [
        "\n",
        "[<strong class=\"metrics-data align-vmiddle\">\n",
        "<!-- Alexa web traffic metrics are available via our API at http://aws.amazon.com/awis -->\n",
        "2,077,741              </strong>]"
       ]
      },
      {
       "output_type": "stream",
       "stream": "stdout",
       "text": [
        "\n",
        "[<strong class=\"metrics-data align-vmiddle\">\n",
        "<!-- Alexa web traffic metrics are available via our API at http://aws.amazon.com/awis -->\n",
        "<span style=\"margin-left: 10px;\">-</span> </strong>]"
       ]
      },
      {
       "output_type": "stream",
       "stream": "stdout",
       "text": [
        "\n",
        "[<strong class=\"metrics-data align-vmiddle\">\n",
        "<!-- Alexa web traffic metrics are available via our API at http://aws.amazon.com/awis -->\n",
        "1,185,404              </strong>]"
       ]
      },
      {
       "output_type": "stream",
       "stream": "stdout",
       "text": [
        "\n",
        "[<strong class=\"metrics-data align-vmiddle\">\n",
        "<!-- Alexa web traffic metrics are available via our API at http://aws.amazon.com/awis -->\n",
        "7,399,567              </strong>]"
       ]
      },
      {
       "output_type": "stream",
       "stream": "stdout",
       "text": [
        "\n",
        "[<strong class=\"metrics-data align-vmiddle\">\n",
        "<!-- Alexa web traffic metrics are available via our API at http://aws.amazon.com/awis -->\n",
        "<span style=\"margin-left: 10px;\">-</span> </strong>]"
       ]
      },
      {
       "output_type": "stream",
       "stream": "stdout",
       "text": [
        "\n",
        "[<strong class=\"metrics-data align-vmiddle\">\n",
        "<!-- Alexa web traffic metrics are available via our API at http://aws.amazon.com/awis -->\n",
        "2,226,250              </strong>]"
       ]
      },
      {
       "output_type": "stream",
       "stream": "stdout",
       "text": [
        "\n",
        "[<strong class=\"metrics-data align-vmiddle\">\n",
        "<!-- Alexa web traffic metrics are available via our API at http://aws.amazon.com/awis -->\n",
        "<span style=\"margin-left: 10px;\">-</span> </strong>]"
       ]
      },
      {
       "output_type": "stream",
       "stream": "stdout",
       "text": [
        "\n",
        "[<strong class=\"metrics-data align-vmiddle\">\n",
        "<!-- Alexa web traffic metrics are available via our API at http://aws.amazon.com/awis -->\n",
        "<span style=\"margin-left: 10px;\">-</span> </strong>]"
       ]
      },
      {
       "output_type": "stream",
       "stream": "stdout",
       "text": [
        "\n",
        "[<strong class=\"metrics-data align-vmiddle\">\n",
        "<!-- Alexa web traffic metrics are available via our API at http://aws.amazon.com/awis -->\n",
        "2,070,828              </strong>]"
       ]
      },
      {
       "output_type": "stream",
       "stream": "stdout",
       "text": [
        "\n",
        "[<strong class=\"metrics-data align-vmiddle\">\n",
        "<!-- Alexa web traffic metrics are available via our API at http://aws.amazon.com/awis -->\n",
        "3,407,126              </strong>]"
       ]
      },
      {
       "output_type": "stream",
       "stream": "stdout",
       "text": [
        "\n",
        "[<strong class=\"metrics-data align-vmiddle\">\n",
        "<!-- Alexa web traffic metrics are available via our API at http://aws.amazon.com/awis -->\n",
        "<span style=\"margin-left: 10px;\">-</span> </strong>]"
       ]
      },
      {
       "output_type": "stream",
       "stream": "stdout",
       "text": [
        "\n",
        "[<strong class=\"metrics-data align-vmiddle\">\n",
        "<!-- Alexa web traffic metrics are available via our API at http://aws.amazon.com/awis -->\n",
        "10,795,518              </strong>]"
       ]
      },
      {
       "output_type": "stream",
       "stream": "stdout",
       "text": [
        "\n",
        "[<strong class=\"metrics-data align-vmiddle\">\n",
        "<!-- Alexa web traffic metrics are available via our API at http://aws.amazon.com/awis -->\n",
        "617,065              </strong>]"
       ]
      },
      {
       "output_type": "stream",
       "stream": "stdout",
       "text": [
        "\n",
        "[<strong class=\"metrics-data align-vmiddle\">\n",
        "<!-- Alexa web traffic metrics are available via our API at http://aws.amazon.com/awis -->\n",
        "3,940,108              </strong>]"
       ]
      },
      {
       "output_type": "stream",
       "stream": "stdout",
       "text": [
        "\n",
        "[<strong class=\"metrics-data align-vmiddle\">\n",
        "<!-- Alexa web traffic metrics are available via our API at http://aws.amazon.com/awis -->\n",
        "600,755              </strong>]"
       ]
      },
      {
       "output_type": "stream",
       "stream": "stdout",
       "text": [
        "\n",
        "[<strong class=\"metrics-data align-vmiddle\">\n",
        "<!-- Alexa web traffic metrics are available via our API at http://aws.amazon.com/awis -->\n",
        "328,126              </strong>]"
       ]
      },
      {
       "output_type": "stream",
       "stream": "stdout",
       "text": [
        "\n",
        "[<strong class=\"metrics-data align-vmiddle\">\n",
        "<!-- Alexa web traffic metrics are available via our API at http://aws.amazon.com/awis -->\n",
        "<span style=\"margin-left: 10px;\">-</span> </strong>]"
       ]
      },
      {
       "output_type": "stream",
       "stream": "stdout",
       "text": [
        "\n",
        "[<strong class=\"metrics-data align-vmiddle\">\n",
        "<!-- Alexa web traffic metrics are available via our API at http://aws.amazon.com/awis -->\n",
        "<span style=\"margin-left: 10px;\">-</span> </strong>]"
       ]
      },
      {
       "output_type": "stream",
       "stream": "stdout",
       "text": [
        "\n",
        "[<strong class=\"metrics-data align-vmiddle\">\n",
        "<!-- Alexa web traffic metrics are available via our API at http://aws.amazon.com/awis -->\n",
        "5,378,689              </strong>]"
       ]
      },
      {
       "output_type": "stream",
       "stream": "stdout",
       "text": [
        "\n",
        "[<strong class=\"metrics-data align-vmiddle\">\n",
        "<!-- Alexa web traffic metrics are available via our API at http://aws.amazon.com/awis -->\n",
        "319,651              </strong>]"
       ]
      },
      {
       "output_type": "stream",
       "stream": "stdout",
       "text": [
        "\n",
        "[<strong class=\"metrics-data align-vmiddle\">\n",
        "<!-- Alexa web traffic metrics are available via our API at http://aws.amazon.com/awis -->\n",
        "<span style=\"margin-left: 10px;\">-</span> </strong>]"
       ]
      },
      {
       "output_type": "stream",
       "stream": "stdout",
       "text": [
        "\n",
        "[<strong class=\"metrics-data align-vmiddle\">\n",
        "<!-- Alexa web traffic metrics are available via our API at http://aws.amazon.com/awis -->\n",
        "17,010,172              </strong>]"
       ]
      },
      {
       "output_type": "stream",
       "stream": "stdout",
       "text": [
        "\n",
        "[<strong class=\"metrics-data align-vmiddle\">\n",
        "<!-- Alexa web traffic metrics are available via our API at http://aws.amazon.com/awis -->\n",
        "155,903              </strong>]"
       ]
      },
      {
       "output_type": "stream",
       "stream": "stdout",
       "text": [
        "\n",
        "[<strong class=\"metrics-data align-vmiddle\">\n",
        "<!-- Alexa web traffic metrics are available via our API at http://aws.amazon.com/awis -->\n",
        "3,066,595              </strong>]"
       ]
      },
      {
       "output_type": "stream",
       "stream": "stdout",
       "text": [
        "\n",
        "[<strong class=\"metrics-data align-vmiddle\">\n",
        "<!-- Alexa web traffic metrics are available via our API at http://aws.amazon.com/awis -->\n",
        "<span style=\"margin-left: 10px;\">-</span> </strong>]"
       ]
      },
      {
       "output_type": "stream",
       "stream": "stdout",
       "text": [
        "\n",
        "[<strong class=\"metrics-data align-vmiddle\">\n",
        "<!-- Alexa web traffic metrics are available via our API at http://aws.amazon.com/awis -->\n",
        "2,293,253              </strong>]"
       ]
      },
      {
       "output_type": "stream",
       "stream": "stdout",
       "text": [
        "\n",
        "[<strong class=\"metrics-data align-vmiddle\">\n",
        "<!-- Alexa web traffic metrics are available via our API at http://aws.amazon.com/awis -->\n",
        "<span style=\"margin-left: 10px;\">-</span> </strong>]"
       ]
      },
      {
       "output_type": "stream",
       "stream": "stdout",
       "text": [
        "\n",
        "[<strong class=\"metrics-data align-vmiddle\">\n",
        "<!-- Alexa web traffic metrics are available via our API at http://aws.amazon.com/awis -->\n",
        "285,948              </strong>]"
       ]
      },
      {
       "output_type": "stream",
       "stream": "stdout",
       "text": [
        "\n",
        "[<strong class=\"metrics-data align-vmiddle\">\n",
        "<!-- Alexa web traffic metrics are available via our API at http://aws.amazon.com/awis -->\n",
        "2,501,338              </strong>]"
       ]
      },
      {
       "output_type": "stream",
       "stream": "stdout",
       "text": [
        "\n",
        "[<strong class=\"metrics-data align-vmiddle\">\n",
        "<!-- Alexa web traffic metrics are available via our API at http://aws.amazon.com/awis -->\n",
        "1,415,193              </strong>]"
       ]
      },
      {
       "output_type": "stream",
       "stream": "stdout",
       "text": [
        "\n",
        "[<strong class=\"metrics-data align-vmiddle\">\n",
        "<!-- Alexa web traffic metrics are available via our API at http://aws.amazon.com/awis -->\n",
        "<span style=\"margin-left: 10px;\">-</span> </strong>]"
       ]
      },
      {
       "output_type": "stream",
       "stream": "stdout",
       "text": [
        "\n",
        "[<strong class=\"metrics-data align-vmiddle\">\n",
        "<!-- Alexa web traffic metrics are available via our API at http://aws.amazon.com/awis -->\n",
        "6,208,816              </strong>]"
       ]
      },
      {
       "output_type": "stream",
       "stream": "stdout",
       "text": [
        "\n",
        "[<strong class=\"metrics-data align-vmiddle\">\n",
        "<!-- Alexa web traffic metrics are available via our API at http://aws.amazon.com/awis -->\n",
        "1,042,694              </strong>]"
       ]
      },
      {
       "output_type": "stream",
       "stream": "stdout",
       "text": [
        "\n",
        "[<strong class=\"metrics-data align-vmiddle\">\n",
        "<!-- Alexa web traffic metrics are available via our API at http://aws.amazon.com/awis -->\n",
        "10,774,548              </strong>]"
       ]
      },
      {
       "output_type": "stream",
       "stream": "stdout",
       "text": [
        "\n",
        "[<strong class=\"metrics-data align-vmiddle\">\n",
        "<!-- Alexa web traffic metrics are available via our API at http://aws.amazon.com/awis -->\n",
        "3,070,705              </strong>]"
       ]
      },
      {
       "output_type": "stream",
       "stream": "stdout",
       "text": [
        "\n",
        "[<strong class=\"metrics-data align-vmiddle\">\n",
        "<!-- Alexa web traffic metrics are available via our API at http://aws.amazon.com/awis -->\n",
        "3,254,093              </strong>]"
       ]
      },
      {
       "output_type": "stream",
       "stream": "stdout",
       "text": [
        "\n",
        "[<strong class=\"metrics-data align-vmiddle\">\n",
        "<!-- Alexa web traffic metrics are available via our API at http://aws.amazon.com/awis -->\n",
        "5,171,262              </strong>]"
       ]
      },
      {
       "output_type": "stream",
       "stream": "stdout",
       "text": [
        "\n",
        "[<strong class=\"metrics-data align-vmiddle\">\n",
        "<!-- Alexa web traffic metrics are available via our API at http://aws.amazon.com/awis -->\n",
        "<span style=\"margin-left: 10px;\">-</span> </strong>]"
       ]
      },
      {
       "output_type": "stream",
       "stream": "stdout",
       "text": [
        "\n",
        "[<strong class=\"metrics-data align-vmiddle\">\n",
        "<!-- Alexa web traffic metrics are available via our API at http://aws.amazon.com/awis -->\n",
        "2,006,051              </strong>]"
       ]
      },
      {
       "output_type": "stream",
       "stream": "stdout",
       "text": [
        "\n",
        "[<strong class=\"metrics-data align-vmiddle\">\n",
        "<!-- Alexa web traffic metrics are available via our API at http://aws.amazon.com/awis -->\n",
        "778,547              </strong>]"
       ]
      },
      {
       "output_type": "stream",
       "stream": "stdout",
       "text": [
        "\n",
        "[<strong class=\"metrics-data align-vmiddle\">\n",
        "<!-- Alexa web traffic metrics are available via our API at http://aws.amazon.com/awis -->\n",
        "10,943,810              </strong>]"
       ]
      },
      {
       "output_type": "stream",
       "stream": "stdout",
       "text": [
        "\n",
        "[<strong class=\"metrics-data align-vmiddle\">\n",
        "<!-- Alexa web traffic metrics are available via our API at http://aws.amazon.com/awis -->\n",
        "8,319,386              </strong>]"
       ]
      },
      {
       "output_type": "stream",
       "stream": "stdout",
       "text": [
        "\n",
        "[<strong class=\"metrics-data align-vmiddle\">\n",
        "<!-- Alexa web traffic metrics are available via our API at http://aws.amazon.com/awis -->\n",
        "<span style=\"margin-left: 10px;\">-</span> </strong>]"
       ]
      },
      {
       "output_type": "stream",
       "stream": "stdout",
       "text": [
        "\n",
        "[<strong class=\"metrics-data align-vmiddle\">\n",
        "<!-- Alexa web traffic metrics are available via our API at http://aws.amazon.com/awis -->\n",
        "5,820,605              </strong>]"
       ]
      },
      {
       "output_type": "stream",
       "stream": "stdout",
       "text": [
        "\n",
        "[<strong class=\"metrics-data align-vmiddle\">\n",
        "<!-- Alexa web traffic metrics are available via our API at http://aws.amazon.com/awis -->\n",
        "<span style=\"margin-left: 10px;\">-</span> </strong>]"
       ]
      },
      {
       "output_type": "stream",
       "stream": "stdout",
       "text": [
        "\n",
        "[<strong class=\"metrics-data align-vmiddle\">\n",
        "<!-- Alexa web traffic metrics are available via our API at http://aws.amazon.com/awis -->\n",
        "7,127,693              </strong>]"
       ]
      },
      {
       "output_type": "stream",
       "stream": "stdout",
       "text": [
        "\n",
        "[<strong class=\"metrics-data align-vmiddle\">\n",
        "<!-- Alexa web traffic metrics are available via our API at http://aws.amazon.com/awis -->\n",
        "<span style=\"margin-left: 10px;\">-</span> </strong>]"
       ]
      },
      {
       "output_type": "stream",
       "stream": "stdout",
       "text": [
        "\n",
        "[<strong class=\"metrics-data align-vmiddle\">\n",
        "<!-- Alexa web traffic metrics are available via our API at http://aws.amazon.com/awis -->\n",
        "1,985,025              </strong>]"
       ]
      },
      {
       "output_type": "stream",
       "stream": "stdout",
       "text": [
        "\n",
        "[<strong class=\"metrics-data align-vmiddle\">\n",
        "<!-- Alexa web traffic metrics are available via our API at http://aws.amazon.com/awis -->\n",
        "11,124,816              </strong>]"
       ]
      },
      {
       "output_type": "stream",
       "stream": "stdout",
       "text": [
        "\n",
        "[<strong class=\"metrics-data align-vmiddle\">\n",
        "<!-- Alexa web traffic metrics are available via our API at http://aws.amazon.com/awis -->\n",
        "43,193              </strong>]"
       ]
      },
      {
       "output_type": "stream",
       "stream": "stdout",
       "text": [
        "\n",
        "[<strong class=\"metrics-data align-vmiddle\">\n",
        "<!-- Alexa web traffic metrics are available via our API at http://aws.amazon.com/awis -->\n",
        "1,465,671              </strong>]"
       ]
      },
      {
       "output_type": "stream",
       "stream": "stdout",
       "text": [
        "\n",
        "[<strong class=\"metrics-data align-vmiddle\">\n",
        "<!-- Alexa web traffic metrics are available via our API at http://aws.amazon.com/awis -->\n",
        "<span style=\"margin-left: 10px;\">-</span> </strong>]"
       ]
      },
      {
       "output_type": "stream",
       "stream": "stdout",
       "text": [
        "\n",
        "[<strong class=\"metrics-data align-vmiddle\">\n",
        "<!-- Alexa web traffic metrics are available via our API at http://aws.amazon.com/awis -->\n",
        "9,761,173              </strong>]"
       ]
      },
      {
       "output_type": "stream",
       "stream": "stdout",
       "text": [
        "\n",
        "[<strong class=\"metrics-data align-vmiddle\">\n",
        "<!-- Alexa web traffic metrics are available via our API at http://aws.amazon.com/awis -->\n",
        "<span style=\"margin-left: 10px;\">-</span> </strong>]"
       ]
      },
      {
       "output_type": "stream",
       "stream": "stdout",
       "text": [
        "\n",
        "[<strong class=\"metrics-data align-vmiddle\">\n",
        "<!-- Alexa web traffic metrics are available via our API at http://aws.amazon.com/awis -->\n",
        "5,303,771              </strong>]"
       ]
      },
      {
       "output_type": "stream",
       "stream": "stdout",
       "text": [
        "\n",
        "[<strong class=\"metrics-data align-vmiddle\">\n",
        "<!-- Alexa web traffic metrics are available via our API at http://aws.amazon.com/awis -->\n",
        "<span style=\"margin-left: 10px;\">-</span> </strong>]"
       ]
      },
      {
       "output_type": "stream",
       "stream": "stdout",
       "text": [
        "\n",
        "[<strong class=\"metrics-data align-vmiddle\">\n",
        "<!-- Alexa web traffic metrics are available via our API at http://aws.amazon.com/awis -->\n",
        "5,693,970              </strong>]"
       ]
      },
      {
       "output_type": "stream",
       "stream": "stdout",
       "text": [
        "\n",
        "[<strong class=\"metrics-data align-vmiddle\">\n",
        "<!-- Alexa web traffic metrics are available via our API at http://aws.amazon.com/awis -->\n",
        "<span style=\"margin-left: 10px;\">-</span> </strong>]"
       ]
      },
      {
       "output_type": "stream",
       "stream": "stdout",
       "text": [
        "\n",
        "[<strong class=\"metrics-data align-vmiddle\">\n",
        "<!-- Alexa web traffic metrics are available via our API at http://aws.amazon.com/awis -->\n",
        "4,547,418              </strong>]"
       ]
      },
      {
       "output_type": "stream",
       "stream": "stdout",
       "text": [
        "\n",
        "[<strong class=\"metrics-data align-vmiddle\">\n",
        "<!-- Alexa web traffic metrics are available via our API at http://aws.amazon.com/awis -->\n",
        "1,998,485              </strong>]"
       ]
      },
      {
       "output_type": "stream",
       "stream": "stdout",
       "text": [
        "\n",
        "[<strong class=\"metrics-data align-vmiddle\">\n",
        "<!-- Alexa web traffic metrics are available via our API at http://aws.amazon.com/awis -->\n",
        "1,119,901              </strong>]"
       ]
      },
      {
       "output_type": "stream",
       "stream": "stdout",
       "text": [
        "\n",
        "[<strong class=\"metrics-data align-vmiddle\">\n",
        "<!-- Alexa web traffic metrics are available via our API at http://aws.amazon.com/awis -->\n",
        "23,844,514              </strong>]"
       ]
      },
      {
       "output_type": "stream",
       "stream": "stdout",
       "text": [
        "\n",
        "[<strong class=\"metrics-data align-vmiddle\">\n",
        "<!-- Alexa web traffic metrics are available via our API at http://aws.amazon.com/awis -->\n",
        "804,364              </strong>]"
       ]
      },
      {
       "output_type": "stream",
       "stream": "stdout",
       "text": [
        "\n",
        "[<strong class=\"metrics-data align-vmiddle\">\n",
        "<!-- Alexa web traffic metrics are available via our API at http://aws.amazon.com/awis -->\n",
        "7,872,718              </strong>]"
       ]
      },
      {
       "output_type": "stream",
       "stream": "stdout",
       "text": [
        "\n",
        "[<strong class=\"metrics-data align-vmiddle\">\n",
        "<!-- Alexa web traffic metrics are available via our API at http://aws.amazon.com/awis -->\n",
        "1,478,993              </strong>]"
       ]
      },
      {
       "output_type": "stream",
       "stream": "stdout",
       "text": [
        "\n",
        "[<strong class=\"metrics-data align-vmiddle\">\n",
        "<!-- Alexa web traffic metrics are available via our API at http://aws.amazon.com/awis -->\n",
        "11,141,869              </strong>]"
       ]
      },
      {
       "output_type": "stream",
       "stream": "stdout",
       "text": [
        "\n",
        "[<strong class=\"metrics-data align-vmiddle\">\n",
        "<!-- Alexa web traffic metrics are available via our API at http://aws.amazon.com/awis -->\n",
        "1,039,772              </strong>]"
       ]
      },
      {
       "output_type": "stream",
       "stream": "stdout",
       "text": [
        "\n",
        "[<strong class=\"metrics-data align-vmiddle\">\n",
        "<!-- Alexa web traffic metrics are available via our API at http://aws.amazon.com/awis -->\n",
        "4,679,372              </strong>]"
       ]
      },
      {
       "output_type": "stream",
       "stream": "stdout",
       "text": [
        "\n",
        "[<strong class=\"metrics-data align-vmiddle\">\n",
        "<!-- Alexa web traffic metrics are available via our API at http://aws.amazon.com/awis -->\n",
        "64,925              </strong>]"
       ]
      },
      {
       "output_type": "stream",
       "stream": "stdout",
       "text": [
        "\n",
        "[<strong class=\"metrics-data align-vmiddle\">\n",
        "<!-- Alexa web traffic metrics are available via our API at http://aws.amazon.com/awis -->\n",
        "6,785,173              </strong>]"
       ]
      },
      {
       "output_type": "stream",
       "stream": "stdout",
       "text": [
        "\n",
        "[<strong class=\"metrics-data align-vmiddle\">\n",
        "<!-- Alexa web traffic metrics are available via our API at http://aws.amazon.com/awis -->\n",
        "692,645              </strong>]"
       ]
      },
      {
       "output_type": "stream",
       "stream": "stdout",
       "text": [
        "\n",
        "[<strong class=\"metrics-data align-vmiddle\">\n",
        "<!-- Alexa web traffic metrics are available via our API at http://aws.amazon.com/awis -->\n",
        "2,484,731              </strong>]"
       ]
      },
      {
       "output_type": "stream",
       "stream": "stdout",
       "text": [
        "\n",
        "[<strong class=\"metrics-data align-vmiddle\">\n",
        "<!-- Alexa web traffic metrics are available via our API at http://aws.amazon.com/awis -->\n",
        "<span style=\"margin-left: 10px;\">-</span> </strong>]"
       ]
      },
      {
       "output_type": "stream",
       "stream": "stdout",
       "text": [
        "\n",
        "[<strong class=\"metrics-data align-vmiddle\">\n",
        "<!-- Alexa web traffic metrics are available via our API at http://aws.amazon.com/awis -->\n",
        "7,634,099              </strong>]"
       ]
      },
      {
       "output_type": "stream",
       "stream": "stdout",
       "text": [
        "\n",
        "[<strong class=\"metrics-data align-vmiddle\">\n",
        "<!-- Alexa web traffic metrics are available via our API at http://aws.amazon.com/awis -->\n",
        "<span style=\"margin-left: 10px;\">-</span> </strong>]"
       ]
      },
      {
       "output_type": "stream",
       "stream": "stdout",
       "text": [
        "\n",
        "[<strong class=\"metrics-data align-vmiddle\">\n",
        "<!-- Alexa web traffic metrics are available via our API at http://aws.amazon.com/awis -->\n",
        "<span style=\"margin-left: 10px;\">-</span> </strong>]"
       ]
      },
      {
       "output_type": "stream",
       "stream": "stdout",
       "text": [
        "\n",
        "[<strong class=\"metrics-data align-vmiddle\">\n",
        "<!-- Alexa web traffic metrics are available via our API at http://aws.amazon.com/awis -->\n",
        "<span style=\"margin-left: 10px;\">-</span> </strong>]"
       ]
      },
      {
       "output_type": "stream",
       "stream": "stdout",
       "text": [
        "\n",
        "[<strong class=\"metrics-data align-vmiddle\">\n",
        "<!-- Alexa web traffic metrics are available via our API at http://aws.amazon.com/awis -->\n",
        "1,990,228              </strong>]"
       ]
      },
      {
       "output_type": "stream",
       "stream": "stdout",
       "text": [
        "\n",
        "[<strong class=\"metrics-data align-vmiddle\">\n",
        "<!-- Alexa web traffic metrics are available via our API at http://aws.amazon.com/awis -->\n",
        "10,859,430              </strong>]"
       ]
      },
      {
       "output_type": "stream",
       "stream": "stdout",
       "text": [
        "\n",
        "[<strong class=\"metrics-data align-vmiddle\">\n",
        "<!-- Alexa web traffic metrics are available via our API at http://aws.amazon.com/awis -->\n",
        "5,690,460              </strong>]"
       ]
      },
      {
       "output_type": "stream",
       "stream": "stdout",
       "text": [
        "\n",
        "[<strong class=\"metrics-data align-vmiddle\">\n",
        "<!-- Alexa web traffic metrics are available via our API at http://aws.amazon.com/awis -->\n",
        "4,806,943              </strong>]"
       ]
      },
      {
       "output_type": "stream",
       "stream": "stdout",
       "text": [
        "\n",
        "[<strong class=\"metrics-data align-vmiddle\">\n",
        "<!-- Alexa web traffic metrics are available via our API at http://aws.amazon.com/awis -->\n",
        "5,805,869              </strong>]"
       ]
      },
      {
       "output_type": "stream",
       "stream": "stdout",
       "text": [
        "\n",
        "[<strong class=\"metrics-data align-vmiddle\">\n",
        "<!-- Alexa web traffic metrics are available via our API at http://aws.amazon.com/awis -->\n",
        "10,467,473              </strong>]"
       ]
      },
      {
       "output_type": "stream",
       "stream": "stdout",
       "text": [
        "\n",
        "[<strong class=\"metrics-data align-vmiddle\">\n",
        "<!-- Alexa web traffic metrics are available via our API at http://aws.amazon.com/awis -->\n",
        "<span style=\"margin-left: 10px;\">-</span> </strong>]"
       ]
      },
      {
       "output_type": "stream",
       "stream": "stdout",
       "text": [
        "\n",
        "[<strong class=\"metrics-data align-vmiddle\">\n",
        "<!-- Alexa web traffic metrics are available via our API at http://aws.amazon.com/awis -->\n",
        "<span style=\"margin-left: 10px;\">-</span> </strong>]"
       ]
      },
      {
       "output_type": "stream",
       "stream": "stdout",
       "text": [
        "\n",
        "[<strong class=\"metrics-data align-vmiddle\">\n",
        "<!-- Alexa web traffic metrics are available via our API at http://aws.amazon.com/awis -->\n",
        "<span style=\"margin-left: 10px;\">-</span> </strong>]"
       ]
      },
      {
       "output_type": "stream",
       "stream": "stdout",
       "text": [
        "\n",
        "[<strong class=\"metrics-data align-vmiddle\">\n",
        "<!-- Alexa web traffic metrics are available via our API at http://aws.amazon.com/awis -->\n",
        "<span style=\"margin-left: 10px;\">-</span> </strong>]"
       ]
      },
      {
       "output_type": "stream",
       "stream": "stdout",
       "text": [
        "\n",
        "[<strong class=\"metrics-data align-vmiddle\">\n",
        "<!-- Alexa web traffic metrics are available via our API at http://aws.amazon.com/awis -->\n",
        "1,365,698              </strong>]"
       ]
      },
      {
       "output_type": "stream",
       "stream": "stdout",
       "text": [
        "\n",
        "[<strong class=\"metrics-data align-vmiddle\">\n",
        "<!-- Alexa web traffic metrics are available via our API at http://aws.amazon.com/awis -->\n",
        "<span style=\"margin-left: 10px;\">-</span> </strong>]"
       ]
      },
      {
       "output_type": "stream",
       "stream": "stdout",
       "text": [
        "\n",
        "[<strong class=\"metrics-data align-vmiddle\">\n",
        "<!-- Alexa web traffic metrics are available via our API at http://aws.amazon.com/awis -->\n",
        "6,022,022              </strong>]"
       ]
      },
      {
       "output_type": "stream",
       "stream": "stdout",
       "text": [
        "\n",
        "[<strong class=\"metrics-data align-vmiddle\">\n",
        "<!-- Alexa web traffic metrics are available via our API at http://aws.amazon.com/awis -->\n",
        "5,360,173              </strong>]"
       ]
      },
      {
       "output_type": "stream",
       "stream": "stdout",
       "text": [
        "\n",
        "[<strong class=\"metrics-data align-vmiddle\">\n",
        "<!-- Alexa web traffic metrics are available via our API at http://aws.amazon.com/awis -->\n",
        "8,803,709              </strong>]"
       ]
      },
      {
       "output_type": "stream",
       "stream": "stdout",
       "text": [
        "\n",
        "[<strong class=\"metrics-data align-vmiddle\">\n",
        "<!-- Alexa web traffic metrics are available via our API at http://aws.amazon.com/awis -->\n",
        "7,701,327              </strong>]"
       ]
      },
      {
       "output_type": "stream",
       "stream": "stdout",
       "text": [
        "\n",
        "[<strong class=\"metrics-data align-vmiddle\">\n",
        "<!-- Alexa web traffic metrics are available via our API at http://aws.amazon.com/awis -->\n",
        "1,353,686              </strong>]"
       ]
      },
      {
       "output_type": "stream",
       "stream": "stdout",
       "text": [
        "\n",
        "[<strong class=\"metrics-data align-vmiddle\">\n",
        "<!-- Alexa web traffic metrics are available via our API at http://aws.amazon.com/awis -->\n",
        "985,716              </strong>]"
       ]
      },
      {
       "output_type": "stream",
       "stream": "stdout",
       "text": [
        "\n",
        "[<strong class=\"metrics-data align-vmiddle\">\n",
        "<!-- Alexa web traffic metrics are available via our API at http://aws.amazon.com/awis -->\n",
        "6,434,858              </strong>]"
       ]
      },
      {
       "output_type": "stream",
       "stream": "stdout",
       "text": [
        "\n",
        "[<strong class=\"metrics-data align-vmiddle\">\n",
        "<!-- Alexa web traffic metrics are available via our API at http://aws.amazon.com/awis -->\n",
        "575,745              </strong>]"
       ]
      },
      {
       "output_type": "stream",
       "stream": "stdout",
       "text": [
        "\n",
        "[<strong class=\"metrics-data align-vmiddle\">\n",
        "<!-- Alexa web traffic metrics are available via our API at http://aws.amazon.com/awis -->\n",
        "6,435,004              </strong>]"
       ]
      },
      {
       "output_type": "stream",
       "stream": "stdout",
       "text": [
        "\n",
        "[<strong class=\"metrics-data align-vmiddle\">\n",
        "<!-- Alexa web traffic metrics are available via our API at http://aws.amazon.com/awis -->\n",
        "3,021,114              </strong>]"
       ]
      },
      {
       "output_type": "stream",
       "stream": "stdout",
       "text": [
        "\n",
        "[<strong class=\"metrics-data align-vmiddle\">\n",
        "<!-- Alexa web traffic metrics are available via our API at http://aws.amazon.com/awis -->\n",
        "<span style=\"margin-left: 10px;\">-</span> </strong>]"
       ]
      },
      {
       "output_type": "stream",
       "stream": "stdout",
       "text": [
        "\n",
        "[<strong class=\"metrics-data align-vmiddle\">\n",
        "<!-- Alexa web traffic metrics are available via our API at http://aws.amazon.com/awis -->\n",
        "14,066,757              </strong>]"
       ]
      },
      {
       "output_type": "stream",
       "stream": "stdout",
       "text": [
        "\n",
        "[<strong class=\"metrics-data align-vmiddle\">\n",
        "<!-- Alexa web traffic metrics are available via our API at http://aws.amazon.com/awis -->\n",
        "6,627,725              </strong>]"
       ]
      },
      {
       "output_type": "stream",
       "stream": "stdout",
       "text": [
        "\n",
        "[<strong class=\"metrics-data align-vmiddle\">\n",
        "<!-- Alexa web traffic metrics are available via our API at http://aws.amazon.com/awis -->\n",
        "8,221,259              </strong>]"
       ]
      },
      {
       "output_type": "stream",
       "stream": "stdout",
       "text": [
        "\n",
        "[<strong class=\"metrics-data align-vmiddle\">\n",
        "<!-- Alexa web traffic metrics are available via our API at http://aws.amazon.com/awis -->\n",
        "2,154,942              </strong>]"
       ]
      },
      {
       "output_type": "stream",
       "stream": "stdout",
       "text": [
        "\n",
        "[<strong class=\"metrics-data align-vmiddle\">\n",
        "<!-- Alexa web traffic metrics are available via our API at http://aws.amazon.com/awis -->\n",
        "2,959,092              </strong>]"
       ]
      },
      {
       "output_type": "stream",
       "stream": "stdout",
       "text": [
        "\n",
        "[<strong class=\"metrics-data align-vmiddle\">\n",
        "<!-- Alexa web traffic metrics are available via our API at http://aws.amazon.com/awis -->\n",
        "4,125,705              </strong>]"
       ]
      },
      {
       "output_type": "stream",
       "stream": "stdout",
       "text": [
        "\n",
        "[<strong class=\"metrics-data align-vmiddle\">\n",
        "<!-- Alexa web traffic metrics are available via our API at http://aws.amazon.com/awis -->\n",
        "8,498,458              </strong>]"
       ]
      },
      {
       "output_type": "stream",
       "stream": "stdout",
       "text": [
        "\n",
        "[<strong class=\"metrics-data align-vmiddle\">\n",
        "<!-- Alexa web traffic metrics are available via our API at http://aws.amazon.com/awis -->\n",
        "21,991,098              </strong>]"
       ]
      },
      {
       "output_type": "stream",
       "stream": "stdout",
       "text": [
        "\n",
        "[<strong class=\"metrics-data align-vmiddle\">\n",
        "<!-- Alexa web traffic metrics are available via our API at http://aws.amazon.com/awis -->\n",
        "1,920,791              </strong>]"
       ]
      },
      {
       "output_type": "stream",
       "stream": "stdout",
       "text": [
        "\n",
        "[<strong class=\"metrics-data align-vmiddle\">\n",
        "<!-- Alexa web traffic metrics are available via our API at http://aws.amazon.com/awis -->\n",
        "5,356,439              </strong>]"
       ]
      },
      {
       "output_type": "stream",
       "stream": "stdout",
       "text": [
        "\n",
        "[<strong class=\"metrics-data align-vmiddle\">\n",
        "<!-- Alexa web traffic metrics are available via our API at http://aws.amazon.com/awis -->\n",
        "<span style=\"margin-left: 10px;\">-</span> </strong>]"
       ]
      },
      {
       "output_type": "stream",
       "stream": "stdout",
       "text": [
        "\n",
        "[<strong class=\"metrics-data align-vmiddle\">\n",
        "<!-- Alexa web traffic metrics are available via our API at http://aws.amazon.com/awis -->\n",
        "3,963,937              </strong>]"
       ]
      },
      {
       "output_type": "stream",
       "stream": "stdout",
       "text": [
        "\n",
        "[<strong class=\"metrics-data align-vmiddle\">\n",
        "<!-- Alexa web traffic metrics are available via our API at http://aws.amazon.com/awis -->\n",
        "10,542,617              </strong>]"
       ]
      },
      {
       "output_type": "stream",
       "stream": "stdout",
       "text": [
        "\n",
        "[<strong class=\"metrics-data align-vmiddle\">\n",
        "<!-- Alexa web traffic metrics are available via our API at http://aws.amazon.com/awis -->\n",
        "10,503,260              </strong>]"
       ]
      },
      {
       "output_type": "stream",
       "stream": "stdout",
       "text": [
        "\n",
        "[<strong class=\"metrics-data align-vmiddle\">\n",
        "<!-- Alexa web traffic metrics are available via our API at http://aws.amazon.com/awis -->\n",
        "<span style=\"margin-left: 10px;\">-</span> </strong>]"
       ]
      },
      {
       "output_type": "stream",
       "stream": "stdout",
       "text": [
        "\n",
        "[<strong class=\"metrics-data align-vmiddle\">\n",
        "<!-- Alexa web traffic metrics are available via our API at http://aws.amazon.com/awis -->\n",
        "10,723,795              </strong>]"
       ]
      },
      {
       "output_type": "stream",
       "stream": "stdout",
       "text": [
        "\n",
        "[<strong class=\"metrics-data align-vmiddle\">\n",
        "<!-- Alexa web traffic metrics are available via our API at http://aws.amazon.com/awis -->\n",
        "2,114,797              </strong>]"
       ]
      },
      {
       "output_type": "stream",
       "stream": "stdout",
       "text": [
        "\n",
        "[<strong class=\"metrics-data align-vmiddle\">\n",
        "<!-- Alexa web traffic metrics are available via our API at http://aws.amazon.com/awis -->\n",
        "5,360,173              </strong>]"
       ]
      },
      {
       "output_type": "stream",
       "stream": "stdout",
       "text": [
        "\n",
        "[<strong class=\"metrics-data align-vmiddle\">\n",
        "<!-- Alexa web traffic metrics are available via our API at http://aws.amazon.com/awis -->\n",
        "2,737,512              </strong>]"
       ]
      },
      {
       "output_type": "stream",
       "stream": "stdout",
       "text": [
        "\n",
        "[<strong class=\"metrics-data align-vmiddle\">\n",
        "<!-- Alexa web traffic metrics are available via our API at http://aws.amazon.com/awis -->\n",
        "<span style=\"margin-left: 10px;\">-</span> </strong>]"
       ]
      },
      {
       "output_type": "stream",
       "stream": "stdout",
       "text": [
        "\n",
        "[<strong class=\"metrics-data align-vmiddle\">\n",
        "<!-- Alexa web traffic metrics are available via our API at http://aws.amazon.com/awis -->\n",
        "3,889,101              </strong>]"
       ]
      },
      {
       "output_type": "stream",
       "stream": "stdout",
       "text": [
        "\n",
        "[<strong class=\"metrics-data align-vmiddle\">\n",
        "<!-- Alexa web traffic metrics are available via our API at http://aws.amazon.com/awis -->\n",
        "10,222,560              </strong>]"
       ]
      },
      {
       "output_type": "stream",
       "stream": "stdout",
       "text": [
        "\n",
        "[<strong class=\"metrics-data align-vmiddle\">\n",
        "<!-- Alexa web traffic metrics are available via our API at http://aws.amazon.com/awis -->\n",
        "10,131,279              </strong>]"
       ]
      },
      {
       "output_type": "stream",
       "stream": "stdout",
       "text": [
        "\n",
        "[<strong class=\"metrics-data align-vmiddle\">\n",
        "<!-- Alexa web traffic metrics are available via our API at http://aws.amazon.com/awis -->\n",
        "2,815,224              </strong>]"
       ]
      },
      {
       "output_type": "stream",
       "stream": "stdout",
       "text": [
        "\n",
        "[<strong class=\"metrics-data align-vmiddle\">\n",
        "<!-- Alexa web traffic metrics are available via our API at http://aws.amazon.com/awis -->\n",
        "<span style=\"margin-left: 10px;\">-</span> </strong>]"
       ]
      },
      {
       "output_type": "stream",
       "stream": "stdout",
       "text": [
        "\n",
        "[<strong class=\"metrics-data align-vmiddle\">\n",
        "<!-- Alexa web traffic metrics are available via our API at http://aws.amazon.com/awis -->\n",
        "3,368,322              </strong>]"
       ]
      },
      {
       "output_type": "stream",
       "stream": "stdout",
       "text": [
        "\n",
        "[<strong class=\"metrics-data align-vmiddle\">\n",
        "<!-- Alexa web traffic metrics are available via our API at http://aws.amazon.com/awis -->\n",
        "<span style=\"margin-left: 10px;\">-</span> </strong>]"
       ]
      },
      {
       "output_type": "stream",
       "stream": "stdout",
       "text": [
        "\n",
        "[<strong class=\"metrics-data align-vmiddle\">\n",
        "<!-- Alexa web traffic metrics are available via our API at http://aws.amazon.com/awis -->\n",
        "6,700,720              </strong>]"
       ]
      },
      {
       "output_type": "stream",
       "stream": "stdout",
       "text": [
        "\n",
        "[<strong class=\"metrics-data align-vmiddle\">\n",
        "<!-- Alexa web traffic metrics are available via our API at http://aws.amazon.com/awis -->\n",
        "6,394,991              </strong>]"
       ]
      },
      {
       "output_type": "stream",
       "stream": "stdout",
       "text": [
        "\n",
        "[<strong class=\"metrics-data align-vmiddle\">\n",
        "<!-- Alexa web traffic metrics are available via our API at http://aws.amazon.com/awis -->\n",
        "5,675,606              </strong>]"
       ]
      },
      {
       "output_type": "stream",
       "stream": "stdout",
       "text": [
        "\n",
        "[<strong class=\"metrics-data align-vmiddle\">\n",
        "<!-- Alexa web traffic metrics are available via our API at http://aws.amazon.com/awis -->\n",
        "2,994,089              </strong>]"
       ]
      },
      {
       "output_type": "stream",
       "stream": "stdout",
       "text": [
        "\n",
        "[<strong class=\"metrics-data align-vmiddle\">\n",
        "<!-- Alexa web traffic metrics are available via our API at http://aws.amazon.com/awis -->\n",
        "15,698,161              </strong>]"
       ]
      },
      {
       "output_type": "stream",
       "stream": "stdout",
       "text": [
        "\n",
        "[<strong class=\"metrics-data align-vmiddle\">\n",
        "<!-- Alexa web traffic metrics are available via our API at http://aws.amazon.com/awis -->\n",
        "<span style=\"margin-left: 10px;\">-</span> </strong>]"
       ]
      },
      {
       "output_type": "stream",
       "stream": "stdout",
       "text": [
        "\n",
        "[<strong class=\"metrics-data align-vmiddle\">\n",
        "<!-- Alexa web traffic metrics are available via our API at http://aws.amazon.com/awis -->\n",
        "10,572,278              </strong>]"
       ]
      },
      {
       "output_type": "stream",
       "stream": "stdout",
       "text": [
        "\n",
        "[<strong class=\"metrics-data align-vmiddle\">\n",
        "<!-- Alexa web traffic metrics are available via our API at http://aws.amazon.com/awis -->\n",
        "<span style=\"margin-left: 10px;\">-</span> </strong>]"
       ]
      },
      {
       "output_type": "stream",
       "stream": "stdout",
       "text": [
        "\n",
        "[<strong class=\"metrics-data align-vmiddle\">\n",
        "<!-- Alexa web traffic metrics are available via our API at http://aws.amazon.com/awis -->\n",
        "<span style=\"margin-left: 10px;\">-</span> </strong>]"
       ]
      },
      {
       "output_type": "stream",
       "stream": "stdout",
       "text": [
        "\n",
        "[<strong class=\"metrics-data align-vmiddle\">\n",
        "<!-- Alexa web traffic metrics are available via our API at http://aws.amazon.com/awis -->\n",
        "<span style=\"margin-left: 10px;\">-</span> </strong>]"
       ]
      },
      {
       "output_type": "stream",
       "stream": "stdout",
       "text": [
        "\n",
        "[<strong class=\"metrics-data align-vmiddle\">\n",
        "<!-- Alexa web traffic metrics are available via our API at http://aws.amazon.com/awis -->\n",
        "557,869              </strong>]"
       ]
      },
      {
       "output_type": "stream",
       "stream": "stdout",
       "text": [
        "\n",
        "[<strong class=\"metrics-data align-vmiddle\">\n",
        "<!-- Alexa web traffic metrics are available via our API at http://aws.amazon.com/awis -->\n",
        "12,660,917              </strong>]"
       ]
      },
      {
       "output_type": "stream",
       "stream": "stdout",
       "text": [
        "\n",
        "[<strong class=\"metrics-data align-vmiddle\">\n",
        "<!-- Alexa web traffic metrics are available via our API at http://aws.amazon.com/awis -->\n",
        "3,222,641              </strong>]"
       ]
      },
      {
       "output_type": "stream",
       "stream": "stdout",
       "text": [
        "\n",
        "[<strong class=\"metrics-data align-vmiddle\">\n",
        "<!-- Alexa web traffic metrics are available via our API at http://aws.amazon.com/awis -->\n",
        "5,189,238              </strong>]"
       ]
      },
      {
       "output_type": "stream",
       "stream": "stdout",
       "text": [
        "\n",
        "[<strong class=\"metrics-data align-vmiddle\">\n",
        "<!-- Alexa web traffic metrics are available via our API at http://aws.amazon.com/awis -->\n",
        "9,810,752              </strong>]"
       ]
      },
      {
       "output_type": "stream",
       "stream": "stdout",
       "text": [
        "\n",
        "[<strong class=\"metrics-data align-vmiddle\">\n",
        "<!-- Alexa web traffic metrics are available via our API at http://aws.amazon.com/awis -->\n",
        "4,283,639              </strong>]"
       ]
      },
      {
       "output_type": "stream",
       "stream": "stdout",
       "text": [
        "\n",
        "[<strong class=\"metrics-data align-vmiddle\">\n",
        "<!-- Alexa web traffic metrics are available via our API at http://aws.amazon.com/awis -->\n",
        "<span style=\"margin-left: 10px;\">-</span> </strong>]"
       ]
      },
      {
       "output_type": "stream",
       "stream": "stdout",
       "text": [
        "\n",
        "[<strong class=\"metrics-data align-vmiddle\">\n",
        "<!-- Alexa web traffic metrics are available via our API at http://aws.amazon.com/awis -->\n",
        "<span style=\"margin-left: 10px;\">-</span> </strong>]"
       ]
      },
      {
       "output_type": "stream",
       "stream": "stdout",
       "text": [
        "\n",
        "[<strong class=\"metrics-data align-vmiddle\">\n",
        "<!-- Alexa web traffic metrics are available via our API at http://aws.amazon.com/awis -->\n",
        "<span style=\"margin-left: 10px;\">-</span> </strong>]"
       ]
      },
      {
       "output_type": "stream",
       "stream": "stdout",
       "text": [
        "\n",
        "[<strong class=\"metrics-data align-vmiddle\">\n",
        "<!-- Alexa web traffic metrics are available via our API at http://aws.amazon.com/awis -->\n",
        "5,871,064              </strong>]"
       ]
      },
      {
       "output_type": "stream",
       "stream": "stdout",
       "text": [
        "\n",
        "[<strong class=\"metrics-data align-vmiddle\">\n",
        "<!-- Alexa web traffic metrics are available via our API at http://aws.amazon.com/awis -->\n",
        "2,679,840              </strong>]"
       ]
      },
      {
       "output_type": "stream",
       "stream": "stdout",
       "text": [
        "\n",
        "[<strong class=\"metrics-data align-vmiddle\">\n",
        "<!-- Alexa web traffic metrics are available via our API at http://aws.amazon.com/awis -->\n",
        "3,085,467              </strong>]"
       ]
      },
      {
       "output_type": "stream",
       "stream": "stdout",
       "text": [
        "\n",
        "[<strong class=\"metrics-data align-vmiddle\">\n",
        "<!-- Alexa web traffic metrics are available via our API at http://aws.amazon.com/awis -->\n",
        "<span style=\"margin-left: 10px;\">-</span> </strong>]"
       ]
      },
      {
       "output_type": "stream",
       "stream": "stdout",
       "text": [
        "\n",
        "[<strong class=\"metrics-data align-vmiddle\">\n",
        "<!-- Alexa web traffic metrics are available via our API at http://aws.amazon.com/awis -->\n",
        "2,742,389              </strong>]"
       ]
      },
      {
       "output_type": "stream",
       "stream": "stdout",
       "text": [
        "\n",
        "[<strong class=\"metrics-data align-vmiddle\">\n",
        "<!-- Alexa web traffic metrics are available via our API at http://aws.amazon.com/awis -->\n",
        "3,352,353              </strong>]"
       ]
      },
      {
       "output_type": "stream",
       "stream": "stdout",
       "text": [
        "\n",
        "[<strong class=\"metrics-data align-vmiddle\">\n",
        "<!-- Alexa web traffic metrics are available via our API at http://aws.amazon.com/awis -->\n",
        "9,246,452              </strong>]"
       ]
      },
      {
       "output_type": "stream",
       "stream": "stdout",
       "text": [
        "\n",
        "[<strong class=\"metrics-data align-vmiddle\">\n",
        "<!-- Alexa web traffic metrics are available via our API at http://aws.amazon.com/awis -->\n",
        "1,231,674              </strong>]"
       ]
      },
      {
       "output_type": "stream",
       "stream": "stdout",
       "text": [
        "\n",
        "[<strong class=\"metrics-data align-vmiddle\">\n",
        "<!-- Alexa web traffic metrics are available via our API at http://aws.amazon.com/awis -->\n",
        "6,475,336              </strong>]"
       ]
      },
      {
       "output_type": "stream",
       "stream": "stdout",
       "text": [
        "\n",
        "[<strong class=\"metrics-data align-vmiddle\">\n",
        "<!-- Alexa web traffic metrics are available via our API at http://aws.amazon.com/awis -->\n",
        "<span style=\"margin-left: 10px;\">-</span> </strong>]"
       ]
      },
      {
       "output_type": "stream",
       "stream": "stdout",
       "text": [
        "\n",
        "[<strong class=\"metrics-data align-vmiddle\">\n",
        "<!-- Alexa web traffic metrics are available via our API at http://aws.amazon.com/awis -->\n",
        "1,211,432              </strong>]"
       ]
      },
      {
       "output_type": "stream",
       "stream": "stdout",
       "text": [
        "\n",
        "[<strong class=\"metrics-data align-vmiddle\">\n",
        "<!-- Alexa web traffic metrics are available via our API at http://aws.amazon.com/awis -->\n",
        "3,677,433              </strong>]"
       ]
      },
      {
       "output_type": "stream",
       "stream": "stdout",
       "text": [
        "\n",
        "[<strong class=\"metrics-data align-vmiddle\">\n",
        "<!-- Alexa web traffic metrics are available via our API at http://aws.amazon.com/awis -->\n",
        "<span style=\"margin-left: 10px;\">-</span> </strong>]"
       ]
      },
      {
       "output_type": "stream",
       "stream": "stdout",
       "text": [
        "\n",
        "[<strong class=\"metrics-data align-vmiddle\">\n",
        "<!-- Alexa web traffic metrics are available via our API at http://aws.amazon.com/awis -->\n",
        "40,379              </strong>]"
       ]
      },
      {
       "output_type": "stream",
       "stream": "stdout",
       "text": [
        "\n",
        "[<strong class=\"metrics-data align-vmiddle\">\n",
        "<!-- Alexa web traffic metrics are available via our API at http://aws.amazon.com/awis -->\n",
        "10,452,128              </strong>]"
       ]
      },
      {
       "output_type": "stream",
       "stream": "stdout",
       "text": [
        "\n",
        "[<strong class=\"metrics-data align-vmiddle\">\n",
        "<!-- Alexa web traffic metrics are available via our API at http://aws.amazon.com/awis -->\n",
        "4,474,688              </strong>]"
       ]
      },
      {
       "output_type": "stream",
       "stream": "stdout",
       "text": [
        "\n",
        "[<strong class=\"metrics-data align-vmiddle\">\n",
        "<!-- Alexa web traffic metrics are available via our API at http://aws.amazon.com/awis -->\n",
        "1,341,986              </strong>]"
       ]
      },
      {
       "output_type": "stream",
       "stream": "stdout",
       "text": [
        "\n",
        "[<strong class=\"metrics-data align-vmiddle\">\n",
        "<!-- Alexa web traffic metrics are available via our API at http://aws.amazon.com/awis -->\n",
        "367,116              </strong>]"
       ]
      },
      {
       "output_type": "stream",
       "stream": "stdout",
       "text": [
        "\n",
        "[<strong class=\"metrics-data align-vmiddle\">\n",
        "<!-- Alexa web traffic metrics are available via our API at http://aws.amazon.com/awis -->\n",
        "2,203,991              </strong>]"
       ]
      },
      {
       "output_type": "stream",
       "stream": "stdout",
       "text": [
        "\n",
        "[<strong class=\"metrics-data align-vmiddle\">\n",
        "<!-- Alexa web traffic metrics are available via our API at http://aws.amazon.com/awis -->\n",
        "5,385,099              </strong>]"
       ]
      },
      {
       "output_type": "stream",
       "stream": "stdout",
       "text": [
        "\n",
        "[<strong class=\"metrics-data align-vmiddle\">\n",
        "<!-- Alexa web traffic metrics are available via our API at http://aws.amazon.com/awis -->\n",
        "11,439,378              </strong>]"
       ]
      },
      {
       "output_type": "stream",
       "stream": "stdout",
       "text": [
        "\n",
        "[<strong class=\"metrics-data align-vmiddle\">\n",
        "<!-- Alexa web traffic metrics are available via our API at http://aws.amazon.com/awis -->\n",
        "436,680              </strong>]"
       ]
      },
      {
       "output_type": "stream",
       "stream": "stdout",
       "text": [
        "\n",
        "[<strong class=\"metrics-data align-vmiddle\">\n",
        "<!-- Alexa web traffic metrics are available via our API at http://aws.amazon.com/awis -->\n",
        "<span style=\"margin-left: 10px;\">-</span> </strong>]"
       ]
      },
      {
       "output_type": "stream",
       "stream": "stdout",
       "text": [
        "\n",
        "[<strong class=\"metrics-data align-vmiddle\">\n",
        "<!-- Alexa web traffic metrics are available via our API at http://aws.amazon.com/awis -->\n",
        "15,122,679              </strong>]"
       ]
      },
      {
       "output_type": "stream",
       "stream": "stdout",
       "text": [
        "\n",
        "[<strong class=\"metrics-data align-vmiddle\">\n",
        "<!-- Alexa web traffic metrics are available via our API at http://aws.amazon.com/awis -->\n",
        "<span style=\"margin-left: 10px;\">-</span> </strong>]"
       ]
      },
      {
       "output_type": "stream",
       "stream": "stdout",
       "text": [
        "\n",
        "[<strong class=\"metrics-data align-vmiddle\">\n",
        "<!-- Alexa web traffic metrics are available via our API at http://aws.amazon.com/awis -->\n",
        "2,738,436              </strong>]"
       ]
      },
      {
       "output_type": "stream",
       "stream": "stdout",
       "text": [
        "\n",
        "[<strong class=\"metrics-data align-vmiddle\">\n",
        "<!-- Alexa web traffic metrics are available via our API at http://aws.amazon.com/awis -->\n",
        "1,744,631              </strong>]"
       ]
      },
      {
       "output_type": "stream",
       "stream": "stdout",
       "text": [
        "\n",
        "[<strong class=\"metrics-data align-vmiddle\">\n",
        "<!-- Alexa web traffic metrics are available via our API at http://aws.amazon.com/awis -->\n",
        "2,105,102              </strong>]"
       ]
      },
      {
       "output_type": "stream",
       "stream": "stdout",
       "text": [
        "\n",
        "[<strong class=\"metrics-data align-vmiddle\">\n",
        "<!-- Alexa web traffic metrics are available via our API at http://aws.amazon.com/awis -->\n",
        "7,381,976              </strong>]"
       ]
      },
      {
       "output_type": "stream",
       "stream": "stdout",
       "text": [
        "\n",
        "[<strong class=\"metrics-data align-vmiddle\">\n",
        "<!-- Alexa web traffic metrics are available via our API at http://aws.amazon.com/awis -->\n",
        "9,836,807              </strong>]"
       ]
      },
      {
       "output_type": "stream",
       "stream": "stdout",
       "text": [
        "\n",
        "[<strong class=\"metrics-data align-vmiddle\">\n",
        "<!-- Alexa web traffic metrics are available via our API at http://aws.amazon.com/awis -->\n",
        "9,105,905              </strong>]"
       ]
      },
      {
       "output_type": "stream",
       "stream": "stdout",
       "text": [
        "\n",
        "[<strong class=\"metrics-data align-vmiddle\">\n",
        "<!-- Alexa web traffic metrics are available via our API at http://aws.amazon.com/awis -->\n",
        "<span style=\"margin-left: 10px;\">-</span> </strong>]"
       ]
      },
      {
       "output_type": "stream",
       "stream": "stdout",
       "text": [
        "\n",
        "[<strong class=\"metrics-data align-vmiddle\">\n",
        "<!-- Alexa web traffic metrics are available via our API at http://aws.amazon.com/awis -->\n",
        "<span style=\"margin-left: 10px;\">-</span> </strong>]"
       ]
      },
      {
       "output_type": "stream",
       "stream": "stdout",
       "text": [
        "\n",
        "[<strong class=\"metrics-data align-vmiddle\">\n",
        "<!-- Alexa web traffic metrics are available via our API at http://aws.amazon.com/awis -->\n",
        "<span style=\"margin-left: 10px;\">-</span> </strong>]"
       ]
      },
      {
       "output_type": "stream",
       "stream": "stdout",
       "text": [
        "\n",
        "[<strong class=\"metrics-data align-vmiddle\">\n",
        "<!-- Alexa web traffic metrics are available via our API at http://aws.amazon.com/awis -->\n",
        "10,859,488              </strong>]"
       ]
      },
      {
       "output_type": "stream",
       "stream": "stdout",
       "text": [
        "\n",
        "[<strong class=\"metrics-data align-vmiddle\">\n",
        "<!-- Alexa web traffic metrics are available via our API at http://aws.amazon.com/awis -->\n",
        "3,469,217              </strong>]"
       ]
      },
      {
       "output_type": "stream",
       "stream": "stdout",
       "text": [
        "\n",
        "[<strong class=\"metrics-data align-vmiddle\">\n",
        "<!-- Alexa web traffic metrics are available via our API at http://aws.amazon.com/awis -->\n",
        "4,969,118              </strong>]"
       ]
      },
      {
       "output_type": "stream",
       "stream": "stdout",
       "text": [
        "\n",
        "[<strong class=\"metrics-data align-vmiddle\">\n",
        "<!-- Alexa web traffic metrics are available via our API at http://aws.amazon.com/awis -->\n",
        "20,976,355              </strong>]"
       ]
      },
      {
       "output_type": "stream",
       "stream": "stdout",
       "text": [
        "\n",
        "[<strong class=\"metrics-data align-vmiddle\">\n",
        "<!-- Alexa web traffic metrics are available via our API at http://aws.amazon.com/awis -->\n",
        "10,632,721              </strong>]"
       ]
      },
      {
       "output_type": "stream",
       "stream": "stdout",
       "text": [
        "\n",
        "[<strong class=\"metrics-data align-vmiddle\">\n",
        "<!-- Alexa web traffic metrics are available via our API at http://aws.amazon.com/awis -->\n",
        "2,020,212              </strong>]"
       ]
      },
      {
       "output_type": "stream",
       "stream": "stdout",
       "text": [
        "\n",
        "[<strong class=\"metrics-data align-vmiddle\">\n",
        "<!-- Alexa web traffic metrics are available via our API at http://aws.amazon.com/awis -->\n",
        "557,869              </strong>]"
       ]
      },
      {
       "output_type": "stream",
       "stream": "stdout",
       "text": [
        "\n",
        "[<strong class=\"metrics-data align-vmiddle\">\n",
        "<!-- Alexa web traffic metrics are available via our API at http://aws.amazon.com/awis -->\n",
        "<span style=\"margin-left: 10px;\">-</span> </strong>]"
       ]
      },
      {
       "output_type": "stream",
       "stream": "stdout",
       "text": [
        "\n",
        "[<strong class=\"metrics-data align-vmiddle\">\n",
        "<!-- Alexa web traffic metrics are available via our API at http://aws.amazon.com/awis -->\n",
        "4,657,917              </strong>]"
       ]
      },
      {
       "output_type": "stream",
       "stream": "stdout",
       "text": [
        "\n",
        "[<strong class=\"metrics-data align-vmiddle\">\n",
        "<!-- Alexa web traffic metrics are available via our API at http://aws.amazon.com/awis -->\n",
        "33,986              </strong>]"
       ]
      },
      {
       "output_type": "stream",
       "stream": "stdout",
       "text": [
        "\n",
        "[<strong class=\"metrics-data align-vmiddle\">\n",
        "<!-- Alexa web traffic metrics are available via our API at http://aws.amazon.com/awis -->\n",
        "33,986              </strong>]"
       ]
      },
      {
       "output_type": "stream",
       "stream": "stdout",
       "text": [
        "\n",
        "[<strong class=\"metrics-data align-vmiddle\">\n",
        "<!-- Alexa web traffic metrics are available via our API at http://aws.amazon.com/awis -->\n",
        "33,986              </strong>]"
       ]
      },
      {
       "output_type": "stream",
       "stream": "stdout",
       "text": [
        "\n",
        "[<strong class=\"metrics-data align-vmiddle\">\n",
        "<!-- Alexa web traffic metrics are available via our API at http://aws.amazon.com/awis -->\n",
        "33,986              </strong>]"
       ]
      },
      {
       "output_type": "stream",
       "stream": "stdout",
       "text": [
        "\n",
        "[<strong class=\"metrics-data align-vmiddle\">\n",
        "<!-- Alexa web traffic metrics are available via our API at http://aws.amazon.com/awis -->\n",
        "3,780,520              </strong>]"
       ]
      },
      {
       "output_type": "stream",
       "stream": "stdout",
       "text": [
        "\n",
        "[<strong class=\"metrics-data align-vmiddle\">\n",
        "<!-- Alexa web traffic metrics are available via our API at http://aws.amazon.com/awis -->\n",
        "2,832,153              </strong>]"
       ]
      },
      {
       "output_type": "stream",
       "stream": "stdout",
       "text": [
        "\n",
        "[<strong class=\"metrics-data align-vmiddle\">\n",
        "<!-- Alexa web traffic metrics are available via our API at http://aws.amazon.com/awis -->\n",
        "<span style=\"margin-left: 10px;\">-</span> </strong>]"
       ]
      },
      {
       "output_type": "stream",
       "stream": "stdout",
       "text": [
        "\n",
        "[<strong class=\"metrics-data align-vmiddle\">\n",
        "<!-- Alexa web traffic metrics are available via our API at http://aws.amazon.com/awis -->\n",
        "4,146,645              </strong>]"
       ]
      },
      {
       "output_type": "stream",
       "stream": "stdout",
       "text": [
        "\n",
        "[<strong class=\"metrics-data align-vmiddle\">\n",
        "<!-- Alexa web traffic metrics are available via our API at http://aws.amazon.com/awis -->\n",
        "18,056,160              </strong>]"
       ]
      },
      {
       "output_type": "stream",
       "stream": "stdout",
       "text": [
        "\n",
        "[<strong class=\"metrics-data align-vmiddle\">\n",
        "<!-- Alexa web traffic metrics are available via our API at http://aws.amazon.com/awis -->\n",
        "5,897,630              </strong>]"
       ]
      },
      {
       "output_type": "stream",
       "stream": "stdout",
       "text": [
        "\n",
        "[<strong class=\"metrics-data align-vmiddle\">\n",
        "<!-- Alexa web traffic metrics are available via our API at http://aws.amazon.com/awis -->\n",
        "<span style=\"margin-left: 10px;\">-</span> </strong>]"
       ]
      },
      {
       "output_type": "stream",
       "stream": "stdout",
       "text": [
        "\n",
        "[<strong class=\"metrics-data align-vmiddle\">\n",
        "<!-- Alexa web traffic metrics are available via our API at http://aws.amazon.com/awis -->\n",
        "1,535,407              </strong>]"
       ]
      },
      {
       "output_type": "stream",
       "stream": "stdout",
       "text": [
        "\n",
        "[<strong class=\"metrics-data align-vmiddle\">\n",
        "<!-- Alexa web traffic metrics are available via our API at http://aws.amazon.com/awis -->\n",
        "4,769,990              </strong>]"
       ]
      },
      {
       "output_type": "stream",
       "stream": "stdout",
       "text": [
        "\n",
        "[<strong class=\"metrics-data align-vmiddle\">\n",
        "<!-- Alexa web traffic metrics are available via our API at http://aws.amazon.com/awis -->\n",
        "3,363,554              </strong>]"
       ]
      },
      {
       "output_type": "stream",
       "stream": "stdout",
       "text": [
        "\n",
        "[<strong class=\"metrics-data align-vmiddle\">\n",
        "<!-- Alexa web traffic metrics are available via our API at http://aws.amazon.com/awis -->\n",
        "11,433,112              </strong>]"
       ]
      },
      {
       "output_type": "stream",
       "stream": "stdout",
       "text": [
        "\n",
        "[<strong class=\"metrics-data align-vmiddle\">\n",
        "<!-- Alexa web traffic metrics are available via our API at http://aws.amazon.com/awis -->\n",
        "5,091,441              </strong>]"
       ]
      },
      {
       "output_type": "stream",
       "stream": "stdout",
       "text": [
        "\n",
        "[<strong class=\"metrics-data align-vmiddle\">\n",
        "<!-- Alexa web traffic metrics are available via our API at http://aws.amazon.com/awis -->\n",
        "76,459              </strong>]"
       ]
      },
      {
       "output_type": "stream",
       "stream": "stdout",
       "text": [
        "\n",
        "[<strong class=\"metrics-data align-vmiddle\">\n",
        "<!-- Alexa web traffic metrics are available via our API at http://aws.amazon.com/awis -->\n",
        "191,213              </strong>]"
       ]
      },
      {
       "output_type": "stream",
       "stream": "stdout",
       "text": [
        "\n",
        "[<strong class=\"metrics-data align-vmiddle\">\n",
        "<!-- Alexa web traffic metrics are available via our API at http://aws.amazon.com/awis -->\n",
        "<span style=\"margin-left: 10px;\">-</span> </strong>]"
       ]
      },
      {
       "output_type": "stream",
       "stream": "stdout",
       "text": [
        "\n",
        "[<strong class=\"metrics-data align-vmiddle\">\n",
        "<!-- Alexa web traffic metrics are available via our API at http://aws.amazon.com/awis -->\n",
        "59,512              </strong>]"
       ]
      },
      {
       "output_type": "stream",
       "stream": "stdout",
       "text": [
        "\n",
        "[<strong class=\"metrics-data align-vmiddle\">\n",
        "<!-- Alexa web traffic metrics are available via our API at http://aws.amazon.com/awis -->\n",
        "3,265,484              </strong>]"
       ]
      },
      {
       "output_type": "stream",
       "stream": "stdout",
       "text": [
        "\n",
        "[<strong class=\"metrics-data align-vmiddle\">\n",
        "<!-- Alexa web traffic metrics are available via our API at http://aws.amazon.com/awis -->\n",
        "<span style=\"margin-left: 10px;\">-</span> </strong>]"
       ]
      },
      {
       "output_type": "stream",
       "stream": "stdout",
       "text": [
        "\n",
        "[<strong class=\"metrics-data align-vmiddle\">\n",
        "<!-- Alexa web traffic metrics are available via our API at http://aws.amazon.com/awis -->\n",
        "<span style=\"margin-left: 10px;\">-</span> </strong>]"
       ]
      },
      {
       "output_type": "stream",
       "stream": "stdout",
       "text": [
        "\n",
        "[<strong class=\"metrics-data align-vmiddle\">\n",
        "<!-- Alexa web traffic metrics are available via our API at http://aws.amazon.com/awis -->\n",
        "<span style=\"margin-left: 10px;\">-</span> </strong>]"
       ]
      },
      {
       "output_type": "stream",
       "stream": "stdout",
       "text": [
        "\n",
        "[<strong class=\"metrics-data align-vmiddle\">\n",
        "<!-- Alexa web traffic metrics are available via our API at http://aws.amazon.com/awis -->\n",
        "<span style=\"margin-left: 10px;\">-</span> </strong>]"
       ]
      },
      {
       "output_type": "stream",
       "stream": "stdout",
       "text": [
        "\n",
        "[<strong class=\"metrics-data align-vmiddle\">\n",
        "<!-- Alexa web traffic metrics are available via our API at http://aws.amazon.com/awis -->\n",
        "<span style=\"margin-left: 10px;\">-</span> </strong>]"
       ]
      },
      {
       "output_type": "stream",
       "stream": "stdout",
       "text": [
        "\n",
        "[<strong class=\"metrics-data align-vmiddle\">\n",
        "<!-- Alexa web traffic metrics are available via our API at http://aws.amazon.com/awis -->\n",
        "3,922,771              </strong>]"
       ]
      },
      {
       "output_type": "stream",
       "stream": "stdout",
       "text": [
        "\n",
        "[<strong class=\"metrics-data align-vmiddle\">\n",
        "<!-- Alexa web traffic metrics are available via our API at http://aws.amazon.com/awis -->\n",
        "3,389,649              </strong>]"
       ]
      },
      {
       "output_type": "stream",
       "stream": "stdout",
       "text": [
        "\n",
        "[<strong class=\"metrics-data align-vmiddle\">\n",
        "<!-- Alexa web traffic metrics are available via our API at http://aws.amazon.com/awis -->\n",
        "1,417,361              </strong>]"
       ]
      },
      {
       "output_type": "stream",
       "stream": "stdout",
       "text": [
        "\n",
        "[<strong class=\"metrics-data align-vmiddle\">\n",
        "<!-- Alexa web traffic metrics are available via our API at http://aws.amazon.com/awis -->\n",
        "<span style=\"margin-left: 10px;\">-</span> </strong>]"
       ]
      },
      {
       "output_type": "stream",
       "stream": "stdout",
       "text": [
        "\n",
        "[<strong class=\"metrics-data align-vmiddle\">\n",
        "<!-- Alexa web traffic metrics are available via our API at http://aws.amazon.com/awis -->\n",
        "<span style=\"margin-left: 10px;\">-</span> </strong>]"
       ]
      },
      {
       "output_type": "stream",
       "stream": "stdout",
       "text": [
        "\n",
        "[<strong class=\"metrics-data align-vmiddle\">\n",
        "<!-- Alexa web traffic metrics are available via our API at http://aws.amazon.com/awis -->\n",
        "2,133,076              </strong>]"
       ]
      },
      {
       "output_type": "stream",
       "stream": "stdout",
       "text": [
        "\n",
        "[<strong class=\"metrics-data align-vmiddle\">\n",
        "<!-- Alexa web traffic metrics are available via our API at http://aws.amazon.com/awis -->\n",
        "<span style=\"margin-left: 10px;\">-</span> </strong>]"
       ]
      },
      {
       "output_type": "stream",
       "stream": "stdout",
       "text": [
        "\n",
        "[<strong class=\"metrics-data align-vmiddle\">\n",
        "<!-- Alexa web traffic metrics are available via our API at http://aws.amazon.com/awis -->\n",
        "<span style=\"margin-left: 10px;\">-</span> </strong>]"
       ]
      },
      {
       "output_type": "stream",
       "stream": "stdout",
       "text": [
        "\n",
        "[<strong class=\"metrics-data align-vmiddle\">\n",
        "<!-- Alexa web traffic metrics are available via our API at http://aws.amazon.com/awis -->\n",
        "<span style=\"margin-left: 10px;\">-</span> </strong>]"
       ]
      },
      {
       "output_type": "stream",
       "stream": "stdout",
       "text": [
        "\n",
        "[<strong class=\"metrics-data align-vmiddle\">\n",
        "<!-- Alexa web traffic metrics are available via our API at http://aws.amazon.com/awis -->\n",
        "<span style=\"margin-left: 10px;\">-</span> </strong>]"
       ]
      },
      {
       "output_type": "stream",
       "stream": "stdout",
       "text": [
        "\n",
        "[<strong class=\"metrics-data align-vmiddle\">\n",
        "<!-- Alexa web traffic metrics are available via our API at http://aws.amazon.com/awis -->\n",
        "<span style=\"margin-left: 10px;\">-</span> </strong>]"
       ]
      },
      {
       "output_type": "stream",
       "stream": "stdout",
       "text": [
        "\n",
        "[<strong class=\"metrics-data align-vmiddle\">\n",
        "<!-- Alexa web traffic metrics are available via our API at http://aws.amazon.com/awis -->\n",
        "<span style=\"margin-left: 10px;\">-</span> </strong>]"
       ]
      },
      {
       "output_type": "stream",
       "stream": "stdout",
       "text": [
        "\n",
        "[<strong class=\"metrics-data align-vmiddle\">\n",
        "<!-- Alexa web traffic metrics are available via our API at http://aws.amazon.com/awis -->\n",
        "2,234,082              </strong>]"
       ]
      },
      {
       "output_type": "stream",
       "stream": "stdout",
       "text": [
        "\n",
        "[<strong class=\"metrics-data align-vmiddle\">\n",
        "<!-- Alexa web traffic metrics are available via our API at http://aws.amazon.com/awis -->\n",
        "6,779,489              </strong>]"
       ]
      },
      {
       "output_type": "stream",
       "stream": "stdout",
       "text": [
        "\n",
        "[<strong class=\"metrics-data align-vmiddle\">\n",
        "<!-- Alexa web traffic metrics are available via our API at http://aws.amazon.com/awis -->\n",
        "<span style=\"margin-left: 10px;\">-</span> </strong>]"
       ]
      },
      {
       "output_type": "stream",
       "stream": "stdout",
       "text": [
        "\n",
        "[<strong class=\"metrics-data align-vmiddle\">\n",
        "<!-- Alexa web traffic metrics are available via our API at http://aws.amazon.com/awis -->\n",
        "15,848,326              </strong>]"
       ]
      },
      {
       "output_type": "stream",
       "stream": "stdout",
       "text": [
        "\n",
        "[<strong class=\"metrics-data align-vmiddle\">\n",
        "<!-- Alexa web traffic metrics are available via our API at http://aws.amazon.com/awis -->\n",
        "2,909,412              </strong>]"
       ]
      },
      {
       "output_type": "stream",
       "stream": "stdout",
       "text": [
        "\n",
        "[<strong class=\"metrics-data align-vmiddle\">\n",
        "<!-- Alexa web traffic metrics are available via our API at http://aws.amazon.com/awis -->\n",
        "4,601,954              </strong>]"
       ]
      },
      {
       "output_type": "stream",
       "stream": "stdout",
       "text": [
        "\n",
        "[<strong class=\"metrics-data align-vmiddle\">\n",
        "<!-- Alexa web traffic metrics are available via our API at http://aws.amazon.com/awis -->\n",
        "<span style=\"margin-left: 10px;\">-</span> </strong>]"
       ]
      },
      {
       "output_type": "stream",
       "stream": "stdout",
       "text": [
        "\n",
        "[<strong class=\"metrics-data align-vmiddle\">\n",
        "<!-- Alexa web traffic metrics are available via our API at http://aws.amazon.com/awis -->\n",
        "<span style=\"margin-left: 10px;\">-</span> </strong>]"
       ]
      },
      {
       "output_type": "stream",
       "stream": "stdout",
       "text": [
        "\n",
        "[<strong class=\"metrics-data align-vmiddle\">\n",
        "<!-- Alexa web traffic metrics are available via our API at http://aws.amazon.com/awis -->\n",
        "948,772              </strong>]"
       ]
      },
      {
       "output_type": "stream",
       "stream": "stdout",
       "text": [
        "\n",
        "[<strong class=\"metrics-data align-vmiddle\">\n",
        "<!-- Alexa web traffic metrics are available via our API at http://aws.amazon.com/awis -->\n",
        "<span style=\"margin-left: 10px;\">-</span> </strong>]"
       ]
      },
      {
       "output_type": "stream",
       "stream": "stdout",
       "text": [
        "\n",
        "[<strong class=\"metrics-data align-vmiddle\">\n",
        "<!-- Alexa web traffic metrics are available via our API at http://aws.amazon.com/awis -->\n",
        "4,844,664              </strong>]"
       ]
      },
      {
       "output_type": "stream",
       "stream": "stdout",
       "text": [
        "\n",
        "[<strong class=\"metrics-data align-vmiddle\">\n",
        "<!-- Alexa web traffic metrics are available via our API at http://aws.amazon.com/awis -->\n",
        "20,769,247              </strong>]"
       ]
      },
      {
       "output_type": "stream",
       "stream": "stdout",
       "text": [
        "\n",
        "[<strong class=\"metrics-data align-vmiddle\">\n",
        "<!-- Alexa web traffic metrics are available via our API at http://aws.amazon.com/awis -->\n",
        "<span style=\"margin-left: 10px;\">-</span> </strong>]"
       ]
      },
      {
       "output_type": "stream",
       "stream": "stdout",
       "text": [
        "\n",
        "[<strong class=\"metrics-data align-vmiddle\">\n",
        "<!-- Alexa web traffic metrics are available via our API at http://aws.amazon.com/awis -->\n",
        "228,158              </strong>]"
       ]
      },
      {
       "output_type": "stream",
       "stream": "stdout",
       "text": [
        "\n",
        "[<strong class=\"metrics-data align-vmiddle\">\n",
        "<!-- Alexa web traffic metrics are available via our API at http://aws.amazon.com/awis -->\n",
        "9,859,995              </strong>]"
       ]
      },
      {
       "output_type": "stream",
       "stream": "stdout",
       "text": [
        "\n",
        "[<strong class=\"metrics-data align-vmiddle\">\n",
        "<!-- Alexa web traffic metrics are available via our API at http://aws.amazon.com/awis -->\n",
        "4,207,931              </strong>]"
       ]
      },
      {
       "output_type": "stream",
       "stream": "stdout",
       "text": [
        "\n",
        "[<strong class=\"metrics-data align-vmiddle\">\n",
        "<!-- Alexa web traffic metrics are available via our API at http://aws.amazon.com/awis -->\n",
        "7,729,473              </strong>]"
       ]
      },
      {
       "output_type": "stream",
       "stream": "stdout",
       "text": [
        "\n",
        "[<strong class=\"metrics-data align-vmiddle\">\n",
        "<!-- Alexa web traffic metrics are available via our API at http://aws.amazon.com/awis -->\n",
        "2,435,256              </strong>]"
       ]
      },
      {
       "output_type": "stream",
       "stream": "stdout",
       "text": [
        "\n",
        "[<strong class=\"metrics-data align-vmiddle\">\n",
        "<!-- Alexa web traffic metrics are available via our API at http://aws.amazon.com/awis -->\n",
        "115,836              </strong>]"
       ]
      },
      {
       "output_type": "stream",
       "stream": "stdout",
       "text": [
        "\n",
        "[<strong class=\"metrics-data align-vmiddle\">\n",
        "<!-- Alexa web traffic metrics are available via our API at http://aws.amazon.com/awis -->\n",
        "9,838,910              </strong>]"
       ]
      },
      {
       "output_type": "stream",
       "stream": "stdout",
       "text": [
        "\n",
        "[<strong class=\"metrics-data align-vmiddle\">\n",
        "<!-- Alexa web traffic metrics are available via our API at http://aws.amazon.com/awis -->\n",
        "14,474,173              </strong>]"
       ]
      },
      {
       "output_type": "stream",
       "stream": "stdout",
       "text": [
        "\n",
        "[<strong class=\"metrics-data align-vmiddle\">\n",
        "<!-- Alexa web traffic metrics are available via our API at http://aws.amazon.com/awis -->\n",
        "388,233              </strong>]"
       ]
      },
      {
       "output_type": "stream",
       "stream": "stdout",
       "text": [
        "\n",
        "[<strong class=\"metrics-data align-vmiddle\">\n",
        "<!-- Alexa web traffic metrics are available via our API at http://aws.amazon.com/awis -->\n",
        "18,042,734              </strong>]"
       ]
      },
      {
       "output_type": "stream",
       "stream": "stdout",
       "text": [
        "\n",
        "[<strong class=\"metrics-data align-vmiddle\">\n",
        "<!-- Alexa web traffic metrics are available via our API at http://aws.amazon.com/awis -->\n",
        "5,589,118              </strong>]"
       ]
      },
      {
       "output_type": "stream",
       "stream": "stdout",
       "text": [
        "\n",
        "[<strong class=\"metrics-data align-vmiddle\">\n",
        "<!-- Alexa web traffic metrics are available via our API at http://aws.amazon.com/awis -->\n",
        "754,489              </strong>]"
       ]
      },
      {
       "output_type": "stream",
       "stream": "stdout",
       "text": [
        "\n",
        "[<strong class=\"metrics-data align-vmiddle\">\n",
        "<!-- Alexa web traffic metrics are available via our API at http://aws.amazon.com/awis -->\n",
        "2,530,468              </strong>]"
       ]
      },
      {
       "output_type": "stream",
       "stream": "stdout",
       "text": [
        "\n",
        "[<strong class=\"metrics-data align-vmiddle\">\n",
        "<!-- Alexa web traffic metrics are available via our API at http://aws.amazon.com/awis -->\n",
        "1,664,267              </strong>]"
       ]
      },
      {
       "output_type": "stream",
       "stream": "stdout",
       "text": [
        "\n",
        "[<strong class=\"metrics-data align-vmiddle\">\n",
        "<!-- Alexa web traffic metrics are available via our API at http://aws.amazon.com/awis -->\n",
        "<span style=\"margin-left: 10px;\">-</span> </strong>]"
       ]
      },
      {
       "output_type": "stream",
       "stream": "stdout",
       "text": [
        "\n",
        "[<strong class=\"metrics-data align-vmiddle\">\n",
        "<!-- Alexa web traffic metrics are available via our API at http://aws.amazon.com/awis -->\n",
        "2,269,446              </strong>]"
       ]
      },
      {
       "output_type": "stream",
       "stream": "stdout",
       "text": [
        "\n",
        "[<strong class=\"metrics-data align-vmiddle\">\n",
        "<!-- Alexa web traffic metrics are available via our API at http://aws.amazon.com/awis -->\n",
        "<span style=\"margin-left: 10px;\">-</span> </strong>]"
       ]
      },
      {
       "output_type": "stream",
       "stream": "stdout",
       "text": [
        "\n",
        "[<strong class=\"metrics-data align-vmiddle\">\n",
        "<!-- Alexa web traffic metrics are available via our API at http://aws.amazon.com/awis -->\n",
        "2,280,318              </strong>]"
       ]
      },
      {
       "output_type": "stream",
       "stream": "stdout",
       "text": [
        "\n",
        "[<strong class=\"metrics-data align-vmiddle\">\n",
        "<!-- Alexa web traffic metrics are available via our API at http://aws.amazon.com/awis -->\n",
        "<span style=\"margin-left: 10px;\">-</span> </strong>]"
       ]
      },
      {
       "output_type": "stream",
       "stream": "stdout",
       "text": [
        "\n",
        "[<strong class=\"metrics-data align-vmiddle\">\n",
        "<!-- Alexa web traffic metrics are available via our API at http://aws.amazon.com/awis -->\n",
        "15,884,176              </strong>]"
       ]
      },
      {
       "output_type": "stream",
       "stream": "stdout",
       "text": [
        "\n",
        "[<strong class=\"metrics-data align-vmiddle\">\n",
        "<!-- Alexa web traffic metrics are available via our API at http://aws.amazon.com/awis -->\n",
        "2,980,121              </strong>]"
       ]
      },
      {
       "output_type": "stream",
       "stream": "stdout",
       "text": [
        "\n",
        "[<strong class=\"metrics-data align-vmiddle\">\n",
        "<!-- Alexa web traffic metrics are available via our API at http://aws.amazon.com/awis -->\n",
        "5,528,672              </strong>]"
       ]
      },
      {
       "output_type": "stream",
       "stream": "stdout",
       "text": [
        "\n",
        "[<strong class=\"metrics-data align-vmiddle\">\n",
        "<!-- Alexa web traffic metrics are available via our API at http://aws.amazon.com/awis -->\n",
        "7,015,270              </strong>]"
       ]
      },
      {
       "output_type": "stream",
       "stream": "stdout",
       "text": [
        "\n",
        "[<strong class=\"metrics-data align-vmiddle\">\n",
        "<!-- Alexa web traffic metrics are available via our API at http://aws.amazon.com/awis -->\n",
        "1,036,450              </strong>]"
       ]
      },
      {
       "output_type": "stream",
       "stream": "stdout",
       "text": [
        "\n",
        "[<strong class=\"metrics-data align-vmiddle\">\n",
        "<!-- Alexa web traffic metrics are available via our API at http://aws.amazon.com/awis -->\n",
        "<span style=\"margin-left: 10px;\">-</span> </strong>]"
       ]
      },
      {
       "output_type": "stream",
       "stream": "stdout",
       "text": [
        "\n",
        "[<strong class=\"metrics-data align-vmiddle\">\n",
        "<!-- Alexa web traffic metrics are available via our API at http://aws.amazon.com/awis -->\n",
        "3,769,462              </strong>]"
       ]
      },
      {
       "output_type": "stream",
       "stream": "stdout",
       "text": [
        "\n",
        "[<strong class=\"metrics-data align-vmiddle\">\n",
        "<!-- Alexa web traffic metrics are available via our API at http://aws.amazon.com/awis -->\n",
        "4,448,072              </strong>]"
       ]
      },
      {
       "output_type": "stream",
       "stream": "stdout",
       "text": [
        "\n",
        "[<strong class=\"metrics-data align-vmiddle\">\n",
        "<!-- Alexa web traffic metrics are available via our API at http://aws.amazon.com/awis -->\n",
        "<span style=\"margin-left: 10px;\">-</span> </strong>]"
       ]
      },
      {
       "output_type": "stream",
       "stream": "stdout",
       "text": [
        "\n",
        "[<strong class=\"metrics-data align-vmiddle\">\n",
        "<!-- Alexa web traffic metrics are available via our API at http://aws.amazon.com/awis -->\n",
        "<span style=\"margin-left: 10px;\">-</span> </strong>]"
       ]
      },
      {
       "output_type": "stream",
       "stream": "stdout",
       "text": [
        "\n",
        "[<strong class=\"metrics-data align-vmiddle\">\n",
        "<!-- Alexa web traffic metrics are available via our API at http://aws.amazon.com/awis -->\n",
        "<span style=\"margin-left: 10px;\">-</span> </strong>]"
       ]
      },
      {
       "output_type": "stream",
       "stream": "stdout",
       "text": [
        "\n",
        "[<strong class=\"metrics-data align-vmiddle\">\n",
        "<!-- Alexa web traffic metrics are available via our API at http://aws.amazon.com/awis -->\n",
        "167,937              </strong>]"
       ]
      },
      {
       "output_type": "stream",
       "stream": "stdout",
       "text": [
        "\n",
        "[<strong class=\"metrics-data align-vmiddle\">\n",
        "<!-- Alexa web traffic metrics are available via our API at http://aws.amazon.com/awis -->\n",
        "<span style=\"margin-left: 10px;\">-</span> </strong>]"
       ]
      },
      {
       "output_type": "stream",
       "stream": "stdout",
       "text": [
        "\n",
        "[<strong class=\"metrics-data align-vmiddle\">\n",
        "<!-- Alexa web traffic metrics are available via our API at http://aws.amazon.com/awis -->\n",
        "129,911              </strong>]"
       ]
      },
      {
       "output_type": "stream",
       "stream": "stdout",
       "text": [
        "\n",
        "[<strong class=\"metrics-data align-vmiddle\">\n",
        "<!-- Alexa web traffic metrics are available via our API at http://aws.amazon.com/awis -->\n",
        "8,990,502              </strong>]"
       ]
      },
      {
       "output_type": "stream",
       "stream": "stdout",
       "text": [
        "\n",
        "[<strong class=\"metrics-data align-vmiddle\">\n",
        "<!-- Alexa web traffic metrics are available via our API at http://aws.amazon.com/awis -->\n",
        "<span style=\"margin-left: 10px;\">-</span> </strong>]"
       ]
      },
      {
       "output_type": "stream",
       "stream": "stdout",
       "text": [
        "\n",
        "[<strong class=\"metrics-data align-vmiddle\">\n",
        "<!-- Alexa web traffic metrics are available via our API at http://aws.amazon.com/awis -->\n",
        "15,708,542              </strong>]"
       ]
      },
      {
       "output_type": "stream",
       "stream": "stdout",
       "text": [
        "\n",
        "[<strong class=\"metrics-data align-vmiddle\">\n",
        "<!-- Alexa web traffic metrics are available via our API at http://aws.amazon.com/awis -->\n",
        "39,481              </strong>]"
       ]
      },
      {
       "output_type": "stream",
       "stream": "stdout",
       "text": [
        "\n",
        "[<strong class=\"metrics-data align-vmiddle\">\n",
        "<!-- Alexa web traffic metrics are available via our API at http://aws.amazon.com/awis -->\n",
        "15,848,338              </strong>]"
       ]
      },
      {
       "output_type": "stream",
       "stream": "stdout",
       "text": [
        "\n",
        "[<strong class=\"metrics-data align-vmiddle\">\n",
        "<!-- Alexa web traffic metrics are available via our API at http://aws.amazon.com/awis -->\n",
        "9,473,003              </strong>]"
       ]
      },
      {
       "output_type": "stream",
       "stream": "stdout",
       "text": [
        "\n",
        "[<strong class=\"metrics-data align-vmiddle\">\n",
        "<!-- Alexa web traffic metrics are available via our API at http://aws.amazon.com/awis -->\n",
        "3,842,260              </strong>]"
       ]
      },
      {
       "output_type": "stream",
       "stream": "stdout",
       "text": [
        "\n",
        "[<strong class=\"metrics-data align-vmiddle\">\n",
        "<!-- Alexa web traffic metrics are available via our API at http://aws.amazon.com/awis -->\n",
        "3,331,751              </strong>]"
       ]
      },
      {
       "output_type": "stream",
       "stream": "stdout",
       "text": [
        "\n",
        "[<strong class=\"metrics-data align-vmiddle\">\n",
        "<!-- Alexa web traffic metrics are available via our API at http://aws.amazon.com/awis -->\n",
        "3,177,396              </strong>]"
       ]
      },
      {
       "output_type": "stream",
       "stream": "stdout",
       "text": [
        "\n",
        "[<strong class=\"metrics-data align-vmiddle\">\n",
        "<!-- Alexa web traffic metrics are available via our API at http://aws.amazon.com/awis -->\n",
        "<span style=\"margin-left: 10px;\">-</span> </strong>]"
       ]
      },
      {
       "output_type": "stream",
       "stream": "stdout",
       "text": [
        "\n",
        "[<strong class=\"metrics-data align-vmiddle\">\n",
        "<!-- Alexa web traffic metrics are available via our API at http://aws.amazon.com/awis -->\n",
        "2,079,192              </strong>]"
       ]
      },
      {
       "output_type": "stream",
       "stream": "stdout",
       "text": [
        "\n",
        "[<strong class=\"metrics-data align-vmiddle\">\n",
        "<!-- Alexa web traffic metrics are available via our API at http://aws.amazon.com/awis -->\n",
        "6,855,223              </strong>]"
       ]
      },
      {
       "output_type": "stream",
       "stream": "stdout",
       "text": [
        "\n",
        "[<strong class=\"metrics-data align-vmiddle\">\n",
        "<!-- Alexa web traffic metrics are available via our API at http://aws.amazon.com/awis -->\n",
        "6,589,209              </strong>]"
       ]
      },
      {
       "output_type": "stream",
       "stream": "stdout",
       "text": [
        "\n",
        "[<strong class=\"metrics-data align-vmiddle\">\n",
        "<!-- Alexa web traffic metrics are available via our API at http://aws.amazon.com/awis -->\n",
        "6,057,757              </strong>]"
       ]
      },
      {
       "output_type": "stream",
       "stream": "stdout",
       "text": [
        "\n",
        "[<strong class=\"metrics-data align-vmiddle\">\n",
        "<!-- Alexa web traffic metrics are available via our API at http://aws.amazon.com/awis -->\n",
        "11,805,253              </strong>]"
       ]
      },
      {
       "output_type": "stream",
       "stream": "stdout",
       "text": [
        "\n",
        "[<strong class=\"metrics-data align-vmiddle\">\n",
        "<!-- Alexa web traffic metrics are available via our API at http://aws.amazon.com/awis -->\n",
        "98,854              </strong>]"
       ]
      },
      {
       "output_type": "stream",
       "stream": "stdout",
       "text": [
        "\n",
        "[<strong class=\"metrics-data align-vmiddle\">\n",
        "<!-- Alexa web traffic metrics are available via our API at http://aws.amazon.com/awis -->\n",
        "<span style=\"margin-left: 10px;\">-</span> </strong>]"
       ]
      },
      {
       "output_type": "stream",
       "stream": "stdout",
       "text": [
        "\n",
        "[<strong class=\"metrics-data align-vmiddle\">\n",
        "<!-- Alexa web traffic metrics are available via our API at http://aws.amazon.com/awis -->\n",
        "12,645,849              </strong>]"
       ]
      },
      {
       "output_type": "stream",
       "stream": "stdout",
       "text": [
        "\n",
        "[<strong class=\"metrics-data align-vmiddle\">\n",
        "<!-- Alexa web traffic metrics are available via our API at http://aws.amazon.com/awis -->\n",
        "<span style=\"margin-left: 10px;\">-</span> </strong>]"
       ]
      },
      {
       "output_type": "stream",
       "stream": "stdout",
       "text": [
        "\n",
        "[<strong class=\"metrics-data align-vmiddle\">\n",
        "<!-- Alexa web traffic metrics are available via our API at http://aws.amazon.com/awis -->\n",
        "8,446,957              </strong>]"
       ]
      },
      {
       "output_type": "stream",
       "stream": "stdout",
       "text": [
        "\n",
        "[<strong class=\"metrics-data align-vmiddle\">\n",
        "<!-- Alexa web traffic metrics are available via our API at http://aws.amazon.com/awis -->\n",
        "<span style=\"margin-left: 10px;\">-</span> </strong>]"
       ]
      },
      {
       "output_type": "stream",
       "stream": "stdout",
       "text": [
        "\n",
        "[<strong class=\"metrics-data align-vmiddle\">\n",
        "<!-- Alexa web traffic metrics are available via our API at http://aws.amazon.com/awis -->\n",
        "11,645,064              </strong>]"
       ]
      },
      {
       "output_type": "stream",
       "stream": "stdout",
       "text": [
        "\n",
        "[<strong class=\"metrics-data align-vmiddle\">\n",
        "<!-- Alexa web traffic metrics are available via our API at http://aws.amazon.com/awis -->\n",
        "<span style=\"margin-left: 10px;\">-</span> </strong>]"
       ]
      },
      {
       "output_type": "stream",
       "stream": "stdout",
       "text": [
        "\n",
        "[<strong class=\"metrics-data align-vmiddle\">\n",
        "<!-- Alexa web traffic metrics are available via our API at http://aws.amazon.com/awis -->\n",
        "<span style=\"margin-left: 10px;\">-</span> </strong>]"
       ]
      },
      {
       "output_type": "stream",
       "stream": "stdout",
       "text": [
        "\n",
        "[<strong class=\"metrics-data align-vmiddle\">\n",
        "<!-- Alexa web traffic metrics are available via our API at http://aws.amazon.com/awis -->\n",
        "1,081,071              </strong>]"
       ]
      },
      {
       "output_type": "stream",
       "stream": "stdout",
       "text": [
        "\n",
        "[<strong class=\"metrics-data align-vmiddle\">\n",
        "<!-- Alexa web traffic metrics are available via our API at http://aws.amazon.com/awis -->\n",
        "5,592,049              </strong>]"
       ]
      },
      {
       "output_type": "stream",
       "stream": "stdout",
       "text": [
        "\n",
        "[<strong class=\"metrics-data align-vmiddle\">\n",
        "<!-- Alexa web traffic metrics are available via our API at http://aws.amazon.com/awis -->\n",
        "9,598,739              </strong>]"
       ]
      },
      {
       "output_type": "stream",
       "stream": "stdout",
       "text": [
        "\n",
        "[<strong class=\"metrics-data align-vmiddle\">\n",
        "<!-- Alexa web traffic metrics are available via our API at http://aws.amazon.com/awis -->\n",
        "5,529,534              </strong>]"
       ]
      },
      {
       "output_type": "stream",
       "stream": "stdout",
       "text": [
        "\n",
        "[<strong class=\"metrics-data align-vmiddle\">\n",
        "<!-- Alexa web traffic metrics are available via our API at http://aws.amazon.com/awis -->\n",
        "5,491,158              </strong>]"
       ]
      },
      {
       "output_type": "stream",
       "stream": "stdout",
       "text": [
        "\n",
        "[<strong class=\"metrics-data align-vmiddle\">\n",
        "<!-- Alexa web traffic metrics are available via our API at http://aws.amazon.com/awis -->\n",
        "<span style=\"margin-left: 10px;\">-</span> </strong>]"
       ]
      },
      {
       "output_type": "stream",
       "stream": "stdout",
       "text": [
        "\n",
        "[<strong class=\"metrics-data align-vmiddle\">\n",
        "<!-- Alexa web traffic metrics are available via our API at http://aws.amazon.com/awis -->\n",
        "7,099,861              </strong>]"
       ]
      },
      {
       "output_type": "stream",
       "stream": "stdout",
       "text": [
        "\n",
        "[<strong class=\"metrics-data align-vmiddle\">\n",
        "<!-- Alexa web traffic metrics are available via our API at http://aws.amazon.com/awis -->\n",
        "3,943,443              </strong>]"
       ]
      },
      {
       "output_type": "stream",
       "stream": "stdout",
       "text": [
        "\n",
        "[<strong class=\"metrics-data align-vmiddle\">\n",
        "<!-- Alexa web traffic metrics are available via our API at http://aws.amazon.com/awis -->\n",
        "2,672,157              </strong>]"
       ]
      },
      {
       "output_type": "stream",
       "stream": "stdout",
       "text": [
        "\n",
        "[<strong class=\"metrics-data align-vmiddle\">\n",
        "<!-- Alexa web traffic metrics are available via our API at http://aws.amazon.com/awis -->\n",
        "15,848,344              </strong>]"
       ]
      },
      {
       "output_type": "stream",
       "stream": "stdout",
       "text": [
        "\n",
        "[<strong class=\"metrics-data align-vmiddle\">\n",
        "<!-- Alexa web traffic metrics are available via our API at http://aws.amazon.com/awis -->\n",
        "5,673,937              </strong>]"
       ]
      },
      {
       "output_type": "stream",
       "stream": "stdout",
       "text": [
        "\n",
        "[<strong class=\"metrics-data align-vmiddle\">\n",
        "<!-- Alexa web traffic metrics are available via our API at http://aws.amazon.com/awis -->\n",
        "<span style=\"margin-left: 10px;\">-</span> </strong>]"
       ]
      },
      {
       "output_type": "stream",
       "stream": "stdout",
       "text": [
        "\n",
        "[<strong class=\"metrics-data align-vmiddle\">\n",
        "<!-- Alexa web traffic metrics are available via our API at http://aws.amazon.com/awis -->\n",
        "<span style=\"margin-left: 10px;\">-</span> </strong>]"
       ]
      },
      {
       "output_type": "stream",
       "stream": "stdout",
       "text": [
        "\n",
        "[<strong class=\"metrics-data align-vmiddle\">\n",
        "<!-- Alexa web traffic metrics are available via our API at http://aws.amazon.com/awis -->\n",
        "8,782,480              </strong>]"
       ]
      },
      {
       "output_type": "stream",
       "stream": "stdout",
       "text": [
        "\n",
        "[<strong class=\"metrics-data align-vmiddle\">\n",
        "<!-- Alexa web traffic metrics are available via our API at http://aws.amazon.com/awis -->\n",
        "1,058,050              </strong>]"
       ]
      },
      {
       "output_type": "stream",
       "stream": "stdout",
       "text": [
        "\n",
        "[<strong class=\"metrics-data align-vmiddle\">\n",
        "<!-- Alexa web traffic metrics are available via our API at http://aws.amazon.com/awis -->\n",
        "3,369,596              </strong>]"
       ]
      },
      {
       "output_type": "stream",
       "stream": "stdout",
       "text": [
        "\n",
        "[<strong class=\"metrics-data align-vmiddle\">\n",
        "<!-- Alexa web traffic metrics are available via our API at http://aws.amazon.com/awis -->\n",
        "10,542,643              </strong>]"
       ]
      },
      {
       "output_type": "stream",
       "stream": "stdout",
       "text": [
        "\n",
        "[<strong class=\"metrics-data align-vmiddle\">\n",
        "<!-- Alexa web traffic metrics are available via our API at http://aws.amazon.com/awis -->\n",
        "14,474,178              </strong>]"
       ]
      },
      {
       "output_type": "stream",
       "stream": "stdout",
       "text": [
        "\n",
        "[<strong class=\"metrics-data align-vmiddle\">\n",
        "<!-- Alexa web traffic metrics are available via our API at http://aws.amazon.com/awis -->\n",
        "2,559,573              </strong>]"
       ]
      },
      {
       "output_type": "stream",
       "stream": "stdout",
       "text": [
        "\n",
        "[<strong class=\"metrics-data align-vmiddle\">\n",
        "<!-- Alexa web traffic metrics are available via our API at http://aws.amazon.com/awis -->\n",
        "9,761,182              </strong>]"
       ]
      },
      {
       "output_type": "stream",
       "stream": "stdout",
       "text": [
        "\n",
        "[<strong class=\"metrics-data align-vmiddle\">\n",
        "<!-- Alexa web traffic metrics are available via our API at http://aws.amazon.com/awis -->\n",
        "641,541              </strong>]"
       ]
      },
      {
       "output_type": "stream",
       "stream": "stdout",
       "text": [
        "\n",
        "[<strong class=\"metrics-data align-vmiddle\">\n",
        "<!-- Alexa web traffic metrics are available via our API at http://aws.amazon.com/awis -->\n",
        "56,743              </strong>]"
       ]
      },
      {
       "output_type": "stream",
       "stream": "stdout",
       "text": [
        "\n",
        "[<strong class=\"metrics-data align-vmiddle\">\n",
        "<!-- Alexa web traffic metrics are available via our API at http://aws.amazon.com/awis -->\n",
        "72,345              </strong>]"
       ]
      },
      {
       "output_type": "stream",
       "stream": "stdout",
       "text": [
        "\n",
        "[<strong class=\"metrics-data align-vmiddle\">\n",
        "<!-- Alexa web traffic metrics are available via our API at http://aws.amazon.com/awis -->\n",
        "4,037,006              </strong>]"
       ]
      },
      {
       "output_type": "stream",
       "stream": "stdout",
       "text": [
        "\n",
        "[<strong class=\"metrics-data align-vmiddle\">\n",
        "<!-- Alexa web traffic metrics are available via our API at http://aws.amazon.com/awis -->\n",
        "12,036,908              </strong>]"
       ]
      },
      {
       "output_type": "stream",
       "stream": "stdout",
       "text": [
        "\n",
        "[<strong class=\"metrics-data align-vmiddle\">\n",
        "<!-- Alexa web traffic metrics are available via our API at http://aws.amazon.com/awis -->\n",
        "21,310,364              </strong>]"
       ]
      },
      {
       "output_type": "stream",
       "stream": "stdout",
       "text": [
        "\n",
        "[<strong class=\"metrics-data align-vmiddle\">\n",
        "<!-- Alexa web traffic metrics are available via our API at http://aws.amazon.com/awis -->\n",
        "3,744,693              </strong>]"
       ]
      },
      {
       "output_type": "stream",
       "stream": "stdout",
       "text": [
        "\n",
        "[<strong class=\"metrics-data align-vmiddle\">\n",
        "<!-- Alexa web traffic metrics are available via our API at http://aws.amazon.com/awis -->\n",
        "9,810,772              </strong>]"
       ]
      },
      {
       "output_type": "stream",
       "stream": "stdout",
       "text": [
        "\n",
        "[<strong class=\"metrics-data align-vmiddle\">\n",
        "<!-- Alexa web traffic metrics are available via our API at http://aws.amazon.com/awis -->\n",
        "<span style=\"margin-left: 10px;\">-</span> </strong>]"
       ]
      },
      {
       "output_type": "stream",
       "stream": "stdout",
       "text": [
        "\n",
        "[<strong class=\"metrics-data align-vmiddle\">\n",
        "<!-- Alexa web traffic metrics are available via our API at http://aws.amazon.com/awis -->\n",
        "<span style=\"margin-left: 10px;\">-</span> </strong>]"
       ]
      },
      {
       "output_type": "stream",
       "stream": "stdout",
       "text": [
        "\n",
        "[<strong class=\"metrics-data align-vmiddle\">\n",
        "<!-- Alexa web traffic metrics are available via our API at http://aws.amazon.com/awis -->\n",
        "13,093,479              </strong>]"
       ]
      },
      {
       "output_type": "stream",
       "stream": "stdout",
       "text": [
        "\n",
        "[<strong class=\"metrics-data align-vmiddle\">\n",
        "<!-- Alexa web traffic metrics are available via our API at http://aws.amazon.com/awis -->\n",
        "15,848,370              </strong>]"
       ]
      },
      {
       "output_type": "stream",
       "stream": "stdout",
       "text": [
        "\n",
        "[<strong class=\"metrics-data align-vmiddle\">\n",
        "<!-- Alexa web traffic metrics are available via our API at http://aws.amazon.com/awis -->\n",
        "753,215              </strong>]"
       ]
      },
      {
       "output_type": "stream",
       "stream": "stdout",
       "text": [
        "\n",
        "[<strong class=\"metrics-data align-vmiddle\">\n",
        "<!-- Alexa web traffic metrics are available via our API at http://aws.amazon.com/awis -->\n",
        "3,159,826              </strong>]"
       ]
      },
      {
       "output_type": "stream",
       "stream": "stdout",
       "text": [
        "\n",
        "[<strong class=\"metrics-data align-vmiddle\">\n",
        "<!-- Alexa web traffic metrics are available via our API at http://aws.amazon.com/awis -->\n",
        "3,214,643              </strong>]"
       ]
      },
      {
       "output_type": "stream",
       "stream": "stdout",
       "text": [
        "\n",
        "[<strong class=\"metrics-data align-vmiddle\">\n",
        "<!-- Alexa web traffic metrics are available via our API at http://aws.amazon.com/awis -->\n",
        "<span style=\"margin-left: 10px;\">-</span> </strong>]"
       ]
      },
      {
       "output_type": "stream",
       "stream": "stdout",
       "text": [
        "\n",
        "[<strong class=\"metrics-data align-vmiddle\">\n",
        "<!-- Alexa web traffic metrics are available via our API at http://aws.amazon.com/awis -->\n",
        "<span style=\"margin-left: 10px;\">-</span> </strong>]"
       ]
      },
      {
       "output_type": "stream",
       "stream": "stdout",
       "text": [
        "\n",
        "[<strong class=\"metrics-data align-vmiddle\">\n",
        "<!-- Alexa web traffic metrics are available via our API at http://aws.amazon.com/awis -->\n",
        "3,566,613              </strong>]"
       ]
      },
      {
       "output_type": "stream",
       "stream": "stdout",
       "text": [
        "\n",
        "[<strong class=\"metrics-data align-vmiddle\">\n",
        "<!-- Alexa web traffic metrics are available via our API at http://aws.amazon.com/awis -->\n",
        "1,104,985              </strong>]"
       ]
      },
      {
       "output_type": "stream",
       "stream": "stdout",
       "text": [
        "\n",
        "[<strong class=\"metrics-data align-vmiddle\">\n",
        "<!-- Alexa web traffic metrics are available via our API at http://aws.amazon.com/awis -->\n",
        "<span style=\"margin-left: 10px;\">-</span> </strong>]"
       ]
      },
      {
       "output_type": "stream",
       "stream": "stdout",
       "text": [
        "\n",
        "[<strong class=\"metrics-data align-vmiddle\">\n",
        "<!-- Alexa web traffic metrics are available via our API at http://aws.amazon.com/awis -->\n",
        "5,958,128              </strong>]"
       ]
      },
      {
       "output_type": "stream",
       "stream": "stdout",
       "text": [
        "\n",
        "[<strong class=\"metrics-data align-vmiddle\">\n",
        "<!-- Alexa web traffic metrics are available via our API at http://aws.amazon.com/awis -->\n",
        "<span style=\"margin-left: 10px;\">-</span> </strong>]"
       ]
      },
      {
       "output_type": "stream",
       "stream": "stdout",
       "text": [
        "\n",
        "[<strong class=\"metrics-data align-vmiddle\">\n",
        "<!-- Alexa web traffic metrics are available via our API at http://aws.amazon.com/awis -->\n",
        "917,005              </strong>]"
       ]
      },
      {
       "output_type": "stream",
       "stream": "stdout",
       "text": [
        "\n",
        "[<strong class=\"metrics-data align-vmiddle\">\n",
        "<!-- Alexa web traffic metrics are available via our API at http://aws.amazon.com/awis -->\n",
        "1,108,577              </strong>]"
       ]
      },
      {
       "output_type": "stream",
       "stream": "stdout",
       "text": [
        "\n",
        "[<strong class=\"metrics-data align-vmiddle\">\n",
        "<!-- Alexa web traffic metrics are available via our API at http://aws.amazon.com/awis -->\n",
        "1,897,660              </strong>]"
       ]
      },
      {
       "output_type": "stream",
       "stream": "stdout",
       "text": [
        "\n",
        "[<strong class=\"metrics-data align-vmiddle\">\n",
        "<!-- Alexa web traffic metrics are available via our API at http://aws.amazon.com/awis -->\n",
        "1,763,604              </strong>]"
       ]
      },
      {
       "output_type": "stream",
       "stream": "stdout",
       "text": [
        "\n",
        "[<strong class=\"metrics-data align-vmiddle\">\n",
        "<!-- Alexa web traffic metrics are available via our API at http://aws.amazon.com/awis -->\n",
        "19,549,738              </strong>]"
       ]
      },
      {
       "output_type": "stream",
       "stream": "stdout",
       "text": [
        "\n",
        "[<strong class=\"metrics-data align-vmiddle\">\n",
        "<!-- Alexa web traffic metrics are available via our API at http://aws.amazon.com/awis -->\n",
        "<span style=\"margin-left: 10px;\">-</span> </strong>]"
       ]
      },
      {
       "output_type": "stream",
       "stream": "stdout",
       "text": [
        "\n",
        "[<strong class=\"metrics-data align-vmiddle\">\n",
        "<!-- Alexa web traffic metrics are available via our API at http://aws.amazon.com/awis -->\n",
        "6,072,996              </strong>]"
       ]
      },
      {
       "output_type": "stream",
       "stream": "stdout",
       "text": [
        "\n",
        "[<strong class=\"metrics-data align-vmiddle\">\n",
        "<!-- Alexa web traffic metrics are available via our API at http://aws.amazon.com/awis -->\n",
        "1,837,871              </strong>]"
       ]
      },
      {
       "output_type": "stream",
       "stream": "stdout",
       "text": [
        "\n",
        "[<strong class=\"metrics-data align-vmiddle\">\n",
        "<!-- Alexa web traffic metrics are available via our API at http://aws.amazon.com/awis -->\n",
        "16,883,130              </strong>]"
       ]
      },
      {
       "output_type": "stream",
       "stream": "stdout",
       "text": [
        "\n",
        "[<strong class=\"metrics-data align-vmiddle\">\n",
        "<!-- Alexa web traffic metrics are available via our API at http://aws.amazon.com/awis -->\n",
        "2,429              </strong>]"
       ]
      },
      {
       "output_type": "stream",
       "stream": "stdout",
       "text": [
        "\n",
        "[<strong class=\"metrics-data align-vmiddle\">\n",
        "<!-- Alexa web traffic metrics are available via our API at http://aws.amazon.com/awis -->\n",
        "4,236,015              </strong>]"
       ]
      },
      {
       "output_type": "stream",
       "stream": "stdout",
       "text": [
        "\n",
        "[<strong class=\"metrics-data align-vmiddle\">\n",
        "<!-- Alexa web traffic metrics are available via our API at http://aws.amazon.com/awis -->\n",
        "<span style=\"margin-left: 10px;\">-</span> </strong>]"
       ]
      },
      {
       "output_type": "stream",
       "stream": "stdout",
       "text": [
        "\n",
        "[<strong class=\"metrics-data align-vmiddle\">\n",
        "<!-- Alexa web traffic metrics are available via our API at http://aws.amazon.com/awis -->\n",
        "4,692,759              </strong>]"
       ]
      },
      {
       "output_type": "stream",
       "stream": "stdout",
       "text": [
        "\n",
        "[<strong class=\"metrics-data align-vmiddle\">\n",
        "<!-- Alexa web traffic metrics are available via our API at http://aws.amazon.com/awis -->\n",
        "6,764,008              </strong>]"
       ]
      },
      {
       "output_type": "stream",
       "stream": "stdout",
       "text": [
        "\n",
        "[<strong class=\"metrics-data align-vmiddle\">\n",
        "<!-- Alexa web traffic metrics are available via our API at http://aws.amazon.com/awis -->\n",
        "12,094,131              </strong>]"
       ]
      },
      {
       "output_type": "stream",
       "stream": "stdout",
       "text": [
        "\n",
        "[<strong class=\"metrics-data align-vmiddle\">\n",
        "<!-- Alexa web traffic metrics are available via our API at http://aws.amazon.com/awis -->\n",
        "689,692              </strong>]"
       ]
      },
      {
       "output_type": "stream",
       "stream": "stdout",
       "text": [
        "\n",
        "[<strong class=\"metrics-data align-vmiddle\">\n",
        "<!-- Alexa web traffic metrics are available via our API at http://aws.amazon.com/awis -->\n",
        "<span style=\"margin-left: 10px;\">-</span> </strong>]"
       ]
      },
      {
       "output_type": "stream",
       "stream": "stdout",
       "text": [
        "\n",
        "[<strong class=\"metrics-data align-vmiddle\">\n",
        "<!-- Alexa web traffic metrics are available via our API at http://aws.amazon.com/awis -->\n",
        "6,453,267              </strong>]"
       ]
      },
      {
       "output_type": "stream",
       "stream": "stdout",
       "text": [
        "\n",
        "[<strong class=\"metrics-data align-vmiddle\">\n",
        "<!-- Alexa web traffic metrics are available via our API at http://aws.amazon.com/awis -->\n",
        "7,937,857              </strong>]"
       ]
      },
      {
       "output_type": "stream",
       "stream": "stdout",
       "text": [
        "\n",
        "[<strong class=\"metrics-data align-vmiddle\">\n",
        "<!-- Alexa web traffic metrics are available via our API at http://aws.amazon.com/awis -->\n",
        "4,427,920              </strong>]"
       ]
      },
      {
       "output_type": "stream",
       "stream": "stdout",
       "text": [
        "\n",
        "[<strong class=\"metrics-data align-vmiddle\">\n",
        "<!-- Alexa web traffic metrics are available via our API at http://aws.amazon.com/awis -->\n",
        "9,810,768              </strong>]"
       ]
      },
      {
       "output_type": "stream",
       "stream": "stdout",
       "text": [
        "\n",
        "[<strong class=\"metrics-data align-vmiddle\">\n",
        "<!-- Alexa web traffic metrics are available via our API at http://aws.amazon.com/awis -->\n",
        "<span style=\"margin-left: 10px;\">-</span> </strong>]"
       ]
      },
      {
       "output_type": "stream",
       "stream": "stdout",
       "text": [
        "\n",
        "[<strong class=\"metrics-data align-vmiddle\">\n",
        "<!-- Alexa web traffic metrics are available via our API at http://aws.amazon.com/awis -->\n",
        "<span style=\"margin-left: 10px;\">-</span> </strong>]"
       ]
      },
      {
       "output_type": "stream",
       "stream": "stdout",
       "text": [
        "\n",
        "[<strong class=\"metrics-data align-vmiddle\">\n",
        "<!-- Alexa web traffic metrics are available via our API at http://aws.amazon.com/awis -->\n",
        "1,778,684              </strong>]"
       ]
      },
      {
       "output_type": "stream",
       "stream": "stdout",
       "text": [
        "\n",
        "[<strong class=\"metrics-data align-vmiddle\">\n",
        "<!-- Alexa web traffic metrics are available via our API at http://aws.amazon.com/awis -->\n",
        "329,190              </strong>]"
       ]
      },
      {
       "output_type": "stream",
       "stream": "stdout",
       "text": [
        "\n",
        "[<strong class=\"metrics-data align-vmiddle\">\n",
        "<!-- Alexa web traffic metrics are available via our API at http://aws.amazon.com/awis -->\n",
        "598,945              </strong>]"
       ]
      },
      {
       "output_type": "stream",
       "stream": "stdout",
       "text": [
        "\n",
        "[<strong class=\"metrics-data align-vmiddle\">\n",
        "<!-- Alexa web traffic metrics are available via our API at http://aws.amazon.com/awis -->\n",
        "263,751              </strong>]"
       ]
      },
      {
       "output_type": "stream",
       "stream": "stdout",
       "text": [
        "\n",
        "[<strong class=\"metrics-data align-vmiddle\">\n",
        "<!-- Alexa web traffic metrics are available via our API at http://aws.amazon.com/awis -->\n",
        "2,971,230              </strong>]"
       ]
      },
      {
       "output_type": "stream",
       "stream": "stdout",
       "text": [
        "\n",
        "[<strong class=\"metrics-data align-vmiddle\">\n",
        "<!-- Alexa web traffic metrics are available via our API at http://aws.amazon.com/awis -->\n",
        "146,090              </strong>]"
       ]
      },
      {
       "output_type": "stream",
       "stream": "stdout",
       "text": [
        "\n",
        "[<strong class=\"metrics-data align-vmiddle\">\n",
        "<!-- Alexa web traffic metrics are available via our API at http://aws.amazon.com/awis -->\n",
        "11,896,561              </strong>]"
       ]
      },
      {
       "output_type": "stream",
       "stream": "stdout",
       "text": [
        "\n",
        "[<strong class=\"metrics-data align-vmiddle\">\n",
        "<!-- Alexa web traffic metrics are available via our API at http://aws.amazon.com/awis -->\n",
        "261,316              </strong>]"
       ]
      },
      {
       "output_type": "stream",
       "stream": "stdout",
       "text": [
        "\n",
        "[<strong class=\"metrics-data align-vmiddle\">\n",
        "<!-- Alexa web traffic metrics are available via our API at http://aws.amazon.com/awis -->\n",
        "<span style=\"margin-left: 10px;\">-</span> </strong>]"
       ]
      },
      {
       "output_type": "stream",
       "stream": "stdout",
       "text": [
        "\n",
        "[<strong class=\"metrics-data align-vmiddle\">\n",
        "<!-- Alexa web traffic metrics are available via our API at http://aws.amazon.com/awis -->\n",
        "7,502,967              </strong>]"
       ]
      },
      {
       "output_type": "stream",
       "stream": "stdout",
       "text": [
        "\n",
        "[<strong class=\"metrics-data align-vmiddle\">\n",
        "<!-- Alexa web traffic metrics are available via our API at http://aws.amazon.com/awis -->\n",
        "<span style=\"margin-left: 10px;\">-</span> </strong>]"
       ]
      },
      {
       "output_type": "stream",
       "stream": "stdout",
       "text": [
        "\n",
        "[<strong class=\"metrics-data align-vmiddle\">\n",
        "<!-- Alexa web traffic metrics are available via our API at http://aws.amazon.com/awis -->\n",
        "843,405              </strong>]"
       ]
      },
      {
       "output_type": "stream",
       "stream": "stdout",
       "text": [
        "\n",
        "[<strong class=\"metrics-data align-vmiddle\">\n",
        "<!-- Alexa web traffic metrics are available via our API at http://aws.amazon.com/awis -->\n",
        "<span style=\"margin-left: 10px;\">-</span> </strong>]"
       ]
      },
      {
       "output_type": "stream",
       "stream": "stdout",
       "text": [
        "\n",
        "[<strong class=\"metrics-data align-vmiddle\">\n",
        "<!-- Alexa web traffic metrics are available via our API at http://aws.amazon.com/awis -->\n",
        "759,758              </strong>]"
       ]
      },
      {
       "output_type": "stream",
       "stream": "stdout",
       "text": [
        "\n",
        "[<strong class=\"metrics-data align-vmiddle\">\n",
        "<!-- Alexa web traffic metrics are available via our API at http://aws.amazon.com/awis -->\n",
        "901,041              </strong>]"
       ]
      },
      {
       "output_type": "stream",
       "stream": "stdout",
       "text": [
        "\n",
        "[<strong class=\"metrics-data align-vmiddle\">\n",
        "<!-- Alexa web traffic metrics are available via our API at http://aws.amazon.com/awis -->\n",
        "1,333,871              </strong>]"
       ]
      },
      {
       "output_type": "stream",
       "stream": "stdout",
       "text": [
        "\n",
        "[<strong class=\"metrics-data align-vmiddle\">\n",
        "<!-- Alexa web traffic metrics are available via our API at http://aws.amazon.com/awis -->\n",
        "6,416,462              </strong>]"
       ]
      },
      {
       "output_type": "stream",
       "stream": "stdout",
       "text": [
        "\n",
        "[<strong class=\"metrics-data align-vmiddle\">\n",
        "<!-- Alexa web traffic metrics are available via our API at http://aws.amazon.com/awis -->\n",
        "<span style=\"margin-left: 10px;\">-</span> </strong>]"
       ]
      },
      {
       "output_type": "stream",
       "stream": "stdout",
       "text": [
        "\n",
        "[<strong class=\"metrics-data align-vmiddle\">\n",
        "<!-- Alexa web traffic metrics are available via our API at http://aws.amazon.com/awis -->\n",
        "8,611,078              </strong>]"
       ]
      },
      {
       "output_type": "stream",
       "stream": "stdout",
       "text": [
        "\n",
        "[<strong class=\"metrics-data align-vmiddle\">\n",
        "<!-- Alexa web traffic metrics are available via our API at http://aws.amazon.com/awis -->\n",
        "8,143,793              </strong>]"
       ]
      },
      {
       "output_type": "stream",
       "stream": "stdout",
       "text": [
        "\n",
        "[<strong class=\"metrics-data align-vmiddle\">\n",
        "<!-- Alexa web traffic metrics are available via our API at http://aws.amazon.com/awis -->\n",
        "<span style=\"margin-left: 10px;\">-</span> </strong>]"
       ]
      },
      {
       "output_type": "stream",
       "stream": "stdout",
       "text": [
        "\n",
        "[<strong class=\"metrics-data align-vmiddle\">\n",
        "<!-- Alexa web traffic metrics are available via our API at http://aws.amazon.com/awis -->\n",
        "3,677,691              </strong>]"
       ]
      },
      {
       "output_type": "stream",
       "stream": "stdout",
       "text": [
        "\n",
        "[<strong class=\"metrics-data align-vmiddle\">\n",
        "<!-- Alexa web traffic metrics are available via our API at http://aws.amazon.com/awis -->\n",
        "1,303,802              </strong>]"
       ]
      },
      {
       "output_type": "stream",
       "stream": "stdout",
       "text": [
        "\n",
        "[<strong class=\"metrics-data align-vmiddle\">\n",
        "<!-- Alexa web traffic metrics are available via our API at http://aws.amazon.com/awis -->\n",
        "2,613,110              </strong>]"
       ]
      },
      {
       "output_type": "stream",
       "stream": "stdout",
       "text": [
        "\n",
        "[<strong class=\"metrics-data align-vmiddle\">\n",
        "<!-- Alexa web traffic metrics are available via our API at http://aws.amazon.com/awis -->\n",
        "4,231,708              </strong>]"
       ]
      },
      {
       "output_type": "stream",
       "stream": "stdout",
       "text": [
        "\n",
        "[<strong class=\"metrics-data align-vmiddle\">\n",
        "<!-- Alexa web traffic metrics are available via our API at http://aws.amazon.com/awis -->\n",
        "532,613              </strong>]"
       ]
      },
      {
       "output_type": "stream",
       "stream": "stdout",
       "text": [
        "\n",
        "[<strong class=\"metrics-data align-vmiddle\">\n",
        "<!-- Alexa web traffic metrics are available via our API at http://aws.amazon.com/awis -->\n",
        "7,542,034              </strong>]"
       ]
      },
      {
       "output_type": "stream",
       "stream": "stdout",
       "text": [
        "\n",
        "[<strong class=\"metrics-data align-vmiddle\">\n",
        "<!-- Alexa web traffic metrics are available via our API at http://aws.amazon.com/awis -->\n",
        "565,459              </strong>]"
       ]
      },
      {
       "output_type": "stream",
       "stream": "stdout",
       "text": [
        "\n",
        "[<strong class=\"metrics-data align-vmiddle\">\n",
        "<!-- Alexa web traffic metrics are available via our API at http://aws.amazon.com/awis -->\n",
        "10,073,014              </strong>]"
       ]
      },
      {
       "output_type": "stream",
       "stream": "stdout",
       "text": [
        "\n",
        "[<strong class=\"metrics-data align-vmiddle\">\n",
        "<!-- Alexa web traffic metrics are available via our API at http://aws.amazon.com/awis -->\n",
        "422,219              </strong>]"
       ]
      },
      {
       "output_type": "stream",
       "stream": "stdout",
       "text": [
        "\n",
        "[<strong class=\"metrics-data align-vmiddle\">\n",
        "<!-- Alexa web traffic metrics are available via our API at http://aws.amazon.com/awis -->\n",
        "6,519,292              </strong>]"
       ]
      },
      {
       "output_type": "stream",
       "stream": "stdout",
       "text": [
        "\n",
        "[<strong class=\"metrics-data align-vmiddle\">\n",
        "<!-- Alexa web traffic metrics are available via our API at http://aws.amazon.com/awis -->\n",
        "8,301,847              </strong>]"
       ]
      },
      {
       "output_type": "stream",
       "stream": "stdout",
       "text": [
        "\n",
        "[<strong class=\"metrics-data align-vmiddle\">\n",
        "<!-- Alexa web traffic metrics are available via our API at http://aws.amazon.com/awis -->\n",
        "<span style=\"margin-left: 10px;\">-</span> </strong>]"
       ]
      },
      {
       "output_type": "stream",
       "stream": "stdout",
       "text": [
        "\n",
        "[<strong class=\"metrics-data align-vmiddle\">\n",
        "<!-- Alexa web traffic metrics are available via our API at http://aws.amazon.com/awis -->\n",
        "9,406,116              </strong>]"
       ]
      },
      {
       "output_type": "stream",
       "stream": "stdout",
       "text": [
        "\n",
        "[<strong class=\"metrics-data align-vmiddle\">\n",
        "<!-- Alexa web traffic metrics are available via our API at http://aws.amazon.com/awis -->\n",
        "<span style=\"margin-left: 10px;\">-</span> </strong>]"
       ]
      },
      {
       "output_type": "stream",
       "stream": "stdout",
       "text": [
        "\n",
        "[<strong class=\"metrics-data align-vmiddle\">\n",
        "<!-- Alexa web traffic metrics are available via our API at http://aws.amazon.com/awis -->\n",
        "<span style=\"margin-left: 10px;\">-</span> </strong>]"
       ]
      },
      {
       "output_type": "stream",
       "stream": "stdout",
       "text": [
        "\n",
        "[<strong class=\"metrics-data align-vmiddle\">\n",
        "<!-- Alexa web traffic metrics are available via our API at http://aws.amazon.com/awis -->\n",
        "7,798,267              </strong>]"
       ]
      },
      {
       "output_type": "stream",
       "stream": "stdout",
       "text": [
        "\n",
        "[<strong class=\"metrics-data align-vmiddle\">\n",
        "<!-- Alexa web traffic metrics are available via our API at http://aws.amazon.com/awis -->\n",
        "143,859              </strong>]"
       ]
      },
      {
       "output_type": "stream",
       "stream": "stdout",
       "text": [
        "\n",
        "[<strong class=\"metrics-data align-vmiddle\">\n",
        "<!-- Alexa web traffic metrics are available via our API at http://aws.amazon.com/awis -->\n",
        "2,572,154              </strong>]"
       ]
      },
      {
       "output_type": "stream",
       "stream": "stdout",
       "text": [
        "\n",
        "[<strong class=\"metrics-data align-vmiddle\">\n",
        "<!-- Alexa web traffic metrics are available via our API at http://aws.amazon.com/awis -->\n",
        "2,225,311              </strong>]"
       ]
      },
      {
       "output_type": "stream",
       "stream": "stdout",
       "text": [
        "\n",
        "[<strong class=\"metrics-data align-vmiddle\">\n",
        "<!-- Alexa web traffic metrics are available via our API at http://aws.amazon.com/awis -->\n",
        "8,386,709              </strong>]"
       ]
      },
      {
       "output_type": "stream",
       "stream": "stdout",
       "text": [
        "\n",
        "[<strong class=\"metrics-data align-vmiddle\">\n",
        "<!-- Alexa web traffic metrics are available via our API at http://aws.amazon.com/awis -->\n",
        "<span style=\"margin-left: 10px;\">-</span> </strong>]"
       ]
      },
      {
       "output_type": "stream",
       "stream": "stdout",
       "text": [
        "\n",
        "[<strong class=\"metrics-data align-vmiddle\">\n",
        "<!-- Alexa web traffic metrics are available via our API at http://aws.amazon.com/awis -->\n",
        "<span style=\"margin-left: 10px;\">-</span> </strong>]"
       ]
      },
      {
       "output_type": "stream",
       "stream": "stdout",
       "text": [
        "\n",
        "[<strong class=\"metrics-data align-vmiddle\">\n",
        "<!-- Alexa web traffic metrics are available via our API at http://aws.amazon.com/awis -->\n",
        "<span style=\"margin-left: 10px;\">-</span> </strong>]"
       ]
      },
      {
       "output_type": "stream",
       "stream": "stdout",
       "text": [
        "\n",
        "[<strong class=\"metrics-data align-vmiddle\">\n",
        "<!-- Alexa web traffic metrics are available via our API at http://aws.amazon.com/awis -->\n",
        "<span style=\"margin-left: 10px;\">-</span> </strong>]"
       ]
      },
      {
       "output_type": "stream",
       "stream": "stdout",
       "text": [
        "\n",
        "[<strong class=\"metrics-data align-vmiddle\">\n",
        "<!-- Alexa web traffic metrics are available via our API at http://aws.amazon.com/awis -->\n",
        "6,850,316              </strong>]"
       ]
      },
      {
       "output_type": "stream",
       "stream": "stdout",
       "text": [
        "\n",
        "[<strong class=\"metrics-data align-vmiddle\">\n",
        "<!-- Alexa web traffic metrics are available via our API at http://aws.amazon.com/awis -->\n",
        "3,133,744              </strong>]"
       ]
      },
      {
       "output_type": "stream",
       "stream": "stdout",
       "text": [
        "\n",
        "[<strong class=\"metrics-data align-vmiddle\">\n",
        "<!-- Alexa web traffic metrics are available via our API at http://aws.amazon.com/awis -->\n",
        "<span style=\"margin-left: 10px;\">-</span> </strong>]"
       ]
      },
      {
       "output_type": "stream",
       "stream": "stdout",
       "text": [
        "\n",
        "[<strong class=\"metrics-data align-vmiddle\">\n",
        "<!-- Alexa web traffic metrics are available via our API at http://aws.amazon.com/awis -->\n",
        "473,098              </strong>]"
       ]
      },
      {
       "output_type": "stream",
       "stream": "stdout",
       "text": [
        "\n",
        "[<strong class=\"metrics-data align-vmiddle\">\n",
        "<!-- Alexa web traffic metrics are available via our API at http://aws.amazon.com/awis -->\n",
        "11,773,843              </strong>]"
       ]
      },
      {
       "output_type": "stream",
       "stream": "stdout",
       "text": [
        "\n",
        "[<strong class=\"metrics-data align-vmiddle\">\n",
        "<!-- Alexa web traffic metrics are available via our API at http://aws.amazon.com/awis -->\n",
        "<span style=\"margin-left: 10px;\">-</span> </strong>]"
       ]
      },
      {
       "output_type": "stream",
       "stream": "stdout",
       "text": [
        "\n",
        "[<strong class=\"metrics-data align-vmiddle\">\n",
        "<!-- Alexa web traffic metrics are available via our API at http://aws.amazon.com/awis -->\n",
        "5,084,353              </strong>]"
       ]
      },
      {
       "output_type": "stream",
       "stream": "stdout",
       "text": [
        "\n",
        "[<strong class=\"metrics-data align-vmiddle\">\n",
        "<!-- Alexa web traffic metrics are available via our API at http://aws.amazon.com/awis -->\n",
        "10,423,678              </strong>]"
       ]
      },
      {
       "output_type": "stream",
       "stream": "stdout",
       "text": [
        "\n",
        "[<strong class=\"metrics-data align-vmiddle\">\n",
        "<!-- Alexa web traffic metrics are available via our API at http://aws.amazon.com/awis -->\n",
        "<span style=\"margin-left: 10px;\">-</span> </strong>]"
       ]
      },
      {
       "output_type": "stream",
       "stream": "stdout",
       "text": [
        "\n",
        "[<strong class=\"metrics-data align-vmiddle\">\n",
        "<!-- Alexa web traffic metrics are available via our API at http://aws.amazon.com/awis -->\n",
        "3,287,033              </strong>]"
       ]
      },
      {
       "output_type": "stream",
       "stream": "stdout",
       "text": [
        "\n",
        "[<strong class=\"metrics-data align-vmiddle\">\n",
        "<!-- Alexa web traffic metrics are available via our API at http://aws.amazon.com/awis -->\n",
        "<span style=\"margin-left: 10px;\">-</span> </strong>]"
       ]
      },
      {
       "output_type": "stream",
       "stream": "stdout",
       "text": [
        "\n",
        "[<strong class=\"metrics-data align-vmiddle\">\n",
        "<!-- Alexa web traffic metrics are available via our API at http://aws.amazon.com/awis -->\n",
        "9,365,529              </strong>]"
       ]
      },
      {
       "output_type": "stream",
       "stream": "stdout",
       "text": [
        "\n",
        "[<strong class=\"metrics-data align-vmiddle\">\n",
        "<!-- Alexa web traffic metrics are available via our API at http://aws.amazon.com/awis -->\n",
        "6,849,905              </strong>]"
       ]
      },
      {
       "output_type": "stream",
       "stream": "stdout",
       "text": [
        "\n",
        "[<strong class=\"metrics-data align-vmiddle\">\n",
        "<!-- Alexa web traffic metrics are available via our API at http://aws.amazon.com/awis -->\n",
        "<span style=\"margin-left: 10px;\">-</span> </strong>]"
       ]
      },
      {
       "output_type": "stream",
       "stream": "stdout",
       "text": [
        "\n",
        "[<strong class=\"metrics-data align-vmiddle\">\n",
        "<!-- Alexa web traffic metrics are available via our API at http://aws.amazon.com/awis -->\n",
        "<span style=\"margin-left: 10px;\">-</span> </strong>]"
       ]
      },
      {
       "output_type": "stream",
       "stream": "stdout",
       "text": [
        "\n",
        "[<strong class=\"metrics-data align-vmiddle\">\n",
        "<!-- Alexa web traffic metrics are available via our API at http://aws.amazon.com/awis -->\n",
        "<span style=\"margin-left: 10px;\">-</span> </strong>]"
       ]
      },
      {
       "output_type": "stream",
       "stream": "stdout",
       "text": [
        "\n",
        "[<strong class=\"metrics-data align-vmiddle\">\n",
        "<!-- Alexa web traffic metrics are available via our API at http://aws.amazon.com/awis -->\n",
        "2,313,929              </strong>]"
       ]
      },
      {
       "output_type": "stream",
       "stream": "stdout",
       "text": [
        "\n",
        "[<strong class=\"metrics-data align-vmiddle\">\n",
        "<!-- Alexa web traffic metrics are available via our API at http://aws.amazon.com/awis -->\n",
        "<span style=\"margin-left: 10px;\">-</span> </strong>]"
       ]
      },
      {
       "output_type": "stream",
       "stream": "stdout",
       "text": [
        "\n",
        "[<strong class=\"metrics-data align-vmiddle\">\n",
        "<!-- Alexa web traffic metrics are available via our API at http://aws.amazon.com/awis -->\n",
        "259,226              </strong>]"
       ]
      },
      {
       "output_type": "stream",
       "stream": "stdout",
       "text": [
        "\n",
        "[<strong class=\"metrics-data align-vmiddle\">\n",
        "<!-- Alexa web traffic metrics are available via our API at http://aws.amazon.com/awis -->\n",
        "<span style=\"margin-left: 10px;\">-</span> </strong>]"
       ]
      },
      {
       "output_type": "stream",
       "stream": "stdout",
       "text": [
        "\n",
        "[<strong class=\"metrics-data align-vmiddle\">\n",
        "<!-- Alexa web traffic metrics are available via our API at http://aws.amazon.com/awis -->\n",
        "3,201,298              </strong>]"
       ]
      },
      {
       "output_type": "stream",
       "stream": "stdout",
       "text": [
        "\n",
        "[<strong class=\"metrics-data align-vmiddle\">\n",
        "<!-- Alexa web traffic metrics are available via our API at http://aws.amazon.com/awis -->\n",
        "1,888,295              </strong>]"
       ]
      },
      {
       "output_type": "stream",
       "stream": "stdout",
       "text": [
        "\n",
        "[<strong class=\"metrics-data align-vmiddle\">\n",
        "<!-- Alexa web traffic metrics are available via our API at http://aws.amazon.com/awis -->\n",
        "374,778              </strong>]"
       ]
      },
      {
       "output_type": "stream",
       "stream": "stdout",
       "text": [
        "\n",
        "[<strong class=\"metrics-data align-vmiddle\">\n",
        "<!-- Alexa web traffic metrics are available via our API at http://aws.amazon.com/awis -->\n",
        "6,672,649              </strong>]"
       ]
      },
      {
       "output_type": "stream",
       "stream": "stdout",
       "text": [
        "\n",
        "[<strong class=\"metrics-data align-vmiddle\">\n",
        "<!-- Alexa web traffic metrics are available via our API at http://aws.amazon.com/awis -->\n",
        "9,692,692              </strong>]"
       ]
      },
      {
       "output_type": "stream",
       "stream": "stdout",
       "text": [
        "\n",
        "[<strong class=\"metrics-data align-vmiddle\">\n",
        "<!-- Alexa web traffic metrics are available via our API at http://aws.amazon.com/awis -->\n",
        "670,639              </strong>]"
       ]
      },
      {
       "output_type": "stream",
       "stream": "stdout",
       "text": [
        "\n",
        "[<strong class=\"metrics-data align-vmiddle\">\n",
        "<!-- Alexa web traffic metrics are available via our API at http://aws.amazon.com/awis -->\n",
        "19,306              </strong>]"
       ]
      },
      {
       "output_type": "stream",
       "stream": "stdout",
       "text": [
        "\n",
        "[<strong class=\"metrics-data align-vmiddle\">\n",
        "<!-- Alexa web traffic metrics are available via our API at http://aws.amazon.com/awis -->\n",
        "<span style=\"margin-left: 10px;\">-</span> </strong>]"
       ]
      },
      {
       "output_type": "stream",
       "stream": "stdout",
       "text": [
        "\n",
        "[<strong class=\"metrics-data align-vmiddle\">\n",
        "<!-- Alexa web traffic metrics are available via our API at http://aws.amazon.com/awis -->\n",
        "11,896,533              </strong>]"
       ]
      },
      {
       "output_type": "stream",
       "stream": "stdout",
       "text": [
        "\n",
        "[<strong class=\"metrics-data align-vmiddle\">\n",
        "<!-- Alexa web traffic metrics are available via our API at http://aws.amazon.com/awis -->\n",
        "10,623,242              </strong>]"
       ]
      },
      {
       "output_type": "stream",
       "stream": "stdout",
       "text": [
        "\n",
        "[<strong class=\"metrics-data align-vmiddle\">\n",
        "<!-- Alexa web traffic metrics are available via our API at http://aws.amazon.com/awis -->\n",
        "8,750,008              </strong>]"
       ]
      },
      {
       "output_type": "stream",
       "stream": "stdout",
       "text": [
        "\n",
        "[<strong class=\"metrics-data align-vmiddle\">\n",
        "<!-- Alexa web traffic metrics are available via our API at http://aws.amazon.com/awis -->\n",
        "<span style=\"margin-left: 10px;\">-</span> </strong>]"
       ]
      },
      {
       "output_type": "stream",
       "stream": "stdout",
       "text": [
        "\n",
        "[<strong class=\"metrics-data align-vmiddle\">\n",
        "<!-- Alexa web traffic metrics are available via our API at http://aws.amazon.com/awis -->\n",
        "517,769              </strong>]"
       ]
      },
      {
       "output_type": "stream",
       "stream": "stdout",
       "text": [
        "\n",
        "[<strong class=\"metrics-data align-vmiddle\">\n",
        "<!-- Alexa web traffic metrics are available via our API at http://aws.amazon.com/awis -->\n",
        "1,509,229              </strong>]"
       ]
      },
      {
       "output_type": "stream",
       "stream": "stdout",
       "text": [
        "\n",
        "[<strong class=\"metrics-data align-vmiddle\">\n",
        "<!-- Alexa web traffic metrics are available via our API at http://aws.amazon.com/awis -->\n",
        "9,810,774              </strong>]"
       ]
      },
      {
       "output_type": "stream",
       "stream": "stdout",
       "text": [
        "\n",
        "[<strong class=\"metrics-data align-vmiddle\">\n",
        "<!-- Alexa web traffic metrics are available via our API at http://aws.amazon.com/awis -->\n",
        "56,743              </strong>]"
       ]
      },
      {
       "output_type": "stream",
       "stream": "stdout",
       "text": [
        "\n",
        "[<strong class=\"metrics-data align-vmiddle\">\n",
        "<!-- Alexa web traffic metrics are available via our API at http://aws.amazon.com/awis -->\n",
        "7,047,155              </strong>]"
       ]
      },
      {
       "output_type": "stream",
       "stream": "stdout",
       "text": [
        "\n",
        "[<strong class=\"metrics-data align-vmiddle\">\n",
        "<!-- Alexa web traffic metrics are available via our API at http://aws.amazon.com/awis -->\n",
        "<span style=\"margin-left: 10px;\">-</span> </strong>]"
       ]
      },
      {
       "output_type": "stream",
       "stream": "stdout",
       "text": [
        "\n",
        "[<strong class=\"metrics-data align-vmiddle\">\n",
        "<!-- Alexa web traffic metrics are available via our API at http://aws.amazon.com/awis -->\n",
        "3,134,319              </strong>]"
       ]
      },
      {
       "output_type": "stream",
       "stream": "stdout",
       "text": [
        "\n",
        "[<strong class=\"metrics-data align-vmiddle\">\n",
        "<!-- Alexa web traffic metrics are available via our API at http://aws.amazon.com/awis -->\n",
        "<span style=\"margin-left: 10px;\">-</span> </strong>]"
       ]
      },
      {
       "output_type": "stream",
       "stream": "stdout",
       "text": [
        "\n",
        "[<strong class=\"metrics-data align-vmiddle\">\n",
        "<!-- Alexa web traffic metrics are available via our API at http://aws.amazon.com/awis -->\n",
        "12,085,389              </strong>]"
       ]
      },
      {
       "output_type": "stream",
       "stream": "stdout",
       "text": [
        "\n",
        "[<strong class=\"metrics-data align-vmiddle\">\n",
        "<!-- Alexa web traffic metrics are available via our API at http://aws.amazon.com/awis -->\n",
        "<span style=\"margin-left: 10px;\">-</span> </strong>]"
       ]
      },
      {
       "output_type": "stream",
       "stream": "stdout",
       "text": [
        "\n",
        "[<strong class=\"metrics-data align-vmiddle\">\n",
        "<!-- Alexa web traffic metrics are available via our API at http://aws.amazon.com/awis -->\n",
        "851,093              </strong>]"
       ]
      },
      {
       "output_type": "stream",
       "stream": "stdout",
       "text": [
        "\n",
        "[<strong class=\"metrics-data align-vmiddle\">\n",
        "<!-- Alexa web traffic metrics are available via our API at http://aws.amazon.com/awis -->\n",
        "3,865,729              </strong>]"
       ]
      },
      {
       "output_type": "stream",
       "stream": "stdout",
       "text": [
        "\n",
        "[<strong class=\"metrics-data align-vmiddle\">\n",
        "<!-- Alexa web traffic metrics are available via our API at http://aws.amazon.com/awis -->\n",
        "<span style=\"margin-left: 10px;\">-</span> </strong>]"
       ]
      },
      {
       "output_type": "stream",
       "stream": "stdout",
       "text": [
        "\n",
        "[<strong class=\"metrics-data align-vmiddle\">\n",
        "<!-- Alexa web traffic metrics are available via our API at http://aws.amazon.com/awis -->\n",
        "8,077,942              </strong>]"
       ]
      },
      {
       "output_type": "stream",
       "stream": "stdout",
       "text": [
        "\n",
        "[<strong class=\"metrics-data align-vmiddle\">\n",
        "<!-- Alexa web traffic metrics are available via our API at http://aws.amazon.com/awis -->\n",
        "3,003,974              </strong>]"
       ]
      },
      {
       "output_type": "stream",
       "stream": "stdout",
       "text": [
        "\n",
        "[<strong class=\"metrics-data align-vmiddle\">\n",
        "<!-- Alexa web traffic metrics are available via our API at http://aws.amazon.com/awis -->\n",
        "8,907,454              </strong>]"
       ]
      },
      {
       "output_type": "stream",
       "stream": "stdout",
       "text": [
        "\n",
        "[<strong class=\"metrics-data align-vmiddle\">\n",
        "<!-- Alexa web traffic metrics are available via our API at http://aws.amazon.com/awis -->\n",
        "597,202              </strong>]"
       ]
      },
      {
       "output_type": "stream",
       "stream": "stdout",
       "text": [
        "\n",
        "[<strong class=\"metrics-data align-vmiddle\">\n",
        "<!-- Alexa web traffic metrics are available via our API at http://aws.amazon.com/awis -->\n",
        "3,329,624              </strong>]"
       ]
      },
      {
       "output_type": "stream",
       "stream": "stdout",
       "text": [
        "\n",
        "[<strong class=\"metrics-data align-vmiddle\">\n",
        "<!-- Alexa web traffic metrics are available via our API at http://aws.amazon.com/awis -->\n",
        "753,215              </strong>]"
       ]
      },
      {
       "output_type": "stream",
       "stream": "stdout",
       "text": [
        "\n",
        "[<strong class=\"metrics-data align-vmiddle\">\n",
        "<!-- Alexa web traffic metrics are available via our API at http://aws.amazon.com/awis -->\n",
        "6,270,856              </strong>]"
       ]
      },
      {
       "output_type": "stream",
       "stream": "stdout",
       "text": [
        "\n",
        "[<strong class=\"metrics-data align-vmiddle\">\n",
        "<!-- Alexa web traffic metrics are available via our API at http://aws.amazon.com/awis -->\n",
        "2,391,631              </strong>]"
       ]
      },
      {
       "output_type": "stream",
       "stream": "stdout",
       "text": [
        "\n",
        "[<strong class=\"metrics-data align-vmiddle\">\n",
        "<!-- Alexa web traffic metrics are available via our API at http://aws.amazon.com/awis -->\n",
        "11,417,380              </strong>]"
       ]
      },
      {
       "output_type": "stream",
       "stream": "stdout",
       "text": [
        "\n",
        "[<strong class=\"metrics-data align-vmiddle\">\n",
        "<!-- Alexa web traffic metrics are available via our API at http://aws.amazon.com/awis -->\n",
        "14,147,060              </strong>]"
       ]
      },
      {
       "output_type": "stream",
       "stream": "stdout",
       "text": [
        "\n",
        "[<strong class=\"metrics-data align-vmiddle\">\n",
        "<!-- Alexa web traffic metrics are available via our API at http://aws.amazon.com/awis -->\n",
        "3,858,488              </strong>]"
       ]
      },
      {
       "output_type": "stream",
       "stream": "stdout",
       "text": [
        "\n",
        "[<strong class=\"metrics-data align-vmiddle\">\n",
        "<!-- Alexa web traffic metrics are available via our API at http://aws.amazon.com/awis -->\n",
        "<span style=\"margin-left: 10px;\">-</span> </strong>]"
       ]
      },
      {
       "output_type": "stream",
       "stream": "stdout",
       "text": [
        "\n",
        "[<strong class=\"metrics-data align-vmiddle\">\n",
        "<!-- Alexa web traffic metrics are available via our API at http://aws.amazon.com/awis -->\n",
        "1,039,314              </strong>]"
       ]
      },
      {
       "output_type": "stream",
       "stream": "stdout",
       "text": [
        "\n",
        "[<strong class=\"metrics-data align-vmiddle\">\n",
        "<!-- Alexa web traffic metrics are available via our API at http://aws.amazon.com/awis -->\n",
        "4,479,680              </strong>]"
       ]
      },
      {
       "output_type": "stream",
       "stream": "stdout",
       "text": [
        "\n",
        "[<strong class=\"metrics-data align-vmiddle\">\n",
        "<!-- Alexa web traffic metrics are available via our API at http://aws.amazon.com/awis -->\n",
        "<span style=\"margin-left: 10px;\">-</span> </strong>]"
       ]
      },
      {
       "output_type": "stream",
       "stream": "stdout",
       "text": [
        "\n",
        "[<strong class=\"metrics-data align-vmiddle\">\n",
        "<!-- Alexa web traffic metrics are available via our API at http://aws.amazon.com/awis -->\n",
        "<span style=\"margin-left: 10px;\">-</span> </strong>]"
       ]
      },
      {
       "output_type": "stream",
       "stream": "stdout",
       "text": [
        "\n",
        "[<strong class=\"metrics-data align-vmiddle\">\n",
        "<!-- Alexa web traffic metrics are available via our API at http://aws.amazon.com/awis -->\n",
        "7,144,401              </strong>]"
       ]
      },
      {
       "output_type": "stream",
       "stream": "stdout",
       "text": [
        "\n",
        "[<strong class=\"metrics-data align-vmiddle\">\n",
        "<!-- Alexa web traffic metrics are available via our API at http://aws.amazon.com/awis -->\n",
        "775,750              </strong>]"
       ]
      },
      {
       "output_type": "stream",
       "stream": "stdout",
       "text": [
        "\n",
        "[<strong class=\"metrics-data align-vmiddle\">\n",
        "<!-- Alexa web traffic metrics are available via our API at http://aws.amazon.com/awis -->\n",
        "9,235,025              </strong>]"
       ]
      },
      {
       "output_type": "stream",
       "stream": "stdout",
       "text": [
        "\n",
        "[<strong class=\"metrics-data align-vmiddle\">\n",
        "<!-- Alexa web traffic metrics are available via our API at http://aws.amazon.com/awis -->\n",
        "9,765,264              </strong>]"
       ]
      },
      {
       "output_type": "stream",
       "stream": "stdout",
       "text": [
        "\n",
        "[<strong class=\"metrics-data align-vmiddle\">\n",
        "<!-- Alexa web traffic metrics are available via our API at http://aws.amazon.com/awis -->\n",
        "4,599,651              </strong>]"
       ]
      },
      {
       "output_type": "stream",
       "stream": "stdout",
       "text": [
        "\n",
        "[<strong class=\"metrics-data align-vmiddle\">\n",
        "<!-- Alexa web traffic metrics are available via our API at http://aws.amazon.com/awis -->\n",
        "<span style=\"margin-left: 10px;\">-</span> </strong>]"
       ]
      },
      {
       "output_type": "stream",
       "stream": "stdout",
       "text": [
        "\n",
        "[<strong class=\"metrics-data align-vmiddle\">\n",
        "<!-- Alexa web traffic metrics are available via our API at http://aws.amazon.com/awis -->\n",
        "514,971              </strong>]"
       ]
      },
      {
       "output_type": "stream",
       "stream": "stdout",
       "text": [
        "\n",
        "[<strong class=\"metrics-data align-vmiddle\">\n",
        "<!-- Alexa web traffic metrics are available via our API at http://aws.amazon.com/awis -->\n",
        "16,348,877              </strong>]"
       ]
      },
      {
       "output_type": "stream",
       "stream": "stdout",
       "text": [
        "\n",
        "[<strong class=\"metrics-data align-vmiddle\">\n",
        "<!-- Alexa web traffic metrics are available via our API at http://aws.amazon.com/awis -->\n",
        "7,688,157              </strong>]"
       ]
      },
      {
       "output_type": "stream",
       "stream": "stdout",
       "text": [
        "\n",
        "[<strong class=\"metrics-data align-vmiddle\">\n",
        "<!-- Alexa web traffic metrics are available via our API at http://aws.amazon.com/awis -->\n",
        "<span style=\"margin-left: 10px;\">-</span> </strong>]"
       ]
      },
      {
       "output_type": "stream",
       "stream": "stdout",
       "text": [
        "\n",
        "[<strong class=\"metrics-data align-vmiddle\">\n",
        "<!-- Alexa web traffic metrics are available via our API at http://aws.amazon.com/awis -->\n",
        "8,062,072              </strong>]"
       ]
      },
      {
       "output_type": "stream",
       "stream": "stdout",
       "text": [
        "\n",
        "[<strong class=\"metrics-data align-vmiddle\">\n",
        "<!-- Alexa web traffic metrics are available via our API at http://aws.amazon.com/awis -->\n",
        "<span style=\"margin-left: 10px;\">-</span> </strong>]"
       ]
      },
      {
       "output_type": "stream",
       "stream": "stdout",
       "text": [
        "\n",
        "[<strong class=\"metrics-data align-vmiddle\">\n",
        "<!-- Alexa web traffic metrics are available via our API at http://aws.amazon.com/awis -->\n",
        "93,161              </strong>]"
       ]
      },
      {
       "output_type": "stream",
       "stream": "stdout",
       "text": [
        "\n",
        "[<strong class=\"metrics-data align-vmiddle\">\n",
        "<!-- Alexa web traffic metrics are available via our API at http://aws.amazon.com/awis -->\n",
        "7,691,820              </strong>]"
       ]
      },
      {
       "output_type": "stream",
       "stream": "stdout",
       "text": [
        "\n",
        "[<strong class=\"metrics-data align-vmiddle\">\n",
        "<!-- Alexa web traffic metrics are available via our API at http://aws.amazon.com/awis -->\n",
        "<span style=\"margin-left: 10px;\">-</span> </strong>]"
       ]
      },
      {
       "output_type": "stream",
       "stream": "stdout",
       "text": [
        "\n",
        "[<strong class=\"metrics-data align-vmiddle\">\n",
        "<!-- Alexa web traffic metrics are available via our API at http://aws.amazon.com/awis -->\n",
        "7,172,306              </strong>]"
       ]
      },
      {
       "output_type": "stream",
       "stream": "stdout",
       "text": [
        "\n",
        "[<strong class=\"metrics-data align-vmiddle\">\n",
        "<!-- Alexa web traffic metrics are available via our API at http://aws.amazon.com/awis -->\n",
        "<span style=\"margin-left: 10px;\">-</span> </strong>]"
       ]
      },
      {
       "output_type": "stream",
       "stream": "stdout",
       "text": [
        "\n",
        "[<strong class=\"metrics-data align-vmiddle\">\n",
        "<!-- Alexa web traffic metrics are available via our API at http://aws.amazon.com/awis -->\n",
        "787,629              </strong>]"
       ]
      },
      {
       "output_type": "stream",
       "stream": "stdout",
       "text": [
        "\n",
        "[<strong class=\"metrics-data align-vmiddle\">\n",
        "<!-- Alexa web traffic metrics are available via our API at http://aws.amazon.com/awis -->\n",
        "4,724,143              </strong>]"
       ]
      },
      {
       "output_type": "stream",
       "stream": "stdout",
       "text": [
        "\n",
        "[<strong class=\"metrics-data align-vmiddle\">\n",
        "<!-- Alexa web traffic metrics are available via our API at http://aws.amazon.com/awis -->\n",
        "<span style=\"margin-left: 10px;\">-</span> </strong>]"
       ]
      },
      {
       "output_type": "stream",
       "stream": "stdout",
       "text": [
        "\n",
        "[<strong class=\"metrics-data align-vmiddle\">\n",
        "<!-- Alexa web traffic metrics are available via our API at http://aws.amazon.com/awis -->\n",
        "9,331,904              </strong>]"
       ]
      },
      {
       "output_type": "stream",
       "stream": "stdout",
       "text": [
        "\n",
        "[<strong class=\"metrics-data align-vmiddle\">\n",
        "<!-- Alexa web traffic metrics are available via our API at http://aws.amazon.com/awis -->\n",
        "6,469,125              </strong>]"
       ]
      },
      {
       "output_type": "stream",
       "stream": "stdout",
       "text": [
        "\n",
        "[<strong class=\"metrics-data align-vmiddle\">\n",
        "<!-- Alexa web traffic metrics are available via our API at http://aws.amazon.com/awis -->\n",
        "<span style=\"margin-left: 10px;\">-</span> </strong>]"
       ]
      },
      {
       "output_type": "stream",
       "stream": "stdout",
       "text": [
        "\n",
        "[<strong class=\"metrics-data align-vmiddle\">\n",
        "<!-- Alexa web traffic metrics are available via our API at http://aws.amazon.com/awis -->\n",
        "<span style=\"margin-left: 10px;\">-</span> </strong>]"
       ]
      },
      {
       "output_type": "stream",
       "stream": "stdout",
       "text": [
        "\n",
        "[<strong class=\"metrics-data align-vmiddle\">\n",
        "<!-- Alexa web traffic metrics are available via our API at http://aws.amazon.com/awis -->\n",
        "7,129,227              </strong>]"
       ]
      },
      {
       "output_type": "stream",
       "stream": "stdout",
       "text": [
        "\n",
        "[<strong class=\"metrics-data align-vmiddle\">\n",
        "<!-- Alexa web traffic metrics are available via our API at http://aws.amazon.com/awis -->\n",
        "13,218,293              </strong>]"
       ]
      },
      {
       "output_type": "stream",
       "stream": "stdout",
       "text": [
        "\n",
        "[<strong class=\"metrics-data align-vmiddle\">\n",
        "<!-- Alexa web traffic metrics are available via our API at http://aws.amazon.com/awis -->\n",
        "1,764,743              </strong>]"
       ]
      },
      {
       "output_type": "stream",
       "stream": "stdout",
       "text": [
        "\n",
        "[<strong class=\"metrics-data align-vmiddle\">\n",
        "<!-- Alexa web traffic metrics are available via our API at http://aws.amazon.com/awis -->\n",
        "3,289,093              </strong>]"
       ]
      },
      {
       "output_type": "stream",
       "stream": "stdout",
       "text": [
        "\n",
        "[<strong class=\"metrics-data align-vmiddle\">\n",
        "<!-- Alexa web traffic metrics are available via our API at http://aws.amazon.com/awis -->\n",
        "6,576,993              </strong>]"
       ]
      },
      {
       "output_type": "stream",
       "stream": "stdout",
       "text": [
        "\n",
        "[<strong class=\"metrics-data align-vmiddle\">\n",
        "<!-- Alexa web traffic metrics are available via our API at http://aws.amazon.com/awis -->\n",
        "15,848,386              </strong>]"
       ]
      },
      {
       "output_type": "stream",
       "stream": "stdout",
       "text": [
        "\n",
        "[<strong class=\"metrics-data align-vmiddle\">\n",
        "<!-- Alexa web traffic metrics are available via our API at http://aws.amazon.com/awis -->\n",
        "750,702              </strong>]"
       ]
      },
      {
       "output_type": "stream",
       "stream": "stdout",
       "text": [
        "\n",
        "[<strong class=\"metrics-data align-vmiddle\">\n",
        "<!-- Alexa web traffic metrics are available via our API at http://aws.amazon.com/awis -->\n",
        "4,926,012              </strong>]"
       ]
      },
      {
       "output_type": "stream",
       "stream": "stdout",
       "text": [
        "\n",
        "[<strong class=\"metrics-data align-vmiddle\">\n",
        "<!-- Alexa web traffic metrics are available via our API at http://aws.amazon.com/awis -->\n",
        "6,755,989              </strong>]"
       ]
      },
      {
       "output_type": "stream",
       "stream": "stdout",
       "text": [
        "\n",
        "[<strong class=\"metrics-data align-vmiddle\">\n",
        "<!-- Alexa web traffic metrics are available via our API at http://aws.amazon.com/awis -->\n",
        "<span style=\"margin-left: 10px;\">-</span> </strong>]"
       ]
      },
      {
       "output_type": "stream",
       "stream": "stdout",
       "text": [
        "\n",
        "[<strong class=\"metrics-data align-vmiddle\">\n",
        "<!-- Alexa web traffic metrics are available via our API at http://aws.amazon.com/awis -->\n",
        "<span style=\"margin-left: 10px;\">-</span> </strong>]"
       ]
      },
      {
       "output_type": "stream",
       "stream": "stdout",
       "text": [
        "\n",
        "[<strong class=\"metrics-data align-vmiddle\">\n",
        "<!-- Alexa web traffic metrics are available via our API at http://aws.amazon.com/awis -->\n",
        "<span style=\"margin-left: 10px;\">-</span> </strong>]"
       ]
      },
      {
       "output_type": "stream",
       "stream": "stdout",
       "text": [
        "\n",
        "[<strong class=\"metrics-data align-vmiddle\">\n",
        "<!-- Alexa web traffic metrics are available via our API at http://aws.amazon.com/awis -->\n",
        "3,480,330              </strong>]"
       ]
      },
      {
       "output_type": "stream",
       "stream": "stdout",
       "text": [
        "\n",
        "[<strong class=\"metrics-data align-vmiddle\">\n",
        "<!-- Alexa web traffic metrics are available via our API at http://aws.amazon.com/awis -->\n",
        "1,498,652              </strong>]"
       ]
      },
      {
       "output_type": "stream",
       "stream": "stdout",
       "text": [
        "\n",
        "[<strong class=\"metrics-data align-vmiddle\">\n",
        "<!-- Alexa web traffic metrics are available via our API at http://aws.amazon.com/awis -->\n",
        "<span style=\"margin-left: 10px;\">-</span> </strong>]"
       ]
      },
      {
       "output_type": "stream",
       "stream": "stdout",
       "text": [
        "\n",
        "[<strong class=\"metrics-data align-vmiddle\">\n",
        "<!-- Alexa web traffic metrics are available via our API at http://aws.amazon.com/awis -->\n",
        "<span style=\"margin-left: 10px;\">-</span> </strong>]"
       ]
      },
      {
       "output_type": "stream",
       "stream": "stdout",
       "text": [
        "\n",
        "[<strong class=\"metrics-data align-vmiddle\">\n",
        "<!-- Alexa web traffic metrics are available via our API at http://aws.amazon.com/awis -->\n",
        "4,870,744              </strong>]"
       ]
      },
      {
       "output_type": "stream",
       "stream": "stdout",
       "text": [
        "\n",
        "[<strong class=\"metrics-data align-vmiddle\">\n",
        "<!-- Alexa web traffic metrics are available via our API at http://aws.amazon.com/awis -->\n",
        "2,292,797              </strong>]"
       ]
      },
      {
       "output_type": "stream",
       "stream": "stdout",
       "text": [
        "\n",
        "[<strong class=\"metrics-data align-vmiddle\">\n",
        "<!-- Alexa web traffic metrics are available via our API at http://aws.amazon.com/awis -->\n",
        "7,752,331              </strong>]"
       ]
      },
      {
       "output_type": "stream",
       "stream": "stdout",
       "text": [
        "\n",
        "[<strong class=\"metrics-data align-vmiddle\">\n",
        "<!-- Alexa web traffic metrics are available via our API at http://aws.amazon.com/awis -->\n",
        "2,271,390              </strong>]"
       ]
      },
      {
       "output_type": "stream",
       "stream": "stdout",
       "text": [
        "\n",
        "[<strong class=\"metrics-data align-vmiddle\">\n",
        "<!-- Alexa web traffic metrics are available via our API at http://aws.amazon.com/awis -->\n",
        "<span style=\"margin-left: 10px;\">-</span> </strong>]"
       ]
      },
      {
       "output_type": "stream",
       "stream": "stdout",
       "text": [
        "\n",
        "[<strong class=\"metrics-data align-vmiddle\">\n",
        "<!-- Alexa web traffic metrics are available via our API at http://aws.amazon.com/awis -->\n",
        "6,951,837              </strong>]"
       ]
      },
      {
       "output_type": "stream",
       "stream": "stdout",
       "text": [
        "\n",
        "[<strong class=\"metrics-data align-vmiddle\">\n",
        "<!-- Alexa web traffic metrics are available via our API at http://aws.amazon.com/awis -->\n",
        "8,941,827              </strong>]"
       ]
      },
      {
       "output_type": "stream",
       "stream": "stdout",
       "text": [
        "\n",
        "[<strong class=\"metrics-data align-vmiddle\">\n",
        "<!-- Alexa web traffic metrics are available via our API at http://aws.amazon.com/awis -->\n",
        "5,824,941              </strong>]"
       ]
      },
      {
       "output_type": "stream",
       "stream": "stdout",
       "text": [
        "\n",
        "[<strong class=\"metrics-data align-vmiddle\">\n",
        "<!-- Alexa web traffic metrics are available via our API at http://aws.amazon.com/awis -->\n",
        "6,003,930              </strong>]"
       ]
      },
      {
       "output_type": "stream",
       "stream": "stdout",
       "text": [
        "\n",
        "[<strong class=\"metrics-data align-vmiddle\">\n",
        "<!-- Alexa web traffic metrics are available via our API at http://aws.amazon.com/awis -->\n",
        "4,870,744              </strong>]"
       ]
      },
      {
       "output_type": "stream",
       "stream": "stdout",
       "text": [
        "\n",
        "[<strong class=\"metrics-data align-vmiddle\">\n",
        "<!-- Alexa web traffic metrics are available via our API at http://aws.amazon.com/awis -->\n",
        "<span style=\"margin-left: 10px;\">-</span> </strong>]"
       ]
      },
      {
       "output_type": "stream",
       "stream": "stdout",
       "text": [
        "\n",
        "[<strong class=\"metrics-data align-vmiddle\">\n",
        "<!-- Alexa web traffic metrics are available via our API at http://aws.amazon.com/awis -->\n",
        "10,318,625              </strong>]"
       ]
      },
      {
       "output_type": "stream",
       "stream": "stdout",
       "text": [
        "\n",
        "[<strong class=\"metrics-data align-vmiddle\">\n",
        "<!-- Alexa web traffic metrics are available via our API at http://aws.amazon.com/awis -->\n",
        "9,810,777              </strong>]"
       ]
      },
      {
       "output_type": "stream",
       "stream": "stdout",
       "text": [
        "\n",
        "[<strong class=\"metrics-data align-vmiddle\">\n",
        "<!-- Alexa web traffic metrics are available via our API at http://aws.amazon.com/awis -->\n",
        "4,198              </strong>]"
       ]
      },
      {
       "output_type": "stream",
       "stream": "stdout",
       "text": [
        "\n",
        "[<strong class=\"metrics-data align-vmiddle\">\n",
        "<!-- Alexa web traffic metrics are available via our API at http://aws.amazon.com/awis -->\n",
        "1,834              </strong>]"
       ]
      },
      {
       "output_type": "stream",
       "stream": "stdout",
       "text": [
        "\n",
        "[<strong class=\"metrics-data align-vmiddle\">\n",
        "<!-- Alexa web traffic metrics are available via our API at http://aws.amazon.com/awis -->\n",
        "<span style=\"margin-left: 10px;\">-</span> </strong>]"
       ]
      },
      {
       "output_type": "stream",
       "stream": "stdout",
       "text": [
        "\n",
        "[<strong class=\"metrics-data align-vmiddle\">\n",
        "<!-- Alexa web traffic metrics are available via our API at http://aws.amazon.com/awis -->\n",
        "<span style=\"margin-left: 10px;\">-</span> </strong>]"
       ]
      },
      {
       "output_type": "stream",
       "stream": "stdout",
       "text": [
        "\n",
        "[<strong class=\"metrics-data align-vmiddle\">\n",
        "<!-- Alexa web traffic metrics are available via our API at http://aws.amazon.com/awis -->\n",
        "<span style=\"margin-left: 10px;\">-</span> </strong>]"
       ]
      },
      {
       "output_type": "stream",
       "stream": "stdout",
       "text": [
        "\n",
        "[<strong class=\"metrics-data align-vmiddle\">\n",
        "<!-- Alexa web traffic metrics are available via our API at http://aws.amazon.com/awis -->\n",
        "<span style=\"margin-left: 10px;\">-</span> </strong>]"
       ]
      },
      {
       "output_type": "stream",
       "stream": "stdout",
       "text": [
        "\n",
        "[<strong class=\"metrics-data align-vmiddle\">\n",
        "<!-- Alexa web traffic metrics are available via our API at http://aws.amazon.com/awis -->\n",
        "1,002,762              </strong>]"
       ]
      },
      {
       "output_type": "stream",
       "stream": "stdout",
       "text": [
        "\n",
        "[<strong class=\"metrics-data align-vmiddle\">\n",
        "<!-- Alexa web traffic metrics are available via our API at http://aws.amazon.com/awis -->\n",
        "3,492,764              </strong>]"
       ]
      },
      {
       "output_type": "stream",
       "stream": "stdout",
       "text": [
        "\n",
        "[<strong class=\"metrics-data align-vmiddle\">\n",
        "<!-- Alexa web traffic metrics are available via our API at http://aws.amazon.com/awis -->\n",
        "1,056,732              </strong>]"
       ]
      },
      {
       "output_type": "stream",
       "stream": "stdout",
       "text": [
        "\n",
        "[<strong class=\"metrics-data align-vmiddle\">\n",
        "<!-- Alexa web traffic metrics are available via our API at http://aws.amazon.com/awis -->\n",
        "8,204,185              </strong>]"
       ]
      },
      {
       "output_type": "stream",
       "stream": "stdout",
       "text": [
        "\n",
        "[<strong class=\"metrics-data align-vmiddle\">\n",
        "<!-- Alexa web traffic metrics are available via our API at http://aws.amazon.com/awis -->\n",
        "11,458,411              </strong>]"
       ]
      },
      {
       "output_type": "stream",
       "stream": "stdout",
       "text": [
        "\n",
        "[<strong class=\"metrics-data align-vmiddle\">\n",
        "<!-- Alexa web traffic metrics are available via our API at http://aws.amazon.com/awis -->\n",
        "8,006,955              </strong>]"
       ]
      },
      {
       "output_type": "stream",
       "stream": "stdout",
       "text": [
        "\n",
        "[<strong class=\"metrics-data align-vmiddle\">\n",
        "<!-- Alexa web traffic metrics are available via our API at http://aws.amazon.com/awis -->\n",
        "4,590,804              </strong>]"
       ]
      },
      {
       "output_type": "stream",
       "stream": "stdout",
       "text": [
        "\n",
        "[<strong class=\"metrics-data align-vmiddle\">\n",
        "<!-- Alexa web traffic metrics are available via our API at http://aws.amazon.com/awis -->\n",
        "4,870,744              </strong>]"
       ]
      },
      {
       "output_type": "stream",
       "stream": "stdout",
       "text": [
        "\n",
        "[<strong class=\"metrics-data align-vmiddle\">\n",
        "<!-- Alexa web traffic metrics are available via our API at http://aws.amazon.com/awis -->\n",
        "571,582              </strong>]"
       ]
      },
      {
       "output_type": "stream",
       "stream": "stdout",
       "text": [
        "\n",
        "[<strong class=\"metrics-data align-vmiddle\">\n",
        "<!-- Alexa web traffic metrics are available via our API at http://aws.amazon.com/awis -->\n",
        "2,141,099              </strong>]"
       ]
      },
      {
       "output_type": "stream",
       "stream": "stdout",
       "text": [
        "\n",
        "[<strong class=\"metrics-data align-vmiddle\">\n",
        "<!-- Alexa web traffic metrics are available via our API at http://aws.amazon.com/awis -->\n",
        "<span style=\"margin-left: 10px;\">-</span> </strong>]"
       ]
      },
      {
       "output_type": "stream",
       "stream": "stdout",
       "text": [
        "\n",
        "[<strong class=\"metrics-data align-vmiddle\">\n",
        "<!-- Alexa web traffic metrics are available via our API at http://aws.amazon.com/awis -->\n",
        "4,870,744              </strong>]"
       ]
      },
      {
       "output_type": "stream",
       "stream": "stdout",
       "text": [
        "\n",
        "[<strong class=\"metrics-data align-vmiddle\">\n",
        "<!-- Alexa web traffic metrics are available via our API at http://aws.amazon.com/awis -->\n",
        "2,900,605              </strong>]"
       ]
      },
      {
       "output_type": "stream",
       "stream": "stdout",
       "text": [
        "\n",
        "[<strong class=\"metrics-data align-vmiddle\">\n",
        "<!-- Alexa web traffic metrics are available via our API at http://aws.amazon.com/awis -->\n",
        "3,452,445              </strong>]"
       ]
      },
      {
       "output_type": "stream",
       "stream": "stdout",
       "text": [
        "\n",
        "[<strong class=\"metrics-data align-vmiddle\">\n",
        "<!-- Alexa web traffic metrics are available via our API at http://aws.amazon.com/awis -->\n",
        "<span style=\"margin-left: 10px;\">-</span> </strong>]"
       ]
      },
      {
       "output_type": "stream",
       "stream": "stdout",
       "text": [
        "\n",
        "[<strong class=\"metrics-data align-vmiddle\">\n",
        "<!-- Alexa web traffic metrics are available via our API at http://aws.amazon.com/awis -->\n",
        "832,509              </strong>]"
       ]
      },
      {
       "output_type": "stream",
       "stream": "stdout",
       "text": [
        "\n",
        "[<strong class=\"metrics-data align-vmiddle\">\n",
        "<!-- Alexa web traffic metrics are available via our API at http://aws.amazon.com/awis -->\n",
        "18,482              </strong>]"
       ]
      },
      {
       "output_type": "stream",
       "stream": "stdout",
       "text": [
        "\n",
        "[<strong class=\"metrics-data align-vmiddle\">\n",
        "<!-- Alexa web traffic metrics are available via our API at http://aws.amazon.com/awis -->\n",
        "<span style=\"margin-left: 10px;\">-</span> </strong>]"
       ]
      },
      {
       "output_type": "stream",
       "stream": "stdout",
       "text": [
        "\n",
        "[<strong class=\"metrics-data align-vmiddle\">\n",
        "<!-- Alexa web traffic metrics are available via our API at http://aws.amazon.com/awis -->\n",
        "3,400,186              </strong>]"
       ]
      },
      {
       "output_type": "stream",
       "stream": "stdout",
       "text": [
        "\n",
        "[<strong class=\"metrics-data align-vmiddle\">\n",
        "<!-- Alexa web traffic metrics are available via our API at http://aws.amazon.com/awis -->\n",
        "<span style=\"margin-left: 10px;\">-</span> </strong>]"
       ]
      },
      {
       "output_type": "stream",
       "stream": "stdout",
       "text": [
        "\n",
        "[<strong class=\"metrics-data align-vmiddle\">\n",
        "<!-- Alexa web traffic metrics are available via our API at http://aws.amazon.com/awis -->\n",
        "23,407,471              </strong>]"
       ]
      },
      {
       "output_type": "stream",
       "stream": "stdout",
       "text": [
        "\n",
        "[<strong class=\"metrics-data align-vmiddle\">\n",
        "<!-- Alexa web traffic metrics are available via our API at http://aws.amazon.com/awis -->\n",
        "9,268,935              </strong>]"
       ]
      },
      {
       "output_type": "stream",
       "stream": "stdout",
       "text": [
        "\n",
        "[<strong class=\"metrics-data align-vmiddle\">\n",
        "<!-- Alexa web traffic metrics are available via our API at http://aws.amazon.com/awis -->\n",
        "<span style=\"margin-left: 10px;\">-</span> </strong>]"
       ]
      },
      {
       "output_type": "stream",
       "stream": "stdout",
       "text": [
        "\n",
        "[<strong class=\"metrics-data align-vmiddle\">\n",
        "<!-- Alexa web traffic metrics are available via our API at http://aws.amazon.com/awis -->\n",
        "281,771              </strong>]"
       ]
      },
      {
       "output_type": "stream",
       "stream": "stdout",
       "text": [
        "\n",
        "[<strong class=\"metrics-data align-vmiddle\">\n",
        "<!-- Alexa web traffic metrics are available via our API at http://aws.amazon.com/awis -->\n",
        "4,853,021              </strong>]"
       ]
      },
      {
       "output_type": "stream",
       "stream": "stdout",
       "text": [
        "\n",
        "[<strong class=\"metrics-data align-vmiddle\">\n",
        "<!-- Alexa web traffic metrics are available via our API at http://aws.amazon.com/awis -->\n",
        "3,816,368              </strong>]"
       ]
      },
      {
       "output_type": "stream",
       "stream": "stdout",
       "text": [
        "\n",
        "[<strong class=\"metrics-data align-vmiddle\">\n",
        "<!-- Alexa web traffic metrics are available via our API at http://aws.amazon.com/awis -->\n",
        "10,502,470              </strong>]"
       ]
      },
      {
       "output_type": "stream",
       "stream": "stdout",
       "text": [
        "\n",
        "[<strong class=\"metrics-data align-vmiddle\">\n",
        "<!-- Alexa web traffic metrics are available via our API at http://aws.amazon.com/awis -->\n",
        "2,346,531              </strong>]"
       ]
      },
      {
       "output_type": "stream",
       "stream": "stdout",
       "text": [
        "\n",
        "[<strong class=\"metrics-data align-vmiddle\">\n",
        "<!-- Alexa web traffic metrics are available via our API at http://aws.amazon.com/awis -->\n",
        "5,110,990              </strong>]"
       ]
      },
      {
       "output_type": "stream",
       "stream": "stdout",
       "text": [
        "\n",
        "[<strong class=\"metrics-data align-vmiddle\">\n",
        "<!-- Alexa web traffic metrics are available via our API at http://aws.amazon.com/awis -->\n",
        "4,722,259              </strong>]"
       ]
      },
      {
       "output_type": "stream",
       "stream": "stdout",
       "text": [
        "\n",
        "[<strong class=\"metrics-data align-vmiddle\">\n",
        "<!-- Alexa web traffic metrics are available via our API at http://aws.amazon.com/awis -->\n",
        "3,999,154              </strong>]"
       ]
      },
      {
       "output_type": "stream",
       "stream": "stdout",
       "text": [
        "\n",
        "[<strong class=\"metrics-data align-vmiddle\">\n",
        "<!-- Alexa web traffic metrics are available via our API at http://aws.amazon.com/awis -->\n",
        "285,408              </strong>]"
       ]
      },
      {
       "output_type": "stream",
       "stream": "stdout",
       "text": [
        "\n",
        "[<strong class=\"metrics-data align-vmiddle\">\n",
        "<!-- Alexa web traffic metrics are available via our API at http://aws.amazon.com/awis -->\n",
        "<span style=\"margin-left: 10px;\">-</span> </strong>]"
       ]
      },
      {
       "output_type": "stream",
       "stream": "stdout",
       "text": [
        "\n",
        "[<strong class=\"metrics-data align-vmiddle\">\n",
        "<!-- Alexa web traffic metrics are available via our API at http://aws.amazon.com/awis -->\n",
        "17,249,255              </strong>]"
       ]
      },
      {
       "output_type": "stream",
       "stream": "stdout",
       "text": [
        "\n",
        "[<strong class=\"metrics-data align-vmiddle\">\n",
        "<!-- Alexa web traffic metrics are available via our API at http://aws.amazon.com/awis -->\n",
        "6,644,297              </strong>]"
       ]
      },
      {
       "output_type": "stream",
       "stream": "stdout",
       "text": [
        "\n",
        "[<strong class=\"metrics-data align-vmiddle\">\n",
        "<!-- Alexa web traffic metrics are available via our API at http://aws.amazon.com/awis -->\n",
        "496,384              </strong>]"
       ]
      },
      {
       "output_type": "stream",
       "stream": "stdout",
       "text": [
        "\n",
        "[<strong class=\"metrics-data align-vmiddle\">\n",
        "<!-- Alexa web traffic metrics are available via our API at http://aws.amazon.com/awis -->\n",
        "9,924,447              </strong>]"
       ]
      },
      {
       "output_type": "stream",
       "stream": "stdout",
       "text": [
        "\n",
        "[<strong class=\"metrics-data align-vmiddle\">\n",
        "<!-- Alexa web traffic metrics are available via our API at http://aws.amazon.com/awis -->\n",
        "578,365              </strong>]"
       ]
      },
      {
       "output_type": "stream",
       "stream": "stdout",
       "text": [
        "\n",
        "[<strong class=\"metrics-data align-vmiddle\">\n",
        "<!-- Alexa web traffic metrics are available via our API at http://aws.amazon.com/awis -->\n",
        "<span style=\"margin-left: 10px;\">-</span> </strong>]"
       ]
      },
      {
       "output_type": "stream",
       "stream": "stdout",
       "text": [
        "\n",
        "[<strong class=\"metrics-data align-vmiddle\">\n",
        "<!-- Alexa web traffic metrics are available via our API at http://aws.amazon.com/awis -->\n",
        "10,317,322              </strong>]"
       ]
      },
      {
       "output_type": "stream",
       "stream": "stdout",
       "text": [
        "\n",
        "[<strong class=\"metrics-data align-vmiddle\">\n",
        "<!-- Alexa web traffic metrics are available via our API at http://aws.amazon.com/awis -->\n",
        "<span style=\"margin-left: 10px;\">-</span> </strong>]"
       ]
      },
      {
       "output_type": "stream",
       "stream": "stdout",
       "text": [
        "\n",
        "[<strong class=\"metrics-data align-vmiddle\">\n",
        "<!-- Alexa web traffic metrics are available via our API at http://aws.amazon.com/awis -->\n",
        "3,088,428              </strong>]"
       ]
      },
      {
       "output_type": "stream",
       "stream": "stdout",
       "text": [
        "\n",
        "[<strong class=\"metrics-data align-vmiddle\">\n",
        "<!-- Alexa web traffic metrics are available via our API at http://aws.amazon.com/awis -->\n",
        "12,539,265              </strong>]"
       ]
      },
      {
       "output_type": "stream",
       "stream": "stdout",
       "text": [
        "\n",
        "[<strong class=\"metrics-data align-vmiddle\">\n",
        "<!-- Alexa web traffic metrics are available via our API at http://aws.amazon.com/awis -->\n",
        "2,763,886              </strong>]"
       ]
      },
      {
       "output_type": "stream",
       "stream": "stdout",
       "text": [
        "\n",
        "[<strong class=\"metrics-data align-vmiddle\">\n",
        "<!-- Alexa web traffic metrics are available via our API at http://aws.amazon.com/awis -->\n",
        "1,378,174              </strong>]"
       ]
      },
      {
       "output_type": "stream",
       "stream": "stdout",
       "text": [
        "\n",
        "[<strong class=\"metrics-data align-vmiddle\">\n",
        "<!-- Alexa web traffic metrics are available via our API at http://aws.amazon.com/awis -->\n",
        "3,431,098              </strong>]"
       ]
      },
      {
       "output_type": "stream",
       "stream": "stdout",
       "text": [
        "\n",
        "[<strong class=\"metrics-data align-vmiddle\">\n",
        "<!-- Alexa web traffic metrics are available via our API at http://aws.amazon.com/awis -->\n",
        "<span style=\"margin-left: 10px;\">-</span> </strong>]"
       ]
      },
      {
       "output_type": "stream",
       "stream": "stdout",
       "text": [
        "\n",
        "[<strong class=\"metrics-data align-vmiddle\">\n",
        "<!-- Alexa web traffic metrics are available via our API at http://aws.amazon.com/awis -->\n",
        "12,539,326              </strong>]"
       ]
      },
      {
       "output_type": "stream",
       "stream": "stdout",
       "text": [
        "\n",
        "[<strong class=\"metrics-data align-vmiddle\">\n",
        "<!-- Alexa web traffic metrics are available via our API at http://aws.amazon.com/awis -->\n",
        "1,230,229              </strong>]"
       ]
      },
      {
       "output_type": "stream",
       "stream": "stdout",
       "text": [
        "\n",
        "[<strong class=\"metrics-data align-vmiddle\">\n",
        "<!-- Alexa web traffic metrics are available via our API at http://aws.amazon.com/awis -->\n",
        "<span style=\"margin-left: 10px;\">-</span> </strong>]"
       ]
      },
      {
       "output_type": "stream",
       "stream": "stdout",
       "text": [
        "\n",
        "[<strong class=\"metrics-data align-vmiddle\">\n",
        "<!-- Alexa web traffic metrics are available via our API at http://aws.amazon.com/awis -->\n",
        "6,093,603              </strong>]"
       ]
      },
      {
       "output_type": "stream",
       "stream": "stdout",
       "text": [
        "\n",
        "[<strong class=\"metrics-data align-vmiddle\">\n",
        "<!-- Alexa web traffic metrics are available via our API at http://aws.amazon.com/awis -->\n",
        "1,409,790              </strong>]"
       ]
      },
      {
       "output_type": "stream",
       "stream": "stdout",
       "text": [
        "\n",
        "[<strong class=\"metrics-data align-vmiddle\">\n",
        "<!-- Alexa web traffic metrics are available via our API at http://aws.amazon.com/awis -->\n",
        "22,695,091              </strong>]"
       ]
      },
      {
       "output_type": "stream",
       "stream": "stdout",
       "text": [
        "\n",
        "[<strong class=\"metrics-data align-vmiddle\">\n",
        "<!-- Alexa web traffic metrics are available via our API at http://aws.amazon.com/awis -->\n",
        "<span style=\"margin-left: 10px;\">-</span> </strong>]"
       ]
      },
      {
       "output_type": "stream",
       "stream": "stdout",
       "text": [
        "\n",
        "[<strong class=\"metrics-data align-vmiddle\">\n",
        "<!-- Alexa web traffic metrics are available via our API at http://aws.amazon.com/awis -->\n",
        "7,509,137              </strong>]"
       ]
      },
      {
       "output_type": "stream",
       "stream": "stdout",
       "text": [
        "\n",
        "[<strong class=\"metrics-data align-vmiddle\">\n",
        "<!-- Alexa web traffic metrics are available via our API at http://aws.amazon.com/awis -->\n",
        "<span style=\"margin-left: 10px;\">-</span> </strong>]"
       ]
      },
      {
       "output_type": "stream",
       "stream": "stdout",
       "text": [
        "\n",
        "[<strong class=\"metrics-data align-vmiddle\">\n",
        "<!-- Alexa web traffic metrics are available via our API at http://aws.amazon.com/awis -->\n",
        "<span style=\"margin-left: 10px;\">-</span> </strong>]"
       ]
      },
      {
       "output_type": "stream",
       "stream": "stdout",
       "text": [
        "\n",
        "[<strong class=\"metrics-data align-vmiddle\">\n",
        "<!-- Alexa web traffic metrics are available via our API at http://aws.amazon.com/awis -->\n",
        "<span style=\"margin-left: 10px;\">-</span> </strong>]"
       ]
      },
      {
       "output_type": "stream",
       "stream": "stdout",
       "text": [
        "\n",
        "[<strong class=\"metrics-data align-vmiddle\">\n",
        "<!-- Alexa web traffic metrics are available via our API at http://aws.amazon.com/awis -->\n",
        "<span style=\"margin-left: 10px;\">-</span> </strong>]"
       ]
      },
      {
       "output_type": "stream",
       "stream": "stdout",
       "text": [
        "\n",
        "[<strong class=\"metrics-data align-vmiddle\">\n",
        "<!-- Alexa web traffic metrics are available via our API at http://aws.amazon.com/awis -->\n",
        "<span style=\"margin-left: 10px;\">-</span> </strong>]"
       ]
      },
      {
       "output_type": "stream",
       "stream": "stdout",
       "text": [
        "\n",
        "[<strong class=\"metrics-data align-vmiddle\">\n",
        "<!-- Alexa web traffic metrics are available via our API at http://aws.amazon.com/awis -->\n",
        "<span style=\"margin-left: 10px;\">-</span> </strong>]"
       ]
      },
      {
       "output_type": "stream",
       "stream": "stdout",
       "text": [
        "\n",
        "[<strong class=\"metrics-data align-vmiddle\">\n",
        "<!-- Alexa web traffic metrics are available via our API at http://aws.amazon.com/awis -->\n",
        "<span style=\"margin-left: 10px;\">-</span> </strong>]"
       ]
      },
      {
       "output_type": "stream",
       "stream": "stdout",
       "text": [
        "\n",
        "[<strong class=\"metrics-data align-vmiddle\">\n",
        "<!-- Alexa web traffic metrics are available via our API at http://aws.amazon.com/awis -->\n",
        "3,531,971              </strong>]"
       ]
      },
      {
       "output_type": "stream",
       "stream": "stdout",
       "text": [
        "\n",
        "[<strong class=\"metrics-data align-vmiddle\">\n",
        "<!-- Alexa web traffic metrics are available via our API at http://aws.amazon.com/awis -->\n",
        "12,576              </strong>]"
       ]
      },
      {
       "output_type": "stream",
       "stream": "stdout",
       "text": [
        "\n",
        "[<strong class=\"metrics-data align-vmiddle\">\n",
        "<!-- Alexa web traffic metrics are available via our API at http://aws.amazon.com/awis -->\n",
        "9,920,472              </strong>]"
       ]
      },
      {
       "output_type": "stream",
       "stream": "stdout",
       "text": [
        "\n",
        "[<strong class=\"metrics-data align-vmiddle\">\n",
        "<!-- Alexa web traffic metrics are available via our API at http://aws.amazon.com/awis -->\n",
        "<span style=\"margin-left: 10px;\">-</span> </strong>]"
       ]
      },
      {
       "output_type": "stream",
       "stream": "stdout",
       "text": [
        "\n",
        "[<strong class=\"metrics-data align-vmiddle\">\n",
        "<!-- Alexa web traffic metrics are available via our API at http://aws.amazon.com/awis -->\n",
        "<span style=\"margin-left: 10px;\">-</span> </strong>]"
       ]
      },
      {
       "output_type": "stream",
       "stream": "stdout",
       "text": [
        "\n",
        "[<strong class=\"metrics-data align-vmiddle\">\n",
        "<!-- Alexa web traffic metrics are available via our API at http://aws.amazon.com/awis -->\n",
        "127,845              </strong>]"
       ]
      },
      {
       "output_type": "stream",
       "stream": "stdout",
       "text": [
        "\n",
        "[<strong class=\"metrics-data align-vmiddle\">\n",
        "<!-- Alexa web traffic metrics are available via our API at http://aws.amazon.com/awis -->\n",
        "1,002,856              </strong>]"
       ]
      },
      {
       "output_type": "stream",
       "stream": "stdout",
       "text": [
        "\n",
        "[<strong class=\"metrics-data align-vmiddle\">\n",
        "<!-- Alexa web traffic metrics are available via our API at http://aws.amazon.com/awis -->\n",
        "2,429,946              </strong>]"
       ]
      },
      {
       "output_type": "stream",
       "stream": "stdout",
       "text": [
        "\n",
        "[<strong class=\"metrics-data align-vmiddle\">\n",
        "<!-- Alexa web traffic metrics are available via our API at http://aws.amazon.com/awis -->\n",
        "6,915,404              </strong>]"
       ]
      },
      {
       "output_type": "stream",
       "stream": "stdout",
       "text": [
        "\n",
        "[<strong class=\"metrics-data align-vmiddle\">\n",
        "<!-- Alexa web traffic metrics are available via our API at http://aws.amazon.com/awis -->\n",
        "<span style=\"margin-left: 10px;\">-</span> </strong>]"
       ]
      },
      {
       "output_type": "stream",
       "stream": "stdout",
       "text": [
        "\n",
        "[<strong class=\"metrics-data align-vmiddle\">\n",
        "<!-- Alexa web traffic metrics are available via our API at http://aws.amazon.com/awis -->\n",
        "<span style=\"margin-left: 10px;\">-</span> </strong>]"
       ]
      },
      {
       "output_type": "stream",
       "stream": "stdout",
       "text": [
        "\n",
        "[<strong class=\"metrics-data align-vmiddle\">\n",
        "<!-- Alexa web traffic metrics are available via our API at http://aws.amazon.com/awis -->\n",
        "<span style=\"margin-left: 10px;\">-</span> </strong>]"
       ]
      },
      {
       "output_type": "stream",
       "stream": "stdout",
       "text": [
        "\n",
        "[<strong class=\"metrics-data align-vmiddle\">\n",
        "<!-- Alexa web traffic metrics are available via our API at http://aws.amazon.com/awis -->\n",
        "5,220,001              </strong>]"
       ]
      },
      {
       "output_type": "stream",
       "stream": "stdout",
       "text": [
        "\n",
        "[<strong class=\"metrics-data align-vmiddle\">\n",
        "<!-- Alexa web traffic metrics are available via our API at http://aws.amazon.com/awis -->\n",
        "<span style=\"margin-left: 10px;\">-</span> </strong>]"
       ]
      },
      {
       "output_type": "stream",
       "stream": "stdout",
       "text": [
        "\n",
        "[<strong class=\"metrics-data align-vmiddle\">\n",
        "<!-- Alexa web traffic metrics are available via our API at http://aws.amazon.com/awis -->\n",
        "15,877,539              </strong>]"
       ]
      },
      {
       "output_type": "stream",
       "stream": "stdout",
       "text": [
        "\n",
        "[<strong class=\"metrics-data align-vmiddle\">\n",
        "<!-- Alexa web traffic metrics are available via our API at http://aws.amazon.com/awis -->\n",
        "<span style=\"margin-left: 10px;\">-</span> </strong>]"
       ]
      },
      {
       "output_type": "stream",
       "stream": "stdout",
       "text": [
        "\n",
        "[<strong class=\"metrics-data align-vmiddle\">\n",
        "<!-- Alexa web traffic metrics are available via our API at http://aws.amazon.com/awis -->\n",
        "3,694,868              </strong>]"
       ]
      },
      {
       "output_type": "stream",
       "stream": "stdout",
       "text": [
        "\n",
        "[<strong class=\"metrics-data align-vmiddle\">\n",
        "<!-- Alexa web traffic metrics are available via our API at http://aws.amazon.com/awis -->\n",
        "<span style=\"margin-left: 10px;\">-</span> </strong>]"
       ]
      },
      {
       "output_type": "stream",
       "stream": "stdout",
       "text": [
        "\n",
        "[<strong class=\"metrics-data align-vmiddle\">\n",
        "<!-- Alexa web traffic metrics are available via our API at http://aws.amazon.com/awis -->\n",
        "<span style=\"margin-left: 10px;\">-</span> </strong>]"
       ]
      },
      {
       "output_type": "stream",
       "stream": "stdout",
       "text": [
        "\n",
        "[<strong class=\"metrics-data align-vmiddle\">\n",
        "<!-- Alexa web traffic metrics are available via our API at http://aws.amazon.com/awis -->\n",
        "18,730,546              </strong>]"
       ]
      },
      {
       "output_type": "stream",
       "stream": "stdout",
       "text": [
        "\n",
        "[<strong class=\"metrics-data align-vmiddle\">\n",
        "<!-- Alexa web traffic metrics are available via our API at http://aws.amazon.com/awis -->\n",
        "2,589,369              </strong>]"
       ]
      },
      {
       "output_type": "stream",
       "stream": "stdout",
       "text": [
        "\n",
        "[<strong class=\"metrics-data align-vmiddle\">\n",
        "<!-- Alexa web traffic metrics are available via our API at http://aws.amazon.com/awis -->\n",
        "9,810,789              </strong>]"
       ]
      },
      {
       "output_type": "stream",
       "stream": "stdout",
       "text": [
        "\n",
        "[<strong class=\"metrics-data align-vmiddle\">\n",
        "<!-- Alexa web traffic metrics are available via our API at http://aws.amazon.com/awis -->\n",
        "5,599,209              </strong>]"
       ]
      },
      {
       "output_type": "stream",
       "stream": "stdout",
       "text": [
        "\n",
        "[<strong class=\"metrics-data align-vmiddle\">\n",
        "<!-- Alexa web traffic metrics are available via our API at http://aws.amazon.com/awis -->\n",
        "2,848,543              </strong>]"
       ]
      },
      {
       "output_type": "stream",
       "stream": "stdout",
       "text": [
        "\n",
        "[<strong class=\"metrics-data align-vmiddle\">\n",
        "<!-- Alexa web traffic metrics are available via our API at http://aws.amazon.com/awis -->\n",
        "7,219,289              </strong>]"
       ]
      },
      {
       "output_type": "stream",
       "stream": "stdout",
       "text": [
        "\n",
        "[<strong class=\"metrics-data align-vmiddle\">\n",
        "<!-- Alexa web traffic metrics are available via our API at http://aws.amazon.com/awis -->\n",
        "910,335              </strong>]"
       ]
      },
      {
       "output_type": "stream",
       "stream": "stdout",
       "text": [
        "\n",
        "[<strong class=\"metrics-data align-vmiddle\">\n",
        "<!-- Alexa web traffic metrics are available via our API at http://aws.amazon.com/awis -->\n",
        "2,784,124              </strong>]"
       ]
      },
      {
       "output_type": "stream",
       "stream": "stdout",
       "text": [
        "\n",
        "[<strong class=\"metrics-data align-vmiddle\">\n",
        "<!-- Alexa web traffic metrics are available via our API at http://aws.amazon.com/awis -->\n",
        "6,232,809              </strong>]"
       ]
      },
      {
       "output_type": "stream",
       "stream": "stdout",
       "text": [
        "\n",
        "[<strong class=\"metrics-data align-vmiddle\">\n",
        "<!-- Alexa web traffic metrics are available via our API at http://aws.amazon.com/awis -->\n",
        "<span style=\"margin-left: 10px;\">-</span> </strong>]"
       ]
      },
      {
       "output_type": "stream",
       "stream": "stdout",
       "text": [
        "\n",
        "[<strong class=\"metrics-data align-vmiddle\">\n",
        "<!-- Alexa web traffic metrics are available via our API at http://aws.amazon.com/awis -->\n",
        "3,459,674              </strong>]"
       ]
      },
      {
       "output_type": "stream",
       "stream": "stdout",
       "text": [
        "\n",
        "[<strong class=\"metrics-data align-vmiddle\">\n",
        "<!-- Alexa web traffic metrics are available via our API at http://aws.amazon.com/awis -->\n",
        "752,639              </strong>]"
       ]
      },
      {
       "output_type": "stream",
       "stream": "stdout",
       "text": [
        "\n",
        "[<strong class=\"metrics-data align-vmiddle\">\n",
        "<!-- Alexa web traffic metrics are available via our API at http://aws.amazon.com/awis -->\n",
        "<span style=\"margin-left: 10px;\">-</span> </strong>]"
       ]
      },
      {
       "output_type": "stream",
       "stream": "stdout",
       "text": [
        "\n",
        "[<strong class=\"metrics-data align-vmiddle\">\n",
        "<!-- Alexa web traffic metrics are available via our API at http://aws.amazon.com/awis -->\n",
        "3,093,029              </strong>]"
       ]
      },
      {
       "output_type": "stream",
       "stream": "stdout",
       "text": [
        "\n",
        "[<strong class=\"metrics-data align-vmiddle\">\n",
        "<!-- Alexa web traffic metrics are available via our API at http://aws.amazon.com/awis -->\n",
        "4,345,168              </strong>]"
       ]
      },
      {
       "output_type": "stream",
       "stream": "stdout",
       "text": [
        "\n",
        "[<strong class=\"metrics-data align-vmiddle\">\n",
        "<!-- Alexa web traffic metrics are available via our API at http://aws.amazon.com/awis -->\n",
        "4,682,740              </strong>]"
       ]
      },
      {
       "output_type": "stream",
       "stream": "stdout",
       "text": [
        "\n",
        "[<strong class=\"metrics-data align-vmiddle\">\n",
        "<!-- Alexa web traffic metrics are available via our API at http://aws.amazon.com/awis -->\n",
        "3,646,076              </strong>]"
       ]
      },
      {
       "output_type": "stream",
       "stream": "stdout",
       "text": [
        "\n",
        "[<strong class=\"metrics-data align-vmiddle\">\n",
        "<!-- Alexa web traffic metrics are available via our API at http://aws.amazon.com/awis -->\n",
        "<span style=\"margin-left: 10px;\">-</span> </strong>]"
       ]
      },
      {
       "output_type": "stream",
       "stream": "stdout",
       "text": [
        "\n",
        "[<strong class=\"metrics-data align-vmiddle\">\n",
        "<!-- Alexa web traffic metrics are available via our API at http://aws.amazon.com/awis -->\n",
        "<span style=\"margin-left: 10px;\">-</span> </strong>]"
       ]
      },
      {
       "output_type": "stream",
       "stream": "stdout",
       "text": [
        "\n",
        "[<strong class=\"metrics-data align-vmiddle\">\n",
        "<!-- Alexa web traffic metrics are available via our API at http://aws.amazon.com/awis -->\n",
        "<span style=\"margin-left: 10px;\">-</span> </strong>]"
       ]
      },
      {
       "output_type": "stream",
       "stream": "stdout",
       "text": [
        "\n",
        "[<strong class=\"metrics-data align-vmiddle\">\n",
        "<!-- Alexa web traffic metrics are available via our API at http://aws.amazon.com/awis -->\n",
        "3,646,076              </strong>]"
       ]
      },
      {
       "output_type": "stream",
       "stream": "stdout",
       "text": [
        "\n",
        "[<strong class=\"metrics-data align-vmiddle\">\n",
        "<!-- Alexa web traffic metrics are available via our API at http://aws.amazon.com/awis -->\n",
        "5,682,212              </strong>]"
       ]
      },
      {
       "output_type": "stream",
       "stream": "stdout",
       "text": [
        "\n",
        "[<strong class=\"metrics-data align-vmiddle\">\n",
        "<!-- Alexa web traffic metrics are available via our API at http://aws.amazon.com/awis -->\n",
        "3,646,076              </strong>]"
       ]
      },
      {
       "output_type": "stream",
       "stream": "stdout",
       "text": [
        "\n",
        "[<strong class=\"metrics-data align-vmiddle\">\n",
        "<!-- Alexa web traffic metrics are available via our API at http://aws.amazon.com/awis -->\n",
        "4,044,519              </strong>]"
       ]
      },
      {
       "output_type": "stream",
       "stream": "stdout",
       "text": [
        "\n",
        "[<strong class=\"metrics-data align-vmiddle\">\n",
        "<!-- Alexa web traffic metrics are available via our API at http://aws.amazon.com/awis -->\n",
        "2,244              </strong>]"
       ]
      },
      {
       "output_type": "stream",
       "stream": "stdout",
       "text": [
        "\n",
        "[<strong class=\"metrics-data align-vmiddle\">\n",
        "<!-- Alexa web traffic metrics are available via our API at http://aws.amazon.com/awis -->\n",
        "1,054,079              </strong>]"
       ]
      },
      {
       "output_type": "stream",
       "stream": "stdout",
       "text": [
        "\n",
        "[<strong class=\"metrics-data align-vmiddle\">\n",
        "<!-- Alexa web traffic metrics are available via our API at http://aws.amazon.com/awis -->\n",
        "10,423,720              </strong>]"
       ]
      },
      {
       "output_type": "stream",
       "stream": "stdout",
       "text": [
        "\n",
        "[<strong class=\"metrics-data align-vmiddle\">\n",
        "<!-- Alexa web traffic metrics are available via our API at http://aws.amazon.com/awis -->\n",
        "4,493,151              </strong>]"
       ]
      },
      {
       "output_type": "stream",
       "stream": "stdout",
       "text": [
        "\n",
        "[<strong class=\"metrics-data align-vmiddle\">\n",
        "<!-- Alexa web traffic metrics are available via our API at http://aws.amazon.com/awis -->\n",
        "<span style=\"margin-left: 10px;\">-</span> </strong>]"
       ]
      },
      {
       "output_type": "stream",
       "stream": "stdout",
       "text": [
        "\n",
        "[<strong class=\"metrics-data align-vmiddle\">\n",
        "<!-- Alexa web traffic metrics are available via our API at http://aws.amazon.com/awis -->\n",
        "2,244              </strong>]"
       ]
      },
      {
       "output_type": "stream",
       "stream": "stdout",
       "text": [
        "\n",
        "[<strong class=\"metrics-data align-vmiddle\">\n",
        "<!-- Alexa web traffic metrics are available via our API at http://aws.amazon.com/awis -->\n",
        "3,267,800              </strong>]"
       ]
      },
      {
       "output_type": "stream",
       "stream": "stdout",
       "text": [
        "\n",
        "[<strong class=\"metrics-data align-vmiddle\">\n",
        "<!-- Alexa web traffic metrics are available via our API at http://aws.amazon.com/awis -->\n",
        "<span style=\"margin-left: 10px;\">-</span> </strong>]"
       ]
      },
      {
       "output_type": "stream",
       "stream": "stdout",
       "text": [
        "\n",
        "[<strong class=\"metrics-data align-vmiddle\">\n",
        "<!-- Alexa web traffic metrics are available via our API at http://aws.amazon.com/awis -->\n",
        "1,463,887              </strong>]"
       ]
      },
      {
       "output_type": "stream",
       "stream": "stdout",
       "text": [
        "\n",
        "[<strong class=\"metrics-data align-vmiddle\">\n",
        "<!-- Alexa web traffic metrics are available via our API at http://aws.amazon.com/awis -->\n",
        "18,291              </strong>]"
       ]
      },
      {
       "output_type": "stream",
       "stream": "stdout",
       "text": [
        "\n",
        "[<strong class=\"metrics-data align-vmiddle\">\n",
        "<!-- Alexa web traffic metrics are available via our API at http://aws.amazon.com/awis -->\n",
        "19,113,170              </strong>]"
       ]
      },
      {
       "output_type": "stream",
       "stream": "stdout",
       "text": [
        "\n",
        "[<strong class=\"metrics-data align-vmiddle\">\n",
        "<!-- Alexa web traffic metrics are available via our API at http://aws.amazon.com/awis -->\n",
        "537,348              </strong>]"
       ]
      },
      {
       "output_type": "stream",
       "stream": "stdout",
       "text": [
        "\n",
        "[<strong class=\"metrics-data align-vmiddle\">\n",
        "<!-- Alexa web traffic metrics are available via our API at http://aws.amazon.com/awis -->\n",
        "12,840,163              </strong>]"
       ]
      },
      {
       "output_type": "stream",
       "stream": "stdout",
       "text": [
        "\n",
        "[<strong class=\"metrics-data align-vmiddle\">\n",
        "<!-- Alexa web traffic metrics are available via our API at http://aws.amazon.com/awis -->\n",
        "592,299              </strong>]"
       ]
      },
      {
       "output_type": "stream",
       "stream": "stdout",
       "text": [
        "\n",
        "[<strong class=\"metrics-data align-vmiddle\">\n",
        "<!-- Alexa web traffic metrics are available via our API at http://aws.amazon.com/awis -->\n",
        "537,348              </strong>]"
       ]
      },
      {
       "output_type": "stream",
       "stream": "stdout",
       "text": [
        "\n",
        "[<strong class=\"metrics-data align-vmiddle\">\n",
        "<!-- Alexa web traffic metrics are available via our API at http://aws.amazon.com/awis -->\n",
        "<span style=\"margin-left: 10px;\">-</span> </strong>]"
       ]
      },
      {
       "output_type": "stream",
       "stream": "stdout",
       "text": [
        "\n",
        "[<strong class=\"metrics-data align-vmiddle\">\n",
        "<!-- Alexa web traffic metrics are available via our API at http://aws.amazon.com/awis -->\n",
        "3,965,345              </strong>]"
       ]
      },
      {
       "output_type": "stream",
       "stream": "stdout",
       "text": [
        "\n",
        "[<strong class=\"metrics-data align-vmiddle\">\n",
        "<!-- Alexa web traffic metrics are available via our API at http://aws.amazon.com/awis -->\n",
        "9,557,579              </strong>]"
       ]
      },
      {
       "output_type": "stream",
       "stream": "stdout",
       "text": [
        "\n",
        "[<strong class=\"metrics-data align-vmiddle\">\n",
        "<!-- Alexa web traffic metrics are available via our API at http://aws.amazon.com/awis -->\n",
        "6,004,789              </strong>]"
       ]
      },
      {
       "output_type": "stream",
       "stream": "stdout",
       "text": [
        "\n",
        "[<strong class=\"metrics-data align-vmiddle\">\n",
        "<!-- Alexa web traffic metrics are available via our API at http://aws.amazon.com/awis -->\n",
        "<span style=\"margin-left: 10px;\">-</span> </strong>]"
       ]
      },
      {
       "output_type": "stream",
       "stream": "stdout",
       "text": [
        "\n",
        "[<strong class=\"metrics-data align-vmiddle\">\n",
        "<!-- Alexa web traffic metrics are available via our API at http://aws.amazon.com/awis -->\n",
        "<span style=\"margin-left: 10px;\">-</span> </strong>]"
       ]
      },
      {
       "output_type": "stream",
       "stream": "stdout",
       "text": [
        "\n",
        "[<strong class=\"metrics-data align-vmiddle\">\n",
        "<!-- Alexa web traffic metrics are available via our API at http://aws.amazon.com/awis -->\n",
        "<span style=\"margin-left: 10px;\">-</span> </strong>]"
       ]
      },
      {
       "output_type": "stream",
       "stream": "stdout",
       "text": [
        "\n",
        "[<strong class=\"metrics-data align-vmiddle\">\n",
        "<!-- Alexa web traffic metrics are available via our API at http://aws.amazon.com/awis -->\n",
        "<span style=\"margin-left: 10px;\">-</span> </strong>]"
       ]
      },
      {
       "output_type": "stream",
       "stream": "stdout",
       "text": [
        "\n",
        "[<strong class=\"metrics-data align-vmiddle\">\n",
        "<!-- Alexa web traffic metrics are available via our API at http://aws.amazon.com/awis -->\n",
        "16,634,969              </strong>]"
       ]
      },
      {
       "output_type": "stream",
       "stream": "stdout",
       "text": [
        "\n",
        "[<strong class=\"metrics-data align-vmiddle\">\n",
        "<!-- Alexa web traffic metrics are available via our API at http://aws.amazon.com/awis -->\n",
        "8,920,180              </strong>]"
       ]
      },
      {
       "output_type": "stream",
       "stream": "stdout",
       "text": [
        "\n",
        "[<strong class=\"metrics-data align-vmiddle\">\n",
        "<!-- Alexa web traffic metrics are available via our API at http://aws.amazon.com/awis -->\n",
        "<span style=\"margin-left: 10px;\">-</span> </strong>]"
       ]
      },
      {
       "output_type": "stream",
       "stream": "stdout",
       "text": [
        "\n",
        "[<strong class=\"metrics-data align-vmiddle\">\n",
        "<!-- Alexa web traffic metrics are available via our API at http://aws.amazon.com/awis -->\n",
        "1,517,224              </strong>]"
       ]
      },
      {
       "output_type": "stream",
       "stream": "stdout",
       "text": [
        "\n",
        "[<strong class=\"metrics-data align-vmiddle\">\n",
        "<!-- Alexa web traffic metrics are available via our API at http://aws.amazon.com/awis -->\n",
        "635,812              </strong>]"
       ]
      },
      {
       "output_type": "stream",
       "stream": "stdout",
       "text": [
        "\n",
        "[<strong class=\"metrics-data align-vmiddle\">\n",
        "<!-- Alexa web traffic metrics are available via our API at http://aws.amazon.com/awis -->\n",
        "20,521,740              </strong>]"
       ]
      },
      {
       "output_type": "stream",
       "stream": "stdout",
       "text": [
        "\n",
        "[<strong class=\"metrics-data align-vmiddle\">\n",
        "<!-- Alexa web traffic metrics are available via our API at http://aws.amazon.com/awis -->\n",
        "3,267,596              </strong>]"
       ]
      },
      {
       "output_type": "stream",
       "stream": "stdout",
       "text": [
        "\n",
        "[<strong class=\"metrics-data align-vmiddle\">\n",
        "<!-- Alexa web traffic metrics are available via our API at http://aws.amazon.com/awis -->\n",
        "327,171              </strong>]"
       ]
      },
      {
       "output_type": "stream",
       "stream": "stdout",
       "text": [
        "\n",
        "[<strong class=\"metrics-data align-vmiddle\">\n",
        "<!-- Alexa web traffic metrics are available via our API at http://aws.amazon.com/awis -->\n",
        "10,378,539              </strong>]"
       ]
      },
      {
       "output_type": "stream",
       "stream": "stdout",
       "text": [
        "\n",
        "[<strong class=\"metrics-data align-vmiddle\">\n",
        "<!-- Alexa web traffic metrics are available via our API at http://aws.amazon.com/awis -->\n",
        "145,103              </strong>]"
       ]
      },
      {
       "output_type": "stream",
       "stream": "stdout",
       "text": [
        "\n",
        "[<strong class=\"metrics-data align-vmiddle\">\n",
        "<!-- Alexa web traffic metrics are available via our API at http://aws.amazon.com/awis -->\n",
        "307,142              </strong>]"
       ]
      },
      {
       "output_type": "stream",
       "stream": "stdout",
       "text": [
        "\n",
        "[<strong class=\"metrics-data align-vmiddle\">\n",
        "<!-- Alexa web traffic metrics are available via our API at http://aws.amazon.com/awis -->\n",
        "5,307,366              </strong>]"
       ]
      },
      {
       "output_type": "stream",
       "stream": "stdout",
       "text": [
        "\n",
        "[<strong class=\"metrics-data align-vmiddle\">\n",
        "<!-- Alexa web traffic metrics are available via our API at http://aws.amazon.com/awis -->\n",
        "<span style=\"margin-left: 10px;\">-</span> </strong>]"
       ]
      },
      {
       "output_type": "stream",
       "stream": "stdout",
       "text": [
        "\n",
        "[<strong class=\"metrics-data align-vmiddle\">\n",
        "<!-- Alexa web traffic metrics are available via our API at http://aws.amazon.com/awis -->\n",
        "529,977              </strong>]"
       ]
      },
      {
       "output_type": "stream",
       "stream": "stdout",
       "text": [
        "\n",
        "[<strong class=\"metrics-data align-vmiddle\">\n",
        "<!-- Alexa web traffic metrics are available via our API at http://aws.amazon.com/awis -->\n",
        "15,566,103              </strong>]"
       ]
      },
      {
       "output_type": "stream",
       "stream": "stdout",
       "text": [
        "\n",
        "[<strong class=\"metrics-data align-vmiddle\">\n",
        "<!-- Alexa web traffic metrics are available via our API at http://aws.amazon.com/awis -->\n",
        "<span style=\"margin-left: 10px;\">-</span> </strong>]"
       ]
      },
      {
       "output_type": "stream",
       "stream": "stdout",
       "text": [
        "\n",
        "[<strong class=\"metrics-data align-vmiddle\">\n",
        "<!-- Alexa web traffic metrics are available via our API at http://aws.amazon.com/awis -->\n",
        "6,624,888              </strong>]"
       ]
      },
      {
       "output_type": "stream",
       "stream": "stdout",
       "text": [
        "\n",
        "[<strong class=\"metrics-data align-vmiddle\">\n",
        "<!-- Alexa web traffic metrics are available via our API at http://aws.amazon.com/awis -->\n",
        "4,996,786              </strong>]"
       ]
      },
      {
       "output_type": "stream",
       "stream": "stdout",
       "text": [
        "\n",
        "[<strong class=\"metrics-data align-vmiddle\">\n",
        "<!-- Alexa web traffic metrics are available via our API at http://aws.amazon.com/awis -->\n",
        "2,244              </strong>]"
       ]
      },
      {
       "output_type": "stream",
       "stream": "stdout",
       "text": [
        "\n",
        "[<strong class=\"metrics-data align-vmiddle\">\n",
        "<!-- Alexa web traffic metrics are available via our API at http://aws.amazon.com/awis -->\n",
        "<span style=\"margin-left: 10px;\">-</span> </strong>]"
       ]
      },
      {
       "output_type": "stream",
       "stream": "stdout",
       "text": [
        "\n",
        "[<strong class=\"metrics-data align-vmiddle\">\n",
        "<!-- Alexa web traffic metrics are available via our API at http://aws.amazon.com/awis -->\n",
        "<span style=\"margin-left: 10px;\">-</span> </strong>]"
       ]
      },
      {
       "output_type": "stream",
       "stream": "stdout",
       "text": [
        "\n",
        "[<strong class=\"metrics-data align-vmiddle\">\n",
        "<!-- Alexa web traffic metrics are available via our API at http://aws.amazon.com/awis -->\n",
        "2,685,214              </strong>]"
       ]
      },
      {
       "output_type": "stream",
       "stream": "stdout",
       "text": [
        "\n",
        "[<strong class=\"metrics-data align-vmiddle\">\n",
        "<!-- Alexa web traffic metrics are available via our API at http://aws.amazon.com/awis -->\n",
        "<span style=\"margin-left: 10px;\">-</span> </strong>]"
       ]
      },
      {
       "output_type": "stream",
       "stream": "stdout",
       "text": [
        "\n",
        "[<strong class=\"metrics-data align-vmiddle\">\n",
        "<!-- Alexa web traffic metrics are available via our API at http://aws.amazon.com/awis -->\n",
        "<span style=\"margin-left: 10px;\">-</span> </strong>]"
       ]
      },
      {
       "output_type": "stream",
       "stream": "stdout",
       "text": [
        "\n",
        "[<strong class=\"metrics-data align-vmiddle\">\n",
        "<!-- Alexa web traffic metrics are available via our API at http://aws.amazon.com/awis -->\n",
        "15,054,715              </strong>]"
       ]
      },
      {
       "output_type": "stream",
       "stream": "stdout",
       "text": [
        "\n",
        "[<strong class=\"metrics-data align-vmiddle\">\n",
        "<!-- Alexa web traffic metrics are available via our API at http://aws.amazon.com/awis -->\n",
        "5,739,630              </strong>]"
       ]
      },
      {
       "output_type": "stream",
       "stream": "stdout",
       "text": [
        "\n",
        "[<strong class=\"metrics-data align-vmiddle\">\n",
        "<!-- Alexa web traffic metrics are available via our API at http://aws.amazon.com/awis -->\n",
        "78,544              </strong>]"
       ]
      },
      {
       "output_type": "stream",
       "stream": "stdout",
       "text": [
        "\n",
        "[<strong class=\"metrics-data align-vmiddle\">\n",
        "<!-- Alexa web traffic metrics are available via our API at http://aws.amazon.com/awis -->\n",
        "4,853,288              </strong>]"
       ]
      },
      {
       "output_type": "stream",
       "stream": "stdout",
       "text": [
        "\n",
        "[<strong class=\"metrics-data align-vmiddle\">\n",
        "<!-- Alexa web traffic metrics are available via our API at http://aws.amazon.com/awis -->\n",
        "<span style=\"margin-left: 10px;\">-</span> </strong>]"
       ]
      },
      {
       "output_type": "stream",
       "stream": "stdout",
       "text": [
        "\n",
        "[<strong class=\"metrics-data align-vmiddle\">\n",
        "<!-- Alexa web traffic metrics are available via our API at http://aws.amazon.com/awis -->\n",
        "3,170              </strong>]"
       ]
      },
      {
       "output_type": "stream",
       "stream": "stdout",
       "text": [
        "\n",
        "[<strong class=\"metrics-data align-vmiddle\">\n",
        "<!-- Alexa web traffic metrics are available via our API at http://aws.amazon.com/awis -->\n",
        "<span style=\"margin-left: 10px;\">-</span> </strong>]"
       ]
      },
      {
       "output_type": "stream",
       "stream": "stdout",
       "text": [
        "\n",
        "[<strong class=\"metrics-data align-vmiddle\">\n",
        "<!-- Alexa web traffic metrics are available via our API at http://aws.amazon.com/awis -->\n",
        "7,297,807              </strong>]"
       ]
      },
      {
       "output_type": "stream",
       "stream": "stdout",
       "text": [
        "\n",
        "[<strong class=\"metrics-data align-vmiddle\">\n",
        "<!-- Alexa web traffic metrics are available via our API at http://aws.amazon.com/awis -->\n",
        "1,450,514              </strong>]"
       ]
      },
      {
       "output_type": "stream",
       "stream": "stdout",
       "text": [
        "\n",
        "[<strong class=\"metrics-data align-vmiddle\">\n",
        "<!-- Alexa web traffic metrics are available via our API at http://aws.amazon.com/awis -->\n",
        "3,984,866              </strong>]"
       ]
      },
      {
       "output_type": "stream",
       "stream": "stdout",
       "text": [
        "\n",
        "[<strong class=\"metrics-data align-vmiddle\">\n",
        "<!-- Alexa web traffic metrics are available via our API at http://aws.amazon.com/awis -->\n",
        "2,852              </strong>]"
       ]
      },
      {
       "output_type": "stream",
       "stream": "stdout",
       "text": [
        "\n",
        "[<strong class=\"metrics-data align-vmiddle\">\n",
        "<!-- Alexa web traffic metrics are available via our API at http://aws.amazon.com/awis -->\n",
        "<span style=\"margin-left: 10px;\">-</span> </strong>]"
       ]
      },
      {
       "output_type": "stream",
       "stream": "stdout",
       "text": [
        "\n",
        "[<strong class=\"metrics-data align-vmiddle\">\n",
        "<!-- Alexa web traffic metrics are available via our API at http://aws.amazon.com/awis -->\n",
        "2,029,776              </strong>]"
       ]
      },
      {
       "output_type": "stream",
       "stream": "stdout",
       "text": [
        "\n",
        "[<strong class=\"metrics-data align-vmiddle\">\n",
        "<!-- Alexa web traffic metrics are available via our API at http://aws.amazon.com/awis -->\n",
        "391,207              </strong>]"
       ]
      },
      {
       "output_type": "stream",
       "stream": "stdout",
       "text": [
        "\n",
        "[<strong class=\"metrics-data align-vmiddle\">\n",
        "<!-- Alexa web traffic metrics are available via our API at http://aws.amazon.com/awis -->\n",
        "<span style=\"margin-left: 10px;\">-</span> </strong>]"
       ]
      },
      {
       "output_type": "stream",
       "stream": "stdout",
       "text": [
        "\n",
        "[<strong class=\"metrics-data align-vmiddle\">\n",
        "<!-- Alexa web traffic metrics are available via our API at http://aws.amazon.com/awis -->\n",
        "4,959,168              </strong>]"
       ]
      },
      {
       "output_type": "stream",
       "stream": "stdout",
       "text": [
        "\n",
        "[<strong class=\"metrics-data align-vmiddle\">\n",
        "<!-- Alexa web traffic metrics are available via our API at http://aws.amazon.com/awis -->\n",
        "5,232,160              </strong>]"
       ]
      },
      {
       "output_type": "stream",
       "stream": "stdout",
       "text": [
        "\n",
        "[<strong class=\"metrics-data align-vmiddle\">\n",
        "<!-- Alexa web traffic metrics are available via our API at http://aws.amazon.com/awis -->\n",
        "1,057,095              </strong>]"
       ]
      },
      {
       "output_type": "stream",
       "stream": "stdout",
       "text": [
        "\n",
        "[<strong class=\"metrics-data align-vmiddle\">\n",
        "<!-- Alexa web traffic metrics are available via our API at http://aws.amazon.com/awis -->\n",
        "3,134,660              </strong>]"
       ]
      },
      {
       "output_type": "stream",
       "stream": "stdout",
       "text": [
        "\n",
        "[<strong class=\"metrics-data align-vmiddle\">\n",
        "<!-- Alexa web traffic metrics are available via our API at http://aws.amazon.com/awis -->\n",
        "<span style=\"margin-left: 10px;\">-</span> </strong>]"
       ]
      },
      {
       "output_type": "stream",
       "stream": "stdout",
       "text": [
        "\n",
        "[<strong class=\"metrics-data align-vmiddle\">\n",
        "<!-- Alexa web traffic metrics are available via our API at http://aws.amazon.com/awis -->\n",
        "14,723,594              </strong>]"
       ]
      },
      {
       "output_type": "stream",
       "stream": "stdout",
       "text": [
        "\n",
        "[<strong class=\"metrics-data align-vmiddle\">\n",
        "<!-- Alexa web traffic metrics are available via our API at http://aws.amazon.com/awis -->\n",
        "<span style=\"margin-left: 10px;\">-</span> </strong>]"
       ]
      },
      {
       "output_type": "stream",
       "stream": "stdout",
       "text": [
        "\n",
        "[<strong class=\"metrics-data align-vmiddle\">\n",
        "<!-- Alexa web traffic metrics are available via our API at http://aws.amazon.com/awis -->\n",
        "14,739,417              </strong>]"
       ]
      },
      {
       "output_type": "stream",
       "stream": "stdout",
       "text": [
        "\n",
        "[<strong class=\"metrics-data align-vmiddle\">\n",
        "<!-- Alexa web traffic metrics are available via our API at http://aws.amazon.com/awis -->\n",
        "<span style=\"margin-left: 10px;\">-</span> </strong>]"
       ]
      },
      {
       "output_type": "stream",
       "stream": "stdout",
       "text": [
        "\n",
        "[<strong class=\"metrics-data align-vmiddle\">\n",
        "<!-- Alexa web traffic metrics are available via our API at http://aws.amazon.com/awis -->\n",
        "5,976,233              </strong>]"
       ]
      },
      {
       "output_type": "stream",
       "stream": "stdout",
       "text": [
        "\n",
        "[<strong class=\"metrics-data align-vmiddle\">\n",
        "<!-- Alexa web traffic metrics are available via our API at http://aws.amazon.com/awis -->\n",
        "2,530,175              </strong>]"
       ]
      },
      {
       "output_type": "stream",
       "stream": "stdout",
       "text": [
        "\n",
        "[<strong class=\"metrics-data align-vmiddle\">\n",
        "<!-- Alexa web traffic metrics are available via our API at http://aws.amazon.com/awis -->\n",
        "3,902,021              </strong>]"
       ]
      },
      {
       "output_type": "stream",
       "stream": "stdout",
       "text": [
        "\n",
        "[<strong class=\"metrics-data align-vmiddle\">\n",
        "<!-- Alexa web traffic metrics are available via our API at http://aws.amazon.com/awis -->\n",
        "<span style=\"margin-left: 10px;\">-</span> </strong>]"
       ]
      },
      {
       "output_type": "stream",
       "stream": "stdout",
       "text": [
        "\n",
        "[<strong class=\"metrics-data align-vmiddle\">\n",
        "<!-- Alexa web traffic metrics are available via our API at http://aws.amazon.com/awis -->\n",
        "570,199              </strong>]"
       ]
      },
      {
       "output_type": "stream",
       "stream": "stdout",
       "text": [
        "\n",
        "[<strong class=\"metrics-data align-vmiddle\">\n",
        "<!-- Alexa web traffic metrics are available via our API at http://aws.amazon.com/awis -->\n",
        "<span style=\"margin-left: 10px;\">-</span> </strong>]"
       ]
      },
      {
       "output_type": "stream",
       "stream": "stdout",
       "text": [
        "\n",
        "[<strong class=\"metrics-data align-vmiddle\">\n",
        "<!-- Alexa web traffic metrics are available via our API at http://aws.amazon.com/awis -->\n",
        "8,591,124              </strong>]"
       ]
      },
      {
       "output_type": "stream",
       "stream": "stdout",
       "text": [
        "\n",
        "[<strong class=\"metrics-data align-vmiddle\">\n",
        "<!-- Alexa web traffic metrics are available via our API at http://aws.amazon.com/awis -->\n",
        "<span style=\"margin-left: 10px;\">-</span> </strong>]"
       ]
      },
      {
       "output_type": "stream",
       "stream": "stdout",
       "text": [
        "\n"
       ]
      }
     ],
     "prompt_number": 74
    },
    {
     "cell_type": "code",
     "collapsed": false,
     "input": [
      "    print GlobalRank"
     ],
     "language": "python",
     "metadata": {},
     "outputs": []
    },
    {
     "cell_type": "code",
     "collapsed": false,
     "input": [],
     "language": "python",
     "metadata": {},
     "outputs": []
    },
    {
     "cell_type": "code",
     "collapsed": false,
     "input": [
      "Alexa_Rank = pd.DataFrame(Alexa_Rank)\n",
      "DF = pd.concat([AlexaRank, Alexa_Rank], axis=1)\n",
      "DF.to_csv(\"/Users/Alex/Documents/GlobalAlexaRanks.csv\")"
     ],
     "language": "python",
     "metadata": {},
     "outputs": [],
     "prompt_number": 76
    },
    {
     "cell_type": "code",
     "collapsed": false,
     "input": [
      "soup.find(class_=\"metrics-data\")"
     ],
     "language": "python",
     "metadata": {},
     "outputs": [
      {
       "ename": "NameError",
       "evalue": "name 'soup' is not defined",
       "output_type": "pyerr",
       "traceback": [
        "\u001b[0;31m---------------------------------------------------------------------------\u001b[0m\n\u001b[0;31mNameError\u001b[0m                                 Traceback (most recent call last)",
        "\u001b[0;32m<ipython-input-8-aeaab27f7762>\u001b[0m in \u001b[0;36m<module>\u001b[0;34m()\u001b[0m\n\u001b[0;32m----> 1\u001b[0;31m \u001b[0msoup\u001b[0m\u001b[0;34m.\u001b[0m\u001b[0mfind\u001b[0m\u001b[0;34m(\u001b[0m\u001b[0mclass_\u001b[0m\u001b[0;34m=\u001b[0m\u001b[0;34m\"metrics-data\"\u001b[0m\u001b[0;34m)\u001b[0m\u001b[0;34m\u001b[0m\u001b[0m\n\u001b[0m",
        "\u001b[0;31mNameError\u001b[0m: name 'soup' is not defined"
       ]
      }
     ],
     "prompt_number": 8
    },
    {
     "cell_type": "code",
     "collapsed": false,
     "input": [
      "URL = \"http://www.alexa.com/siteinfo/bhpbilliton.com\"\n",
      "r = requests.get(URL)    \n",
      "c = r.content\n",
      "soup = BeautifulSoup(c)\n",
      "Country_Rank = soup.find(\"span\",{\"class\":\"countryRank\"}).findAll(\"strong\",{\"class\":\"metrics-data align-vmiddle\"})"
     ],
     "language": "python",
     "metadata": {},
     "outputs": [],
     "prompt_number": 74
    },
    {
     "cell_type": "code",
     "collapsed": false,
     "input": [
      "for rank in Country_Rank:\n",
      "    print rank.string\n"
     ],
     "language": "python",
     "metadata": {},
     "outputs": [
      {
       "output_type": "stream",
       "stream": "stdout",
       "text": [
        "\n",
        "3,125              \n"
       ]
      }
     ],
     "prompt_number": 87
    },
    {
     "cell_type": "code",
     "collapsed": false,
     "input": [],
     "language": "python",
     "metadata": {},
     "outputs": []
    }
   ],
   "metadata": {}
  }
 ]
}